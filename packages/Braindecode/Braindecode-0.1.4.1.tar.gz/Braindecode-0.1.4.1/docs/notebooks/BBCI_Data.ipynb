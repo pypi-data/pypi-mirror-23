{
 "cells": [
  {
   "cell_type": "code",
   "execution_count": 1,
   "metadata": {
    "collapsed": false,
    "deletable": true,
    "editable": true,
    "nbsphinx": "hidden"
   },
   "outputs": [],
   "source": [
    "%load_ext autoreload\n",
    "%autoreload 2\n",
    "import os\n",
    "os.sys.path.insert(0, '/home/schirrmr/braindecode/code/braindecode/')"
   ]
  },
  {
   "cell_type": "markdown",
   "metadata": {
    "deletable": true,
    "editable": true
   },
   "source": [
    "# Read and Decode BBCI Data"
   ]
  },
  {
   "cell_type": "markdown",
   "metadata": {
    "deletable": true,
    "editable": true
   },
   "source": [
    "This tutorial shows how to read and decode BBCI data."
   ]
  },
  {
   "cell_type": "markdown",
   "metadata": {},
   "source": [
    "## Setup logging to see outputs"
   ]
  },
  {
   "cell_type": "code",
   "execution_count": 2,
   "metadata": {
    "collapsed": false
   },
   "outputs": [],
   "source": [
    "import logging\n",
    "import sys\n",
    "logging.basicConfig(format='%(asctime)s %(levelname)s : %(message)s',\n",
    "                     level=logging.DEBUG, stream=sys.stdout)\n",
    "log = logging.getLogger()\n"
   ]
  },
  {
   "cell_type": "markdown",
   "metadata": {},
   "source": [
    "## Load and preprocess data"
   ]
  },
  {
   "cell_type": "code",
   "execution_count": 3,
   "metadata": {
    "collapsed": false,
    "scrolled": false
   },
   "outputs": [
    {
     "name": "stdout",
     "output_type": "stream",
     "text": [
      "Creating RawArray with float64 data, n_channels=3, n_times=3451320\n",
      "    Range : 0 ... 3451319 =      0.000 ...  6902.638 secs\n",
      "Ready.\n",
      "Creating RawArray with float64 data, n_channels=1, n_times=3451320\n",
      "    Range : 0 ... 3451319 =      0.000 ...  6902.638 secs\n",
      "Ready.\n",
      "2017-07-03 21:05:48,861 WARNING : This is not causal, uses future data....\n",
      "2017-07-03 21:05:48,862 INFO : Resampling from 500.000000 to 250.000000 Hz.\n",
      "Creating RawArray with float64 data, n_channels=3, n_times=1725660\n",
      "    Range : 0 ... 1725659 =      0.000 ...  6902.636 secs\n",
      "Ready.\n",
      "2017-07-03 21:05:50,692 INFO : Trial per class: Counter({'Feet': 225, 'Right': 224, 'Left': 224, 'Rest': 224})\n",
      "Creating RawArray with float64 data, n_channels=3, n_times=617090\n",
      "    Range : 0 ... 617089 =      0.000 ...  1234.178 secs\n",
      "Ready.\n",
      "Creating RawArray with float64 data, n_channels=1, n_times=617090\n",
      "    Range : 0 ... 617089 =      0.000 ...  1234.178 secs\n",
      "Ready.\n",
      "2017-07-03 21:05:50,946 WARNING : This is not causal, uses future data....\n",
      "2017-07-03 21:05:50,947 INFO : Resampling from 500.000000 to 250.000000 Hz.\n",
      "Creating RawArray with float64 data, n_channels=3, n_times=308545\n",
      "    Range : 0 ... 308544 =      0.000 ...  1234.176 secs\n",
      "Ready.\n",
      "2017-07-03 21:05:51,260 INFO : Trial per class: Counter({'Left': 40, 'Feet': 40, 'Right': 40, 'Rest': 40})\n"
     ]
    }
   ],
   "source": [
    "import mne\n",
    "from braindecode.datasets.bbci import BBCIDataset\n",
    "import numpy as np\n",
    "from braindecode.mne_ext.signalproc import resample_cnt, mne_apply\n",
    "from braindecode.datautil.signalproc import bandpass_cnt, exponential_running_standardize\n",
    "\n",
    "from braindecode.datautil.trial_segment import create_signal_target_from_raw_mne\n",
    "from collections import OrderedDict\n",
    "# can also give lists of marker codes in case a class has multiple marker codes...\n",
    "name_to_code = OrderedDict([('Right', 1), ('Left', 2), ('Rest', 3), ('Feet', 4)])\n",
    "\n",
    "train_filename = '/home/schirrmr/data/BBCI-without-last-runs/BhNoMoSc1S001R01_ds10_1-12.BBCI.mat'\n",
    "cnt = BBCIDataset(train_filename, load_sensor_names=['C3', 'CPz', 'C4']).load()\n",
    "# Remove stimulus channel\n",
    "cnt = cnt.pick_channels(['C3', 'CPz', 'C4'])\n",
    "cnt = resample_cnt(cnt, 250)\n",
    "# mne apply will apply the function to the data (a 2d-numpy-array)\n",
    "# have to transpose data back and forth, since\n",
    "# exponential_running_standardize expects time x chans order\n",
    "# while mne object has chans x time order\n",
    "cnt = mne_apply(lambda a: exponential_running_standardize(\n",
    "    a.T, init_block_size=1000,factor_new=0.001, eps=1e-4).T,\n",
    "    cnt)\n",
    "train_set = create_signal_target_from_raw_mne(cnt, name_to_code, [-500,4000])\n",
    "\n",
    "test_filename = '/home/schirrmr/data/BBCI-only-last-runs/BhNoMoSc1S001R13_ds10_1-2BBCI.mat'\n",
    "cnt = BBCIDataset(test_filename, load_sensor_names=['C3', 'CPz', 'C4']).load()\n",
    "# Remove stimulus channel\n",
    "cnt = cnt.pick_channels(['C3', 'CPz', 'C4'])\n",
    "cnt = resample_cnt(cnt, 250)\n",
    "cnt = mne_apply(lambda a: exponential_running_standardize(\n",
    "    a.T, init_block_size=1000,factor_new=0.001, eps=1e-4).T,\n",
    "    cnt)\n",
    "test_set = create_signal_target_from_raw_mne(cnt, name_to_code, [-500,4000])"
   ]
  },
  {
   "cell_type": "markdown",
   "metadata": {},
   "source": [
    "<div class=\"alert alert-info\">\n",
    "\n",
    "In case of start and stop markers, provide a `name_to_stop_codes` dictionary (same as for the start codes in this example) as a final argument to `create_signal_target_from_raw_mne`.\n",
    "\n",
    "</div>"
   ]
  },
  {
   "cell_type": "code",
   "execution_count": 4,
   "metadata": {
    "collapsed": false
   },
   "outputs": [],
   "source": [
    "from braindecode.datautil.splitters import split_into_two_sets\n",
    "\n",
    "train_set, valid_set = split_into_two_sets(train_set, first_set_fraction=0.8)\n"
   ]
  },
  {
   "cell_type": "markdown",
   "metadata": {
    "deletable": true,
    "editable": true
   },
   "source": [
    "## Create the model"
   ]
  },
  {
   "cell_type": "code",
   "execution_count": 5,
   "metadata": {
    "collapsed": true,
    "deletable": true,
    "editable": true
   },
   "outputs": [],
   "source": [
    "from braindecode.models.shallow_fbcsp import ShallowFBCSPNet\n",
    "from torch import nn\n",
    "from braindecode.torch_ext.util import set_random_seeds, to_dense_prediction_model\n",
    "\n",
    "# Set if you want to use GPU\n",
    "# You can also use torch.cuda.is_available() to determine if cuda is available on your machine.\n",
    "cuda = True\n",
    "set_random_seeds(seed=20170629, cuda=cuda)\n",
    "\n",
    "# This will determine how many crops are processed in parallel\n",
    "input_time_length = 800\n",
    "# final_conv_length determines the size of the receptive field of the ConvNet\n",
    "model = ShallowFBCSPNet(in_chans=3, n_classes=4, input_time_length=input_time_length,\n",
    "                        final_conv_length=30).create_network()\n",
    "to_dense_prediction_model(model)\n",
    "\n",
    "if cuda:\n",
    "    model.cuda()"
   ]
  },
  {
   "cell_type": "markdown",
   "metadata": {},
   "source": [
    "## Setup optimizer and iterator"
   ]
  },
  {
   "cell_type": "code",
   "execution_count": 6,
   "metadata": {
    "collapsed": true,
    "deletable": true,
    "editable": true
   },
   "outputs": [],
   "source": [
    "from torch import optim\n",
    "\n",
    "optimizer = optim.Adam(model.parameters())"
   ]
  },
  {
   "cell_type": "code",
   "execution_count": 7,
   "metadata": {
    "collapsed": false,
    "deletable": true,
    "editable": true
   },
   "outputs": [
    {
     "name": "stdout",
     "output_type": "stream",
     "text": [
      "267 predictions per input/trial\n"
     ]
    }
   ],
   "source": [
    "from braindecode.torch_ext.util import np_to_var\n",
    "# determine output size\n",
    "test_input = np_to_var(np.ones((2, 3, input_time_length, 1), dtype=np.float32))\n",
    "if cuda:\n",
    "    test_input = test_input.cuda()\n",
    "out = model(test_input)\n",
    "n_preds_per_input = out.cpu().data.numpy().shape[2]\n",
    "print(\"{:d} predictions per input/trial\".format(n_preds_per_input))"
   ]
  },
  {
   "cell_type": "code",
   "execution_count": 8,
   "metadata": {
    "collapsed": false,
    "deletable": true,
    "editable": true
   },
   "outputs": [],
   "source": [
    "from braindecode.datautil.iterators import CropsFromTrialsIterator\n",
    "iterator = CropsFromTrialsIterator(batch_size=32,input_time_length=input_time_length,\n",
    "                                  n_preds_per_input=n_preds_per_input)"
   ]
  },
  {
   "cell_type": "markdown",
   "metadata": {},
   "source": [
    "## Setup Monitors, Loss function, Stop Criteria"
   ]
  },
  {
   "cell_type": "code",
   "execution_count": 10,
   "metadata": {
    "collapsed": false,
    "deletable": true,
    "editable": true
   },
   "outputs": [],
   "source": [
    "from braindecode.experiments.experiment import Experiment\n",
    "from braindecode.experiments.monitors import RuntimeMonitor, LossMonitor, CroppedTrialMisclassMonitor, MisclassMonitor\n",
    "from braindecode.experiments.stopcriteria import MaxEpochs\n",
    "import torch.nn.functional as F\n",
    "import torch as th\n",
    "from braindecode.torch_ext.modules import Expression\n",
    "\n",
    "\n",
    "loss_function = lambda preds, targets: F.nll_loss(th.mean(preds, dim=2)[:,:,0], targets)\n",
    "\n",
    "model_constraint = None\n",
    "monitors = [LossMonitor(), MisclassMonitor(col_suffix='sample_misclass'),\n",
    "            CroppedTrialMisclassMonitor(input_time_length), RuntimeMonitor(),]\n",
    "stop_criterion = MaxEpochs(20)\n",
    "exp = Experiment(model, train_set, valid_set, test_set, iterator, loss_function, optimizer, model_constraint,\n",
    "          monitors, stop_criterion, remember_best_column='valid_misclass',\n",
    "          run_after_early_stop=True, batch_modifier=None, cuda=cuda)"
   ]
  },
  {
   "cell_type": "markdown",
   "metadata": {},
   "source": [
    "## Run experiment"
   ]
  },
  {
   "cell_type": "code",
   "execution_count": 11,
   "metadata": {
    "collapsed": false,
    "deletable": true,
    "editable": true
   },
   "outputs": [
    {
     "name": "stdout",
     "output_type": "stream",
     "text": [
      "2017-07-03 19:43:25,674 INFO : Run until first stop...\n",
      "2017-07-03 19:43:26,292 INFO : Epoch 0\n",
      "2017-07-03 19:43:26,294 INFO : train_loss                9.68400\n",
      "2017-07-03 19:43:26,295 INFO : valid_loss                9.49615\n",
      "2017-07-03 19:43:26,296 INFO : test_loss                 9.54656\n",
      "2017-07-03 19:43:26,297 INFO : train_sample_misclass     0.75040\n",
      "2017-07-03 19:43:26,297 INFO : valid_sample_misclass     0.74911\n",
      "2017-07-03 19:43:26,298 INFO : test_sample_misclass      0.75250\n",
      "2017-07-03 19:43:26,299 INFO : train_misclass            0.75070\n",
      "2017-07-03 19:43:26,300 INFO : valid_misclass            0.74860\n",
      "2017-07-03 19:43:26,300 INFO : test_misclass             0.75000\n",
      "2017-07-03 19:43:26,301 INFO : runtime                   0.00000\n",
      "2017-07-03 19:43:26,302 INFO : \n",
      "2017-07-03 19:43:26,304 INFO : New best valid_misclass: 0.748603\n",
      "2017-07-03 19:43:26,305 INFO : \n",
      "2017-07-03 19:43:27,614 INFO : Epoch 1\n",
      "2017-07-03 19:43:27,615 INFO : train_loss                0.99789\n",
      "2017-07-03 19:43:27,615 INFO : valid_loss                1.00039\n",
      "2017-07-03 19:43:27,616 INFO : test_loss                 0.95961\n",
      "2017-07-03 19:43:27,617 INFO : train_sample_misclass     0.44949\n",
      "2017-07-03 19:43:27,617 INFO : valid_sample_misclass     0.43483\n",
      "2017-07-03 19:43:27,618 INFO : test_sample_misclass      0.46294\n",
      "2017-07-03 19:43:27,619 INFO : train_misclass            0.45822\n",
      "2017-07-03 19:43:27,620 INFO : valid_misclass            0.42458\n",
      "2017-07-03 19:43:27,621 INFO : test_misclass             0.46875\n",
      "2017-07-03 19:43:27,622 INFO : runtime                   1.35713\n",
      "2017-07-03 19:43:27,622 INFO : \n",
      "2017-07-03 19:43:27,625 INFO : New best valid_misclass: 0.424581\n",
      "2017-07-03 19:43:27,625 INFO : \n",
      "2017-07-03 19:43:28,931 INFO : Epoch 2\n",
      "2017-07-03 19:43:28,932 INFO : train_loss                0.73092\n",
      "2017-07-03 19:43:28,932 INFO : valid_loss                0.74613\n",
      "2017-07-03 19:43:28,934 INFO : test_loss                 0.75480\n",
      "2017-07-03 19:43:28,935 INFO : train_sample_misclass     0.30739\n",
      "2017-07-03 19:43:28,935 INFO : valid_sample_misclass     0.33822\n",
      "2017-07-03 19:43:28,936 INFO : test_sample_misclass      0.38784\n",
      "2017-07-03 19:43:28,937 INFO : train_misclass            0.22284\n",
      "2017-07-03 19:43:28,938 INFO : valid_misclass            0.25698\n",
      "2017-07-03 19:43:28,939 INFO : test_misclass             0.28750\n",
      "2017-07-03 19:43:28,940 INFO : runtime                   1.32193\n",
      "2017-07-03 19:43:28,941 INFO : \n",
      "2017-07-03 19:43:28,943 INFO : New best valid_misclass: 0.256983\n",
      "2017-07-03 19:43:28,944 INFO : \n",
      "2017-07-03 19:43:30,270 INFO : Epoch 3\n",
      "2017-07-03 19:43:30,272 INFO : train_loss                0.85267\n",
      "2017-07-03 19:43:30,272 INFO : valid_loss                0.92025\n",
      "2017-07-03 19:43:30,273 INFO : test_loss                 0.99158\n",
      "2017-07-03 19:43:30,274 INFO : train_sample_misclass     0.36614\n",
      "2017-07-03 19:43:30,274 INFO : valid_sample_misclass     0.40952\n",
      "2017-07-03 19:43:30,275 INFO : test_sample_misclass      0.43862\n",
      "2017-07-03 19:43:30,275 INFO : train_misclass            0.32869\n",
      "2017-07-03 19:43:30,276 INFO : valid_misclass            0.36313\n",
      "2017-07-03 19:43:30,277 INFO : test_misclass             0.41250\n",
      "2017-07-03 19:43:30,277 INFO : runtime                   1.32210\n",
      "2017-07-03 19:43:30,278 INFO : \n",
      "2017-07-03 19:43:31,611 INFO : Epoch 4\n",
      "2017-07-03 19:43:31,613 INFO : train_loss                0.66165\n",
      "2017-07-03 19:43:31,614 INFO : valid_loss                0.64785\n",
      "2017-07-03 19:43:31,615 INFO : test_loss                 0.77194\n",
      "2017-07-03 19:43:31,616 INFO : train_sample_misclass     0.27560\n",
      "2017-07-03 19:43:31,617 INFO : valid_sample_misclass     0.27478\n",
      "2017-07-03 19:43:31,618 INFO : test_sample_misclass      0.36584\n",
      "2017-07-03 19:43:31,618 INFO : train_misclass            0.21170\n",
      "2017-07-03 19:43:31,619 INFO : valid_misclass            0.17877\n",
      "2017-07-03 19:43:31,620 INFO : test_misclass             0.30000\n",
      "2017-07-03 19:43:31,620 INFO : runtime                   1.33966\n",
      "2017-07-03 19:43:31,621 INFO : \n",
      "2017-07-03 19:43:31,623 INFO : New best valid_misclass: 0.178771\n",
      "2017-07-03 19:43:31,623 INFO : \n",
      "2017-07-03 19:43:32,931 INFO : Epoch 5\n",
      "2017-07-03 19:43:32,932 INFO : train_loss                0.64580\n",
      "2017-07-03 19:43:32,933 INFO : valid_loss                0.69733\n",
      "2017-07-03 19:43:32,934 INFO : test_loss                 0.75814\n",
      "2017-07-03 19:43:32,934 INFO : train_sample_misclass     0.28139\n",
      "2017-07-03 19:43:32,935 INFO : valid_sample_misclass     0.32526\n",
      "2017-07-03 19:43:32,936 INFO : test_sample_misclass      0.36856\n",
      "2017-07-03 19:43:32,937 INFO : train_misclass            0.21727\n",
      "2017-07-03 19:43:32,938 INFO : valid_misclass            0.27374\n",
      "2017-07-03 19:43:32,939 INFO : test_misclass             0.30000\n",
      "2017-07-03 19:43:32,940 INFO : runtime                   1.33051\n",
      "2017-07-03 19:43:32,941 INFO : \n",
      "2017-07-03 19:43:34,266 INFO : Epoch 6\n",
      "2017-07-03 19:43:34,269 INFO : train_loss                0.60854\n",
      "2017-07-03 19:43:34,270 INFO : valid_loss                0.64755\n",
      "2017-07-03 19:43:34,271 INFO : test_loss                 0.70446\n",
      "2017-07-03 19:43:34,271 INFO : train_sample_misclass     0.25383\n",
      "2017-07-03 19:43:34,272 INFO : valid_sample_misclass     0.29704\n",
      "2017-07-03 19:43:34,273 INFO : test_sample_misclass      0.35495\n",
      "2017-07-03 19:43:34,274 INFO : train_misclass            0.17688\n",
      "2017-07-03 19:43:34,275 INFO : valid_misclass            0.25698\n",
      "2017-07-03 19:43:34,276 INFO : test_misclass             0.29375\n",
      "2017-07-03 19:43:34,276 INFO : runtime                   1.32630\n",
      "2017-07-03 19:43:34,277 INFO : \n",
      "2017-07-03 19:43:35,604 INFO : Epoch 7\n",
      "2017-07-03 19:43:35,606 INFO : train_loss                0.57648\n",
      "2017-07-03 19:43:35,607 INFO : valid_loss                0.57367\n",
      "2017-07-03 19:43:35,607 INFO : test_loss                 0.67938\n",
      "2017-07-03 19:43:35,608 INFO : train_sample_misclass     0.23429\n",
      "2017-07-03 19:43:35,609 INFO : valid_sample_misclass     0.27097\n",
      "2017-07-03 19:43:35,610 INFO : test_sample_misclass      0.32518\n",
      "2017-07-03 19:43:35,611 INFO : train_misclass            0.15738\n",
      "2017-07-03 19:43:35,612 INFO : valid_misclass            0.17318\n",
      "2017-07-03 19:43:35,613 INFO : test_misclass             0.25625\n",
      "2017-07-03 19:43:35,614 INFO : runtime                   1.33764\n",
      "2017-07-03 19:43:35,614 INFO : \n",
      "2017-07-03 19:43:35,617 INFO : New best valid_misclass: 0.173184\n",
      "2017-07-03 19:43:35,618 INFO : \n",
      "2017-07-03 19:43:36,951 INFO : Epoch 8\n",
      "2017-07-03 19:43:36,953 INFO : train_loss                0.56040\n",
      "2017-07-03 19:43:36,954 INFO : valid_loss                0.59279\n",
      "2017-07-03 19:43:36,955 INFO : test_loss                 0.70765\n",
      "2017-07-03 19:43:36,956 INFO : train_sample_misclass     0.24536\n",
      "2017-07-03 19:43:36,956 INFO : valid_sample_misclass     0.28989\n",
      "2017-07-03 19:43:36,957 INFO : test_sample_misclass      0.34950\n",
      "2017-07-03 19:43:36,958 INFO : train_misclass            0.17827\n",
      "2017-07-03 19:43:36,959 INFO : valid_misclass            0.25140\n",
      "2017-07-03 19:43:36,960 INFO : test_misclass             0.25625\n",
      "2017-07-03 19:43:36,961 INFO : runtime                   1.34218\n",
      "2017-07-03 19:43:36,962 INFO : \n",
      "2017-07-03 19:43:38,295 INFO : Epoch 9\n",
      "2017-07-03 19:43:38,297 INFO : train_loss                0.65391\n",
      "2017-07-03 19:43:38,298 INFO : valid_loss                0.71670\n",
      "2017-07-03 19:43:38,299 INFO : test_loss                 0.86798\n",
      "2017-07-03 19:43:38,299 INFO : train_sample_misclass     0.29448\n",
      "2017-07-03 19:43:38,300 INFO : valid_sample_misclass     0.35608\n",
      "2017-07-03 19:43:38,301 INFO : test_sample_misclass      0.39989\n",
      "2017-07-03 19:43:38,302 INFO : train_misclass            0.24373\n",
      "2017-07-03 19:43:38,303 INFO : valid_misclass            0.32402\n",
      "2017-07-03 19:43:38,304 INFO : test_misclass             0.36875\n",
      "2017-07-03 19:43:38,304 INFO : runtime                   1.34737\n",
      "2017-07-03 19:43:38,305 INFO : \n",
      "2017-07-03 19:43:39,624 INFO : Epoch 10\n",
      "2017-07-03 19:43:39,625 INFO : train_loss                0.68674\n",
      "2017-07-03 19:43:39,625 INFO : valid_loss                0.62696\n",
      "2017-07-03 19:43:39,626 INFO : test_loss                 0.73658\n",
      "2017-07-03 19:43:39,627 INFO : train_sample_misclass     0.30206\n",
      "2017-07-03 19:43:39,627 INFO : valid_sample_misclass     0.30893\n",
      "2017-07-03 19:43:39,628 INFO : test_sample_misclass      0.37319\n",
      "2017-07-03 19:43:39,629 INFO : train_misclass            0.28134\n",
      "2017-07-03 19:43:39,629 INFO : valid_misclass            0.28492\n",
      "2017-07-03 19:43:39,630 INFO : test_misclass             0.31875\n",
      "2017-07-03 19:43:39,630 INFO : runtime                   1.34302\n",
      "2017-07-03 19:43:39,631 INFO : \n",
      "2017-07-03 19:43:40,948 INFO : Epoch 11\n",
      "2017-07-03 19:43:40,949 INFO : train_loss                0.51410\n",
      "2017-07-03 19:43:40,950 INFO : valid_loss                0.57567\n",
      "2017-07-03 19:43:40,951 INFO : test_loss                 0.66371\n",
      "2017-07-03 19:43:40,951 INFO : train_sample_misclass     0.21995\n",
      "2017-07-03 19:43:40,952 INFO : valid_sample_misclass     0.27738\n",
      "2017-07-03 19:43:40,953 INFO : test_sample_misclass      0.32528\n",
      "2017-07-03 19:43:40,953 INFO : train_misclass            0.15460\n",
      "2017-07-03 19:43:40,954 INFO : valid_misclass            0.18994\n",
      "2017-07-03 19:43:40,954 INFO : test_misclass             0.26250\n",
      "2017-07-03 19:43:40,955 INFO : runtime                   1.31918\n",
      "2017-07-03 19:43:40,956 INFO : \n",
      "2017-07-03 19:43:42,280 INFO : Epoch 12\n",
      "2017-07-03 19:43:42,281 INFO : train_loss                0.52765\n",
      "2017-07-03 19:43:42,282 INFO : valid_loss                0.57981\n",
      "2017-07-03 19:43:42,283 INFO : test_loss                 0.67187\n",
      "2017-07-03 19:43:42,283 INFO : train_sample_misclass     0.22048\n",
      "2017-07-03 19:43:42,284 INFO : valid_sample_misclass     0.27861\n",
      "2017-07-03 19:43:42,284 INFO : test_sample_misclass      0.32019\n",
      "2017-07-03 19:43:42,285 INFO : train_misclass            0.15599\n",
      "2017-07-03 19:43:42,286 INFO : valid_misclass            0.16760\n",
      "2017-07-03 19:43:42,286 INFO : test_misclass             0.28750\n",
      "2017-07-03 19:43:42,287 INFO : runtime                   1.32715\n",
      "2017-07-03 19:43:42,288 INFO : \n",
      "2017-07-03 19:43:42,289 INFO : New best valid_misclass: 0.167598\n",
      "2017-07-03 19:43:42,290 INFO : \n",
      "2017-07-03 19:43:43,606 INFO : Epoch 13\n",
      "2017-07-03 19:43:43,607 INFO : train_loss                0.54593\n",
      "2017-07-03 19:43:43,608 INFO : valid_loss                0.55824\n",
      "2017-07-03 19:43:43,608 INFO : test_loss                 0.64773\n",
      "2017-07-03 19:43:43,609 INFO : train_sample_misclass     0.22475\n",
      "2017-07-03 19:43:43,610 INFO : valid_sample_misclass     0.26551\n",
      "2017-07-03 19:43:43,610 INFO : test_sample_misclass      0.33070\n",
      "2017-07-03 19:43:43,611 INFO : train_misclass            0.17688\n",
      "2017-07-03 19:43:43,612 INFO : valid_misclass            0.20112\n",
      "2017-07-03 19:43:43,612 INFO : test_misclass             0.26875\n",
      "2017-07-03 19:43:43,613 INFO : runtime                   1.33264\n",
      "2017-07-03 19:43:43,613 INFO : \n",
      "2017-07-03 19:43:44,931 INFO : Epoch 14\n",
      "2017-07-03 19:43:44,933 INFO : train_loss                0.55871\n",
      "2017-07-03 19:43:44,933 INFO : valid_loss                0.54234\n",
      "2017-07-03 19:43:44,934 INFO : test_loss                 0.62010\n",
      "2017-07-03 19:43:44,935 INFO : train_sample_misclass     0.21230\n",
      "2017-07-03 19:43:44,935 INFO : valid_sample_misclass     0.23701\n",
      "2017-07-03 19:43:44,936 INFO : test_sample_misclass      0.29687\n",
      "2017-07-03 19:43:44,937 INFO : train_misclass            0.15877\n",
      "2017-07-03 19:43:44,937 INFO : valid_misclass            0.17318\n",
      "2017-07-03 19:43:44,938 INFO : test_misclass             0.20000\n",
      "2017-07-03 19:43:44,938 INFO : runtime                   1.32342\n",
      "2017-07-03 19:43:44,939 INFO : \n",
      "2017-07-03 19:43:46,271 INFO : Epoch 15\n",
      "2017-07-03 19:43:46,274 INFO : train_loss                0.55748\n",
      "2017-07-03 19:43:46,275 INFO : valid_loss                0.56917\n",
      "2017-07-03 19:43:46,275 INFO : test_loss                 0.63360\n",
      "2017-07-03 19:43:46,276 INFO : train_sample_misclass     0.22073\n",
      "2017-07-03 19:43:46,277 INFO : valid_sample_misclass     0.24933\n",
      "2017-07-03 19:43:46,277 INFO : test_sample_misclass      0.31447\n",
      "2017-07-03 19:43:46,278 INFO : train_misclass            0.15738\n",
      "2017-07-03 19:43:46,279 INFO : valid_misclass            0.17877\n",
      "2017-07-03 19:43:46,279 INFO : test_misclass             0.27500\n",
      "2017-07-03 19:43:46,280 INFO : runtime                   1.32839\n",
      "2017-07-03 19:43:46,280 INFO : \n",
      "2017-07-03 19:43:47,595 INFO : Epoch 16\n",
      "2017-07-03 19:43:47,597 INFO : train_loss                0.57459\n",
      "2017-07-03 19:43:47,597 INFO : valid_loss                0.64299\n",
      "2017-07-03 19:43:47,598 INFO : test_loss                 0.71722\n",
      "2017-07-03 19:43:47,599 INFO : train_sample_misclass     0.22383\n",
      "2017-07-03 19:43:47,599 INFO : valid_sample_misclass     0.28485\n",
      "2017-07-03 19:43:47,600 INFO : test_sample_misclass      0.34246\n",
      "2017-07-03 19:43:47,601 INFO : train_misclass            0.14624\n",
      "2017-07-03 19:43:47,601 INFO : valid_misclass            0.22905\n",
      "2017-07-03 19:43:47,602 INFO : test_misclass             0.27500\n",
      "2017-07-03 19:43:47,602 INFO : runtime                   1.34092\n",
      "2017-07-03 19:43:47,603 INFO : \n",
      "2017-07-03 19:43:48,914 INFO : Epoch 17\n",
      "2017-07-03 19:43:48,915 INFO : train_loss                0.58850\n",
      "2017-07-03 19:43:48,916 INFO : valid_loss                0.60272\n",
      "2017-07-03 19:43:48,916 INFO : test_loss                 0.67275\n",
      "2017-07-03 19:43:48,917 INFO : train_sample_misclass     0.22603\n",
      "2017-07-03 19:43:48,918 INFO : valid_sample_misclass     0.25052\n",
      "2017-07-03 19:43:48,918 INFO : test_sample_misclass      0.33400\n",
      "2017-07-03 19:43:48,919 INFO : train_misclass            0.15877\n",
      "2017-07-03 19:43:48,920 INFO : valid_misclass            0.19553\n",
      "2017-07-03 19:43:48,920 INFO : test_misclass             0.25000\n",
      "2017-07-03 19:43:48,921 INFO : runtime                   1.32065\n",
      "2017-07-03 19:43:48,922 INFO : \n",
      "2017-07-03 19:43:50,242 INFO : Epoch 18\n",
      "2017-07-03 19:43:50,243 INFO : train_loss                0.62547\n",
      "2017-07-03 19:43:50,244 INFO : valid_loss                0.66139\n",
      "2017-07-03 19:43:50,245 INFO : test_loss                 0.68720\n",
      "2017-07-03 19:43:50,245 INFO : train_sample_misclass     0.24124\n",
      "2017-07-03 19:43:50,246 INFO : valid_sample_misclass     0.30189\n",
      "2017-07-03 19:43:50,246 INFO : test_sample_misclass      0.33959\n",
      "2017-07-03 19:43:50,247 INFO : train_misclass            0.16852\n",
      "2017-07-03 19:43:50,248 INFO : valid_misclass            0.26257\n",
      "2017-07-03 19:43:50,248 INFO : test_misclass             0.30000\n",
      "2017-07-03 19:43:50,249 INFO : runtime                   1.31874\n",
      "2017-07-03 19:43:50,250 INFO : \n",
      "2017-07-03 19:43:51,579 INFO : Epoch 19\n",
      "2017-07-03 19:43:51,580 INFO : train_loss                0.55999\n",
      "2017-07-03 19:43:51,581 INFO : valid_loss                0.60763\n",
      "2017-07-03 19:43:51,581 INFO : test_loss                 0.66736\n",
      "2017-07-03 19:43:51,582 INFO : train_sample_misclass     0.25398\n",
      "2017-07-03 19:43:51,583 INFO : valid_sample_misclass     0.28486\n",
      "2017-07-03 19:43:51,583 INFO : test_sample_misclass      0.32811\n",
      "2017-07-03 19:43:51,584 INFO : train_misclass            0.21866\n",
      "2017-07-03 19:43:51,585 INFO : valid_misclass            0.24581\n",
      "2017-07-03 19:43:51,585 INFO : test_misclass             0.31875\n",
      "2017-07-03 19:43:51,586 INFO : runtime                   1.32959\n",
      "2017-07-03 19:43:51,586 INFO : \n",
      "2017-07-03 19:43:52,906 INFO : Epoch 20\n",
      "2017-07-03 19:43:52,907 INFO : train_loss                0.53452\n",
      "2017-07-03 19:43:52,908 INFO : valid_loss                0.53720\n",
      "2017-07-03 19:43:52,909 INFO : test_loss                 0.61004\n",
      "2017-07-03 19:43:52,909 INFO : train_sample_misclass     0.21955\n",
      "2017-07-03 19:43:52,910 INFO : valid_sample_misclass     0.24884\n",
      "2017-07-03 19:43:52,910 INFO : test_sample_misclass      0.28381\n",
      "2017-07-03 19:43:52,911 INFO : train_misclass            0.15877\n",
      "2017-07-03 19:43:52,912 INFO : valid_misclass            0.17877\n",
      "2017-07-03 19:43:52,912 INFO : test_misclass             0.20625\n",
      "2017-07-03 19:43:52,913 INFO : runtime                   1.33551\n",
      "2017-07-03 19:43:52,914 INFO : \n",
      "2017-07-03 19:43:52,914 INFO : Setup for second stop...\n",
      "2017-07-03 19:43:52,917 INFO : Train loss to reach 0.52765\n",
      "2017-07-03 19:43:52,918 INFO : Run until second stop...\n",
      "2017-07-03 19:43:53,619 INFO : Epoch 13\n",
      "2017-07-03 19:43:53,620 INFO : train_loss                0.53806\n",
      "2017-07-03 19:43:53,621 INFO : valid_loss                0.57981\n",
      "2017-07-03 19:43:53,621 INFO : test_loss                 0.67187\n",
      "2017-07-03 19:43:53,622 INFO : train_sample_misclass     0.23208\n",
      "2017-07-03 19:43:53,623 INFO : valid_sample_misclass     0.27861\n",
      "2017-07-03 19:43:53,623 INFO : test_sample_misclass      0.32019\n",
      "2017-07-03 19:43:53,624 INFO : train_misclass            0.15831\n",
      "2017-07-03 19:43:53,625 INFO : valid_misclass            0.16760\n",
      "2017-07-03 19:43:53,625 INFO : test_misclass             0.28750\n",
      "2017-07-03 19:43:53,626 INFO : runtime                   0.60088\n",
      "2017-07-03 19:43:53,626 INFO : \n",
      "2017-07-03 19:43:55,246 INFO : Epoch 14\n",
      "2017-07-03 19:43:55,248 INFO : train_loss                0.86926\n",
      "2017-07-03 19:43:55,248 INFO : valid_loss                0.80130\n",
      "2017-07-03 19:43:55,249 INFO : test_loss                 0.95878\n",
      "2017-07-03 19:43:55,250 INFO : train_sample_misclass     0.33574\n",
      "2017-07-03 19:43:55,250 INFO : valid_sample_misclass     0.30915\n",
      "2017-07-03 19:43:55,251 INFO : test_sample_misclass      0.38125\n",
      "2017-07-03 19:43:55,252 INFO : train_misclass            0.31773\n",
      "2017-07-03 19:43:55,252 INFO : valid_misclass            0.27374\n",
      "2017-07-03 19:43:55,253 INFO : test_misclass             0.32500\n",
      "2017-07-03 19:43:55,253 INFO : runtime                   1.62558\n",
      "2017-07-03 19:43:55,254 INFO : \n",
      "2017-07-03 19:43:56,853 INFO : Epoch 15\n",
      "2017-07-03 19:43:56,854 INFO : train_loss                0.49212\n",
      "2017-07-03 19:43:56,855 INFO : valid_loss                0.47677\n",
      "2017-07-03 19:43:56,856 INFO : test_loss                 0.61342\n",
      "2017-07-03 19:43:56,856 INFO : train_sample_misclass     0.20729\n",
      "2017-07-03 19:43:56,857 INFO : valid_sample_misclass     0.21470\n",
      "2017-07-03 19:43:56,858 INFO : test_sample_misclass      0.28919\n",
      "2017-07-03 19:43:56,858 INFO : train_misclass            0.13935\n",
      "2017-07-03 19:43:56,859 INFO : valid_misclass            0.13966\n",
      "2017-07-03 19:43:56,860 INFO : test_misclass             0.20625\n",
      "2017-07-03 19:43:56,860 INFO : runtime                   1.62323\n",
      "2017-07-03 19:43:56,861 INFO : \n"
     ]
    }
   ],
   "source": [
    "exp.run()"
   ]
  }
 ],
 "metadata": {
  "kernelspec": {
   "display_name": "Python 3",
   "language": "python",
   "name": "python3"
  },
  "language_info": {
   "codemirror_mode": {
    "name": "ipython",
    "version": 3
   },
   "file_extension": ".py",
   "mimetype": "text/x-python",
   "name": "python",
   "nbconvert_exporter": "python",
   "pygments_lexer": "ipython3",
   "version": "3.5.2"
  }
 },
 "nbformat": 4,
 "nbformat_minor": 2
}
