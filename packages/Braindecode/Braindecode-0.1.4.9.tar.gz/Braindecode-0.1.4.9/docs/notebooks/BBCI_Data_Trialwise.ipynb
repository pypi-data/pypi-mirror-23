{
 "cells": [
  {
   "cell_type": "code",
   "execution_count": 1,
   "metadata": {
    "collapsed": false,
    "deletable": true,
    "editable": true,
    "nbsphinx": "hidden"
   },
   "outputs": [],
   "source": [
    "%load_ext autoreload\n",
    "%autoreload 2\n",
    "import os\n",
    "os.sys.path.insert(0, '/home/schirrmr/braindecode/code/braindecode/')"
   ]
  },
  {
   "cell_type": "markdown",
   "metadata": {
    "deletable": true,
    "editable": true
   },
   "source": [
    "# Read and Decode BBCI Data"
   ]
  },
  {
   "cell_type": "markdown",
   "metadata": {
    "deletable": true,
    "editable": true
   },
   "source": [
    "This tutorial shows how to read and decode BBCI data."
   ]
  },
  {
   "cell_type": "markdown",
   "metadata": {
    "deletable": true,
    "editable": true
   },
   "source": [
    "## Setup logging to see outputs"
   ]
  },
  {
   "cell_type": "code",
   "execution_count": 2,
   "metadata": {
    "collapsed": false,
    "deletable": true,
    "editable": true
   },
   "outputs": [],
   "source": [
    "import logging\n",
    "import sys\n",
    "logging.basicConfig(format='%(asctime)s %(levelname)s : %(message)s',\n",
    "                     level=logging.DEBUG, stream=sys.stdout)\n",
    "log = logging.getLogger()"
   ]
  },
  {
   "cell_type": "markdown",
   "metadata": {
    "deletable": true,
    "editable": true
   },
   "source": [
    "## Load and preprocess data"
   ]
  },
  {
   "cell_type": "markdown",
   "metadata": {
    "deletable": true,
    "editable": true
   },
   "source": [
    "First set the filename and the sensors you want to load. If you set\n",
    "\n",
    "```python\n",
    "load_sensor_names=None\n",
    "```\n",
    "\n",
    "or just remove the parameter from the function call, all sensors will be loaded."
   ]
  },
  {
   "cell_type": "code",
   "execution_count": 3,
   "metadata": {
    "collapsed": false,
    "deletable": true,
    "editable": true
   },
   "outputs": [
    {
     "name": "stdout",
     "output_type": "stream",
     "text": [
      "Creating RawArray with float64 data, n_channels=3, n_times=3451320\n",
      "    Range : 0 ... 3451319 =      0.000 ...  6902.638 secs\n",
      "Ready.\n"
     ]
    }
   ],
   "source": [
    "from braindecode.datasets.bbci import BBCIDataset\n",
    "train_filename = '/home/schirrmr/data/BBCI-without-last-runs/BhNoMoSc1S001R01_ds10_1-12.BBCI.mat'\n",
    "cnt = BBCIDataset(train_filename, load_sensor_names=['C3', 'CPz', 'C4']).load()"
   ]
  },
  {
   "cell_type": "markdown",
   "metadata": {
    "deletable": true,
    "editable": true
   },
   "source": [
    "### Preprocessing on continous data"
   ]
  },
  {
   "cell_type": "markdown",
   "metadata": {
    "deletable": true,
    "editable": true
   },
   "source": [
    "First remove the stimulus channel, than apply any preprocessing you like. There are some very few directions available from Braindecode, such as resample_cnt. But you can apply any function on the chan x time matrix of the mne raw object (`cnt` in the code) by calling `mne_apply` with two arguments:\n",
    "\n",
    "1. Your function (2d-array-> 2darray), that transforms the channel x timesteps data array\n",
    "2. the Raw data object from mne itself"
   ]
  },
  {
   "cell_type": "code",
   "execution_count": 4,
   "metadata": {
    "collapsed": false,
    "deletable": true,
    "editable": true
   },
   "outputs": [
    {
     "name": "stdout",
     "output_type": "stream",
     "text": [
      "2017-07-04 23:40:48,185 WARNING : This is not causal, uses future data....\n",
      "2017-07-04 23:40:48,186 INFO : Resampling from 500.000000 to 250.000000 Hz.\n",
      "Creating RawArray with float64 data, n_channels=3, n_times=1725660\n",
      "    Range : 0 ... 1725659 =      0.000 ...  6902.636 secs\n",
      "Ready.\n"
     ]
    }
   ],
   "source": [
    "from braindecode.mne_ext.signalproc import resample_cnt, mne_apply\n",
    "from braindecode.datautil.signalproc import exponential_running_standardize\n",
    "# Remove stimulus channel\n",
    "cnt = cnt.drop_channels(['STI 014'])\n",
    "cnt = resample_cnt(cnt, 250)\n",
    "# mne apply will apply the function to the data (a 2d-numpy-array)\n",
    "# have to transpose data back and forth, since\n",
    "# exponential_running_standardize expects time x chans order\n",
    "# while mne object has chans x time order\n",
    "cnt = mne_apply(lambda a: exponential_running_standardize(\n",
    "    a.T, init_block_size=1000,factor_new=0.001, eps=1e-4).T,\n",
    "    cnt)"
   ]
  },
  {
   "cell_type": "markdown",
   "metadata": {
    "deletable": true,
    "editable": true
   },
   "source": [
    "## Transform to epoched dataset "
   ]
  },
  {
   "cell_type": "markdown",
   "metadata": {
    "deletable": true,
    "editable": true
   },
   "source": [
    "Braindecode supplies the `create_signal_target_from_raw_mne` function, which will transform the mne raw object into a `SignalAndTarget` object for use in Braindecode.\n",
    "`name_to_code` should be an `OrderedDict` that maps class names to either one or a list of marker codes for that class."
   ]
  },
  {
   "cell_type": "code",
   "execution_count": 5,
   "metadata": {
    "collapsed": false,
    "deletable": true,
    "editable": true
   },
   "outputs": [
    {
     "name": "stdout",
     "output_type": "stream",
     "text": [
      "2017-07-04 23:40:54,482 INFO : Trial per class:\n",
      "Counter({'Feet': 225, 'Right': 224, 'Left': 224, 'Rest': 224})\n"
     ]
    }
   ],
   "source": [
    "from braindecode.datautil.trial_segment import create_signal_target_from_raw_mne\n",
    "from collections import OrderedDict\n",
    "# can also give lists of marker codes in case a class has multiple marker codes...\n",
    "name_to_code = OrderedDict([('Right', 1), ('Left', 2), ('Rest', 3), ('Feet', 4)])\n",
    "segment_ival_ms = [-500,4000]\n",
    "\n",
    "train_set = create_signal_target_from_raw_mne(cnt, name_to_code, segment_ival_ms)"
   ]
  },
  {
   "cell_type": "markdown",
   "metadata": {
    "deletable": true,
    "editable": true
   },
   "source": [
    "## Same for test set"
   ]
  },
  {
   "cell_type": "code",
   "execution_count": 6,
   "metadata": {
    "collapsed": false,
    "deletable": true,
    "editable": true,
    "scrolled": false
   },
   "outputs": [
    {
     "name": "stdout",
     "output_type": "stream",
     "text": [
      "Creating RawArray with float64 data, n_channels=3, n_times=617090\n",
      "    Range : 0 ... 617089 =      0.000 ...  1234.178 secs\n",
      "Ready.\n",
      "2017-07-04 23:40:56,671 WARNING : This is not causal, uses future data....\n",
      "2017-07-04 23:40:56,672 INFO : Resampling from 500.000000 to 250.000000 Hz.\n",
      "Creating RawArray with float64 data, n_channels=3, n_times=308545\n",
      "    Range : 0 ... 308544 =      0.000 ...  1234.176 secs\n",
      "Ready.\n",
      "2017-07-04 23:40:56,984 INFO : Trial per class:\n",
      "Counter({'Feet': 40, 'Right': 40, 'Left': 40, 'Rest': 40})\n"
     ]
    }
   ],
   "source": [
    "test_filename = '/home/schirrmr/data/BBCI-only-last-runs/BhNoMoSc1S001R13_ds10_1-2BBCI.mat'\n",
    "cnt = BBCIDataset(test_filename, load_sensor_names=['C3', 'CPz', 'C4']).load()\n",
    "# Remove stimulus channel\n",
    "cnt = cnt.drop_channels(['STI 014'])\n",
    "cnt = resample_cnt(cnt, 250)\n",
    "cnt = mne_apply(lambda a: exponential_running_standardize(\n",
    "    a.T, init_block_size=1000,factor_new=0.001, eps=1e-4).T,\n",
    "    cnt)\n",
    "test_set = create_signal_target_from_raw_mne(cnt, name_to_code, segment_ival_ms)"
   ]
  },
  {
   "cell_type": "markdown",
   "metadata": {
    "deletable": true,
    "editable": true
   },
   "source": [
    "<div class=\"alert alert-info\">\n",
    "\n",
    "In case of start and stop markers, provide a `name_to_stop_codes` dictionary (same as for the start codes in this example) as a final argument to `create_signal_target_from_raw_mne`. See [Read and Decode BBCI Data with Start-Stop-Markers Tutorial](BBCI_Data_Start_Stop.html)\n",
    "\n",
    "\n",
    "</div>"
   ]
  },
  {
   "cell_type": "markdown",
   "metadata": {
    "deletable": true,
    "editable": true
   },
   "source": [
    "Split off a validation set."
   ]
  },
  {
   "cell_type": "code",
   "execution_count": 7,
   "metadata": {
    "collapsed": false,
    "deletable": true,
    "editable": true
   },
   "outputs": [],
   "source": [
    "from braindecode.datautil.splitters import split_into_two_sets\n",
    "\n",
    "train_set, valid_set = split_into_two_sets(train_set, first_set_fraction=0.8)\n"
   ]
  },
  {
   "cell_type": "markdown",
   "metadata": {
    "deletable": true,
    "editable": true
   },
   "source": [
    "## Create the model"
   ]
  },
  {
   "cell_type": "code",
   "execution_count": 12,
   "metadata": {
    "collapsed": false,
    "deletable": true,
    "editable": true
   },
   "outputs": [],
   "source": [
    "from braindecode.models.shallow_fbcsp import ShallowFBCSPNet\n",
    "from torch import nn\n",
    "from braindecode.torch_ext.util import set_random_seeds, to_dense_prediction_model\n",
    "\n",
    "# Set if you want to use GPU\n",
    "# You can also use torch.cuda.is_available() to determine if cuda is available on your machine.\n",
    "cuda = True\n",
    "set_random_seeds(seed=20170629, cuda=cuda)\n",
    "\n",
    "\n",
    "# This will determine how many crops are processed in parallel\n",
    "input_time_length = train_set.X.shape[2]\n",
    "in_chans = 3\n",
    "n_classes = 4\n",
    "# final_conv_length determines the size of the receptive field of the ConvNet\n",
    "model = ShallowFBCSPNet(in_chans=in_chans, n_classes=n_classes, input_time_length=input_time_length,\n",
    "                        final_conv_length='auto').create_network()\n",
    "\n",
    "if cuda:\n",
    "    model.cuda()"
   ]
  },
  {
   "cell_type": "markdown",
   "metadata": {
    "deletable": true,
    "editable": true
   },
   "source": [
    "## Setup optimizer and iterator"
   ]
  },
  {
   "cell_type": "code",
   "execution_count": 13,
   "metadata": {
    "collapsed": false,
    "deletable": true,
    "editable": true
   },
   "outputs": [],
   "source": [
    "from torch import optim\n",
    "import numpy as np\n",
    "\n",
    "optimizer = optim.Adam(model.parameters())\n",
    "\n",
    "\n",
    "from braindecode.datautil.iterators import BalancedBatchSizeIterator\n",
    "iterator = BalancedBatchSizeIterator(batch_size=32)\n"
   ]
  },
  {
   "cell_type": "markdown",
   "metadata": {
    "deletable": true,
    "editable": true
   },
   "source": [
    "## Setup Monitors, Loss function, Stop Criteria"
   ]
  },
  {
   "cell_type": "code",
   "execution_count": 14,
   "metadata": {
    "collapsed": false,
    "deletable": true,
    "editable": true
   },
   "outputs": [],
   "source": [
    "from braindecode.experiments.experiment import Experiment\n",
    "from braindecode.experiments.monitors import RuntimeMonitor, LossMonitor, CroppedTrialMisclassMonitor, MisclassMonitor\n",
    "from braindecode.experiments.stopcriteria import MaxEpochs\n",
    "import torch.nn.functional as F\n",
    "import torch as th\n",
    "from braindecode.torch_ext.modules import Expression\n",
    "\n",
    "\n",
    "loss_function = F.nll_loss\n",
    "\n",
    "model_constraint = None\n",
    "monitors = [LossMonitor(), MisclassMonitor(col_suffix='misclass'), \n",
    "            RuntimeMonitor(),]\n",
    "stop_criterion = MaxEpochs(20)\n",
    "exp = Experiment(model, train_set, valid_set, test_set, iterator, loss_function, optimizer, model_constraint,\n",
    "          monitors, stop_criterion, remember_best_column='valid_misclass',\n",
    "          run_after_early_stop=True, batch_modifier=None, cuda=cuda)"
   ]
  },
  {
   "cell_type": "markdown",
   "metadata": {
    "deletable": true,
    "editable": true
   },
   "source": [
    "## Run experiment"
   ]
  },
  {
   "cell_type": "code",
   "execution_count": 15,
   "metadata": {
    "collapsed": false,
    "deletable": true,
    "editable": true
   },
   "outputs": [
    {
     "name": "stdout",
     "output_type": "stream",
     "text": [
      "2017-07-04 23:44:33,852 INFO : Run until first stop...\n",
      "2017-07-04 23:44:34,076 INFO : Epoch 0\n",
      "2017-07-04 23:44:34,077 INFO : train_loss                3.82544\n",
      "2017-07-04 23:44:34,077 INFO : valid_loss                3.72206\n",
      "2017-07-04 23:44:34,078 INFO : test_loss                 3.90394\n",
      "2017-07-04 23:44:34,079 INFO : train_misclass            0.76184\n",
      "2017-07-04 23:44:34,079 INFO : valid_misclass            0.76536\n",
      "2017-07-04 23:44:34,080 INFO : test_misclass             0.75625\n",
      "2017-07-04 23:44:34,080 INFO : runtime                   0.00000\n",
      "2017-07-04 23:44:34,081 INFO : \n",
      "2017-07-04 23:44:34,082 INFO : New best valid_misclass: 0.765363\n",
      "2017-07-04 23:44:34,083 INFO : \n",
      "2017-07-04 23:44:34,822 INFO : Epoch 1\n",
      "2017-07-04 23:44:34,823 INFO : train_loss                2.65251\n",
      "2017-07-04 23:44:34,824 INFO : valid_loss                2.87917\n",
      "2017-07-04 23:44:34,825 INFO : test_loss                 3.03406\n",
      "2017-07-04 23:44:34,825 INFO : train_misclass            0.72006\n",
      "2017-07-04 23:44:34,826 INFO : valid_misclass            0.73184\n",
      "2017-07-04 23:44:34,826 INFO : test_misclass             0.71250\n",
      "2017-07-04 23:44:34,827 INFO : runtime                   0.74575\n",
      "2017-07-04 23:44:34,828 INFO : \n",
      "2017-07-04 23:44:34,830 INFO : New best valid_misclass: 0.731844\n",
      "2017-07-04 23:44:34,831 INFO : \n",
      "2017-07-04 23:44:35,568 INFO : Epoch 2\n",
      "2017-07-04 23:44:35,569 INFO : train_loss                0.60759\n",
      "2017-07-04 23:44:35,570 INFO : valid_loss                0.61930\n",
      "2017-07-04 23:44:35,571 INFO : test_loss                 0.81559\n",
      "2017-07-04 23:44:35,572 INFO : train_misclass            0.25070\n",
      "2017-07-04 23:44:35,573 INFO : valid_misclass            0.27933\n",
      "2017-07-04 23:44:35,574 INFO : test_misclass             0.34375\n",
      "2017-07-04 23:44:35,574 INFO : runtime                   0.74492\n",
      "2017-07-04 23:44:35,575 INFO : \n",
      "2017-07-04 23:44:35,578 INFO : New best valid_misclass: 0.279330\n",
      "2017-07-04 23:44:35,578 INFO : \n",
      "2017-07-04 23:44:36,317 INFO : Epoch 3\n",
      "2017-07-04 23:44:36,318 INFO : train_loss                0.58740\n",
      "2017-07-04 23:44:36,319 INFO : valid_loss                0.62861\n",
      "2017-07-04 23:44:36,319 INFO : test_loss                 0.85569\n",
      "2017-07-04 23:44:36,320 INFO : train_misclass            0.23955\n",
      "2017-07-04 23:44:36,321 INFO : valid_misclass            0.27933\n",
      "2017-07-04 23:44:36,321 INFO : test_misclass             0.38750\n",
      "2017-07-04 23:44:36,322 INFO : runtime                   0.74990\n",
      "2017-07-04 23:44:36,322 INFO : \n",
      "2017-07-04 23:44:36,324 INFO : New best valid_misclass: 0.279330\n",
      "2017-07-04 23:44:36,325 INFO : \n",
      "2017-07-04 23:44:37,061 INFO : Epoch 4\n",
      "2017-07-04 23:44:37,062 INFO : train_loss                0.48778\n",
      "2017-07-04 23:44:37,063 INFO : valid_loss                0.56671\n",
      "2017-07-04 23:44:37,063 INFO : test_loss                 0.76614\n",
      "2017-07-04 23:44:37,064 INFO : train_misclass            0.19359\n",
      "2017-07-04 23:44:37,064 INFO : valid_misclass            0.26257\n",
      "2017-07-04 23:44:37,065 INFO : test_misclass             0.31250\n",
      "2017-07-04 23:44:37,066 INFO : runtime                   0.74426\n",
      "2017-07-04 23:44:37,066 INFO : \n",
      "2017-07-04 23:44:37,068 INFO : New best valid_misclass: 0.262570\n",
      "2017-07-04 23:44:37,068 INFO : \n",
      "2017-07-04 23:44:37,806 INFO : Epoch 5\n",
      "2017-07-04 23:44:37,807 INFO : train_loss                0.42348\n",
      "2017-07-04 23:44:37,808 INFO : valid_loss                0.52181\n",
      "2017-07-04 23:44:37,808 INFO : test_loss                 0.79199\n",
      "2017-07-04 23:44:37,809 INFO : train_misclass            0.14485\n",
      "2017-07-04 23:44:37,810 INFO : valid_misclass            0.22346\n",
      "2017-07-04 23:44:37,810 INFO : test_misclass             0.36250\n",
      "2017-07-04 23:44:37,811 INFO : runtime                   0.74517\n",
      "2017-07-04 23:44:37,811 INFO : \n",
      "2017-07-04 23:44:37,813 INFO : New best valid_misclass: 0.223464\n",
      "2017-07-04 23:44:37,814 INFO : \n",
      "2017-07-04 23:44:38,554 INFO : Epoch 6\n",
      "2017-07-04 23:44:38,555 INFO : train_loss                0.35578\n",
      "2017-07-04 23:44:38,555 INFO : valid_loss                0.50916\n",
      "2017-07-04 23:44:38,556 INFO : test_loss                 0.72814\n",
      "2017-07-04 23:44:38,556 INFO : train_misclass            0.11003\n",
      "2017-07-04 23:44:38,557 INFO : valid_misclass            0.21229\n",
      "2017-07-04 23:44:38,558 INFO : test_misclass             0.26875\n",
      "2017-07-04 23:44:38,558 INFO : runtime                   0.74498\n",
      "2017-07-04 23:44:38,559 INFO : \n",
      "2017-07-04 23:44:38,560 INFO : New best valid_misclass: 0.212291\n",
      "2017-07-04 23:44:38,561 INFO : \n",
      "2017-07-04 23:44:39,304 INFO : Epoch 7\n",
      "2017-07-04 23:44:39,305 INFO : train_loss                0.35362\n",
      "2017-07-04 23:44:39,306 INFO : valid_loss                0.59377\n",
      "2017-07-04 23:44:39,307 INFO : test_loss                 0.81757\n",
      "2017-07-04 23:44:39,307 INFO : train_misclass            0.12674\n",
      "2017-07-04 23:44:39,308 INFO : valid_misclass            0.25140\n",
      "2017-07-04 23:44:39,309 INFO : test_misclass             0.33750\n",
      "2017-07-04 23:44:39,309 INFO : runtime                   0.74898\n",
      "2017-07-04 23:44:39,310 INFO : \n",
      "2017-07-04 23:44:40,050 INFO : Epoch 8\n",
      "2017-07-04 23:44:40,051 INFO : train_loss                0.34434\n",
      "2017-07-04 23:44:40,051 INFO : valid_loss                0.46185\n",
      "2017-07-04 23:44:40,052 INFO : test_loss                 0.73922\n",
      "2017-07-04 23:44:40,053 INFO : train_misclass            0.10028\n",
      "2017-07-04 23:44:40,053 INFO : valid_misclass            0.18994\n",
      "2017-07-04 23:44:40,054 INFO : test_misclass             0.30625\n",
      "2017-07-04 23:44:40,054 INFO : runtime                   0.74891\n",
      "2017-07-04 23:44:40,055 INFO : \n",
      "2017-07-04 23:44:40,058 INFO : New best valid_misclass: 0.189944\n",
      "2017-07-04 23:44:40,059 INFO : \n",
      "2017-07-04 23:44:40,800 INFO : Epoch 9\n",
      "2017-07-04 23:44:40,801 INFO : train_loss                0.31116\n",
      "2017-07-04 23:44:40,801 INFO : valid_loss                0.48244\n",
      "2017-07-04 23:44:40,802 INFO : test_loss                 0.71441\n",
      "2017-07-04 23:44:40,803 INFO : train_misclass            0.07799\n",
      "2017-07-04 23:44:40,804 INFO : valid_misclass            0.19553\n",
      "2017-07-04 23:44:40,804 INFO : test_misclass             0.25625\n",
      "2017-07-04 23:44:40,805 INFO : runtime                   0.74725\n",
      "2017-07-04 23:44:40,806 INFO : \n",
      "2017-07-04 23:44:41,544 INFO : Epoch 10\n",
      "2017-07-04 23:44:41,545 INFO : train_loss                0.32293\n",
      "2017-07-04 23:44:41,546 INFO : valid_loss                0.53347\n",
      "2017-07-04 23:44:41,547 INFO : test_loss                 0.76969\n",
      "2017-07-04 23:44:41,548 INFO : train_misclass            0.11421\n",
      "2017-07-04 23:44:41,549 INFO : valid_misclass            0.20670\n",
      "2017-07-04 23:44:41,549 INFO : test_misclass             0.28750\n",
      "2017-07-04 23:44:41,550 INFO : runtime                   0.74654\n",
      "2017-07-04 23:44:41,551 INFO : \n",
      "2017-07-04 23:44:42,289 INFO : Epoch 11\n",
      "2017-07-04 23:44:42,290 INFO : train_loss                0.22250\n",
      "2017-07-04 23:44:42,291 INFO : valid_loss                0.46882\n",
      "2017-07-04 23:44:42,291 INFO : test_loss                 0.75474\n",
      "2017-07-04 23:44:42,292 INFO : train_misclass            0.07242\n",
      "2017-07-04 23:44:42,293 INFO : valid_misclass            0.15642\n",
      "2017-07-04 23:44:42,293 INFO : test_misclass             0.31250\n",
      "2017-07-04 23:44:42,294 INFO : runtime                   0.74580\n",
      "2017-07-04 23:44:42,295 INFO : \n",
      "2017-07-04 23:44:42,296 INFO : New best valid_misclass: 0.156425\n",
      "2017-07-04 23:44:42,297 INFO : \n",
      "2017-07-04 23:44:43,037 INFO : Epoch 12\n",
      "2017-07-04 23:44:43,038 INFO : train_loss                0.20974\n",
      "2017-07-04 23:44:43,038 INFO : valid_loss                0.50272\n",
      "2017-07-04 23:44:43,039 INFO : test_loss                 0.82552\n",
      "2017-07-04 23:44:43,040 INFO : train_misclass            0.05850\n",
      "2017-07-04 23:44:43,040 INFO : valid_misclass            0.19553\n",
      "2017-07-04 23:44:43,041 INFO : test_misclass             0.31875\n",
      "2017-07-04 23:44:43,042 INFO : runtime                   0.74648\n",
      "2017-07-04 23:44:43,042 INFO : \n",
      "2017-07-04 23:44:43,781 INFO : Epoch 13\n",
      "2017-07-04 23:44:43,782 INFO : train_loss                0.20602\n",
      "2017-07-04 23:44:43,783 INFO : valid_loss                0.52402\n",
      "2017-07-04 23:44:43,783 INFO : test_loss                 0.76202\n",
      "2017-07-04 23:44:43,784 INFO : train_misclass            0.06407\n",
      "2017-07-04 23:44:43,784 INFO : valid_misclass            0.18994\n",
      "2017-07-04 23:44:43,786 INFO : test_misclass             0.29375\n",
      "2017-07-04 23:44:43,786 INFO : runtime                   0.74593\n",
      "2017-07-04 23:44:43,787 INFO : \n",
      "2017-07-04 23:44:44,527 INFO : Epoch 14\n",
      "2017-07-04 23:44:44,528 INFO : train_loss                0.19438\n",
      "2017-07-04 23:44:44,528 INFO : valid_loss                0.57012\n",
      "2017-07-04 23:44:44,529 INFO : test_loss                 0.80643\n",
      "2017-07-04 23:44:44,530 INFO : train_misclass            0.06407\n",
      "2017-07-04 23:44:44,530 INFO : valid_misclass            0.20670\n",
      "2017-07-04 23:44:44,531 INFO : test_misclass             0.30000\n",
      "2017-07-04 23:44:44,531 INFO : runtime                   0.74543\n",
      "2017-07-04 23:44:44,532 INFO : \n",
      "2017-07-04 23:44:45,270 INFO : Epoch 15\n",
      "2017-07-04 23:44:45,271 INFO : train_loss                0.19311\n",
      "2017-07-04 23:44:45,272 INFO : valid_loss                0.53784\n",
      "2017-07-04 23:44:45,273 INFO : test_loss                 0.80476\n",
      "2017-07-04 23:44:45,273 INFO : train_misclass            0.05292\n",
      "2017-07-04 23:44:45,274 INFO : valid_misclass            0.22346\n",
      "2017-07-04 23:44:45,274 INFO : test_misclass             0.28750\n",
      "2017-07-04 23:44:45,275 INFO : runtime                   0.74381\n",
      "2017-07-04 23:44:45,276 INFO : \n",
      "2017-07-04 23:44:46,014 INFO : Epoch 16\n",
      "2017-07-04 23:44:46,015 INFO : train_loss                0.14792\n",
      "2017-07-04 23:44:46,016 INFO : valid_loss                0.46370\n",
      "2017-07-04 23:44:46,016 INFO : test_loss                 0.76056\n",
      "2017-07-04 23:44:46,017 INFO : train_misclass            0.03482\n",
      "2017-07-04 23:44:46,017 INFO : valid_misclass            0.17318\n",
      "2017-07-04 23:44:46,018 INFO : test_misclass             0.29375\n",
      "2017-07-04 23:44:46,019 INFO : runtime                   0.74367\n",
      "2017-07-04 23:44:46,019 INFO : \n",
      "2017-07-04 23:44:46,758 INFO : Epoch 17\n",
      "2017-07-04 23:44:46,759 INFO : train_loss                0.34651\n",
      "2017-07-04 23:44:46,759 INFO : valid_loss                0.70191\n",
      "2017-07-04 23:44:46,760 INFO : test_loss                 1.00268\n",
      "2017-07-04 23:44:46,761 INFO : train_misclass            0.12117\n",
      "2017-07-04 23:44:46,761 INFO : valid_misclass            0.26816\n",
      "2017-07-04 23:44:46,762 INFO : test_misclass             0.33125\n",
      "2017-07-04 23:44:46,763 INFO : runtime                   0.74373\n",
      "2017-07-04 23:44:46,763 INFO : \n",
      "2017-07-04 23:44:47,502 INFO : Epoch 18\n",
      "2017-07-04 23:44:47,503 INFO : train_loss                0.25575\n",
      "2017-07-04 23:44:47,504 INFO : valid_loss                0.49343\n",
      "2017-07-04 23:44:47,504 INFO : test_loss                 0.68964\n",
      "2017-07-04 23:44:47,505 INFO : train_misclass            0.07103\n",
      "2017-07-04 23:44:47,506 INFO : valid_misclass            0.20112\n",
      "2017-07-04 23:44:47,506 INFO : test_misclass             0.26875\n",
      "2017-07-04 23:44:47,507 INFO : runtime                   0.74379\n",
      "2017-07-04 23:44:47,507 INFO : \n",
      "2017-07-04 23:44:48,252 INFO : Epoch 19\n",
      "2017-07-04 23:44:48,253 INFO : train_loss                0.19086\n",
      "2017-07-04 23:44:48,254 INFO : valid_loss                0.56999\n",
      "2017-07-04 23:44:48,255 INFO : test_loss                 0.83660\n",
      "2017-07-04 23:44:48,256 INFO : train_misclass            0.05014\n",
      "2017-07-04 23:44:48,256 INFO : valid_misclass            0.24581\n",
      "2017-07-04 23:44:48,257 INFO : test_misclass             0.28750\n",
      "2017-07-04 23:44:48,258 INFO : runtime                   0.74573\n",
      "2017-07-04 23:44:48,259 INFO : \n",
      "2017-07-04 23:44:49,002 INFO : Epoch 20\n",
      "2017-07-04 23:44:49,003 INFO : train_loss                0.20366\n",
      "2017-07-04 23:44:49,003 INFO : valid_loss                0.48904\n",
      "2017-07-04 23:44:49,004 INFO : test_loss                 0.69037\n",
      "2017-07-04 23:44:49,004 INFO : train_misclass            0.05571\n",
      "2017-07-04 23:44:49,005 INFO : valid_misclass            0.17318\n",
      "2017-07-04 23:44:49,006 INFO : test_misclass             0.25625\n",
      "2017-07-04 23:44:49,006 INFO : runtime                   0.75133\n",
      "2017-07-04 23:44:49,007 INFO : \n",
      "2017-07-04 23:44:49,008 INFO : Setup for second stop...\n",
      "2017-07-04 23:44:49,010 INFO : Train loss to reach 0.22250\n",
      "2017-07-04 23:44:49,011 INFO : Run until second stop...\n",
      "2017-07-04 23:44:49,258 INFO : Epoch 12\n",
      "2017-07-04 23:44:49,259 INFO : train_loss                0.27166\n",
      "2017-07-04 23:44:49,260 INFO : valid_loss                0.46882\n",
      "2017-07-04 23:44:49,261 INFO : test_loss                 0.75474\n",
      "2017-07-04 23:44:49,261 INFO : train_misclass            0.08919\n",
      "2017-07-04 23:44:49,262 INFO : valid_misclass            0.15642\n",
      "2017-07-04 23:44:49,262 INFO : test_misclass             0.31250\n",
      "2017-07-04 23:44:49,263 INFO : runtime                   0.24115\n",
      "2017-07-04 23:44:49,264 INFO : \n",
      "2017-07-04 23:44:50,059 INFO : Epoch 13\n",
      "2017-07-04 23:44:50,060 INFO : train_loss                0.31352\n",
      "2017-07-04 23:44:50,061 INFO : valid_loss                0.49970\n",
      "2017-07-04 23:44:50,062 INFO : test_loss                 0.93870\n",
      "2017-07-04 23:44:50,063 INFO : train_misclass            0.12040\n",
      "2017-07-04 23:44:50,063 INFO : valid_misclass            0.22346\n",
      "2017-07-04 23:44:50,064 INFO : test_misclass             0.32500\n",
      "2017-07-04 23:44:50,065 INFO : runtime                   0.78535\n",
      "2017-07-04 23:44:50,065 INFO : \n",
      "2017-07-04 23:44:50,859 INFO : Epoch 14\n",
      "2017-07-04 23:44:50,860 INFO : train_loss                0.30636\n",
      "2017-07-04 23:44:50,860 INFO : valid_loss                0.40277\n",
      "2017-07-04 23:44:50,862 INFO : test_loss                 0.76390\n",
      "2017-07-04 23:44:50,863 INFO : train_misclass            0.10256\n",
      "2017-07-04 23:44:50,863 INFO : valid_misclass            0.15084\n",
      "2017-07-04 23:44:50,864 INFO : test_misclass             0.30625\n",
      "2017-07-04 23:44:50,865 INFO : runtime                   0.80184\n",
      "2017-07-04 23:44:50,866 INFO : \n",
      "2017-07-04 23:44:51,660 INFO : Epoch 15\n",
      "2017-07-04 23:44:51,661 INFO : train_loss                0.34676\n",
      "2017-07-04 23:44:51,662 INFO : valid_loss                0.35838\n",
      "2017-07-04 23:44:51,663 INFO : test_loss                 0.74671\n",
      "2017-07-04 23:44:51,664 INFO : train_misclass            0.13601\n",
      "2017-07-04 23:44:51,664 INFO : valid_misclass            0.13966\n",
      "2017-07-04 23:44:51,665 INFO : test_misclass             0.28750\n",
      "2017-07-04 23:44:51,666 INFO : runtime                   0.80115\n",
      "2017-07-04 23:44:51,667 INFO : \n",
      "2017-07-04 23:44:52,460 INFO : Epoch 16\n",
      "2017-07-04 23:44:52,461 INFO : train_loss                0.24575\n",
      "2017-07-04 23:44:52,461 INFO : valid_loss                0.30788\n",
      "2017-07-04 23:44:52,462 INFO : test_loss                 0.73742\n",
      "2017-07-04 23:44:52,463 INFO : train_misclass            0.08138\n",
      "2017-07-04 23:44:52,463 INFO : valid_misclass            0.09497\n",
      "2017-07-04 23:44:52,464 INFO : test_misclass             0.26875\n",
      "2017-07-04 23:44:52,464 INFO : runtime                   0.80058\n",
      "2017-07-04 23:44:52,465 INFO : \n",
      "2017-07-04 23:44:53,257 INFO : Epoch 17\n",
      "2017-07-04 23:44:53,258 INFO : train_loss                0.21844\n",
      "2017-07-04 23:44:53,258 INFO : valid_loss                0.27903\n",
      "2017-07-04 23:44:53,259 INFO : test_loss                 0.77096\n",
      "2017-07-04 23:44:53,260 INFO : train_misclass            0.07469\n",
      "2017-07-04 23:44:53,260 INFO : valid_misclass            0.10615\n",
      "2017-07-04 23:44:53,261 INFO : test_misclass             0.30000\n",
      "2017-07-04 23:44:53,261 INFO : runtime                   0.79707\n",
      "2017-07-04 23:44:53,262 INFO : \n",
      "2017-07-04 23:44:54,056 INFO : Epoch 18\n",
      "2017-07-04 23:44:54,057 INFO : train_loss                0.21228\n",
      "2017-07-04 23:44:54,057 INFO : valid_loss                0.26545\n",
      "2017-07-04 23:44:54,058 INFO : test_loss                 0.74121\n",
      "2017-07-04 23:44:54,058 INFO : train_misclass            0.08027\n",
      "2017-07-04 23:44:54,059 INFO : valid_misclass            0.11173\n",
      "2017-07-04 23:44:54,060 INFO : test_misclass             0.26875\n",
      "2017-07-04 23:44:54,060 INFO : runtime                   0.79775\n",
      "2017-07-04 23:44:54,061 INFO : \n",
      "2017-07-04 23:44:54,856 INFO : Epoch 19\n",
      "2017-07-04 23:44:54,857 INFO : train_loss                0.23164\n",
      "2017-07-04 23:44:54,858 INFO : valid_loss                0.25085\n",
      "2017-07-04 23:44:54,859 INFO : test_loss                 0.70075\n",
      "2017-07-04 23:44:54,859 INFO : train_misclass            0.07358\n",
      "2017-07-04 23:44:54,860 INFO : valid_misclass            0.12291\n",
      "2017-07-04 23:44:54,860 INFO : test_misclass             0.26875\n",
      "2017-07-04 23:44:54,861 INFO : runtime                   0.80087\n",
      "2017-07-04 23:44:54,862 INFO : \n",
      "2017-07-04 23:44:55,657 INFO : Epoch 20\n",
      "2017-07-04 23:44:55,658 INFO : train_loss                0.17379\n",
      "2017-07-04 23:44:55,659 INFO : valid_loss                0.20025\n",
      "2017-07-04 23:44:55,659 INFO : test_loss                 0.69624\n",
      "2017-07-04 23:44:55,660 INFO : train_misclass            0.04571\n",
      "2017-07-04 23:44:55,660 INFO : valid_misclass            0.06145\n",
      "2017-07-04 23:44:55,661 INFO : test_misclass             0.24375\n",
      "2017-07-04 23:44:55,662 INFO : runtime                   0.80052\n",
      "2017-07-04 23:44:55,662 INFO : \n"
     ]
    }
   ],
   "source": [
    "exp.run()"
   ]
  },
  {
   "cell_type": "markdown",
   "metadata": {},
   "source": [
    "We arrive at 24.3%"
   ]
  }
 ],
 "metadata": {
  "kernelspec": {
   "display_name": "Python 3",
   "language": "python",
   "name": "python3"
  },
  "language_info": {
   "codemirror_mode": {
    "name": "ipython",
    "version": 3
   },
   "file_extension": ".py",
   "mimetype": "text/x-python",
   "name": "python",
   "nbconvert_exporter": "python",
   "pygments_lexer": "ipython3",
   "version": "3.5.2"
  }
 },
 "nbformat": 4,
 "nbformat_minor": 2
}
