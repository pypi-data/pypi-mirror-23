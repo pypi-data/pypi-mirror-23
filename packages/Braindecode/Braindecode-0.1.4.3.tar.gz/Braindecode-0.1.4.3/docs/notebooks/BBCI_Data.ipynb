{
 "cells": [
  {
   "cell_type": "code",
   "execution_count": 1,
   "metadata": {
    "collapsed": false,
    "deletable": true,
    "editable": true,
    "nbsphinx": "hidden"
   },
   "outputs": [],
   "source": [
    "%load_ext autoreload\n",
    "%autoreload 2\n",
    "import os\n",
    "os.sys.path.insert(0, '/home/schirrmr/braindecode/code/braindecode/')"
   ]
  },
  {
   "cell_type": "markdown",
   "metadata": {
    "deletable": true,
    "editable": true
   },
   "source": [
    "# Read and Decode BBCI Data"
   ]
  },
  {
   "cell_type": "markdown",
   "metadata": {
    "deletable": true,
    "editable": true
   },
   "source": [
    "This tutorial shows how to read and decode BBCI data."
   ]
  },
  {
   "cell_type": "markdown",
   "metadata": {
    "deletable": true,
    "editable": true
   },
   "source": [
    "## Setup logging to see outputs"
   ]
  },
  {
   "cell_type": "code",
   "execution_count": 2,
   "metadata": {
    "collapsed": false,
    "deletable": true,
    "editable": true
   },
   "outputs": [],
   "source": [
    "import logging\n",
    "import sys\n",
    "logging.basicConfig(format='%(asctime)s %(levelname)s : %(message)s',\n",
    "                     level=logging.DEBUG, stream=sys.stdout)\n",
    "log = logging.getLogger()\n"
   ]
  },
  {
   "cell_type": "markdown",
   "metadata": {
    "deletable": true,
    "editable": true
   },
   "source": [
    "## Load and preprocess data"
   ]
  },
  {
   "cell_type": "code",
   "execution_count": 3,
   "metadata": {
    "collapsed": false,
    "deletable": true,
    "editable": true,
    "scrolled": false
   },
   "outputs": [
    {
     "name": "stdout",
     "output_type": "stream",
     "text": [
      "Creating RawArray with float64 data, n_channels=3, n_times=3451320\n",
      "    Range : 0 ... 3451319 =      0.000 ...  6902.638 secs\n",
      "Ready.\n",
      "2017-07-04 12:39:06,201 WARNING : This is not causal, uses future data....\n",
      "2017-07-04 12:39:06,204 INFO : Resampling from 500.000000 to 250.000000 Hz.\n",
      "Creating RawArray with float64 data, n_channels=3, n_times=1725660\n",
      "    Range : 0 ... 1725659 =      0.000 ...  6902.636 secs\n",
      "Ready.\n",
      "2017-07-04 12:39:10,347 INFO : Trial per class:\n",
      "Counter({'Feet': 225, 'Rest': 224, 'Left': 224, 'Right': 224})\n",
      "Creating RawArray with float64 data, n_channels=3, n_times=617090\n",
      "    Range : 0 ... 617089 =      0.000 ...  1234.178 secs\n",
      "Ready.\n",
      "2017-07-04 12:39:10,991 WARNING : This is not causal, uses future data....\n",
      "2017-07-04 12:39:10,999 INFO : Resampling from 500.000000 to 250.000000 Hz.\n",
      "Creating RawArray with float64 data, n_channels=3, n_times=308545\n",
      "    Range : 0 ... 308544 =      0.000 ...  1234.176 secs\n",
      "Ready.\n",
      "2017-07-04 12:39:11,947 INFO : Trial per class:\n",
      "Counter({'Rest': 40, 'Left': 40, 'Feet': 40, 'Right': 40})\n"
     ]
    }
   ],
   "source": [
    "import mne\n",
    "from braindecode.datasets.bbci import BBCIDataset\n",
    "import numpy as np\n",
    "from braindecode.mne_ext.signalproc import resample_cnt, mne_apply\n",
    "from braindecode.datautil.signalproc import bandpass_cnt, exponential_running_standardize\n",
    "\n",
    "from braindecode.datautil.trial_segment import create_signal_target_from_raw_mne\n",
    "from collections import OrderedDict\n",
    "# can also give lists of marker codes in case a class has multiple marker codes...\n",
    "name_to_code = OrderedDict([('Right', 1), ('Left', 2), ('Rest', 3), ('Feet', 4)])\n",
    "\n",
    "train_filename = '/home/schirrmr/data/BBCI-without-last-runs/BhNoMoSc1S001R01_ds10_1-12.BBCI.mat'\n",
    "cnt = BBCIDataset(train_filename, load_sensor_names=['C3', 'CPz', 'C4']).load()\n",
    "# Remove stimulus channel\n",
    "cnt = cnt.pick_channels(['C3', 'CPz', 'C4'])\n",
    "cnt = resample_cnt(cnt, 250)\n",
    "# mne apply will apply the function to the data (a 2d-numpy-array)\n",
    "# have to transpose data back and forth, since\n",
    "# exponential_running_standardize expects time x chans order\n",
    "# while mne object has chans x time order\n",
    "cnt = mne_apply(lambda a: exponential_running_standardize(\n",
    "    a.T, init_block_size=1000,factor_new=0.001, eps=1e-4).T,\n",
    "    cnt)\n",
    "train_set = create_signal_target_from_raw_mne(cnt, name_to_code, [-500,4000])\n",
    "\n",
    "test_filename = '/home/schirrmr/data/BBCI-only-last-runs/BhNoMoSc1S001R13_ds10_1-2BBCI.mat'\n",
    "cnt = BBCIDataset(test_filename, load_sensor_names=['C3', 'CPz', 'C4']).load()\n",
    "# Remove stimulus channel\n",
    "cnt = cnt.pick_channels(['C3', 'CPz', 'C4'])\n",
    "cnt = resample_cnt(cnt, 250)\n",
    "cnt = mne_apply(lambda a: exponential_running_standardize(\n",
    "    a.T, init_block_size=1000,factor_new=0.001, eps=1e-4).T,\n",
    "    cnt)\n",
    "test_set = create_signal_target_from_raw_mne(cnt, name_to_code, [-500,4000])"
   ]
  },
  {
   "cell_type": "markdown",
   "metadata": {
    "deletable": true,
    "editable": true
   },
   "source": [
    "<div class=\"alert alert-info\">\n",
    "\n",
    "In case of start and stop markers, provide a `name_to_stop_codes` dictionary (same as for the start codes in this example) as a final argument to `create_signal_target_from_raw_mne`. Also see [Read and Decode BBCI Data with Start-Stop-Markers Tutorial](BBCI_Data_Start_Stop.html)\n",
    "\n",
    "\n",
    "</div>"
   ]
  },
  {
   "cell_type": "code",
   "execution_count": 4,
   "metadata": {
    "collapsed": false,
    "deletable": true,
    "editable": true
   },
   "outputs": [],
   "source": [
    "from braindecode.datautil.splitters import split_into_two_sets\n",
    "\n",
    "train_set, valid_set = split_into_two_sets(train_set, first_set_fraction=0.8)\n"
   ]
  },
  {
   "cell_type": "markdown",
   "metadata": {
    "deletable": true,
    "editable": true
   },
   "source": [
    "## Create the model"
   ]
  },
  {
   "cell_type": "code",
   "execution_count": 5,
   "metadata": {
    "collapsed": false,
    "deletable": true,
    "editable": true
   },
   "outputs": [],
   "source": [
    "from braindecode.models.shallow_fbcsp import ShallowFBCSPNet\n",
    "from torch import nn\n",
    "from braindecode.torch_ext.util import set_random_seeds, to_dense_prediction_model\n",
    "\n",
    "# Set if you want to use GPU\n",
    "# You can also use torch.cuda.is_available() to determine if cuda is available on your machine.\n",
    "cuda = True\n",
    "set_random_seeds(seed=20170629, cuda=cuda)\n",
    "\n",
    "# This will determine how many crops are processed in parallel\n",
    "input_time_length = 800\n",
    "# final_conv_length determines the size of the receptive field of the ConvNet\n",
    "model = ShallowFBCSPNet(in_chans=3, n_classes=4, input_time_length=input_time_length,\n",
    "                        final_conv_length=30).create_network()\n",
    "to_dense_prediction_model(model)\n",
    "\n",
    "if cuda:\n",
    "    model.cuda()"
   ]
  },
  {
   "cell_type": "markdown",
   "metadata": {
    "deletable": true,
    "editable": true
   },
   "source": [
    "## Setup optimizer and iterator"
   ]
  },
  {
   "cell_type": "code",
   "execution_count": 6,
   "metadata": {
    "collapsed": true,
    "deletable": true,
    "editable": true
   },
   "outputs": [],
   "source": [
    "from torch import optim\n",
    "\n",
    "optimizer = optim.Adam(model.parameters())"
   ]
  },
  {
   "cell_type": "code",
   "execution_count": 7,
   "metadata": {
    "collapsed": false,
    "deletable": true,
    "editable": true
   },
   "outputs": [
    {
     "name": "stdout",
     "output_type": "stream",
     "text": [
      "267 predictions per input/trial\n"
     ]
    }
   ],
   "source": [
    "from braindecode.torch_ext.util import np_to_var\n",
    "# determine output size\n",
    "test_input = np_to_var(np.ones((2, 3, input_time_length, 1), dtype=np.float32))\n",
    "if cuda:\n",
    "    test_input = test_input.cuda()\n",
    "out = model(test_input)\n",
    "n_preds_per_input = out.cpu().data.numpy().shape[2]\n",
    "print(\"{:d} predictions per input/trial\".format(n_preds_per_input))"
   ]
  },
  {
   "cell_type": "code",
   "execution_count": 8,
   "metadata": {
    "collapsed": false,
    "deletable": true,
    "editable": true
   },
   "outputs": [],
   "source": [
    "from braindecode.datautil.iterators import CropsFromTrialsIterator\n",
    "iterator = CropsFromTrialsIterator(batch_size=32,input_time_length=input_time_length,\n",
    "                                  n_preds_per_input=n_preds_per_input)"
   ]
  },
  {
   "cell_type": "markdown",
   "metadata": {
    "deletable": true,
    "editable": true
   },
   "source": [
    "## Setup Monitors, Loss function, Stop Criteria"
   ]
  },
  {
   "cell_type": "code",
   "execution_count": 9,
   "metadata": {
    "collapsed": false,
    "deletable": true,
    "editable": true
   },
   "outputs": [],
   "source": [
    "from braindecode.experiments.experiment import Experiment\n",
    "from braindecode.experiments.monitors import RuntimeMonitor, LossMonitor, CroppedTrialMisclassMonitor, MisclassMonitor\n",
    "from braindecode.experiments.stopcriteria import MaxEpochs\n",
    "import torch.nn.functional as F\n",
    "import torch as th\n",
    "from braindecode.torch_ext.modules import Expression\n",
    "\n",
    "\n",
    "loss_function = lambda preds, targets: F.nll_loss(th.mean(preds, dim=2)[:,:,0], targets)\n",
    "\n",
    "model_constraint = None\n",
    "monitors = [LossMonitor(), MisclassMonitor(col_suffix='sample_misclass'),\n",
    "            CroppedTrialMisclassMonitor(input_time_length), RuntimeMonitor(),]\n",
    "stop_criterion = MaxEpochs(20)\n",
    "exp = Experiment(model, train_set, valid_set, test_set, iterator, loss_function, optimizer, model_constraint,\n",
    "          monitors, stop_criterion, remember_best_column='valid_misclass',\n",
    "          run_after_early_stop=True, batch_modifier=None, cuda=cuda)"
   ]
  },
  {
   "cell_type": "markdown",
   "metadata": {
    "deletable": true,
    "editable": true
   },
   "source": [
    "## Run experiment"
   ]
  },
  {
   "cell_type": "code",
   "execution_count": 10,
   "metadata": {
    "collapsed": false,
    "deletable": true,
    "editable": true
   },
   "outputs": [
    {
     "name": "stdout",
     "output_type": "stream",
     "text": [
      "2017-07-04 12:39:19,972 INFO : Run until first stop...\n",
      "2017-07-04 12:39:21,295 INFO : Epoch 0\n",
      "2017-07-04 12:39:21,297 INFO : train_loss                9.68400\n",
      "2017-07-04 12:39:21,298 INFO : valid_loss                9.49615\n",
      "2017-07-04 12:39:21,300 INFO : test_loss                 9.54656\n",
      "2017-07-04 12:39:21,301 INFO : train_sample_misclass     0.75040\n",
      "2017-07-04 12:39:21,303 INFO : valid_sample_misclass     0.74911\n",
      "2017-07-04 12:39:21,304 INFO : test_sample_misclass      0.75250\n",
      "2017-07-04 12:39:21,306 INFO : train_misclass            0.75070\n",
      "2017-07-04 12:39:21,307 INFO : valid_misclass            0.74860\n",
      "2017-07-04 12:39:21,309 INFO : test_misclass             0.75000\n",
      "2017-07-04 12:39:21,310 INFO : runtime                   0.00000\n",
      "2017-07-04 12:39:21,312 INFO : \n",
      "2017-07-04 12:39:21,314 INFO : New best valid_misclass: 0.748603\n",
      "2017-07-04 12:39:21,316 INFO : \n",
      "2017-07-04 12:39:23,978 INFO : Epoch 1\n",
      "2017-07-04 12:39:23,984 INFO : train_loss                1.03746\n",
      "2017-07-04 12:39:23,986 INFO : valid_loss                1.06723\n",
      "2017-07-04 12:39:23,987 INFO : test_loss                 1.00804\n",
      "2017-07-04 12:39:23,988 INFO : train_sample_misclass     0.46699\n",
      "2017-07-04 12:39:23,989 INFO : valid_sample_misclass     0.45129\n",
      "2017-07-04 12:39:23,990 INFO : test_sample_misclass      0.47725\n",
      "2017-07-04 12:39:23,992 INFO : train_misclass            0.48329\n",
      "2017-07-04 12:39:23,993 INFO : valid_misclass            0.45251\n",
      "2017-07-04 12:39:23,994 INFO : test_misclass             0.46875\n",
      "2017-07-04 12:39:23,995 INFO : runtime                   2.82266\n",
      "2017-07-04 12:39:23,997 INFO : \n",
      "2017-07-04 12:39:24,000 INFO : New best valid_misclass: 0.452514\n",
      "2017-07-04 12:39:24,004 INFO : \n",
      "2017-07-04 12:39:26,365 INFO : Epoch 2\n",
      "2017-07-04 12:39:26,368 INFO : train_loss                0.75183\n",
      "2017-07-04 12:39:26,370 INFO : valid_loss                0.78540\n",
      "2017-07-04 12:39:26,371 INFO : test_loss                 0.78729\n",
      "2017-07-04 12:39:26,373 INFO : train_sample_misclass     0.30932\n",
      "2017-07-04 12:39:26,375 INFO : valid_sample_misclass     0.34875\n",
      "2017-07-04 12:39:26,376 INFO : test_sample_misclass      0.40933\n",
      "2017-07-04 12:39:26,378 INFO : train_misclass            0.23816\n",
      "2017-07-04 12:39:26,379 INFO : valid_misclass            0.27933\n",
      "2017-07-04 12:39:26,381 INFO : test_misclass             0.32500\n",
      "2017-07-04 12:39:26,382 INFO : runtime                   2.53310\n",
      "2017-07-04 12:39:26,384 INFO : \n",
      "2017-07-04 12:39:26,387 INFO : New best valid_misclass: 0.279330\n",
      "2017-07-04 12:39:26,388 INFO : \n",
      "2017-07-04 12:39:28,629 INFO : Epoch 3\n",
      "2017-07-04 12:39:28,632 INFO : train_loss                0.79784\n",
      "2017-07-04 12:39:28,634 INFO : valid_loss                0.89012\n",
      "2017-07-04 12:39:28,635 INFO : test_loss                 0.93614\n",
      "2017-07-04 12:39:28,637 INFO : train_sample_misclass     0.35289\n",
      "2017-07-04 12:39:28,638 INFO : valid_sample_misclass     0.38547\n",
      "2017-07-04 12:39:28,640 INFO : test_sample_misclass      0.43923\n",
      "2017-07-04 12:39:28,641 INFO : train_misclass            0.31616\n",
      "2017-07-04 12:39:28,643 INFO : valid_misclass            0.37989\n",
      "2017-07-04 12:39:28,644 INFO : test_misclass             0.40625\n",
      "2017-07-04 12:39:28,646 INFO : runtime                   2.62288\n",
      "2017-07-04 12:39:28,648 INFO : \n",
      "2017-07-04 12:39:30,606 INFO : Epoch 4\n",
      "2017-07-04 12:39:30,613 INFO : train_loss                0.62722\n",
      "2017-07-04 12:39:30,614 INFO : valid_loss                0.61816\n",
      "2017-07-04 12:39:30,615 INFO : test_loss                 0.72142\n",
      "2017-07-04 12:39:30,616 INFO : train_sample_misclass     0.25848\n",
      "2017-07-04 12:39:30,617 INFO : valid_sample_misclass     0.26618\n",
      "2017-07-04 12:39:30,618 INFO : test_sample_misclass      0.34448\n",
      "2017-07-04 12:39:30,619 INFO : train_misclass            0.20752\n",
      "2017-07-04 12:39:30,620 INFO : valid_misclass            0.19553\n",
      "2017-07-04 12:39:30,621 INFO : test_misclass             0.29375\n",
      "2017-07-04 12:39:30,622 INFO : runtime                   1.52449\n",
      "2017-07-04 12:39:30,623 INFO : \n",
      "2017-07-04 12:39:30,625 INFO : New best valid_misclass: 0.195531\n",
      "2017-07-04 12:39:30,628 INFO : \n",
      "2017-07-04 12:39:32,782 INFO : Epoch 5\n",
      "2017-07-04 12:39:32,791 INFO : train_loss                0.64605\n",
      "2017-07-04 12:39:32,792 INFO : valid_loss                0.63350\n",
      "2017-07-04 12:39:32,793 INFO : test_loss                 0.72165\n",
      "2017-07-04 12:39:32,794 INFO : train_sample_misclass     0.26291\n",
      "2017-07-04 12:39:32,795 INFO : valid_sample_misclass     0.28549\n",
      "2017-07-04 12:39:32,796 INFO : test_sample_misclass      0.35026\n",
      "2017-07-04 12:39:32,797 INFO : train_misclass            0.17967\n",
      "2017-07-04 12:39:32,798 INFO : valid_misclass            0.22905\n",
      "2017-07-04 12:39:32,799 INFO : test_misclass             0.28125\n",
      "2017-07-04 12:39:32,800 INFO : runtime                   2.18672\n",
      "2017-07-04 12:39:32,801 INFO : \n",
      "2017-07-04 12:39:34,892 INFO : Epoch 6\n",
      "2017-07-04 12:39:34,895 INFO : train_loss                0.72759\n",
      "2017-07-04 12:39:34,896 INFO : valid_loss                0.77047\n",
      "2017-07-04 12:39:34,898 INFO : test_loss                 0.88557\n",
      "2017-07-04 12:39:34,899 INFO : train_sample_misclass     0.33365\n",
      "2017-07-04 12:39:34,901 INFO : valid_sample_misclass     0.34185\n",
      "2017-07-04 12:39:34,902 INFO : test_sample_misclass      0.42019\n",
      "2017-07-04 12:39:34,904 INFO : train_misclass            0.30084\n",
      "2017-07-04 12:39:34,905 INFO : valid_misclass            0.32402\n",
      "2017-07-04 12:39:34,907 INFO : test_misclass             0.38750\n",
      "2017-07-04 12:39:34,908 INFO : runtime                   2.15164\n",
      "2017-07-04 12:39:34,910 INFO : \n",
      "2017-07-04 12:39:37,058 INFO : Epoch 7\n",
      "2017-07-04 12:39:37,061 INFO : train_loss                0.60381\n",
      "2017-07-04 12:39:37,062 INFO : valid_loss                0.61118\n",
      "2017-07-04 12:39:37,063 INFO : test_loss                 0.70005\n",
      "2017-07-04 12:39:37,064 INFO : train_sample_misclass     0.25558\n",
      "2017-07-04 12:39:37,065 INFO : valid_sample_misclass     0.28877\n",
      "2017-07-04 12:39:37,066 INFO : test_sample_misclass      0.35311\n",
      "2017-07-04 12:39:37,067 INFO : train_misclass            0.19220\n",
      "2017-07-04 12:39:37,068 INFO : valid_misclass            0.22346\n",
      "2017-07-04 12:39:37,069 INFO : test_misclass             0.32500\n",
      "2017-07-04 12:39:37,070 INFO : runtime                   2.06061\n",
      "2017-07-04 12:39:37,071 INFO : \n",
      "2017-07-04 12:39:38,578 INFO : Epoch 8\n",
      "2017-07-04 12:39:38,581 INFO : train_loss                0.59065\n",
      "2017-07-04 12:39:38,582 INFO : valid_loss                0.59557\n",
      "2017-07-04 12:39:38,584 INFO : test_loss                 0.67801\n",
      "2017-07-04 12:39:38,586 INFO : train_sample_misclass     0.24347\n",
      "2017-07-04 12:39:38,587 INFO : valid_sample_misclass     0.28572\n",
      "2017-07-04 12:39:38,589 INFO : test_sample_misclass      0.33353\n",
      "2017-07-04 12:39:38,590 INFO : train_misclass            0.16992\n",
      "2017-07-04 12:39:38,592 INFO : valid_misclass            0.19553\n",
      "2017-07-04 12:39:38,593 INFO : test_misclass             0.28125\n",
      "2017-07-04 12:39:38,595 INFO : runtime                   2.03341\n",
      "2017-07-04 12:39:38,596 INFO : \n",
      "2017-07-04 12:39:38,599 INFO : New best valid_misclass: 0.195531\n",
      "2017-07-04 12:39:38,600 INFO : \n",
      "2017-07-04 12:39:39,928 INFO : Epoch 9\n",
      "2017-07-04 12:39:39,931 INFO : train_loss                0.62594\n",
      "2017-07-04 12:39:39,932 INFO : valid_loss                0.67688\n",
      "2017-07-04 12:39:39,934 INFO : test_loss                 0.77812\n",
      "2017-07-04 12:39:39,935 INFO : train_sample_misclass     0.26727\n",
      "2017-07-04 12:39:39,937 INFO : valid_sample_misclass     0.32686\n",
      "2017-07-04 12:39:39,938 INFO : test_sample_misclass      0.38494\n",
      "2017-07-04 12:39:39,940 INFO : train_misclass            0.22145\n",
      "2017-07-04 12:39:39,941 INFO : valid_misclass            0.30168\n",
      "2017-07-04 12:39:39,943 INFO : test_misclass             0.33125\n",
      "2017-07-04 12:39:39,944 INFO : runtime                   1.42614\n",
      "2017-07-04 12:39:39,946 INFO : \n",
      "2017-07-04 12:39:42,004 INFO : Epoch 10\n",
      "2017-07-04 12:39:42,008 INFO : train_loss                0.68241\n",
      "2017-07-04 12:39:42,009 INFO : valid_loss                0.61521\n",
      "2017-07-04 12:39:42,010 INFO : test_loss                 0.72864\n",
      "2017-07-04 12:39:42,011 INFO : train_sample_misclass     0.30121\n",
      "2017-07-04 12:39:42,012 INFO : valid_sample_misclass     0.29714\n",
      "2017-07-04 12:39:42,013 INFO : test_sample_misclass      0.38061\n",
      "2017-07-04 12:39:42,014 INFO : train_misclass            0.27298\n",
      "2017-07-04 12:39:42,015 INFO : valid_misclass            0.27374\n",
      "2017-07-04 12:39:42,016 INFO : test_misclass             0.33125\n",
      "2017-07-04 12:39:42,017 INFO : runtime                   1.56260\n",
      "2017-07-04 12:39:42,018 INFO : \n",
      "2017-07-04 12:39:43,533 INFO : Epoch 11\n",
      "2017-07-04 12:39:43,535 INFO : train_loss                0.56675\n",
      "2017-07-04 12:39:43,537 INFO : valid_loss                0.61206\n",
      "2017-07-04 12:39:43,538 INFO : test_loss                 0.68769\n",
      "2017-07-04 12:39:43,540 INFO : train_sample_misclass     0.25390\n",
      "2017-07-04 12:39:43,541 INFO : valid_sample_misclass     0.29940\n",
      "2017-07-04 12:39:43,543 INFO : test_sample_misclass      0.31691\n",
      "2017-07-04 12:39:43,544 INFO : train_misclass            0.20056\n",
      "2017-07-04 12:39:43,546 INFO : valid_misclass            0.23464\n",
      "2017-07-04 12:39:43,547 INFO : test_misclass             0.25625\n",
      "2017-07-04 12:39:43,549 INFO : runtime                   1.88790\n",
      "2017-07-04 12:39:43,550 INFO : \n",
      "2017-07-04 12:39:44,918 INFO : Epoch 12\n",
      "2017-07-04 12:39:44,920 INFO : train_loss                0.53983\n",
      "2017-07-04 12:39:44,921 INFO : valid_loss                0.57734\n",
      "2017-07-04 12:39:44,922 INFO : test_loss                 0.66773\n",
      "2017-07-04 12:39:44,923 INFO : train_sample_misclass     0.23589\n",
      "2017-07-04 12:39:44,925 INFO : valid_sample_misclass     0.27470\n",
      "2017-07-04 12:39:44,926 INFO : test_sample_misclass      0.32188\n",
      "2017-07-04 12:39:44,927 INFO : train_misclass            0.16852\n",
      "2017-07-04 12:39:44,928 INFO : valid_misclass            0.20112\n",
      "2017-07-04 12:39:44,929 INFO : test_misclass             0.26250\n",
      "2017-07-04 12:39:44,930 INFO : runtime                   1.49621\n",
      "2017-07-04 12:39:44,931 INFO : \n",
      "2017-07-04 12:39:46,340 INFO : Epoch 13\n",
      "2017-07-04 12:39:46,342 INFO : train_loss                0.54252\n",
      "2017-07-04 12:39:46,344 INFO : valid_loss                0.56988\n",
      "2017-07-04 12:39:46,345 INFO : test_loss                 0.68413\n",
      "2017-07-04 12:39:46,347 INFO : train_sample_misclass     0.22467\n",
      "2017-07-04 12:39:46,348 INFO : valid_sample_misclass     0.27307\n",
      "2017-07-04 12:39:46,350 INFO : test_sample_misclass      0.33582\n",
      "2017-07-04 12:39:46,352 INFO : train_misclass            0.14345\n",
      "2017-07-04 12:39:46,354 INFO : valid_misclass            0.17877\n",
      "2017-07-04 12:39:46,355 INFO : test_misclass             0.21250\n",
      "2017-07-04 12:39:46,357 INFO : runtime                   1.40746\n",
      "2017-07-04 12:39:46,358 INFO : \n",
      "2017-07-04 12:39:46,361 INFO : New best valid_misclass: 0.178771\n",
      "2017-07-04 12:39:46,363 INFO : \n",
      "2017-07-04 12:39:48,203 INFO : Epoch 14\n",
      "2017-07-04 12:39:48,205 INFO : train_loss                0.55280\n",
      "2017-07-04 12:39:48,207 INFO : valid_loss                0.55214\n",
      "2017-07-04 12:39:48,208 INFO : test_loss                 0.62715\n",
      "2017-07-04 12:39:48,210 INFO : train_sample_misclass     0.22001\n",
      "2017-07-04 12:39:48,211 INFO : valid_sample_misclass     0.24057\n",
      "2017-07-04 12:39:48,213 INFO : test_sample_misclass      0.31096\n",
      "2017-07-04 12:39:48,214 INFO : train_misclass            0.17549\n",
      "2017-07-04 12:39:48,216 INFO : valid_misclass            0.17318\n",
      "2017-07-04 12:39:48,217 INFO : test_misclass             0.23125\n",
      "2017-07-04 12:39:48,219 INFO : runtime                   1.40939\n",
      "2017-07-04 12:39:48,220 INFO : \n",
      "2017-07-04 12:39:48,223 INFO : New best valid_misclass: 0.173184\n",
      "2017-07-04 12:39:48,225 INFO : \n",
      "2017-07-04 12:39:50,350 INFO : Epoch 15\n",
      "2017-07-04 12:39:50,351 INFO : train_loss                0.64330\n",
      "2017-07-04 12:39:50,353 INFO : valid_loss                0.64076\n",
      "2017-07-04 12:39:50,354 INFO : test_loss                 0.72255\n",
      "2017-07-04 12:39:50,354 INFO : train_sample_misclass     0.27217\n",
      "2017-07-04 12:39:50,355 INFO : valid_sample_misclass     0.27768\n",
      "2017-07-04 12:39:50,356 INFO : test_sample_misclass      0.34538\n",
      "2017-07-04 12:39:50,365 INFO : train_misclass            0.24513\n",
      "2017-07-04 12:39:50,366 INFO : valid_misclass            0.22346\n",
      "2017-07-04 12:39:50,367 INFO : test_misclass             0.28750\n",
      "2017-07-04 12:39:50,367 INFO : runtime                   2.16058\n",
      "2017-07-04 12:39:50,368 INFO : \n",
      "2017-07-04 12:39:52,470 INFO : Epoch 16\n",
      "2017-07-04 12:39:52,473 INFO : train_loss                0.62819\n",
      "2017-07-04 12:39:52,474 INFO : valid_loss                0.71282\n",
      "2017-07-04 12:39:52,476 INFO : test_loss                 0.81705\n",
      "2017-07-04 12:39:52,477 INFO : train_sample_misclass     0.26663\n",
      "2017-07-04 12:39:52,479 INFO : valid_sample_misclass     0.31013\n",
      "2017-07-04 12:39:52,480 INFO : test_sample_misclass      0.39396\n",
      "2017-07-04 12:39:52,482 INFO : train_misclass            0.23677\n",
      "2017-07-04 12:39:52,483 INFO : valid_misclass            0.29050\n",
      "2017-07-04 12:39:52,485 INFO : test_misclass             0.36250\n",
      "2017-07-04 12:39:52,486 INFO : runtime                   2.27906\n",
      "2017-07-04 12:39:52,488 INFO : \n",
      "2017-07-04 12:39:54,654 INFO : Epoch 17\n",
      "2017-07-04 12:39:54,657 INFO : train_loss                0.50942\n",
      "2017-07-04 12:39:54,658 INFO : valid_loss                0.54001\n",
      "2017-07-04 12:39:54,659 INFO : test_loss                 0.61798\n",
      "2017-07-04 12:39:54,659 INFO : train_sample_misclass     0.20326\n",
      "2017-07-04 12:39:54,660 INFO : valid_sample_misclass     0.24075\n",
      "2017-07-04 12:39:54,661 INFO : test_sample_misclass      0.30589\n",
      "2017-07-04 12:39:54,662 INFO : train_misclass            0.14206\n",
      "2017-07-04 12:39:54,663 INFO : valid_misclass            0.15084\n",
      "2017-07-04 12:39:54,666 INFO : test_misclass             0.21875\n",
      "2017-07-04 12:39:54,666 INFO : runtime                   1.97772\n",
      "2017-07-04 12:39:54,667 INFO : \n",
      "2017-07-04 12:39:54,669 INFO : New best valid_misclass: 0.150838\n",
      "2017-07-04 12:39:54,670 INFO : \n",
      "2017-07-04 12:39:56,318 INFO : Epoch 18\n",
      "2017-07-04 12:39:56,327 INFO : train_loss                0.55208\n",
      "2017-07-04 12:39:56,329 INFO : valid_loss                0.64011\n",
      "2017-07-04 12:39:56,330 INFO : test_loss                 0.71202\n",
      "2017-07-04 12:39:56,332 INFO : train_sample_misclass     0.24224\n",
      "2017-07-04 12:39:56,334 INFO : valid_sample_misclass     0.31188\n",
      "2017-07-04 12:39:56,336 INFO : test_sample_misclass      0.34980\n",
      "2017-07-04 12:39:56,338 INFO : train_misclass            0.19359\n",
      "2017-07-04 12:39:56,340 INFO : valid_misclass            0.27374\n",
      "2017-07-04 12:39:56,341 INFO : test_misclass             0.33750\n",
      "2017-07-04 12:39:56,343 INFO : runtime                   2.07565\n",
      "2017-07-04 12:39:56,345 INFO : \n",
      "2017-07-04 12:39:57,856 INFO : Epoch 19\n",
      "2017-07-04 12:39:57,859 INFO : train_loss                0.58361\n",
      "2017-07-04 12:39:57,860 INFO : valid_loss                0.64314\n",
      "2017-07-04 12:39:57,862 INFO : test_loss                 0.72127\n",
      "2017-07-04 12:39:57,863 INFO : train_sample_misclass     0.26469\n",
      "2017-07-04 12:39:57,865 INFO : valid_sample_misclass     0.29450\n",
      "2017-07-04 12:39:57,866 INFO : test_sample_misclass      0.35562\n",
      "2017-07-04 12:39:57,868 INFO : train_misclass            0.23398\n",
      "2017-07-04 12:39:57,869 INFO : valid_misclass            0.24581\n",
      "2017-07-04 12:39:57,871 INFO : test_misclass             0.30625\n",
      "2017-07-04 12:39:57,872 INFO : runtime                   1.67254\n",
      "2017-07-04 12:39:57,874 INFO : \n",
      "2017-07-04 12:39:59,256 INFO : Epoch 20\n",
      "2017-07-04 12:39:59,261 INFO : train_loss                0.49451\n",
      "2017-07-04 12:39:59,262 INFO : valid_loss                0.52440\n",
      "2017-07-04 12:39:59,263 INFO : test_loss                 0.61681\n",
      "2017-07-04 12:39:59,263 INFO : train_sample_misclass     0.19868\n",
      "2017-07-04 12:39:59,264 INFO : valid_sample_misclass     0.24817\n",
      "2017-07-04 12:39:59,265 INFO : test_sample_misclass      0.30064\n",
      "2017-07-04 12:39:59,265 INFO : train_misclass            0.12396\n",
      "2017-07-04 12:39:59,266 INFO : valid_misclass            0.16201\n",
      "2017-07-04 12:39:59,267 INFO : test_misclass             0.22500\n",
      "2017-07-04 12:39:59,268 INFO : runtime                   1.33788\n",
      "2017-07-04 12:39:59,268 INFO : \n",
      "2017-07-04 12:39:59,269 INFO : Setup for second stop...\n",
      "2017-07-04 12:39:59,272 INFO : Train loss to reach 0.50942\n",
      "2017-07-04 12:39:59,273 INFO : Run until second stop...\n",
      "2017-07-04 12:40:00,221 INFO : Epoch 18\n",
      "2017-07-04 12:40:00,223 INFO : train_loss                0.51552\n",
      "2017-07-04 12:40:00,225 INFO : valid_loss                0.54001\n",
      "2017-07-04 12:40:00,226 INFO : test_loss                 0.61798\n",
      "2017-07-04 12:40:00,228 INFO : train_sample_misclass     0.21075\n",
      "2017-07-04 12:40:00,229 INFO : valid_sample_misclass     0.24075\n",
      "2017-07-04 12:40:00,231 INFO : test_sample_misclass      0.30589\n",
      "2017-07-04 12:40:00,232 INFO : train_misclass            0.14381\n",
      "2017-07-04 12:40:00,234 INFO : valid_misclass            0.15084\n",
      "2017-07-04 12:40:00,235 INFO : test_misclass             0.21875\n",
      "2017-07-04 12:40:00,236 INFO : runtime                   0.67158\n",
      "2017-07-04 12:40:00,238 INFO : \n",
      "2017-07-04 12:40:01,850 INFO : Epoch 19\n",
      "2017-07-04 12:40:01,852 INFO : train_loss                0.51992\n",
      "2017-07-04 12:40:01,853 INFO : valid_loss                0.50423\n",
      "2017-07-04 12:40:01,855 INFO : test_loss                 0.63061\n",
      "2017-07-04 12:40:01,856 INFO : train_sample_misclass     0.22356\n",
      "2017-07-04 12:40:01,858 INFO : valid_sample_misclass     0.21781\n",
      "2017-07-04 12:40:01,859 INFO : test_sample_misclass      0.30282\n",
      "2017-07-04 12:40:01,861 INFO : train_misclass            0.18060\n",
      "2017-07-04 12:40:01,862 INFO : valid_misclass            0.17318\n",
      "2017-07-04 12:40:01,864 INFO : test_misclass             0.25000\n",
      "2017-07-04 12:40:01,865 INFO : runtime                   1.88686\n",
      "2017-07-04 12:40:01,867 INFO : \n"
     ]
    }
   ],
   "source": [
    "exp.run()"
   ]
  },
  {
   "cell_type": "markdown",
   "metadata": {},
   "source": [
    "We arrive at 75% accuracy."
   ]
  }
 ],
 "metadata": {
  "kernelspec": {
   "display_name": "Python 3",
   "language": "python",
   "name": "python3"
  },
  "language_info": {
   "codemirror_mode": {
    "name": "ipython",
    "version": 3
   },
   "file_extension": ".py",
   "mimetype": "text/x-python",
   "name": "python",
   "nbconvert_exporter": "python",
   "pygments_lexer": "ipython3",
   "version": "3.5.2"
  }
 },
 "nbformat": 4,
 "nbformat_minor": 2
}
