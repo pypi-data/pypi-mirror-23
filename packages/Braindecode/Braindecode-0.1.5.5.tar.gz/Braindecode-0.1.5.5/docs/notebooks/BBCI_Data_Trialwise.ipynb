{
 "cells": [
  {
   "cell_type": "code",
   "execution_count": 1,
   "metadata": {
    "collapsed": false,
    "deletable": true,
    "editable": true,
    "nbsphinx": "hidden"
   },
   "outputs": [],
   "source": [
    "%load_ext autoreload\n",
    "%autoreload 2\n",
    "import os\n",
    "os.sys.path.insert(0, '/home/schirrmr/braindecode/code/braindecode/')"
   ]
  },
  {
   "cell_type": "markdown",
   "metadata": {
    "deletable": true,
    "editable": true
   },
   "source": [
    "# Read and Decode BBCI Data"
   ]
  },
  {
   "cell_type": "markdown",
   "metadata": {
    "deletable": true,
    "editable": true
   },
   "source": [
    "This tutorial shows how to read and decode BBCI data."
   ]
  },
  {
   "cell_type": "markdown",
   "metadata": {
    "deletable": true,
    "editable": true
   },
   "source": [
    "## Setup logging to see outputs"
   ]
  },
  {
   "cell_type": "code",
   "execution_count": 2,
   "metadata": {
    "collapsed": false,
    "deletable": true,
    "editable": true
   },
   "outputs": [],
   "source": [
    "import logging\n",
    "import sys\n",
    "logging.basicConfig(format='%(asctime)s %(levelname)s : %(message)s',\n",
    "                     level=logging.DEBUG, stream=sys.stdout)\n",
    "log = logging.getLogger()"
   ]
  },
  {
   "cell_type": "markdown",
   "metadata": {
    "deletable": true,
    "editable": true
   },
   "source": [
    "## Load and preprocess data"
   ]
  },
  {
   "cell_type": "markdown",
   "metadata": {
    "deletable": true,
    "editable": true
   },
   "source": [
    "First set the filename and the sensors you want to load. If you set\n",
    "\n",
    "```python\n",
    "load_sensor_names=None\n",
    "```\n",
    "\n",
    "or just remove the parameter from the function call, all sensors will be loaded."
   ]
  },
  {
   "cell_type": "code",
   "execution_count": 3,
   "metadata": {
    "collapsed": false,
    "deletable": true,
    "editable": true
   },
   "outputs": [
    {
     "name": "stdout",
     "output_type": "stream",
     "text": [
      "Creating RawArray with float64 data, n_channels=3, n_times=3451320\n",
      "    Range : 0 ... 3451319 =      0.000 ...  6902.638 secs\n",
      "Ready.\n"
     ]
    }
   ],
   "source": [
    "from braindecode.datasets.bbci import BBCIDataset\n",
    "train_filename = '/home/schirrmr/data/BBCI-without-last-runs/BhNoMoSc1S001R01_ds10_1-12.BBCI.mat'\n",
    "cnt = BBCIDataset(train_filename, load_sensor_names=['C3', 'CPz', 'C4']).load()"
   ]
  },
  {
   "cell_type": "markdown",
   "metadata": {
    "deletable": true,
    "editable": true
   },
   "source": [
    "### Preprocessing on continous data"
   ]
  },
  {
   "cell_type": "markdown",
   "metadata": {
    "deletable": true,
    "editable": true
   },
   "source": [
    "First remove the stimulus channel, than apply any preprocessing you like. There are some very few directions available from Braindecode, such as resample_cnt. But you can apply any function on the chan x time matrix of the mne raw object (`cnt` in the code) by calling `mne_apply` with two arguments:\n",
    "\n",
    "1. Your function (2d-array-> 2darray), that transforms the channel x timesteps data array\n",
    "2. the Raw data object from mne itself"
   ]
  },
  {
   "cell_type": "code",
   "execution_count": 4,
   "metadata": {
    "collapsed": false,
    "deletable": true,
    "editable": true
   },
   "outputs": [
    {
     "name": "stdout",
     "output_type": "stream",
     "text": [
      "2017-07-05 13:11:25,455 WARNING : This is not causal, uses future data....\n",
      "2017-07-05 13:11:25,456 INFO : Resampling from 500.000000 to 250.000000 Hz.\n",
      "Creating RawArray with float64 data, n_channels=3, n_times=1725660\n",
      "    Range : 0 ... 1725659 =      0.000 ...  6902.636 secs\n",
      "Ready.\n"
     ]
    }
   ],
   "source": [
    "from braindecode.mne_ext.signalproc import resample_cnt, mne_apply\n",
    "from braindecode.datautil.signalproc import exponential_running_standardize\n",
    "# Remove stimulus channel\n",
    "cnt = cnt.drop_channels(['STI 014'])\n",
    "cnt = resample_cnt(cnt, 250)\n",
    "# mne apply will apply the function to the data (a 2d-numpy-array)\n",
    "# have to transpose data back and forth, since\n",
    "# exponential_running_standardize expects time x chans order\n",
    "# while mne object has chans x time order\n",
    "cnt = mne_apply(lambda a: exponential_running_standardize(\n",
    "    a.T, init_block_size=1000,factor_new=0.001, eps=1e-4).T,\n",
    "    cnt)"
   ]
  },
  {
   "cell_type": "markdown",
   "metadata": {
    "deletable": true,
    "editable": true
   },
   "source": [
    "## Transform to epoched dataset "
   ]
  },
  {
   "cell_type": "markdown",
   "metadata": {
    "deletable": true,
    "editable": true
   },
   "source": [
    "Braindecode supplies the `create_signal_target_from_raw_mne` function, which will transform the mne raw object into a `SignalAndTarget` object for use in Braindecode.\n",
    "`name_to_code` should be an `OrderedDict` that maps class names to either one or a list of marker codes for that class."
   ]
  },
  {
   "cell_type": "code",
   "execution_count": 5,
   "metadata": {
    "collapsed": false,
    "deletable": true,
    "editable": true
   },
   "outputs": [
    {
     "name": "stdout",
     "output_type": "stream",
     "text": [
      "2017-07-05 13:11:27,310 INFO : Trial per class:\n",
      "Counter({'Feet': 225, 'Rest': 224, 'Left': 224, 'Right': 224})\n"
     ]
    }
   ],
   "source": [
    "from braindecode.datautil.trial_segment import create_signal_target_from_raw_mne\n",
    "from collections import OrderedDict\n",
    "# can also give lists of marker codes in case a class has multiple marker codes...\n",
    "name_to_code = OrderedDict([('Right', 1), ('Left', 2), ('Rest', 3), ('Feet', 4)])\n",
    "segment_ival_ms = [-500,4000]\n",
    "\n",
    "train_set = create_signal_target_from_raw_mne(cnt, name_to_code, segment_ival_ms)"
   ]
  },
  {
   "cell_type": "markdown",
   "metadata": {
    "deletable": true,
    "editable": true
   },
   "source": [
    "## Same for test set"
   ]
  },
  {
   "cell_type": "code",
   "execution_count": 6,
   "metadata": {
    "collapsed": false,
    "deletable": true,
    "editable": true,
    "scrolled": false
   },
   "outputs": [
    {
     "name": "stdout",
     "output_type": "stream",
     "text": [
      "Creating RawArray with float64 data, n_channels=3, n_times=617090\n",
      "    Range : 0 ... 617089 =      0.000 ...  1234.178 secs\n",
      "Ready.\n",
      "2017-07-05 13:11:27,584 WARNING : This is not causal, uses future data....\n",
      "2017-07-05 13:11:27,585 INFO : Resampling from 500.000000 to 250.000000 Hz.\n",
      "Creating RawArray with float64 data, n_channels=3, n_times=308545\n",
      "    Range : 0 ... 308544 =      0.000 ...  1234.176 secs\n",
      "Ready.\n",
      "2017-07-05 13:11:27,910 INFO : Trial per class:\n",
      "Counter({'Rest': 40, 'Feet': 40, 'Left': 40, 'Right': 40})\n"
     ]
    }
   ],
   "source": [
    "test_filename = '/home/schirrmr/data/BBCI-only-last-runs/BhNoMoSc1S001R13_ds10_1-2BBCI.mat'\n",
    "cnt = BBCIDataset(test_filename, load_sensor_names=['C3', 'CPz', 'C4']).load()\n",
    "# Remove stimulus channel\n",
    "cnt = cnt.drop_channels(['STI 014'])\n",
    "cnt = resample_cnt(cnt, 250)\n",
    "cnt = mne_apply(lambda a: exponential_running_standardize(\n",
    "    a.T, init_block_size=1000,factor_new=0.001, eps=1e-4).T,\n",
    "    cnt)\n",
    "test_set = create_signal_target_from_raw_mne(cnt, name_to_code, segment_ival_ms)"
   ]
  },
  {
   "cell_type": "markdown",
   "metadata": {
    "deletable": true,
    "editable": true
   },
   "source": [
    "<div class=\"alert alert-info\">\n",
    "\n",
    "In case of start and stop markers, provide a `name_to_stop_codes` dictionary (same as for the start codes in this example) as a final argument to `create_signal_target_from_raw_mne`. See [Read and Decode BBCI Data with Start-Stop-Markers Tutorial](BBCI_Data_Start_Stop.html)\n",
    "\n",
    "\n",
    "</div>"
   ]
  },
  {
   "cell_type": "markdown",
   "metadata": {
    "deletable": true,
    "editable": true
   },
   "source": [
    "Split off a validation set."
   ]
  },
  {
   "cell_type": "code",
   "execution_count": 7,
   "metadata": {
    "collapsed": false,
    "deletable": true,
    "editable": true
   },
   "outputs": [],
   "source": [
    "from braindecode.datautil.splitters import split_into_two_sets\n",
    "\n",
    "train_set, valid_set = split_into_two_sets(train_set, first_set_fraction=0.8)\n"
   ]
  },
  {
   "cell_type": "markdown",
   "metadata": {
    "deletable": true,
    "editable": true
   },
   "source": [
    "## Create the model"
   ]
  },
  {
   "cell_type": "code",
   "execution_count": 8,
   "metadata": {
    "collapsed": false,
    "deletable": true,
    "editable": true
   },
   "outputs": [],
   "source": [
    "from braindecode.models.shallow_fbcsp import ShallowFBCSPNet\n",
    "from torch import nn\n",
    "from braindecode.torch_ext.util import set_random_seeds\n",
    "\n",
    "# Set if you want to use GPU\n",
    "# You can also use torch.cuda.is_available() to determine if cuda is available on your machine.\n",
    "cuda = True\n",
    "set_random_seeds(seed=20170629, cuda=cuda)\n",
    "\n",
    "\n",
    "# This will determine how many crops are processed in parallel\n",
    "input_time_length = train_set.X.shape[2]\n",
    "in_chans = 3\n",
    "n_classes = 4\n",
    "# final_conv_length determines the size of the receptive field of the ConvNet\n",
    "model = ShallowFBCSPNet(in_chans=in_chans, n_classes=n_classes, input_time_length=input_time_length,\n",
    "                        final_conv_length='auto').create_network()\n",
    "\n",
    "if cuda:\n",
    "    model.cuda()"
   ]
  },
  {
   "cell_type": "markdown",
   "metadata": {
    "deletable": true,
    "editable": true
   },
   "source": [
    "## Setup optimizer and iterator"
   ]
  },
  {
   "cell_type": "code",
   "execution_count": 9,
   "metadata": {
    "collapsed": false,
    "deletable": true,
    "editable": true
   },
   "outputs": [],
   "source": [
    "from torch import optim\n",
    "import numpy as np\n",
    "\n",
    "optimizer = optim.Adam(model.parameters())\n",
    "\n",
    "\n",
    "from braindecode.datautil.iterators import BalancedBatchSizeIterator\n",
    "iterator = BalancedBatchSizeIterator(batch_size=32)\n"
   ]
  },
  {
   "cell_type": "markdown",
   "metadata": {
    "deletable": true,
    "editable": true
   },
   "source": [
    "## Setup Monitors, Loss function, Stop Criteria"
   ]
  },
  {
   "cell_type": "code",
   "execution_count": 10,
   "metadata": {
    "collapsed": false,
    "deletable": true,
    "editable": true
   },
   "outputs": [],
   "source": [
    "from braindecode.experiments.experiment import Experiment\n",
    "from braindecode.experiments.monitors import RuntimeMonitor, LossMonitor, CroppedTrialMisclassMonitor, MisclassMonitor\n",
    "from braindecode.experiments.stopcriteria import MaxEpochs\n",
    "import torch.nn.functional as F\n",
    "import torch as th\n",
    "from braindecode.torch_ext.modules import Expression\n",
    "\n",
    "\n",
    "loss_function = F.nll_loss\n",
    "\n",
    "model_constraint = None\n",
    "monitors = [LossMonitor(), MisclassMonitor(col_suffix='misclass'), \n",
    "            RuntimeMonitor(),]\n",
    "stop_criterion = MaxEpochs(20)\n",
    "exp = Experiment(model, train_set, valid_set, test_set, iterator, loss_function, optimizer, model_constraint,\n",
    "          monitors, stop_criterion, remember_best_column='valid_misclass',\n",
    "          run_after_early_stop=True, batch_modifier=None, cuda=cuda)"
   ]
  },
  {
   "cell_type": "markdown",
   "metadata": {
    "deletable": true,
    "editable": true
   },
   "source": [
    "## Run experiment"
   ]
  },
  {
   "cell_type": "code",
   "execution_count": 11,
   "metadata": {
    "collapsed": false,
    "deletable": true,
    "editable": true
   },
   "outputs": [
    {
     "name": "stdout",
     "output_type": "stream",
     "text": [
      "2017-07-05 13:11:30,798 INFO : Run until first stop...\n",
      "2017-07-05 13:11:31,599 INFO : Epoch 0\n",
      "2017-07-05 13:11:31,600 INFO : train_loss                3.82544\n",
      "2017-07-05 13:11:31,601 INFO : valid_loss                3.72206\n",
      "2017-07-05 13:11:31,602 INFO : test_loss                 3.90394\n",
      "2017-07-05 13:11:31,602 INFO : train_misclass            0.76184\n",
      "2017-07-05 13:11:31,603 INFO : valid_misclass            0.76536\n",
      "2017-07-05 13:11:31,603 INFO : test_misclass             0.75625\n",
      "2017-07-05 13:11:31,604 INFO : runtime                   0.00000\n",
      "2017-07-05 13:11:31,605 INFO : \n",
      "2017-07-05 13:11:31,606 INFO : New best valid_misclass: 0.765363\n",
      "2017-07-05 13:11:31,606 INFO : \n",
      "2017-07-05 13:11:32,346 INFO : Epoch 1\n",
      "2017-07-05 13:11:32,347 INFO : train_loss                2.65239\n",
      "2017-07-05 13:11:32,347 INFO : valid_loss                2.87893\n",
      "2017-07-05 13:11:32,348 INFO : test_loss                 3.03304\n",
      "2017-07-05 13:11:32,349 INFO : train_misclass            0.72006\n",
      "2017-07-05 13:11:32,349 INFO : valid_misclass            0.72626\n",
      "2017-07-05 13:11:32,350 INFO : test_misclass             0.71250\n",
      "2017-07-05 13:11:32,350 INFO : runtime                   1.32440\n",
      "2017-07-05 13:11:32,351 INFO : \n",
      "2017-07-05 13:11:32,353 INFO : New best valid_misclass: 0.726257\n",
      "2017-07-05 13:11:32,353 INFO : \n",
      "2017-07-05 13:11:33,092 INFO : Epoch 2\n",
      "2017-07-05 13:11:33,093 INFO : train_loss                0.60727\n",
      "2017-07-05 13:11:33,094 INFO : valid_loss                0.61978\n",
      "2017-07-05 13:11:33,095 INFO : test_loss                 0.81493\n",
      "2017-07-05 13:11:33,095 INFO : train_misclass            0.24930\n",
      "2017-07-05 13:11:33,096 INFO : valid_misclass            0.27933\n",
      "2017-07-05 13:11:33,096 INFO : test_misclass             0.33750\n",
      "2017-07-05 13:11:33,097 INFO : runtime                   0.74487\n",
      "2017-07-05 13:11:33,098 INFO : \n",
      "2017-07-05 13:11:33,099 INFO : New best valid_misclass: 0.279330\n",
      "2017-07-05 13:11:33,100 INFO : \n",
      "2017-07-05 13:11:33,837 INFO : Epoch 3\n",
      "2017-07-05 13:11:33,838 INFO : train_loss                0.58621\n",
      "2017-07-05 13:11:33,838 INFO : valid_loss                0.62821\n",
      "2017-07-05 13:11:33,839 INFO : test_loss                 0.85478\n",
      "2017-07-05 13:11:33,840 INFO : train_misclass            0.23677\n",
      "2017-07-05 13:11:33,840 INFO : valid_misclass            0.27933\n",
      "2017-07-05 13:11:33,841 INFO : test_misclass             0.38125\n",
      "2017-07-05 13:11:33,841 INFO : runtime                   0.74536\n",
      "2017-07-05 13:11:33,842 INFO : \n",
      "2017-07-05 13:11:33,844 INFO : New best valid_misclass: 0.279330\n",
      "2017-07-05 13:11:33,844 INFO : \n",
      "2017-07-05 13:11:34,581 INFO : Epoch 4\n",
      "2017-07-05 13:11:34,582 INFO : train_loss                0.48687\n",
      "2017-07-05 13:11:34,583 INFO : valid_loss                0.56665\n",
      "2017-07-05 13:11:34,583 INFO : test_loss                 0.76665\n",
      "2017-07-05 13:11:34,584 INFO : train_misclass            0.19359\n",
      "2017-07-05 13:11:34,585 INFO : valid_misclass            0.26816\n",
      "2017-07-05 13:11:34,585 INFO : test_misclass             0.31250\n",
      "2017-07-05 13:11:34,586 INFO : runtime                   0.74448\n",
      "2017-07-05 13:11:34,586 INFO : \n",
      "2017-07-05 13:11:34,588 INFO : New best valid_misclass: 0.268156\n",
      "2017-07-05 13:11:34,589 INFO : \n",
      "2017-07-05 13:11:35,325 INFO : Epoch 5\n",
      "2017-07-05 13:11:35,326 INFO : train_loss                0.42441\n",
      "2017-07-05 13:11:35,326 INFO : valid_loss                0.52185\n",
      "2017-07-05 13:11:35,327 INFO : test_loss                 0.79146\n",
      "2017-07-05 13:11:35,327 INFO : train_misclass            0.14485\n",
      "2017-07-05 13:11:35,328 INFO : valid_misclass            0.22905\n",
      "2017-07-05 13:11:35,329 INFO : test_misclass             0.36250\n",
      "2017-07-05 13:11:35,329 INFO : runtime                   0.74344\n",
      "2017-07-05 13:11:35,330 INFO : \n",
      "2017-07-05 13:11:35,332 INFO : New best valid_misclass: 0.229050\n",
      "2017-07-05 13:11:35,332 INFO : \n",
      "2017-07-05 13:11:36,070 INFO : Epoch 6\n",
      "2017-07-05 13:11:36,071 INFO : train_loss                0.35672\n",
      "2017-07-05 13:11:36,072 INFO : valid_loss                0.50983\n",
      "2017-07-05 13:11:36,073 INFO : test_loss                 0.72796\n",
      "2017-07-05 13:11:36,073 INFO : train_misclass            0.11003\n",
      "2017-07-05 13:11:36,074 INFO : valid_misclass            0.21229\n",
      "2017-07-05 13:11:36,075 INFO : test_misclass             0.26875\n",
      "2017-07-05 13:11:36,075 INFO : runtime                   0.74541\n",
      "2017-07-05 13:11:36,076 INFO : \n",
      "2017-07-05 13:11:36,077 INFO : New best valid_misclass: 0.212291\n",
      "2017-07-05 13:11:36,078 INFO : \n",
      "2017-07-05 13:11:36,816 INFO : Epoch 7\n",
      "2017-07-05 13:11:36,817 INFO : train_loss                0.35308\n",
      "2017-07-05 13:11:36,817 INFO : valid_loss                0.59175\n",
      "2017-07-05 13:11:36,818 INFO : test_loss                 0.81240\n",
      "2017-07-05 13:11:36,818 INFO : train_misclass            0.12674\n",
      "2017-07-05 13:11:36,819 INFO : valid_misclass            0.25140\n",
      "2017-07-05 13:11:36,820 INFO : test_misclass             0.33750\n",
      "2017-07-05 13:11:36,820 INFO : runtime                   0.74545\n",
      "2017-07-05 13:11:36,821 INFO : \n",
      "2017-07-05 13:11:37,558 INFO : Epoch 8\n",
      "2017-07-05 13:11:37,559 INFO : train_loss                0.37570\n",
      "2017-07-05 13:11:37,560 INFO : valid_loss                0.46850\n",
      "2017-07-05 13:11:37,561 INFO : test_loss                 0.73073\n",
      "2017-07-05 13:11:37,561 INFO : train_misclass            0.11003\n",
      "2017-07-05 13:11:37,562 INFO : valid_misclass            0.18436\n",
      "2017-07-05 13:11:37,562 INFO : test_misclass             0.30625\n",
      "2017-07-05 13:11:37,563 INFO : runtime                   0.74274\n",
      "2017-07-05 13:11:37,564 INFO : \n",
      "2017-07-05 13:11:37,565 INFO : New best valid_misclass: 0.184358\n",
      "2017-07-05 13:11:37,566 INFO : \n",
      "2017-07-05 13:11:38,303 INFO : Epoch 9\n",
      "2017-07-05 13:11:38,304 INFO : train_loss                0.28081\n",
      "2017-07-05 13:11:38,305 INFO : valid_loss                0.47291\n",
      "2017-07-05 13:11:38,306 INFO : test_loss                 0.69884\n",
      "2017-07-05 13:11:38,306 INFO : train_misclass            0.08357\n",
      "2017-07-05 13:11:38,307 INFO : valid_misclass            0.17877\n",
      "2017-07-05 13:11:38,307 INFO : test_misclass             0.27500\n",
      "2017-07-05 13:11:38,308 INFO : runtime                   0.74511\n",
      "2017-07-05 13:11:38,309 INFO : \n",
      "2017-07-05 13:11:38,310 INFO : New best valid_misclass: 0.178771\n",
      "2017-07-05 13:11:38,311 INFO : \n",
      "2017-07-05 13:11:39,049 INFO : Epoch 10\n",
      "2017-07-05 13:11:39,050 INFO : train_loss                0.27969\n",
      "2017-07-05 13:11:39,050 INFO : valid_loss                0.50331\n",
      "2017-07-05 13:11:39,051 INFO : test_loss                 0.70853\n",
      "2017-07-05 13:11:39,052 INFO : train_misclass            0.09610\n",
      "2017-07-05 13:11:39,052 INFO : valid_misclass            0.20670\n",
      "2017-07-05 13:11:39,053 INFO : test_misclass             0.26875\n",
      "2017-07-05 13:11:39,053 INFO : runtime                   0.74520\n",
      "2017-07-05 13:11:39,054 INFO : \n",
      "2017-07-05 13:11:39,792 INFO : Epoch 11\n",
      "2017-07-05 13:11:39,793 INFO : train_loss                0.23086\n",
      "2017-07-05 13:11:39,794 INFO : valid_loss                0.48167\n",
      "2017-07-05 13:11:39,794 INFO : test_loss                 0.74523\n",
      "2017-07-05 13:11:39,795 INFO : train_misclass            0.07660\n",
      "2017-07-05 13:11:39,795 INFO : valid_misclass            0.17877\n",
      "2017-07-05 13:11:39,796 INFO : test_misclass             0.31250\n",
      "2017-07-05 13:11:39,797 INFO : runtime                   0.74331\n",
      "2017-07-05 13:11:39,797 INFO : \n",
      "2017-07-05 13:11:39,799 INFO : New best valid_misclass: 0.178771\n",
      "2017-07-05 13:11:39,799 INFO : \n",
      "2017-07-05 13:11:40,537 INFO : Epoch 12\n",
      "2017-07-05 13:11:40,538 INFO : train_loss                0.22950\n",
      "2017-07-05 13:11:40,539 INFO : valid_loss                0.48213\n",
      "2017-07-05 13:11:40,539 INFO : test_loss                 0.79740\n",
      "2017-07-05 13:11:40,540 INFO : train_misclass            0.05989\n",
      "2017-07-05 13:11:40,541 INFO : valid_misclass            0.20112\n",
      "2017-07-05 13:11:40,541 INFO : test_misclass             0.30625\n",
      "2017-07-05 13:11:40,542 INFO : runtime                   0.74493\n",
      "2017-07-05 13:11:40,542 INFO : \n",
      "2017-07-05 13:11:41,280 INFO : Epoch 13\n",
      "2017-07-05 13:11:41,281 INFO : train_loss                0.19132\n",
      "2017-07-05 13:11:41,282 INFO : valid_loss                0.51814\n",
      "2017-07-05 13:11:41,282 INFO : test_loss                 0.76589\n",
      "2017-07-05 13:11:41,283 INFO : train_misclass            0.05850\n",
      "2017-07-05 13:11:41,284 INFO : valid_misclass            0.18994\n",
      "2017-07-05 13:11:41,284 INFO : test_misclass             0.28125\n",
      "2017-07-05 13:11:41,285 INFO : runtime                   0.74325\n",
      "2017-07-05 13:11:41,285 INFO : \n",
      "2017-07-05 13:11:42,023 INFO : Epoch 14\n",
      "2017-07-05 13:11:42,024 INFO : train_loss                0.18653\n",
      "2017-07-05 13:11:42,025 INFO : valid_loss                0.53697\n",
      "2017-07-05 13:11:42,026 INFO : test_loss                 0.76147\n",
      "2017-07-05 13:11:42,026 INFO : train_misclass            0.05571\n",
      "2017-07-05 13:11:42,027 INFO : valid_misclass            0.20112\n",
      "2017-07-05 13:11:42,027 INFO : test_misclass             0.32500\n",
      "2017-07-05 13:11:42,028 INFO : runtime                   0.74300\n",
      "2017-07-05 13:11:42,029 INFO : \n",
      "2017-07-05 13:11:42,767 INFO : Epoch 15\n",
      "2017-07-05 13:11:42,767 INFO : train_loss                0.19967\n",
      "2017-07-05 13:11:42,768 INFO : valid_loss                0.51400\n",
      "2017-07-05 13:11:42,769 INFO : test_loss                 0.81459\n",
      "2017-07-05 13:11:42,769 INFO : train_misclass            0.07103\n",
      "2017-07-05 13:11:42,770 INFO : valid_misclass            0.20112\n",
      "2017-07-05 13:11:42,771 INFO : test_misclass             0.30625\n",
      "2017-07-05 13:11:42,771 INFO : runtime                   0.74319\n",
      "2017-07-05 13:11:42,772 INFO : \n",
      "2017-07-05 13:11:43,510 INFO : Epoch 16\n",
      "2017-07-05 13:11:43,511 INFO : train_loss                0.17852\n",
      "2017-07-05 13:11:43,512 INFO : valid_loss                0.45217\n",
      "2017-07-05 13:11:43,512 INFO : test_loss                 0.68194\n",
      "2017-07-05 13:11:43,513 INFO : train_misclass            0.04457\n",
      "2017-07-05 13:11:43,513 INFO : valid_misclass            0.15084\n",
      "2017-07-05 13:11:43,514 INFO : test_misclass             0.24375\n",
      "2017-07-05 13:11:43,515 INFO : runtime                   0.74359\n",
      "2017-07-05 13:11:43,515 INFO : \n",
      "2017-07-05 13:11:43,517 INFO : New best valid_misclass: 0.150838\n",
      "2017-07-05 13:11:43,517 INFO : \n",
      "2017-07-05 13:11:44,258 INFO : Epoch 17\n",
      "2017-07-05 13:11:44,258 INFO : train_loss                0.16866\n",
      "2017-07-05 13:11:44,259 INFO : valid_loss                0.51434\n",
      "2017-07-05 13:11:44,260 INFO : test_loss                 0.65922\n",
      "2017-07-05 13:11:44,260 INFO : train_misclass            0.05292\n",
      "2017-07-05 13:11:44,261 INFO : valid_misclass            0.19553\n",
      "2017-07-05 13:11:44,262 INFO : test_misclass             0.25625\n",
      "2017-07-05 13:11:44,262 INFO : runtime                   0.74648\n",
      "2017-07-05 13:11:44,263 INFO : \n",
      "2017-07-05 13:11:45,005 INFO : Epoch 18\n",
      "2017-07-05 13:11:45,006 INFO : train_loss                0.25975\n",
      "2017-07-05 13:11:45,006 INFO : valid_loss                0.51160\n",
      "2017-07-05 13:11:45,007 INFO : test_loss                 0.70759\n",
      "2017-07-05 13:11:45,008 INFO : train_misclass            0.07103\n",
      "2017-07-05 13:11:45,008 INFO : valid_misclass            0.16760\n",
      "2017-07-05 13:11:45,009 INFO : test_misclass             0.30000\n",
      "2017-07-05 13:11:45,010 INFO : runtime                   0.74738\n",
      "2017-07-05 13:11:45,010 INFO : \n",
      "2017-07-05 13:11:45,752 INFO : Epoch 19\n",
      "2017-07-05 13:11:45,753 INFO : train_loss                0.22575\n",
      "2017-07-05 13:11:45,754 INFO : valid_loss                0.58068\n",
      "2017-07-05 13:11:45,754 INFO : test_loss                 0.92008\n",
      "2017-07-05 13:11:45,755 INFO : train_misclass            0.06685\n",
      "2017-07-05 13:11:45,756 INFO : valid_misclass            0.24022\n",
      "2017-07-05 13:11:45,756 INFO : test_misclass             0.31250\n",
      "2017-07-05 13:11:45,757 INFO : runtime                   0.74731\n",
      "2017-07-05 13:11:45,757 INFO : \n",
      "2017-07-05 13:11:46,500 INFO : Epoch 20\n",
      "2017-07-05 13:11:46,501 INFO : train_loss                0.20952\n",
      "2017-07-05 13:11:46,501 INFO : valid_loss                0.50590\n",
      "2017-07-05 13:11:46,502 INFO : test_loss                 0.74834\n",
      "2017-07-05 13:11:46,502 INFO : train_misclass            0.06267\n",
      "2017-07-05 13:11:46,503 INFO : valid_misclass            0.18994\n",
      "2017-07-05 13:11:46,504 INFO : test_misclass             0.28750\n",
      "2017-07-05 13:11:46,504 INFO : runtime                   0.74749\n",
      "2017-07-05 13:11:46,505 INFO : \n",
      "2017-07-05 13:11:46,506 INFO : Setup for second stop...\n",
      "2017-07-05 13:11:46,508 INFO : Train loss to reach 0.17852\n",
      "2017-07-05 13:11:46,509 INFO : Run until second stop...\n",
      "2017-07-05 13:11:46,756 INFO : Epoch 17\n",
      "2017-07-05 13:11:46,757 INFO : train_loss                0.23313\n",
      "2017-07-05 13:11:46,758 INFO : valid_loss                0.45217\n",
      "2017-07-05 13:11:46,759 INFO : test_loss                 0.68194\n",
      "2017-07-05 13:11:46,759 INFO : train_misclass            0.06577\n",
      "2017-07-05 13:11:46,760 INFO : valid_misclass            0.15084\n",
      "2017-07-05 13:11:46,760 INFO : test_misclass             0.24375\n",
      "2017-07-05 13:11:46,761 INFO : runtime                   0.23842\n",
      "2017-07-05 13:11:46,762 INFO : \n",
      "2017-07-05 13:11:47,562 INFO : Epoch 18\n",
      "2017-07-05 13:11:47,562 INFO : train_loss                0.27863\n",
      "2017-07-05 13:11:47,563 INFO : valid_loss                0.51841\n",
      "2017-07-05 13:11:47,564 INFO : test_loss                 0.89872\n",
      "2017-07-05 13:11:47,564 INFO : train_misclass            0.10925\n",
      "2017-07-05 13:11:47,565 INFO : valid_misclass            0.20112\n",
      "2017-07-05 13:11:47,566 INFO : test_misclass             0.31250\n",
      "2017-07-05 13:11:47,566 INFO : runtime                   0.78930\n",
      "2017-07-05 13:11:47,567 INFO : \n",
      "2017-07-05 13:11:48,383 INFO : Epoch 19\n",
      "2017-07-05 13:11:48,383 INFO : train_loss                0.35320\n",
      "2017-07-05 13:11:48,384 INFO : valid_loss                0.40745\n",
      "2017-07-05 13:11:48,385 INFO : test_loss                 0.83376\n",
      "2017-07-05 13:11:48,385 INFO : train_misclass            0.12263\n",
      "2017-07-05 13:11:48,386 INFO : valid_misclass            0.13966\n",
      "2017-07-05 13:11:48,387 INFO : test_misclass             0.30000\n",
      "2017-07-05 13:11:48,387 INFO : runtime                   0.81621\n",
      "2017-07-05 13:11:48,388 INFO : \n",
      "2017-07-05 13:11:49,222 INFO : Epoch 20\n",
      "2017-07-05 13:11:49,222 INFO : train_loss                0.26451\n",
      "2017-07-05 13:11:49,223 INFO : valid_loss                0.32484\n",
      "2017-07-05 13:11:49,224 INFO : test_loss                 0.70762\n",
      "2017-07-05 13:11:49,224 INFO : train_misclass            0.08919\n",
      "2017-07-05 13:11:49,225 INFO : valid_misclass            0.12291\n",
      "2017-07-05 13:11:49,226 INFO : test_misclass             0.25000\n",
      "2017-07-05 13:11:49,226 INFO : runtime                   0.83415\n",
      "2017-07-05 13:11:49,227 INFO : \n",
      "2017-07-05 13:11:50,082 INFO : Epoch 21\n",
      "2017-07-05 13:11:50,083 INFO : train_loss                0.19331\n",
      "2017-07-05 13:11:50,083 INFO : valid_loss                0.26191\n",
      "2017-07-05 13:11:50,084 INFO : test_loss                 0.67357\n",
      "2017-07-05 13:11:50,084 INFO : train_misclass            0.05686\n",
      "2017-07-05 13:11:50,085 INFO : valid_misclass            0.08939\n",
      "2017-07-05 13:11:50,086 INFO : test_misclass             0.26250\n",
      "2017-07-05 13:11:50,086 INFO : runtime                   0.85486\n",
      "2017-07-05 13:11:50,087 INFO : \n",
      "2017-07-05 13:11:50,944 INFO : Epoch 22\n",
      "2017-07-05 13:11:50,944 INFO : train_loss                0.18323\n",
      "2017-07-05 13:11:50,945 INFO : valid_loss                0.24016\n",
      "2017-07-05 13:11:50,946 INFO : test_loss                 0.74199\n",
      "2017-07-05 13:11:50,946 INFO : train_misclass            0.05686\n",
      "2017-07-05 13:11:50,947 INFO : valid_misclass            0.08939\n",
      "2017-07-05 13:11:50,948 INFO : test_misclass             0.30625\n",
      "2017-07-05 13:11:50,948 INFO : runtime                   0.86192\n",
      "2017-07-05 13:11:50,949 INFO : \n",
      "2017-07-05 13:11:51,806 INFO : Epoch 23\n",
      "2017-07-05 13:11:51,806 INFO : train_loss                0.19145\n",
      "2017-07-05 13:11:51,807 INFO : valid_loss                0.26353\n",
      "2017-07-05 13:11:51,808 INFO : test_loss                 0.77307\n",
      "2017-07-05 13:11:51,808 INFO : train_misclass            0.06689\n",
      "2017-07-05 13:11:51,809 INFO : valid_misclass            0.11173\n",
      "2017-07-05 13:11:51,809 INFO : test_misclass             0.26875\n",
      "2017-07-05 13:11:51,810 INFO : runtime                   0.86188\n",
      "2017-07-05 13:11:51,811 INFO : \n",
      "2017-07-05 13:11:52,669 INFO : Epoch 24\n",
      "2017-07-05 13:11:52,669 INFO : train_loss                0.21257\n",
      "2017-07-05 13:11:52,670 INFO : valid_loss                0.28660\n",
      "2017-07-05 13:11:52,671 INFO : test_loss                 0.79070\n",
      "2017-07-05 13:11:52,671 INFO : train_misclass            0.07692\n",
      "2017-07-05 13:11:52,672 INFO : valid_misclass            0.11173\n",
      "2017-07-05 13:11:52,673 INFO : test_misclass             0.32500\n",
      "2017-07-05 13:11:52,673 INFO : runtime                   0.86200\n",
      "2017-07-05 13:11:52,674 INFO : \n",
      "2017-07-05 13:11:53,530 INFO : Epoch 25\n",
      "2017-07-05 13:11:53,531 INFO : train_loss                0.15908\n",
      "2017-07-05 13:11:53,532 INFO : valid_loss                0.20280\n",
      "2017-07-05 13:11:53,533 INFO : test_loss                 0.68136\n",
      "2017-07-05 13:11:53,533 INFO : train_misclass            0.04459\n",
      "2017-07-05 13:11:53,534 INFO : valid_misclass            0.08380\n",
      "2017-07-05 13:11:53,534 INFO : test_misclass             0.25625\n",
      "2017-07-05 13:11:53,535 INFO : runtime                   0.86306\n",
      "2017-07-05 13:11:53,536 INFO : \n",
      "2017-07-05 13:11:54,392 INFO : Epoch 26\n",
      "2017-07-05 13:11:54,393 INFO : train_loss                0.16920\n",
      "2017-07-05 13:11:54,394 INFO : valid_loss                0.22457\n",
      "2017-07-05 13:11:54,395 INFO : test_loss                 0.74143\n",
      "2017-07-05 13:11:54,395 INFO : train_misclass            0.06800\n",
      "2017-07-05 13:11:54,396 INFO : valid_misclass            0.09497\n",
      "2017-07-05 13:11:54,396 INFO : test_misclass             0.25000\n",
      "2017-07-05 13:11:54,397 INFO : runtime                   0.86182\n",
      "2017-07-05 13:11:54,398 INFO : \n",
      "2017-07-05 13:11:55,254 INFO : Epoch 27\n",
      "2017-07-05 13:11:55,255 INFO : train_loss                0.14949\n",
      "2017-07-05 13:11:55,256 INFO : valid_loss                0.19085\n",
      "2017-07-05 13:11:55,256 INFO : test_loss                 0.72652\n",
      "2017-07-05 13:11:55,257 INFO : train_misclass            0.03679\n",
      "2017-07-05 13:11:55,258 INFO : valid_misclass            0.06704\n",
      "2017-07-05 13:11:55,258 INFO : test_misclass             0.28750\n",
      "2017-07-05 13:11:55,259 INFO : runtime                   0.86191\n",
      "2017-07-05 13:11:55,260 INFO : \n",
      "2017-07-05 13:11:56,116 INFO : Epoch 28\n",
      "2017-07-05 13:11:56,117 INFO : train_loss                0.20208\n",
      "2017-07-05 13:11:56,118 INFO : valid_loss                0.22194\n",
      "2017-07-05 13:11:56,118 INFO : test_loss                 0.69889\n",
      "2017-07-05 13:11:56,119 INFO : train_misclass            0.07581\n",
      "2017-07-05 13:11:56,119 INFO : valid_misclass            0.10056\n",
      "2017-07-05 13:11:56,120 INFO : test_misclass             0.27500\n",
      "2017-07-05 13:11:56,121 INFO : runtime                   0.86185\n",
      "2017-07-05 13:11:56,121 INFO : \n",
      "2017-07-05 13:11:56,979 INFO : Epoch 29\n",
      "2017-07-05 13:11:56,980 INFO : train_loss                0.13578\n",
      "2017-07-05 13:11:56,981 INFO : valid_loss                0.14471\n",
      "2017-07-05 13:11:56,981 INFO : test_loss                 0.61557\n",
      "2017-07-05 13:11:56,982 INFO : train_misclass            0.03122\n",
      "2017-07-05 13:11:56,983 INFO : valid_misclass            0.05028\n",
      "2017-07-05 13:11:56,983 INFO : test_misclass             0.26250\n",
      "2017-07-05 13:11:56,984 INFO : runtime                   0.86204\n",
      "2017-07-05 13:11:56,984 INFO : \n"
     ]
    }
   ],
   "source": [
    "exp.run()"
   ]
  },
  {
   "cell_type": "markdown",
   "metadata": {
    "deletable": true,
    "editable": true
   },
   "source": [
    "We arrive at 24.3%. or 26.2. depending on stars :))"
   ]
  }
 ],
 "metadata": {
  "kernelspec": {
   "display_name": "Python 3",
   "language": "python",
   "name": "python3"
  },
  "language_info": {
   "codemirror_mode": {
    "name": "ipython",
    "version": 3
   },
   "file_extension": ".py",
   "mimetype": "text/x-python",
   "name": "python",
   "nbconvert_exporter": "python",
   "pygments_lexer": "ipython3",
   "version": "3.5.2"
  }
 },
 "nbformat": 4,
 "nbformat_minor": 2
}
