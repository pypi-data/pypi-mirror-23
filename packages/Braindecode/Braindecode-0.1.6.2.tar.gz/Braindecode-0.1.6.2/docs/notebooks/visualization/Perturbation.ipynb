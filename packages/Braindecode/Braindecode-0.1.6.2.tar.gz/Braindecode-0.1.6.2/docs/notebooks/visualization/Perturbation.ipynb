{
 "cells": [
  {
   "cell_type": "code",
   "execution_count": 1,
   "metadata": {
    "collapsed": true,
    "deletable": true,
    "editable": true,
    "nbsphinx": "hidden"
   },
   "outputs": [],
   "source": [
    "%load_ext autoreload\n",
    "%autoreload 2\n",
    "import os\n",
    "os.sys.path.insert(0, '/home/schirrmr/braindecode/code/braindecode/')"
   ]
  },
  {
   "cell_type": "markdown",
   "metadata": {
    "deletable": true,
    "editable": true
   },
   "source": [
    "# Amplitude Perturbation Visualization"
   ]
  },
  {
   "cell_type": "markdown",
   "metadata": {
    "deletable": true,
    "editable": true
   },
   "source": [
    "In this tutorial, we show how to use perturbations of the input amplitudes to learn something about the trained convolutional networks. For more background, see [Deep learning with convolutional neural networks for EEG decoding and visualization](https://arxiv.org/abs/1703.05051), Section A.5.2.\n",
    "\n",
    "First we will do some cross-subject decoding, again using the [Physiobank EEG Motor Movement/Imagery Dataset](https://www.physionet.org/physiobank/database/eegmmidb/), this time to decode imagined left hand vs. imagined right hand movement.\n",
    "\n",
    "\n",
    "<div class=\"alert alert-warning\">\n",
    "\n",
    "This tutorial might be very slow if you are not using a GPU.\n",
    "\n",
    "</div>"
   ]
  },
  {
   "cell_type": "markdown",
   "metadata": {
    "deletable": true,
    "editable": true
   },
   "source": [
    "## Load data"
   ]
  },
  {
   "cell_type": "code",
   "execution_count": 2,
   "metadata": {
    "collapsed": false,
    "deletable": true,
    "editable": true
   },
   "outputs": [],
   "source": [
    "%%capture\n",
    "import mne\n",
    "import numpy as np\n",
    "from mne.io import concatenate_raws\n",
    "from braindecode.datautil.signal_target import SignalAndTarget\n",
    "\n",
    "# First 50 subjects as train\n",
    "physionet_paths = [ mne.datasets.eegbci.load_data(sub_id,[4,8,12,]) for sub_id in range(1,51)]\n",
    "physionet_paths = np.concatenate(physionet_paths)\n",
    "parts = [mne.io.read_raw_edf(path, preload=True,stim_channel='auto')\n",
    "         for path in physionet_paths]\n",
    "\n",
    "raw = concatenate_raws(parts)\n",
    "\n",
    "picks = mne.pick_types(raw.info, meg=False, eeg=True, stim=False, eog=False,\n",
    "                   exclude='bads')\n",
    "\n",
    "events = mne.find_events(raw, shortest_event=0, stim_channel='STI 014')\n",
    "\n",
    "# Read epochs (train will be done only between 1 and 2s)\n",
    "# Testing will be done with a running classifier\n",
    "epoched = mne.Epochs(raw, events, dict(hands=2, feet=3), tmin=1, tmax=4.1, proj=False, picks=picks,\n",
    "                baseline=None, preload=True)\n",
    "\n",
    "# Next 5 subjects as test\n",
    "physionet_paths_test = [mne.datasets.eegbci.load_data(sub_id,[4,8,12,]) for sub_id in range(51,56)]\n",
    "physionet_paths_test = np.concatenate(physionet_paths_test)\n",
    "parts_test = [mne.io.read_raw_edf(path, preload=True,stim_channel='auto')\n",
    "         for path in physionet_paths_test]\n",
    "raw_test = concatenate_raws(parts_test)\n",
    "\n",
    "picks_test = mne.pick_types(raw_test.info, meg=False, eeg=True, stim=False, eog=False,\n",
    "                   exclude='bads')\n",
    "\n",
    "events_test = mne.find_events(raw_test, shortest_event=0, stim_channel='STI 014')\n",
    "\n",
    "# Read epochs (train will be done only between 1 and 2s)\n",
    "# Testing will be done with a running classifier\n",
    "epoched_test = mne.Epochs(raw_test, events_test, dict(hands=2, feet=3), tmin=1, tmax=4.1, proj=False, picks=picks_test,\n",
    "                baseline=None, preload=True)\n",
    "\n",
    "train_X = (epoched.get_data() * 1e6).astype(np.float32)\n",
    "train_y = (epoched.events[:,2] - 2).astype(np.int64) #2,3 -> 0,1\n",
    "test_X = (epoched_test.get_data() * 1e6).astype(np.float32)\n",
    "test_y = (epoched_test.events[:,2] - 2).astype(np.int64) #2,3 -> 0,1\n",
    "train_set = SignalAndTarget(train_X, y=train_y)\n",
    "test_set = SignalAndTarget(test_X, y=test_y)"
   ]
  },
  {
   "cell_type": "markdown",
   "metadata": {
    "deletable": true,
    "editable": true
   },
   "source": [
    "## Create the model, optimizer, iterator"
   ]
  },
  {
   "cell_type": "markdown",
   "metadata": {
    "deletable": true,
    "editable": true
   },
   "source": [
    "We use the deep ConvNet from [Deep learning with convolutional neural networks for EEG decoding and visualization](https://arxiv.org/abs/1703.05051) (Section 2.4.2).\n"
   ]
  },
  {
   "cell_type": "code",
   "execution_count": 3,
   "metadata": {
    "collapsed": false,
    "deletable": true,
    "editable": true
   },
   "outputs": [
    {
     "name": "stdout",
     "output_type": "stream",
     "text": [
      "315 predictions per input/trial\n"
     ]
    }
   ],
   "source": [
    "from braindecode.models.deep4 import Deep4Net\n",
    "from torch import nn\n",
    "from braindecode.torch_ext.util import set_random_seeds\n",
    "from braindecode.models.util import to_dense_prediction_model\n",
    "\n",
    "# Set if you want to use GPU\n",
    "# You can also use torch.cuda.is_available() to determine if cuda is available on your machine.\n",
    "cuda = True\n",
    "set_random_seeds(seed=20170629, cuda=cuda)\n",
    "\n",
    "# This will determine how many crops are processed in parallel\n",
    "input_time_length = 450\n",
    "# final_conv_length determines the size of the receptive field of the ConvNet\n",
    "model = Deep4Net(in_chans=64, n_classes=2, input_time_length=input_time_length,\n",
    "                 filter_length_3=5, filter_length_4=5,\n",
    "                 pool_time_stride=2,\n",
    "                        final_conv_length=1).create_network()\n",
    "to_dense_prediction_model(model)\n",
    "\n",
    "if cuda:\n",
    "    model.cuda()\n",
    "\n",
    "from torch import optim\n",
    "\n",
    "optimizer = optim.Adam(model.parameters())\n",
    "\n",
    "from braindecode.torch_ext.util import np_to_var\n",
    "# determine output size\n",
    "test_input = np_to_var(np.ones((2, 64, input_time_length, 1), dtype=np.float32))\n",
    "if cuda:\n",
    "    test_input = test_input.cuda()\n",
    "out = model(test_input)\n",
    "n_preds_per_input = out.cpu().data.numpy().shape[2]\n",
    "print(\"{:d} predictions per input/trial\".format(n_preds_per_input))\n",
    "\n",
    "from braindecode.datautil.iterators import CropsFromTrialsIterator\n",
    "iterator = CropsFromTrialsIterator(batch_size=32,input_time_length=input_time_length,\n",
    "                                  n_preds_per_input=n_preds_per_input)"
   ]
  },
  {
   "cell_type": "markdown",
   "metadata": {
    "deletable": true,
    "editable": true
   },
   "source": [
    "## Training loop"
   ]
  },
  {
   "cell_type": "code",
   "execution_count": 4,
   "metadata": {
    "collapsed": false,
    "deletable": true,
    "editable": true
   },
   "outputs": [
    {
     "name": "stdout",
     "output_type": "stream",
     "text": [
      "Epoch 0\n",
      "Train....\n",
      "Train  Loss: 0.71869\n",
      "Train  Accuracy: 52.8%\n",
      "Test   Loss: 0.71858\n",
      "Test   Accuracy: 50.2%\n",
      "Epoch 1\n",
      "Train....\n",
      "Train  Loss: 0.66870\n",
      "Train  Accuracy: 61.6%\n",
      "Test   Loss: 0.63981\n",
      "Test   Accuracy: 64.3%\n",
      "Epoch 2\n",
      "Train....\n",
      "Train  Loss: 0.63789\n",
      "Train  Accuracy: 68.7%\n",
      "Test   Loss: 0.58520\n",
      "Test   Accuracy: 79.3%\n",
      "Epoch 3\n",
      "Train....\n",
      "Train  Loss: 0.63376\n",
      "Train  Accuracy: 70.2%\n",
      "Test   Loss: 0.57499\n",
      "Test   Accuracy: 85.4%\n",
      "Epoch 4\n",
      "Train....\n",
      "Train  Loss: 0.63206\n",
      "Train  Accuracy: 70.4%\n",
      "Test   Loss: 0.57617\n",
      "Test   Accuracy: 85.0%\n",
      "Epoch 5\n",
      "Train....\n",
      "Train  Loss: 0.62972\n",
      "Train  Accuracy: 69.9%\n",
      "Test   Loss: 0.56490\n",
      "Test   Accuracy: 87.8%\n",
      "Epoch 6\n",
      "Train....\n",
      "Train  Loss: 0.62937\n",
      "Train  Accuracy: 68.8%\n",
      "Test   Loss: 0.55145\n",
      "Test   Accuracy: 85.0%\n",
      "Epoch 7\n",
      "Train....\n",
      "Train  Loss: 0.62180\n",
      "Train  Accuracy: 70.7%\n",
      "Test   Loss: 0.54012\n",
      "Test   Accuracy: 87.8%\n",
      "Epoch 8\n",
      "Train....\n",
      "Train  Loss: 0.62625\n",
      "Train  Accuracy: 71.0%\n",
      "Test   Loss: 0.53656\n",
      "Test   Accuracy: 88.7%\n",
      "Epoch 9\n",
      "Train....\n",
      "Train  Loss: 0.63245\n",
      "Train  Accuracy: 68.6%\n",
      "Test   Loss: 0.53936\n",
      "Test   Accuracy: 83.6%\n",
      "Epoch 10\n",
      "Train....\n",
      "Train  Loss: 0.62556\n",
      "Train  Accuracy: 69.8%\n",
      "Test   Loss: 0.53812\n",
      "Test   Accuracy: 87.3%\n",
      "Epoch 11\n",
      "Train....\n",
      "Train  Loss: 0.63556\n",
      "Train  Accuracy: 68.4%\n",
      "Test   Loss: 0.52986\n",
      "Test   Accuracy: 83.6%\n",
      "Epoch 12\n",
      "Train....\n",
      "Train  Loss: 0.64142\n",
      "Train  Accuracy: 67.5%\n",
      "Test   Loss: 0.53861\n",
      "Test   Accuracy: 80.3%\n",
      "Epoch 13\n",
      "Train....\n",
      "Train  Loss: 0.63586\n",
      "Train  Accuracy: 68.6%\n",
      "Test   Loss: 0.53492\n",
      "Test   Accuracy: 82.2%\n",
      "Epoch 14\n",
      "Train....\n",
      "Train  Loss: 0.64711\n",
      "Train  Accuracy: 67.8%\n",
      "Test   Loss: 0.54978\n",
      "Test   Accuracy: 79.8%\n",
      "Epoch 15\n",
      "Train....\n",
      "Train  Loss: 0.63821\n",
      "Train  Accuracy: 68.6%\n",
      "Test   Loss: 0.54260\n",
      "Test   Accuracy: 78.9%\n",
      "Epoch 16\n",
      "Train....\n",
      "Train  Loss: 0.63897\n",
      "Train  Accuracy: 67.2%\n",
      "Test   Loss: 0.55117\n",
      "Test   Accuracy: 74.6%\n",
      "Epoch 17\n",
      "Train....\n",
      "Train  Loss: 0.64410\n",
      "Train  Accuracy: 66.8%\n",
      "Test   Loss: 0.55882\n",
      "Test   Accuracy: 73.2%\n",
      "Epoch 18\n",
      "Train....\n",
      "Train  Loss: 0.63305\n",
      "Train  Accuracy: 67.6%\n",
      "Test   Loss: 0.54308\n",
      "Test   Accuracy: 77.9%\n",
      "Epoch 19\n",
      "Train....\n",
      "Train  Loss: 0.64199\n",
      "Train  Accuracy: 66.0%\n",
      "Test   Loss: 0.56335\n",
      "Test   Accuracy: 71.8%\n"
     ]
    }
   ],
   "source": [
    "from braindecode.torch_ext.util import np_to_var, var_to_np\n",
    "import torch.nn.functional as F\n",
    "from numpy.random import RandomState\n",
    "import torch as th\n",
    "from braindecode.experiments.monitors import compute_preds_per_trial_for_set\n",
    "rng = RandomState((2017,6,30))\n",
    "for i_epoch in range(20):\n",
    "    print(\"Epoch {:d}\".format(i_epoch))\n",
    "    print(\"Train....\")\n",
    "    # Set model to training mode\n",
    "    model.train()\n",
    "    for batch_X, batch_y in iterator.get_batches(train_set, shuffle=False):\n",
    "        net_in = np_to_var(batch_X)\n",
    "        if cuda:\n",
    "            net_in = net_in.cuda()\n",
    "        net_target = np_to_var(batch_y)\n",
    "        if cuda:\n",
    "            net_target = net_target.cuda()\n",
    "        # Remove gradients of last backward pass from all parameters \n",
    "        optimizer.zero_grad()\n",
    "        outputs = model(net_in)\n",
    "        # Mean predictions across trial\n",
    "        # Note that this will give identical gradients to computing\n",
    "        # a per-prediction loss (at least for the combination of log softmax activation \n",
    "        # and negative log likelihood loss which we are using here)\n",
    "        outputs = th.mean(outputs, dim=2)[:,:,0]\n",
    "        loss = F.nll_loss(outputs, net_target)\n",
    "        loss.backward()\n",
    "        optimizer.step()\n",
    "    \n",
    "    # Print some statistics each epoch\n",
    "    model.eval()\n",
    "    for setname, dataset in (('Train', train_set),('Test', test_set)):\n",
    "        # Collect all predictions and losses\n",
    "        all_preds = []\n",
    "        all_losses = []\n",
    "        batch_sizes = []\n",
    "        for batch_X, batch_y in iterator.get_batches(dataset, shuffle=False):\n",
    "            net_in = np_to_var(batch_X)\n",
    "            if cuda:\n",
    "                net_in = net_in.cuda()\n",
    "            net_target = np_to_var(batch_y)\n",
    "            if cuda:\n",
    "                net_target = net_target.cuda()\n",
    "            outputs = model(net_in)\n",
    "            all_preds.append(var_to_np(outputs))\n",
    "            outputs = th.mean(outputs, dim=2)[:,:,0]\n",
    "            loss = F.nll_loss(outputs, net_target)\n",
    "            loss = float(var_to_np(loss))\n",
    "            all_losses.append(loss)\n",
    "            batch_sizes.append(len(batch_X))\n",
    "        # Compute mean per-input loss \n",
    "        loss = np.mean(np.array(all_losses) * np.array(batch_sizes) /\n",
    "                       np.mean(batch_sizes))\n",
    "        print(\"{:6s} Loss: {:.5f}\".format(setname, loss))\n",
    "        preds_per_trial = compute_preds_per_trial_for_set(all_preds,\n",
    "                                                          input_time_length,\n",
    "                                                          dataset)\n",
    "        # preds per trial are now trials x classes x timesteps/predictions\n",
    "        # Now mean across timesteps for each trial to get per-trial predictions\n",
    "        meaned_preds_per_trial = np.array([np.mean(p, axis=1) for p in preds_per_trial])\n",
    "        predicted_labels = np.argmax(meaned_preds_per_trial, axis=1)\n",
    "        accuracy = np.mean(predicted_labels == dataset.y)\n",
    "        print(\"{:6s} Accuracy: {:.1f}%\".format(\n",
    "            setname, accuracy * 100))\n"
   ]
  },
  {
   "cell_type": "markdown",
   "metadata": {
    "deletable": true,
    "editable": true
   },
   "source": [
    "## Compute correlation: amplitude perturbation - prediction change"
   ]
  },
  {
   "cell_type": "markdown",
   "metadata": {
    "deletable": true,
    "editable": true
   },
   "source": [
    "First collect all batches and concatenate them into one array of examples:"
   ]
  },
  {
   "cell_type": "code",
   "execution_count": 5,
   "metadata": {
    "collapsed": true,
    "deletable": true,
    "editable": true
   },
   "outputs": [],
   "source": [
    "train_batches = list(iterator.get_batches(train_set, shuffle=False))\n",
    "train_X_batches = np.concatenate(list(zip(*train_batches))[0])"
   ]
  },
  {
   "cell_type": "markdown",
   "metadata": {
    "deletable": true,
    "editable": true
   },
   "source": [
    "Next, create a prediction function that that wraps the model prediction function and returns the predictions as numpy arrays."
   ]
  },
  {
   "cell_type": "code",
   "execution_count": 6,
   "metadata": {
    "collapsed": true,
    "deletable": true,
    "editable": true
   },
   "outputs": [],
   "source": [
    "model.eval();\n",
    "pred_fn = lambda x: var_to_np(th.mean(model(np_to_var(x).cuda()), dim=2)[:,:,0])"
   ]
  },
  {
   "cell_type": "markdown",
   "metadata": {
    "deletable": true,
    "editable": true
   },
   "source": [
    "Setup logging and compute the correlations between amplitude perturbations and prediction changes."
   ]
  },
  {
   "cell_type": "code",
   "execution_count": 7,
   "metadata": {
    "collapsed": false,
    "deletable": true,
    "editable": true
   },
   "outputs": [
    {
     "name": "stdout",
     "output_type": "stream",
     "text": [
      "2017-07-10 13:23:31,520 INFO : Compute original predictions...\n",
      "2017-07-10 13:23:44,636 INFO : Iteration 0...\n",
      "2017-07-10 13:23:44,637 INFO : Sample perturbation...\n",
      "2017-07-10 13:23:48,207 INFO : Compute new amplitudes...\n",
      "2017-07-10 13:23:48,797 INFO : Compute new  complex inputs...\n",
      "2017-07-10 13:23:55,029 INFO : Compute new real inputs...\n",
      "2017-07-10 13:23:58,109 INFO : Compute new predictions...\n",
      "2017-07-10 13:23:59,129 INFO : Compute correlation...\n",
      "2017-07-10 13:23:59,932 INFO : Iteration 1...\n",
      "2017-07-10 13:23:59,933 INFO : Sample perturbation...\n",
      "2017-07-10 13:24:03,503 INFO : Compute new amplitudes...\n",
      "2017-07-10 13:24:04,095 INFO : Compute new  complex inputs...\n",
      "2017-07-10 13:24:10,336 INFO : Compute new real inputs...\n",
      "2017-07-10 13:24:13,423 INFO : Compute new predictions...\n",
      "2017-07-10 13:24:14,417 INFO : Compute correlation...\n",
      "2017-07-10 13:24:15,220 INFO : Iteration 2...\n",
      "2017-07-10 13:24:15,220 INFO : Sample perturbation...\n",
      "2017-07-10 13:24:18,793 INFO : Compute new amplitudes...\n",
      "2017-07-10 13:24:19,382 INFO : Compute new  complex inputs...\n",
      "2017-07-10 13:24:25,609 INFO : Compute new real inputs...\n",
      "2017-07-10 13:24:28,685 INFO : Compute new predictions...\n",
      "2017-07-10 13:24:29,679 INFO : Compute correlation...\n",
      "2017-07-10 13:24:30,482 INFO : Iteration 3...\n",
      "2017-07-10 13:24:30,483 INFO : Sample perturbation...\n",
      "2017-07-10 13:24:34,054 INFO : Compute new amplitudes...\n",
      "2017-07-10 13:24:34,644 INFO : Compute new  complex inputs...\n",
      "2017-07-10 13:24:40,870 INFO : Compute new real inputs...\n",
      "2017-07-10 13:24:43,946 INFO : Compute new predictions...\n",
      "2017-07-10 13:24:44,955 INFO : Compute correlation...\n",
      "2017-07-10 13:24:45,758 INFO : Iteration 4...\n",
      "2017-07-10 13:24:45,759 INFO : Sample perturbation...\n",
      "2017-07-10 13:24:49,331 INFO : Compute new amplitudes...\n",
      "2017-07-10 13:24:49,920 INFO : Compute new  complex inputs...\n",
      "2017-07-10 13:24:56,156 INFO : Compute new real inputs...\n",
      "2017-07-10 13:24:59,236 INFO : Compute new predictions...\n",
      "2017-07-10 13:25:00,230 INFO : Compute correlation...\n",
      "2017-07-10 13:25:01,033 INFO : Iteration 5...\n",
      "2017-07-10 13:25:01,034 INFO : Sample perturbation...\n",
      "2017-07-10 13:25:04,605 INFO : Compute new amplitudes...\n",
      "2017-07-10 13:25:05,194 INFO : Compute new  complex inputs...\n",
      "2017-07-10 13:25:11,422 INFO : Compute new real inputs...\n",
      "2017-07-10 13:25:14,499 INFO : Compute new predictions...\n",
      "2017-07-10 13:25:15,492 INFO : Compute correlation...\n",
      "2017-07-10 13:25:16,296 INFO : Iteration 6...\n",
      "2017-07-10 13:25:16,297 INFO : Sample perturbation...\n",
      "2017-07-10 13:25:19,868 INFO : Compute new amplitudes...\n",
      "2017-07-10 13:25:20,457 INFO : Compute new  complex inputs...\n",
      "2017-07-10 13:25:26,687 INFO : Compute new real inputs...\n",
      "2017-07-10 13:25:29,768 INFO : Compute new predictions...\n",
      "2017-07-10 13:25:30,788 INFO : Compute correlation...\n",
      "2017-07-10 13:25:31,592 INFO : Iteration 7...\n",
      "2017-07-10 13:25:31,593 INFO : Sample perturbation...\n",
      "2017-07-10 13:25:35,165 INFO : Compute new amplitudes...\n",
      "2017-07-10 13:25:35,753 INFO : Compute new  complex inputs...\n",
      "2017-07-10 13:25:41,989 INFO : Compute new real inputs...\n",
      "2017-07-10 13:25:45,065 INFO : Compute new predictions...\n",
      "2017-07-10 13:25:46,059 INFO : Compute correlation...\n",
      "2017-07-10 13:25:46,863 INFO : Iteration 8...\n",
      "2017-07-10 13:25:46,864 INFO : Sample perturbation...\n",
      "2017-07-10 13:25:50,434 INFO : Compute new amplitudes...\n",
      "2017-07-10 13:25:51,023 INFO : Compute new  complex inputs...\n",
      "2017-07-10 13:25:57,256 INFO : Compute new real inputs...\n",
      "2017-07-10 13:26:00,337 INFO : Compute new predictions...\n",
      "2017-07-10 13:26:01,332 INFO : Compute correlation...\n",
      "2017-07-10 13:26:02,135 INFO : Iteration 9...\n",
      "2017-07-10 13:26:02,136 INFO : Sample perturbation...\n",
      "2017-07-10 13:26:05,709 INFO : Compute new amplitudes...\n",
      "2017-07-10 13:26:06,300 INFO : Compute new  complex inputs...\n",
      "2017-07-10 13:26:12,527 INFO : Compute new real inputs...\n",
      "2017-07-10 13:26:15,606 INFO : Compute new predictions...\n",
      "2017-07-10 13:26:16,619 INFO : Compute correlation...\n",
      "2017-07-10 13:26:17,422 INFO : Iteration 10...\n",
      "2017-07-10 13:26:17,422 INFO : Sample perturbation...\n",
      "2017-07-10 13:26:20,994 INFO : Compute new amplitudes...\n",
      "2017-07-10 13:26:21,585 INFO : Compute new  complex inputs...\n",
      "2017-07-10 13:26:27,823 INFO : Compute new real inputs...\n",
      "2017-07-10 13:26:30,907 INFO : Compute new predictions...\n",
      "2017-07-10 13:26:31,902 INFO : Compute correlation...\n",
      "2017-07-10 13:26:32,705 INFO : Iteration 11...\n",
      "2017-07-10 13:26:32,706 INFO : Sample perturbation...\n",
      "2017-07-10 13:26:36,278 INFO : Compute new amplitudes...\n",
      "2017-07-10 13:26:36,870 INFO : Compute new  complex inputs...\n",
      "2017-07-10 13:26:43,103 INFO : Compute new real inputs...\n",
      "2017-07-10 13:26:46,186 INFO : Compute new predictions...\n",
      "2017-07-10 13:26:47,184 INFO : Compute correlation...\n"
     ]
    }
   ],
   "source": [
    "from braindecode.visualization.perturbation import compute_amplitude_prediction_correlations\n",
    "import logging\n",
    "import sys\n",
    "logging.basicConfig(format='%(asctime)s %(levelname)s : %(message)s',\n",
    "                     level=logging.DEBUG, stream=sys.stdout)\n",
    "\n",
    "amp_pred_corrs = compute_amplitude_prediction_correlations(pred_fn, train_X_batches, n_iterations=12,\n",
    "                                         batch_size=30)"
   ]
  },
  {
   "cell_type": "markdown",
   "metadata": {
    "deletable": true,
    "editable": true
   },
   "source": [
    "## Plot correlations"
   ]
  },
  {
   "cell_type": "markdown",
   "metadata": {
    "deletable": true,
    "editable": true
   },
   "source": [
    "Compute the mean correlations across iterations."
   ]
  },
  {
   "cell_type": "code",
   "execution_count": 8,
   "metadata": {
    "collapsed": false,
    "deletable": true,
    "editable": true
   },
   "outputs": [],
   "source": [
    "mean_corr = np.mean(amp_pred_corrs, axis=0)"
   ]
  },
  {
   "cell_type": "markdown",
   "metadata": {
    "deletable": true,
    "editable": true
   },
   "source": [
    "Pick out one frequency range and mean correlations within that frequency range to make a scalp plot.\n",
    "Here we use the alpha frequency range."
   ]
  },
  {
   "cell_type": "code",
   "execution_count": 9,
   "metadata": {
    "collapsed": false,
    "deletable": true,
    "editable": true
   },
   "outputs": [],
   "source": [
    "\n",
    "fs = epoched.info['sfreq']\n",
    "freqs = np.fft.rfftfreq(train_X_batches.shape[2], d=1.0/fs)\n",
    "start_freq = 7\n",
    "stop_freq = 14\n",
    "\n",
    "i_start = np.searchsorted(freqs,start_freq)\n",
    "i_stop = np.searchsorted(freqs, stop_freq) + 1\n",
    "\n",
    "freq_corr = np.mean(mean_corr[:,i_start:i_stop], axis=1)"
   ]
  },
  {
   "cell_type": "markdown",
   "metadata": {
    "deletable": true,
    "editable": true
   },
   "source": [
    "Now get approximate positions of the channels in the 10-20 system."
   ]
  },
  {
   "cell_type": "code",
   "execution_count": 10,
   "metadata": {
    "collapsed": true,
    "deletable": true,
    "editable": true
   },
   "outputs": [],
   "source": [
    "from braindecode.datasets.sensor_positions import get_channelpos, CHANNEL_10_20_APPROX\n",
    "\n",
    "ch_names = [s.strip('.') for s in epoched.ch_names]\n",
    "positions = [get_channelpos(name, CHANNEL_10_20_APPROX) for name in ch_names]\n",
    "positions = np.array(positions)"
   ]
  },
  {
   "cell_type": "markdown",
   "metadata": {
    "deletable": true,
    "editable": true
   },
   "source": [
    "### Plot with MNE"
   ]
  },
  {
   "cell_type": "code",
   "execution_count": 11,
   "metadata": {
    "collapsed": true,
    "deletable": true,
    "editable": true
   },
   "outputs": [],
   "source": [
    "import matplotlib.pyplot as plt\n",
    "from matplotlib import cm\n",
    "%matplotlib inline\n",
    "max_abs_val = np.max(np.abs(freq_corr))"
   ]
  },
  {
   "cell_type": "code",
   "execution_count": 12,
   "metadata": {
    "collapsed": false,
    "deletable": true,
    "editable": true
   },
   "outputs": [
    {
     "data": {
      "image/png": "[encoded data removed]",
      "text/plain": [
       "<matplotlib.figure.Figure at 0x7fd0dcb62320>"
      ]
     },
     "metadata": {},
     "output_type": "display_data"
    }
   ],
   "source": [
    "fig, axes = plt.subplots(1, 2)\n",
    "class_names = ['Left Hand', 'Right Hand']\n",
    "for i_class in range(2):\n",
    "    ax = axes[i_class]\n",
    "    mne.viz.plot_topomap(freq_corr[:,i_class], positions,\n",
    "                     vmin=-max_abs_val, vmax=max_abs_val, contours=0,\n",
    "                    cmap=cm.coolwarm, axes=ax, show=False);\n",
    "    ax.set_title(class_names[i_class])"
   ]
  },
  {
   "cell_type": "markdown",
   "metadata": {
    "deletable": true,
    "editable": true
   },
   "source": [
    "### Plot with Braindecode"
   ]
  },
  {
   "cell_type": "code",
   "execution_count": 13,
   "metadata": {
    "collapsed": false,
    "deletable": true,
    "editable": true
   },
   "outputs": [
    {
     "data": {
      "image/png": "[encoded data removed]",
      "text/plain": [
       "<matplotlib.figure.Figure at 0x7fd0dcb622e8>"
      ]
     },
     "metadata": {},
     "output_type": "display_data"
    }
   ],
   "source": [
    "from braindecode.visualization.plot import ax_scalp\n",
    "\n",
    "fig, axes = plt.subplots(1, 2)\n",
    "class_names = ['Left Hand', 'Right Hand']\n",
    "for i_class in range(2):\n",
    "    ax = axes[i_class]\n",
    "    ax_scalp(freq_corr[:,i_class], ch_names, chan_pos_list=CHANNEL_10_20_APPROX, cmap=cm.coolwarm,\n",
    "            vmin=-max_abs_val, vmax=max_abs_val, ax=ax)\n",
    "    ax.set_title(class_names[i_class])"
   ]
  },
  {
   "cell_type": "markdown",
   "metadata": {
    "deletable": true,
    "editable": true
   },
   "source": [
    "From these plots we can see the ConvNet clearly learned to use the lateralized response in the alpha band. Note that the positive correlations for the left hand on the left side do not imply an increase of alpha activity for the left hand in the data, see  [Deep learning with convolutional neural networks for EEG decoding and visualization](https://arxiv.org/abs/1703.05051) Result 12 for some notes on interpretability."
   ]
  },
  {
   "cell_type": "markdown",
   "metadata": {
    "deletable": true,
    "editable": true
   },
   "source": [
    "## Dataset References\n"
   ]
  },
  {
   "cell_type": "markdown",
   "metadata": {
    "deletable": true,
    "editable": true
   },
   "source": [
    " This dataset was created and contributed to PhysioNet by the developers of the [BCI2000](http://www.schalklab.org/research/bci2000) instrumentation system, which they used in making these recordings. The system is described in:\n",
    " \n",
    "     Schalk, G., McFarland, D.J., Hinterberger, T., Birbaumer, N., Wolpaw, J.R. (2004) BCI2000: A General-Purpose Brain-Computer Interface (BCI) System. IEEE TBME 51(6):1034-1043.\n",
    "\n",
    "[PhysioBank](https://physionet.org/physiobank/) is a large and growing archive of well-characterized digital recordings of physiologic signals and related data for use by the biomedical research community and further described in:\n",
    "\n",
    "    Goldberger AL, Amaral LAN, Glass L, Hausdorff JM, Ivanov PCh, Mark RG, Mietus JE, Moody GB, Peng C-K, Stanley HE. (2000) PhysioBank, PhysioToolkit, and PhysioNet: Components of a New Research Resource for Complex Physiologic Signals. Circulation 101(23):e215-e220."
   ]
  }
 ],
 "metadata": {
  "kernelspec": {
   "display_name": "Python 3",
   "language": "python",
   "name": "python3"
  },
  "language_info": {
   "codemirror_mode": {
    "name": "ipython",
    "version": 3
   },
   "file_extension": ".py",
   "mimetype": "text/x-python",
   "name": "python",
   "nbconvert_exporter": "python",
   "pygments_lexer": "ipython3",
   "version": "3.5.2"
  }
 },
 "nbformat": 4,
 "nbformat_minor": 2
}
