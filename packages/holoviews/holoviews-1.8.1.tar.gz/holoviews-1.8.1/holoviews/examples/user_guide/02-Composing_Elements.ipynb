{
 "cells": [
  {
   "cell_type": "markdown",
   "metadata": {},
   "source": [
    "# Composing Elements"
   ]
  },
  {
   "cell_type": "code",
   "execution_count": null,
   "metadata": {},
   "outputs": [],
   "source": [
    "import numpy as np\n",
    "import holoviews as hv\n",
    "hv.extension('bokeh')"
   ]
  },
  {
   "cell_type": "markdown",
   "metadata": {},
   "source": [
    "HoloViews supports two primary composition operators that apply to nearly all visual HoloViews objects and create heterogeous collections: ``+`` to generate [``Layout``](../reference/containers/bokeh/Layout.ipynb) objects and ``*`` to create [``Overlay``](../reference/containers/bokeh/Overlay.ipynb) objects.\n",
    "\n",
    "* **Layout:** A collection of HoloViews objects to be  grouped and displayed side-by-side \n",
    "* **Overlay:** A collection of HoloViews objects to be displayed simultaneously, overlaid in the same space.\n",
    "\n",
    "The Layout and Overlay containers allow you to mix types, and a contained item is not associated with a key. In contrast, [Dimensioned containers](./04-Dimensioned_Containers.ipynb) such as [``HoloMap``](../reference/containers/bokeh/HoloMap.ipynb) , [``GridSpace``](../reference/containers/bokeh/GridSpace.ipynb) and [``NdLayout``](../reference/containers/bokeh/NdLayout.ipynb), do not allow mixed types, and each item has an associated key.\n",
    "\n",
    "As you can compose a mix of HoloViews elements into layouts and overlays, these types of container are very common, which is why they have dedicated composition operators. This user guide describes how you can build and organize your data using these two types of composition.\n",
    "\n",
    "To show how layouts and overlays work with heterogeneous types, we will use these two elements throughout this notebook:"
   ]
  },
  {
   "cell_type": "code",
   "execution_count": null,
   "metadata": {},
   "outputs": [],
   "source": [
    "xvals = [0.1* i for i in range(100)]\n",
    "curve =  hv.Curve((xvals, [np.sin(x) for x in xvals]))\n",
    "scatter =  hv.Scatter((xvals[::5], np.linspace(0,1,20)))"
   ]
  },
  {
   "cell_type": "markdown",
   "metadata": {},
   "source": [
    "## ``Layout``"
   ]
  },
  {
   "cell_type": "markdown",
   "metadata": {},
   "source": [
    "A ``Layout`` can contain any HoloViews object except ``NdLayout``. [Building Composite Objects](05-Building_Composite_Objects.ipynb) contains more details on how to compose containers.\n",
    "\n",
    "You can build a ``Layout`` from two HoloViews objects (which can have different types) using the ``+`` operator:"
   ]
  },
  {
   "cell_type": "code",
   "execution_count": null,
   "metadata": {},
   "outputs": [],
   "source": [
    "curve + scatter"
   ]
  },
  {
   "cell_type": "markdown",
   "metadata": {},
   "source": [
    "In this example, we have a ``Layout`` composed of a ``Curve`` element and a ``Scatter`` element. "
   ]
  },
  {
   "cell_type": "markdown",
   "metadata": {},
   "source": [
    "### Building ``Layout`` from a list"
   ]
  },
  {
   "cell_type": "markdown",
   "metadata": {},
   "source": [
    "You can build Layouts of any size by passing a list of objects to the ``Layout`` constructor:"
   ]
  },
  {
   "cell_type": "code",
   "execution_count": null,
   "metadata": {},
   "outputs": [],
   "source": [
    "curve_list   = [hv.Curve((xvals, [np.sin(f*x) for x in xvals])) for f in [0.5, 0.75]]\n",
    "scatter_list = [hv.Scatter((xvals[::5], f*np.linspace(0,1,20))) for f in [-0.5, 0.5]]\n",
    "layout = hv.Layout(curve_list + scatter_list).cols(2)\n",
    "layout"
   ]
  },
  {
   "cell_type": "markdown",
   "metadata": {},
   "source": [
    "Note the use of the ``.cols`` method to specify the number of columns, wrapping to the next row in scanline order (top-to-bottom and left-to-right)."
   ]
  },
  {
   "cell_type": "markdown",
   "metadata": {},
   "source": [
    "### A ``Layout`` has two-level attribute access"
   ]
  },
  {
   "cell_type": "markdown",
   "metadata": {},
   "source": [
    "``Layout`` and ``Overlay`` are fundamentally tree structures holding arbitrary heterogenous HoloViews objects, and are quite different from the dictionary-like dimensioned containers (which will be described in a later guide).\n",
    "\n",
    "As mentioned previously in [Annotating Data](01-Annotating_Data.ipynb), HoloViews objects have string ``group`` and ``label`` parameters, which allows a two-level attribute access on ``Layout`` objects. First let us see how to index the the above example where the ``group`` and ``label`` parameters were left unspecified:"
   ]
  },
  {
   "cell_type": "code",
   "execution_count": null,
   "metadata": {},
   "outputs": [],
   "source": [
    "layout2 = layout.Curve.I + layout.Scatter.II\n",
    "layout2"
   ]
  },
  {
   "cell_type": "markdown",
   "metadata": {},
   "source": [
    "Here we create a second layout by indexing two elements from our earlier ``layout`` object and using ``+`` between them. We see that the first level is the ``group`` string (which defaults to the element class name) followed by the label, which wasn't set and is therefore mapped to a roman numeral (I,II,III, etc). \n",
    "\n",
    "As group and label were not specified, our new ``Layout`` will once again have ``Curve.I`` for the curve, but as there is only one scatter element, it will have ``Scatter.I`` to index the scatter:"
   ]
  },
  {
   "cell_type": "code",
   "execution_count": null,
   "metadata": {},
   "outputs": [],
   "source": [
    "layout2.Scatter.I"
   ]
  },
  {
   "cell_type": "markdown",
   "metadata": {},
   "source": [
    "### Using ``group`` and ``label`` with ``Layout``"
   ]
  },
  {
   "cell_type": "markdown",
   "metadata": {},
   "source": [
    "Now let's return to the first simple layout example, this time setting a group and label as introduced in the [Annotating Data](../../../user_guide/01-Annotating_Data.ipynb) guide:"
   ]
  },
  {
   "cell_type": "code",
   "execution_count": null,
   "metadata": {},
   "outputs": [],
   "source": [
    "xvals = [0.1* i for i in range(100)]\n",
    "low_freq =  hv.Curve((xvals, [np.sin(x) for x in xvals]),   group='Sinusoid', label='Low Frequency')\n",
    "linpoints =  hv.Scatter((xvals[::5], np.linspace(0,1,20)), group='Linear Points', label='Demo')\n",
    "labelled = low_freq + linpoints\n",
    "labelled"
   ]
  },
  {
   "cell_type": "markdown",
   "metadata": {},
   "source": [
    "We can now see how group and label affect access in addition to being used for setting the titles:"
   ]
  },
  {
   "cell_type": "code",
   "execution_count": null,
   "metadata": {},
   "outputs": [],
   "source": [
    "labelled.Linear_Points.Demo + labelled.Sinusoid.Low_Frequency"
   ]
  },
  {
   "cell_type": "markdown",
   "metadata": {},
   "source": [
    "We have used the semantic group and label names to access the elements and build a new re-ordered layout.\n",
    "\n",
    "Group and label also allow plot customization; see \n",
    "[Customizing Plots](../../../user_guide/03-Customizing_Plots.ipynb) for more information."
   ]
  },
  {
   "cell_type": "markdown",
   "metadata": {},
   "source": [
    "## ``Overlay``"
   ]
  },
  {
   "cell_type": "markdown",
   "metadata": {},
   "source": [
    "An ``Overlay`` can contain any HoloViews elements, but the only container type it can contain is ``NdOverlay``. [Building Composite Objects](05-Building_Composite_Objects.ipynb) provides more detail on how to compose containers.\n",
    "\n",
    "Other than being composed with ``*`` and displaying elements together in the same space, ``Overlay`` shares many of the same concepts as layout. The rest of this section will show the overlay equivalents of the manipulations shown above for layout. \n",
    "\n",
    "First, composition with ``*`` instead of ``+``:"
   ]
  },
  {
   "cell_type": "code",
   "execution_count": null,
   "metadata": {},
   "outputs": [],
   "source": [
    "curve * scatter"
   ]
  },
  {
   "cell_type": "markdown",
   "metadata": {},
   "source": [
    "### Building ``Overlay`` from a list"
   ]
  },
  {
   "cell_type": "markdown",
   "metadata": {},
   "source": [
    "An ``Overlay`` can be built explicitly from a list, just like a ``Layout``:"
   ]
  },
  {
   "cell_type": "code",
   "execution_count": null,
   "metadata": {},
   "outputs": [],
   "source": [
    "curve_list   = [hv.Curve((xvals, [np.sin(f*x) for x in xvals])) for f in [0.5, 0.75]]\n",
    "scatter_list = [hv.Scatter((xvals[::5], f*np.linspace(0,1,20))) for f in [-0.5, 0.5]]\n",
    "overlay = hv.Overlay(curve_list + scatter_list)\n",
    "overlay"
   ]
  },
  {
   "cell_type": "markdown",
   "metadata": {},
   "source": [
    "Note: one concept that applies to ``Overlay`` but not ``Layout`` is that of *color cycles*, which you can learn about in [Customizing Plots](../../../user_guide/03-Customizing_Plots.ipynb)."
   ]
  },
  {
   "cell_type": "markdown",
   "metadata": {},
   "source": [
    "### ``Overlay`` has two-level attribute access"
   ]
  },
  {
   "cell_type": "markdown",
   "metadata": {},
   "source": [
    "Like ``Layout``, ``Overlay`` is fundamentally a tree structure holding arbitrary heterogenous HoloViews objects, unlike the dimensioned containers. ``Overlay`` objects also make use of the ``group`` and ``label`` parameters, introduced in [Annotating Data](01-Annotating_Data.ipynb), for two-level attribute access.\n",
    "\n",
    "Once again, let us see how to index the above example where the ``group`` and ``label`` parameters were left unspecified:"
   ]
  },
  {
   "cell_type": "code",
   "execution_count": null,
   "metadata": {},
   "outputs": [],
   "source": [
    "overlay.Curve.I * overlay.Scatter.II"
   ]
  },
  {
   "cell_type": "markdown",
   "metadata": {},
   "source": [
    "Here we create a second overlay by indexing two elements from our earlier ``overlay`` object and using ``*`` between them. We see that the first level is the ``group`` string (which defaults to the element class name) followed by the label, which wasn't set and is therefore mapped to a roman numeral (I,II,III etc)."
   ]
  },
  {
   "cell_type": "markdown",
   "metadata": {},
   "source": [
    "### Using ``group`` and ``label`` with ``Overlay``"
   ]
  },
  {
   "cell_type": "markdown",
   "metadata": {},
   "source": [
    "Now let's return to the first simple overlay example, this time setting ``group`` and ``label`` as introduced in the [Annotating Data](../../../user_guide/01-Annotating_Data.ipynb) guide:"
   ]
  },
  {
   "cell_type": "code",
   "execution_count": null,
   "metadata": {},
   "outputs": [],
   "source": [
    "high_freq =  hv.Curve((xvals, [np.sin(2*x) for x in xvals]), group='Sinusoid', label='High Frequency')\n",
    "labelled = low_freq * high_freq * linpoints\n",
    "labelled"
   ]
  },
  {
   "cell_type": "markdown",
   "metadata": {},
   "source": [
    "Once again, this example follows the corresponding ``Layout`` example, although this time we added a high-frequency curve to demonstrate how ``group`` and ``label`` are now used to generate the legend (as opposed to the title, as it was for ``Layout``).\n",
    "\n",
    "The following example shows how ``group`` and ``label`` affect access:"
   ]
  },
  {
   "cell_type": "code",
   "execution_count": null,
   "metadata": {},
   "outputs": [],
   "source": [
    "labelled.Linear_Points.Demo * labelled.Sinusoid.High_Frequency * labelled.Sinusoid.Low_Frequency"
   ]
  },
  {
   "cell_type": "markdown",
   "metadata": {},
   "source": [
    "This new re-ordered ``Overlay`` switches the z-ordering as well as the legend color of the two sinusoidal curves."
   ]
  },
  {
   "cell_type": "markdown",
   "metadata": {},
   "source": [
    "Group and label also allow plot customization; see \n",
    "[Customizing Plots](../../../user_guide/03-Customizing_Plots.ipynb) for more information."
   ]
  },
  {
   "cell_type": "markdown",
   "metadata": {},
   "source": [
    "## Tab-completion\n",
    "\n",
    "Both ``Layout`` and ``Overlay`` are designed to be easy to explore and inspect with tab completion. Try running:\n",
    "\n",
    "```python\n",
    "overlay.[tab]\n",
    "```\n",
    "\n",
    "or\n",
    "\n",
    "```python\n",
    "layout.[tab]\n",
    "```\n",
    "\n",
    "\n",
    "In a code cell and you should see the first levels of indexing (``Curve`` and ``Scatter``) conveniently listed at the top. If this is not the case, you may need to enable improved tab-completion as described in [Configuring HoloViews](../../../user_guide/Configuring_HoloViews.ipynb)."
   ]
  },
  {
   "cell_type": "markdown",
   "metadata": {},
   "source": [
    "Having seen how to compose elements, the next section shows how to [customize your plots](../../../user_guide/03-Customizing_Plots.ipynb)."
   ]
  }
 ],
 "metadata": {
  "language_info": {
   "name": "python",
   "pygments_lexer": "ipython3"
  }
 },
 "nbformat": 4,
 "nbformat_minor": 2
}
