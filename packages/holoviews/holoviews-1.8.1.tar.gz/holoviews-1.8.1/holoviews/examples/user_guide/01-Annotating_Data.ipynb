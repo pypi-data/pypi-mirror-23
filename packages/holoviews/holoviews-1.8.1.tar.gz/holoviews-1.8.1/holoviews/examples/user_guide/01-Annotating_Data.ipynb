{
 "cells": [
  {
   "cell_type": "markdown",
   "metadata": {},
   "source": [
    "# Annotating your Data"
   ]
  },
  {
   "cell_type": "code",
   "execution_count": null,
   "metadata": {},
   "outputs": [],
   "source": [
    "import holoviews as hv\n",
    "import holoviews.util\n",
    "hv.extension('bokeh')"
   ]
  },
  {
   "cell_type": "markdown",
   "metadata": {},
   "source": [
    "One of the fundamental concepts in HoloViews introduced in the [Getting Started guide](../getting_started/1-Introduction.ipynb) is that of annotating data with key, semantic metadata. This user guide documents the two main types of annotation:\n",
    "  1. dimensions, used to specify the abstract space in which the data resides;\n",
    "  2. the element group/label system, used to organize and select data."
   ]
  },
  {
   "cell_type": "markdown",
   "metadata": {},
   "source": [
    "## Specifying dimensionality\n",
    "\n",
    "Simple data structures such as dataframes, arrays, lists, or dictionaries cannot be given a suitable visual representation without some associated semantic context. Fundamentally, HoloViews lets you specify this context by first selecting a suitable element type (see the [Reference Gallery](http://holoviews.org/reference/index.html)), and then specifying the corresponding *dimensions*.\n",
    "\n",
    "Here is a very simple example, showing a ``Curve`` element:"
   ]
  },
  {
   "cell_type": "code",
   "execution_count": null,
   "metadata": {},
   "outputs": [],
   "source": [
    "xs = range(-10,11)\n",
    "ys = [100-el**2 for el in xs]\n",
    "curve = hv.Curve((xs, ys))\n",
    "curve"
   ]
  },
  {
   "cell_type": "markdown",
   "metadata": {},
   "source": [
    "All elements (except a small number of annotation elements) have two types of dimensions: *key dimensions* (``kdims``) and *value dimensions* (``vdims``). The *key dimensions* are the dimensions you can index *by* to get the values corresponding to the *value* dimensions. You can learn more about indexing data in the later [Indexing and Selecting Data](./09-Indexing_and_Selecting_Data.ipynb) user guide.\n",
    "\n",
    "Different elements have different numbers of required key dimensions and value dimensions. For instance, a ``Curve`` always has one key dimension and one value dimension. As we did not explicitly specify anything regarding dimensions when declaring the curve above, the ``kdims`` and ``vidms`` use their default names 'x' and 'y':"
   ]
  },
  {
   "cell_type": "code",
   "execution_count": null,
   "metadata": {},
   "outputs": [],
   "source": [
    "\"Object 'curve' has kdims {kdims} and vdims {vdims} \".format(kdims=curve.kdims, vdims=curve.vdims)"
   ]
  },
  {
   "cell_type": "markdown",
   "metadata": {},
   "source": [
    "The easiest way to specify dimensions other than the defaults is as strings, which sets the dimension names:"
   ]
  },
  {
   "cell_type": "code",
   "execution_count": null,
   "metadata": {},
   "outputs": [],
   "source": [
    "trajectory = hv.Curve((xs, ys), kdims=['distance'], vdims=['height'])\n",
    "trajectory"
   ]
  },
  {
   "cell_type": "code",
   "execution_count": null,
   "metadata": {},
   "outputs": [],
   "source": [
    "\"Object 'trajectory' has kdims {kdims} and vdims {vdims} \".format(kdims=trajectory.kdims, vdims=trajectory.vdims)"
   ]
  },
  {
   "cell_type": "markdown",
   "metadata": {},
   "source": [
    "We can see our strings have been 'promoted' to dimension objects describing the space in which our trajectory data resides: the ``kdims`` and ``vdims`` *always* contain instances of the ``Dimension`` class, described in the following section. Note that naming our dimensions has given the corresponding visual representation appropriate axis labels."
   ]
  },
  {
   "cell_type": "markdown",
   "metadata": {},
   "source": [
    "### Dimension parameters\n",
    "\n",
    "``Dimension`` objects have a number of parameters used to describe the space in which the data resides. Only two of these are considered *core* parameters that identify the dimension object; the rest are auxilliary metadata. Here are the descriptions of the most important ones:\n",
    "\n",
    "\n",
    "<br>\n",
    "<dl class=\"dl-horizontal\">\n",
    "  <dt>``name``</dt><dd>(core) A concise name for the dimension that should be useable as a keyword argument</dd>\n",
    "  <dt>``label`` <dd>(core) A longer description of the dimension (can contain unicode)</dd>\n",
    "  <dt>``range`` <dd>The minumum and maximum allowable values for the dimension.</dd>\n",
    "  <dt>``soft_range`` <dd>Suggested minumum and maximum values, used to specify a useful portion of the range.</dd>\n",
    "  <dt>``step`` <dd>If specified, the step parameter suggests an appropriate sampling of a continuous range</dd>\n",
    "  <dt>``unit`` <dd>If specified, the name of the unit associated with the dimension.</dd>\n",
    "  <dt>``values`` <dd>Explicit list of allowed dimension values</dd>\n",
    "</dl>\n",
    "\n",
    "\n",
    "For the full list of parameters, you can call ``hv.help(hv.Dimension)``.\n",
    "\n",
    "Instead of just a string name, you can use a ``(name, label)`` tuple if you want to specify both ``name`` and ``label`` without building an explicit ``Dimension`` for ``kdims`` and ``vdims``:"
   ]
  },
  {
   "cell_type": "code",
   "execution_count": null,
   "metadata": {},
   "outputs": [],
   "source": [
    "wo_unit = hv.Curve((xs, ys), \n",
    "                   kdims=[('distance','Horizontal distance')], \n",
    "                   vdims=[('height','Height above sea-level')])\n",
    "\n",
    "distance = hv.Dimension('distance', label='Horizontal distance', unit='m')\n",
    "height = hv.Dimension(('height','Height above sea-level'), unit='m')\n",
    "with_unit = hv.Curve((xs, ys), kdims=[distance], vdims=[height])\n",
    "\n",
    "# (using + to compose elements is described in the next guide)\n",
    "wo_unit + with_unit"
   ]
  },
  {
   "cell_type": "markdown",
   "metadata": {},
   "source": [
    "Note that after supplying the longer labels, you still use the short name to specify the dimension as keyword arguments. For instance,try using ``with_unit.select(distance=(5,8))`` in the cell above."
   ]
  },
  {
   "cell_type": "markdown",
   "metadata": {},
   "source": [
    "### Setting properties with redim"
   ]
  },
  {
   "cell_type": "markdown",
   "metadata": {},
   "source": [
    "Declaring dimension objects with appropriate parameters can be verbose if you only want to set a few specific parameters. You can often avoid declaring explicit dimension objects using the ``redim`` method, which returns a *clone* of the element: the same data, wrapped in a new instance of the same element type with the new dimension settings.\n",
    "\n",
    "Let's use ``redim`` to swap out the 'height' dimension for the 'altitude' dimension:"
   ]
  },
  {
   "cell_type": "code",
   "execution_count": null,
   "metadata": {},
   "outputs": [],
   "source": [
    "renamed_height = trajectory.redim(height='altitude')\n",
    "renamed_height"
   ]
  },
  {
   "cell_type": "markdown",
   "metadata": {},
   "source": [
    "The ``redim`` 'method' is actually a utility that can be used to set any of the dimension parameters:"
   ]
  },
  {
   "cell_type": "code",
   "execution_count": null,
   "metadata": {},
   "outputs": [],
   "source": [
    "renamed_height.redim.label(altitude='Altitude above sea-level', distance='Horizontal distance')"
   ]
  },
  {
   "cell_type": "markdown",
   "metadata": {},
   "source": [
    "This pattern can be used to set any of the parameters listed above (unit, range, values, etc) by specifying the dimension name and the new value for the parameter."
   ]
  },
  {
   "cell_type": "markdown",
   "metadata": {},
   "source": [
    "## Organizing your elements\n",
    "\n",
    "A complex visualization with HoloViews may include many instances of the same element where each element has a different meaning. It is useful to be able to assign semantic tags to individual elements which HoloViews does with ``group`` and ``label``:"
   ]
  },
  {
   "cell_type": "code",
   "execution_count": null,
   "metadata": {},
   "outputs": [],
   "source": [
    "low_ys = [25-(0.5*el)**2 for el in xs]\n",
    "hv.Curve((xs, low_ys), group='Trajectory', label='Shallow') + \\\n",
    "hv.Curve((xs, ys), group='Trajectory', label='Medium')"
   ]
  },
  {
   "cell_type": "markdown",
   "metadata": {},
   "source": [
    "As shown above, ``group`` and ``label`` have been used generate sensible titles. The ``group`` is expected to specify what the element corresponds to at the level of its type, while the ``label`` is used to specify a particular element in a group.\n",
    "\n",
    "The ``group`` and ``label`` system also allows [Customizing Plots](./03-Customizing_Plots.ipynb), and it is used for indexing, as we will see in the following [Composing_Elements](./02-Composing_Elements.ipynb) guide."
   ]
  }
 ],
 "metadata": {
  "language_info": {
   "name": "python",
   "pygments_lexer": "ipython3"
  }
 },
 "nbformat": 4,
 "nbformat_minor": 2
}
