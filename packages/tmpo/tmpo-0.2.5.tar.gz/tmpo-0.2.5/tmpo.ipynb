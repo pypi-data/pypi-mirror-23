{
 "metadata": {
  "name": "",
  "signature": "sha256:ccf6e7833d8f67f7ad30cf0ce0c9299967deb314eaada60a808b4e7b06b7118b"
 },
 "nbformat": 3,
 "nbformat_minor": 0,
 "worksheets": [
  {
   "cells": [
    {
     "cell_type": "code",
     "collapsed": false,
     "input": [
      "%matplotlib inline"
     ],
     "language": "python",
     "metadata": {},
     "outputs": []
    },
    {
     "cell_type": "code",
     "collapsed": false,
     "input": [
      "token = \"b371402dc767cc83e41bc294b63f9586\"\n",
      "house = {\n",
      "    \"cellar\": {\n",
      "        \"electricity\": \"fed676021dacaaf6a12a8dda7685be34\"\n",
      "    }\n",
      "}"
     ],
     "language": "python",
     "metadata": {},
     "outputs": []
    },
    {
     "cell_type": "code",
     "collapsed": false,
     "input": [
      "import os\n",
      "import tmpo\n",
      "\n",
      "s = tmpo.Session(path=os.getcwd())\n",
      "for room in house:\n",
      "    for sensor in house[room]:\n",
      "        s.add(house[room][sensor], token)"
     ],
     "language": "python",
     "metadata": {},
     "outputs": []
    },
    {
     "cell_type": "code",
     "collapsed": false,
     "input": [
      "s.debug = True"
     ],
     "language": "python",
     "metadata": {},
     "outputs": []
    },
    {
     "cell_type": "code",
     "collapsed": false,
     "input": [
      "s.sync()"
     ],
     "language": "python",
     "metadata": {},
     "outputs": []
    },
    {
     "cell_type": "code",
     "collapsed": false,
     "input": [
      "import matplotlib.pyplot as plt\n",
      "\n",
      "room = \"cellar\"\n",
      "plt.figure(figsize=(16,10))\n",
      "ax1=plt.subplot()\n",
      "ax1.grid()\n",
      "ax1.set_ylabel(u'Wh')\n",
      "df = s.dataframe([house[room][\"electricity\"]])\n",
      "plt.title(room + \" electricity\")\n",
      "plt.plot_date(df.index, df, fmt=\"r-\")"
     ],
     "language": "python",
     "metadata": {},
     "outputs": []
    }
   ],
   "metadata": {}
  }
 ]
}