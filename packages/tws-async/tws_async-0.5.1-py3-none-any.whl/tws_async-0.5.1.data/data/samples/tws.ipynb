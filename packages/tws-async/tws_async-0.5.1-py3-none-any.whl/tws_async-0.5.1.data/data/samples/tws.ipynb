{
 "cells": [
  {
   "cell_type": "code",
   "execution_count": 1,
   "metadata": {
    "collapsed": true
   },
   "outputs": [],
   "source": [
    "%gui qt5\n",
    "import datetime\n",
    "from collections import defaultdict\n",
    "import ibapi\n",
    "from tws_async import TWSClientQt, iswrapper, Stock"
   ]
  },
  {
   "cell_type": "code",
   "execution_count": 2,
   "metadata": {},
   "outputs": [
    {
     "name": "stderr",
     "output_type": "stream",
     "text": [
      "ERROR:root:ERROR -1 2104 Market data farm connection is OK:eufarm\n",
      "ERROR:root:ERROR -1 2104 Market data farm connection is OK:cashfarm\n",
      "ERROR:root:ERROR -1 2104 Market data farm connection is OK:usfarm\n",
      "ERROR:root:ERROR -1 2106 HMDS data farm connection is OK:cashhmds\n",
      "ERROR:root:ERROR -1 2106 HMDS data farm connection is OK:ushmds\n"
     ]
    }
   ],
   "source": [
    "# sample application\n",
    "class TWS(TWSClientQt):\n",
    "    def __init__(self):\n",
    "        TWSClientQt.__init__(self)\n",
    "        self._reqIdSeq = 0\n",
    "        self._histData = defaultdict(list)\n",
    "\n",
    "    def getReqId(self):\n",
    "        \"\"\"\n",
    "        Get new request ID (integer).\n",
    "        \"\"\"\n",
    "        assert self._reqIdSeq\n",
    "        newId = self._reqIdSeq\n",
    "        self._reqIdSeq += 1\n",
    "        return newId\n",
    "    \n",
    "    def popHistData(self, reqId):\n",
    "        \"\"\"\n",
    "        Remove and return the historical data that was downloaded for the given reqId.\n",
    "        \"\"\"\n",
    "        return self._histData.pop(reqId)\n",
    "    \n",
    "    @iswrapper\n",
    "    def nextValidId(self, reqId: int):\n",
    "        self._reqIdSeq = reqId\n",
    "\n",
    "    @iswrapper\n",
    "    def tickPrice(self, reqId: int,\n",
    "            tickType: ibapi.ticktype.TickType,\n",
    "            price: float,\n",
    "            attrib: ibapi.common.TickAttrib):\n",
    "        print('{} price {}'.format(reqId, price))\n",
    "\n",
    "    @iswrapper\n",
    "    def tickSize(self, reqId: int,\n",
    "            tickType: ibapi.ticktype.TickType,\n",
    "            size: int):\n",
    "        print('{} size {}'.format(reqId, size))\n",
    "\n",
    "    @iswrapper\n",
    "    def historicalData(self, reqId: int, date: str, open: float, high: float,\n",
    "            low: float, close: float, volume: int, barCount: int,\n",
    "            WAP: float, hasGaps: int):\n",
    "        self._histData[reqId].append((date, open, high, low, close, volume))\n",
    "        \n",
    "    @iswrapper\n",
    "    def historicalDataEnd(self, reqId: int, start: str, end: str):\n",
    "        print('Historical request {} is finished'.format(reqId))\n",
    "\n",
    "        \n",
    "if 'tws' in locals():\n",
    "    tws.disconnect()\n",
    "tws = TWS()\n",
    "tws.connect('127.0.0.1', 7497, clientId=1)"
   ]
  },
  {
   "cell_type": "code",
   "execution_count": 3,
   "metadata": {},
   "outputs": [
    {
     "name": "stdout",
     "output_type": "stream",
     "text": [
      "Historical request 488 is finished\n"
     ]
    }
   ],
   "source": [
    "# request historical bar data\n",
    "contract = Stock('TSLA')\n",
    "reqId = tws.getReqId()\n",
    "tws.reqHistoricalData(reqId, contract,\n",
    "        endDateTime=datetime.datetime.utcnow().strftime('%Y%m%d %H:%M:%S UTC'),\n",
    "        durationStr='60 D',\n",
    "        barSizeSetting='1 hour',\n",
    "        whatToShow='TRADES',\n",
    "        useRTH=False,\n",
    "        formatDate=1,\n",
    "        chartOptions=None)"
   ]
  },
  {
   "cell_type": "code",
   "execution_count": 4,
   "metadata": {
    "collapsed": true
   },
   "outputs": [],
   "source": [
    "# fetch data when it's finished\n",
    "data = tws.popHistData(reqId)"
   ]
  },
  {
   "cell_type": "code",
   "execution_count": 5,
   "metadata": {},
   "outputs": [
    {
     "data": {
      "text/html": [
       "<div>\n",
       "<style>\n",
       "    .dataframe thead tr:only-child th {\n",
       "        text-align: right;\n",
       "    }\n",
       "\n",
       "    .dataframe thead th {\n",
       "        text-align: left;\n",
       "    }\n",
       "\n",
       "    .dataframe tbody tr th {\n",
       "        vertical-align: top;\n",
       "    }\n",
       "</style>\n",
       "<table border=\"1\" class=\"dataframe\">\n",
       "  <thead>\n",
       "    <tr style=\"text-align: right;\">\n",
       "      <th></th>\n",
       "      <th>datetime</th>\n",
       "      <th>open</th>\n",
       "      <th>high</th>\n",
       "      <th>low</th>\n",
       "      <th>close</th>\n",
       "      <th>volume</th>\n",
       "    </tr>\n",
       "  </thead>\n",
       "  <tbody>\n",
       "    <tr>\n",
       "      <th>0</th>\n",
       "      <td>2017-03-28 10:00:00</td>\n",
       "      <td>271.00</td>\n",
       "      <td>271.00</td>\n",
       "      <td>271.0</td>\n",
       "      <td>271.00</td>\n",
       "      <td>2</td>\n",
       "    </tr>\n",
       "    <tr>\n",
       "      <th>1</th>\n",
       "      <td>2017-03-28 11:00:00</td>\n",
       "      <td>271.00</td>\n",
       "      <td>271.00</td>\n",
       "      <td>271.0</td>\n",
       "      <td>271.00</td>\n",
       "      <td>0</td>\n",
       "    </tr>\n",
       "    <tr>\n",
       "      <th>2</th>\n",
       "      <td>2017-03-28 12:00:00</td>\n",
       "      <td>270.28</td>\n",
       "      <td>270.28</td>\n",
       "      <td>269.0</td>\n",
       "      <td>269.00</td>\n",
       "      <td>20</td>\n",
       "    </tr>\n",
       "    <tr>\n",
       "      <th>3</th>\n",
       "      <td>2017-03-28 13:00:00</td>\n",
       "      <td>268.40</td>\n",
       "      <td>279.40</td>\n",
       "      <td>268.0</td>\n",
       "      <td>275.25</td>\n",
       "      <td>1064</td>\n",
       "    </tr>\n",
       "    <tr>\n",
       "      <th>4</th>\n",
       "      <td>2017-03-28 14:00:00</td>\n",
       "      <td>275.49</td>\n",
       "      <td>278.85</td>\n",
       "      <td>271.2</td>\n",
       "      <td>277.75</td>\n",
       "      <td>1671</td>\n",
       "    </tr>\n",
       "  </tbody>\n",
       "</table>\n",
       "</div>"
      ],
      "text/plain": [
       "             datetime    open    high    low   close  volume\n",
       "0 2017-03-28 10:00:00  271.00  271.00  271.0  271.00       2\n",
       "1 2017-03-28 11:00:00  271.00  271.00  271.0  271.00       0\n",
       "2 2017-03-28 12:00:00  270.28  270.28  269.0  269.00      20\n",
       "3 2017-03-28 13:00:00  268.40  279.40  268.0  275.25    1064\n",
       "4 2017-03-28 14:00:00  275.49  278.85  271.2  277.75    1671"
      ]
     },
     "metadata": {},
     "output_type": "display_data"
    },
    {
     "data": {
      "text/html": [
       "<div>\n",
       "<style>\n",
       "    .dataframe thead tr:only-child th {\n",
       "        text-align: right;\n",
       "    }\n",
       "\n",
       "    .dataframe thead th {\n",
       "        text-align: left;\n",
       "    }\n",
       "\n",
       "    .dataframe tbody tr th {\n",
       "        vertical-align: top;\n",
       "    }\n",
       "</style>\n",
       "<table border=\"1\" class=\"dataframe\">\n",
       "  <thead>\n",
       "    <tr style=\"text-align: right;\">\n",
       "      <th></th>\n",
       "      <th>datetime</th>\n",
       "      <th>open</th>\n",
       "      <th>high</th>\n",
       "      <th>low</th>\n",
       "      <th>close</th>\n",
       "      <th>volume</th>\n",
       "    </tr>\n",
       "  </thead>\n",
       "  <tbody>\n",
       "    <tr>\n",
       "      <th>937</th>\n",
       "      <td>2017-06-21 19:00:00</td>\n",
       "      <td>372.51</td>\n",
       "      <td>373.14</td>\n",
       "      <td>371.02</td>\n",
       "      <td>371.56</td>\n",
       "      <td>2349</td>\n",
       "    </tr>\n",
       "    <tr>\n",
       "      <th>938</th>\n",
       "      <td>2017-06-21 20:00:00</td>\n",
       "      <td>371.65</td>\n",
       "      <td>374.22</td>\n",
       "      <td>371.31</td>\n",
       "      <td>373.84</td>\n",
       "      <td>4687</td>\n",
       "    </tr>\n",
       "    <tr>\n",
       "      <th>939</th>\n",
       "      <td>2017-06-21 21:00:00</td>\n",
       "      <td>373.77</td>\n",
       "      <td>376.99</td>\n",
       "      <td>373.35</td>\n",
       "      <td>376.40</td>\n",
       "      <td>8341</td>\n",
       "    </tr>\n",
       "    <tr>\n",
       "      <th>940</th>\n",
       "      <td>2017-06-21 22:00:00</td>\n",
       "      <td>376.40</td>\n",
       "      <td>376.50</td>\n",
       "      <td>374.90</td>\n",
       "      <td>375.20</td>\n",
       "      <td>683</td>\n",
       "    </tr>\n",
       "    <tr>\n",
       "      <th>941</th>\n",
       "      <td>2017-06-21 23:00:00</td>\n",
       "      <td>375.75</td>\n",
       "      <td>376.00</td>\n",
       "      <td>375.38</td>\n",
       "      <td>375.38</td>\n",
       "      <td>11</td>\n",
       "    </tr>\n",
       "  </tbody>\n",
       "</table>\n",
       "</div>"
      ],
      "text/plain": [
       "               datetime    open    high     low   close  volume\n",
       "937 2017-06-21 19:00:00  372.51  373.14  371.02  371.56    2349\n",
       "938 2017-06-21 20:00:00  371.65  374.22  371.31  373.84    4687\n",
       "939 2017-06-21 21:00:00  373.77  376.99  373.35  376.40    8341\n",
       "940 2017-06-21 22:00:00  376.40  376.50  374.90  375.20     683\n",
       "941 2017-06-21 23:00:00  375.75  376.00  375.38  375.38      11"
      ]
     },
     "metadata": {},
     "output_type": "display_data"
    }
   ],
   "source": [
    "# process data\n",
    "import pandas as pd  \n",
    "df = pd.DataFrame.from_records(data)\n",
    "df.columns = ['datetime', 'open', 'high', 'low', 'close', 'volume']\n",
    "df['datetime'] =  pd.to_datetime(df['datetime'])\n",
    "# df.set_index('datetime', inplace=True)\n",
    "display(df.head())\n",
    "display(df.tail())"
   ]
  },
  {
   "cell_type": "code",
   "execution_count": 6,
   "metadata": {},
   "outputs": [
    {
     "data": {
      "text/plain": [
       "<matplotlib.axes._subplots.AxesSubplot at 0x7f6f249f3a20>"
      ]
     },
     "execution_count": 6,
     "metadata": {},
     "output_type": "execute_result"
    },
    {
     "data": {
      "image/png": "[encoded data removed]",
      "text/plain": [
       "<matplotlib.figure.Figure at 0x7f6f249d1da0>"
      ]
     },
     "metadata": {},
     "output_type": "display_data"
    }
   ],
   "source": [
    "# plot data\n",
    "%matplotlib inline\n",
    "import seaborn as sns\n",
    "df.plot(y='close', figsize=(12,8))"
   ]
  },
  {
   "cell_type": "code",
   "execution_count": 7,
   "metadata": {},
   "outputs": [
    {
     "name": "stdout",
     "output_type": "stream",
     "text": [
      "489 price 375.38\n",
      "489 size 1\n",
      "489 price 375.95\n",
      "489 size 1\n",
      "489 price 375.38\n",
      "489 size 1\n",
      "489 size 1\n",
      "489 size 1\n",
      "489 size 1\n",
      "489 size 40966\n",
      "489 price 376.99\n",
      "489 price 368.02\n",
      "489 price 372.24\n",
      "489 price 374.35\n"
     ]
    }
   ],
   "source": [
    "# subscribe to realtime tick data\n",
    "reqId = tws.getReqId()\n",
    "tws.reqMktData(reqId, contract, genericTickList='', snapshot=False,\n",
    "        regulatorySnapshot=False, mktDataOptions=[])"
   ]
  },
  {
   "cell_type": "code",
   "execution_count": 8,
   "metadata": {},
   "outputs": [],
   "source": [
    "# cancel realtime ticks\n",
    "tws.cancelMktData(reqId)"
   ]
  },
  {
   "cell_type": "code",
   "execution_count": 9,
   "metadata": {},
   "outputs": [
    {
     "name": "stdout",
     "output_type": "stream",
     "text": [
      "starting coroutine...\n",
      "coroutine finished\n"
     ]
    }
   ],
   "source": [
    "# asyncio integration\n",
    "import asyncio\n",
    "import quamash\n",
    "\n",
    "async def coro(seconds):\n",
    "    print('starting coroutine...')\n",
    "    await asyncio.sleep(seconds)\n",
    "    print('coroutine finished')\n",
    "\n",
    "loop = quamash.QEventLoop()\n",
    "asyncio.set_event_loop(loop)\n",
    "\n",
    "task = asyncio.ensure_future(coro(seconds=1))\n",
    "# note that the Qt event loop doesn't need to be started as it's already running"
   ]
  },
  {
   "cell_type": "code",
   "execution_count": null,
   "metadata": {
    "collapsed": true
   },
   "outputs": [],
   "source": []
  }
 ],
 "metadata": {
  "kernelspec": {
   "display_name": "Python 3",
   "language": "python",
   "name": "python3"
  },
  "language_info": {
   "codemirror_mode": {
    "name": "ipython",
    "version": 3
   },
   "file_extension": ".py",
   "mimetype": "text/x-python",
   "name": "python",
   "nbconvert_exporter": "python",
   "pygments_lexer": "ipython3",
   "version": "3.6.1"
  }
 },
 "nbformat": 4,
 "nbformat_minor": 2
}
