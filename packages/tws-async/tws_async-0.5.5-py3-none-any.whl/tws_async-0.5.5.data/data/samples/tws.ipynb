{
 "cells": [
  {
   "cell_type": "code",
   "execution_count": 1,
   "metadata": {},
   "outputs": [],
   "source": [
    "%gui qt5\n",
    "import datetime\n",
    "from collections import defaultdict\n",
    "import ibapi\n",
    "from tws_async import TWSClientQt, iswrapper, util, Stock\n",
    "\n",
    "util.logToConsole()"
   ]
  },
  {
   "cell_type": "code",
   "execution_count": 2,
   "metadata": {},
   "outputs": [
    {
     "name": "stderr",
     "output_type": "stream",
     "text": [
      "2017-06-23 22:24:57,210 TWSClientQt INFO Connecting to 127.0.0.1:7497 with clientId 1...\n",
      "2017-06-23 22:24:57,228 TWSClientQt INFO Logged on to server version 112\n",
      "2017-06-23 22:24:57,231 root ERROR ERROR -1 2104 Market data farm connection is OK:eufarm\n",
      "2017-06-23 22:24:57,231 root ERROR ERROR -1 2104 Market data farm connection is OK:cashfarm\n",
      "2017-06-23 22:24:57,232 root ERROR ERROR -1 2104 Market data farm connection is OK:usfarm\n",
      "2017-06-23 22:24:57,232 root ERROR ERROR -1 2106 HMDS data farm connection is OK:ushmds\n"
     ]
    }
   ],
   "source": [
    "# sample application\n",
    "class TWS(TWSClientQt):\n",
    "    def __init__(self):\n",
    "        TWSClientQt.__init__(self)\n",
    "        self._reqIdSeq = 0\n",
    "        self._histData = defaultdict(list)\n",
    "\n",
    "    def popHistData(self, reqId):\n",
    "        \"\"\"\n",
    "        Remove and return the historical data that was downloaded for the given reqId.\n",
    "        \"\"\"\n",
    "        return self._histData.pop(reqId)\n",
    "    \n",
    "    @iswrapper\n",
    "    def tickPrice(self, reqId: int,\n",
    "            tickType: ibapi.ticktype.TickType,\n",
    "            price: float,\n",
    "            attrib: ibapi.common.TickAttrib):\n",
    "        print('{} price {}'.format(reqId, price))\n",
    "\n",
    "    @iswrapper\n",
    "    def tickSize(self, reqId: int,\n",
    "            tickType: ibapi.ticktype.TickType,\n",
    "            size: int):\n",
    "        print('{} size {}'.format(reqId, size))\n",
    "\n",
    "    @iswrapper\n",
    "    def historicalData(self, reqId: int, date: str, open: float, high: float,\n",
    "            low: float, close: float, volume: int, barCount: int,\n",
    "            WAP: float, hasGaps: int):\n",
    "        self._histData[reqId].append((date, open, high, low, close, volume))\n",
    "        \n",
    "    @iswrapper\n",
    "    def historicalDataEnd(self, reqId: int, start: str, end: str):\n",
    "        print('Historical request {} is finished'.format(reqId))\n",
    "\n",
    "\n",
    "if 'tws' in locals():\n",
    "    tws.disconnect()\n",
    "tws = TWS()\n",
    "tws.connect('127.0.0.1', 7497, clientId=1)"
   ]
  },
  {
   "cell_type": "code",
   "execution_count": 3,
   "metadata": {},
   "outputs": [
    {
     "name": "stdout",
     "output_type": "stream",
     "text": [
      "Historical request 488 is finished\n"
     ]
    }
   ],
   "source": [
    "# request historical bar data\n",
    "contract = Stock('TSLA')\n",
    "reqId = tws.getReqId()\n",
    "tws.reqHistoricalData(reqId, contract,\n",
    "        endDateTime=datetime.datetime.utcnow().strftime('%Y%m%d %H:%M:%S UTC'),\n",
    "        durationStr='60 D',\n",
    "        barSizeSetting='1 hour',\n",
    "        whatToShow='TRADES',\n",
    "        useRTH=False,\n",
    "        formatDate=1,\n",
    "        chartOptions=None)"
   ]
  },
  {
   "cell_type": "code",
   "execution_count": 4,
   "metadata": {
    "collapsed": true
   },
   "outputs": [],
   "source": [
    "# fetch data when it's finished\n",
    "data = tws.popHistData(reqId)"
   ]
  },
  {
   "cell_type": "code",
   "execution_count": 5,
   "metadata": {},
   "outputs": [
    {
     "data": {
      "text/html": [
       "<div>\n",
       "<style>\n",
       "    .dataframe thead tr:only-child th {\n",
       "        text-align: right;\n",
       "    }\n",
       "\n",
       "    .dataframe thead th {\n",
       "        text-align: left;\n",
       "    }\n",
       "\n",
       "    .dataframe tbody tr th {\n",
       "        vertical-align: top;\n",
       "    }\n",
       "</style>\n",
       "<table border=\"1\" class=\"dataframe\">\n",
       "  <thead>\n",
       "    <tr style=\"text-align: right;\">\n",
       "      <th></th>\n",
       "      <th>datetime</th>\n",
       "      <th>open</th>\n",
       "      <th>high</th>\n",
       "      <th>low</th>\n",
       "      <th>close</th>\n",
       "      <th>volume</th>\n",
       "    </tr>\n",
       "  </thead>\n",
       "  <tbody>\n",
       "    <tr>\n",
       "      <th>0</th>\n",
       "      <td>2017-03-30 14:00:00</td>\n",
       "      <td>277.26</td>\n",
       "      <td>277.76</td>\n",
       "      <td>277.26</td>\n",
       "      <td>277.65</td>\n",
       "      <td>27</td>\n",
       "    </tr>\n",
       "    <tr>\n",
       "      <th>1</th>\n",
       "      <td>2017-03-30 15:00:00</td>\n",
       "      <td>277.59</td>\n",
       "      <td>282.00</td>\n",
       "      <td>277.21</td>\n",
       "      <td>280.72</td>\n",
       "      <td>11216</td>\n",
       "    </tr>\n",
       "    <tr>\n",
       "      <th>2</th>\n",
       "      <td>2017-03-30 16:00:00</td>\n",
       "      <td>280.86</td>\n",
       "      <td>281.37</td>\n",
       "      <td>279.21</td>\n",
       "      <td>280.13</td>\n",
       "      <td>7182</td>\n",
       "    </tr>\n",
       "    <tr>\n",
       "      <th>3</th>\n",
       "      <td>2017-03-30 17:00:00</td>\n",
       "      <td>280.17</td>\n",
       "      <td>281.60</td>\n",
       "      <td>278.81</td>\n",
       "      <td>278.90</td>\n",
       "      <td>6006</td>\n",
       "    </tr>\n",
       "    <tr>\n",
       "      <th>4</th>\n",
       "      <td>2017-03-30 18:00:00</td>\n",
       "      <td>278.80</td>\n",
       "      <td>279.59</td>\n",
       "      <td>278.42</td>\n",
       "      <td>278.68</td>\n",
       "      <td>2388</td>\n",
       "    </tr>\n",
       "  </tbody>\n",
       "</table>\n",
       "</div>"
      ],
      "text/plain": [
       "             datetime    open    high     low   close  volume\n",
       "0 2017-03-30 14:00:00  277.26  277.76  277.26  277.65      27\n",
       "1 2017-03-30 15:00:00  277.59  282.00  277.21  280.72   11216\n",
       "2 2017-03-30 16:00:00  280.86  281.37  279.21  280.13    7182\n",
       "3 2017-03-30 17:00:00  280.17  281.60  278.81  278.90    6006\n",
       "4 2017-03-30 18:00:00  278.80  279.59  278.42  278.68    2388"
      ]
     },
     "metadata": {},
     "output_type": "display_data"
    },
    {
     "data": {
      "text/html": [
       "<div>\n",
       "<style>\n",
       "    .dataframe thead tr:only-child th {\n",
       "        text-align: right;\n",
       "    }\n",
       "\n",
       "    .dataframe thead th {\n",
       "        text-align: left;\n",
       "    }\n",
       "\n",
       "    .dataframe tbody tr th {\n",
       "        vertical-align: top;\n",
       "    }\n",
       "</style>\n",
       "<table border=\"1\" class=\"dataframe\">\n",
       "  <thead>\n",
       "    <tr style=\"text-align: right;\">\n",
       "      <th></th>\n",
       "      <th>datetime</th>\n",
       "      <th>open</th>\n",
       "      <th>high</th>\n",
       "      <th>low</th>\n",
       "      <th>close</th>\n",
       "      <th>volume</th>\n",
       "    </tr>\n",
       "  </thead>\n",
       "  <tbody>\n",
       "    <tr>\n",
       "      <th>937</th>\n",
       "      <td>2017-06-23 18:00:00</td>\n",
       "      <td>385.58</td>\n",
       "      <td>385.58</td>\n",
       "      <td>383.01</td>\n",
       "      <td>383.82</td>\n",
       "      <td>4575</td>\n",
       "    </tr>\n",
       "    <tr>\n",
       "      <th>938</th>\n",
       "      <td>2017-06-23 19:00:00</td>\n",
       "      <td>383.82</td>\n",
       "      <td>384.50</td>\n",
       "      <td>383.61</td>\n",
       "      <td>383.80</td>\n",
       "      <td>3449</td>\n",
       "    </tr>\n",
       "    <tr>\n",
       "      <th>939</th>\n",
       "      <td>2017-06-23 20:00:00</td>\n",
       "      <td>383.81</td>\n",
       "      <td>385.10</td>\n",
       "      <td>382.23</td>\n",
       "      <td>382.53</td>\n",
       "      <td>5242</td>\n",
       "    </tr>\n",
       "    <tr>\n",
       "      <th>940</th>\n",
       "      <td>2017-06-23 21:00:00</td>\n",
       "      <td>382.65</td>\n",
       "      <td>384.60</td>\n",
       "      <td>382.01</td>\n",
       "      <td>383.23</td>\n",
       "      <td>7657</td>\n",
       "    </tr>\n",
       "    <tr>\n",
       "      <th>941</th>\n",
       "      <td>2017-06-23 22:00:00</td>\n",
       "      <td>383.18</td>\n",
       "      <td>383.50</td>\n",
       "      <td>383.00</td>\n",
       "      <td>383.02</td>\n",
       "      <td>2675</td>\n",
       "    </tr>\n",
       "  </tbody>\n",
       "</table>\n",
       "</div>"
      ],
      "text/plain": [
       "               datetime    open    high     low   close  volume\n",
       "937 2017-06-23 18:00:00  385.58  385.58  383.01  383.82    4575\n",
       "938 2017-06-23 19:00:00  383.82  384.50  383.61  383.80    3449\n",
       "939 2017-06-23 20:00:00  383.81  385.10  382.23  382.53    5242\n",
       "940 2017-06-23 21:00:00  382.65  384.60  382.01  383.23    7657\n",
       "941 2017-06-23 22:00:00  383.18  383.50  383.00  383.02    2675"
      ]
     },
     "metadata": {},
     "output_type": "display_data"
    }
   ],
   "source": [
    "# process data\n",
    "import pandas as pd  \n",
    "df = pd.DataFrame.from_records(data)\n",
    "df.columns = ['datetime', 'open', 'high', 'low', 'close', 'volume']\n",
    "df['datetime'] =  pd.to_datetime(df['datetime'])\n",
    "# df.set_index('datetime', inplace=True)\n",
    "display(df.head())\n",
    "display(df.tail())"
   ]
  },
  {
   "cell_type": "code",
   "execution_count": 6,
   "metadata": {},
   "outputs": [
    {
     "data": {
      "text/plain": [
       "<matplotlib.axes._subplots.AxesSubplot at 0x7f57b2d3d550>"
      ]
     },
     "execution_count": 6,
     "metadata": {},
     "output_type": "execute_result"
    },
    {
     "data": {
      "image/png": "[encoded data removed]",
      "text/plain": [
       "<matplotlib.figure.Figure at 0x7f57b31e8898>"
      ]
     },
     "metadata": {},
     "output_type": "display_data"
    }
   ],
   "source": [
    "# plot data\n",
    "%matplotlib inline\n",
    "import seaborn as sns\n",
    "df.plot(y='close', figsize=(12,8))"
   ]
  },
  {
   "cell_type": "code",
   "execution_count": 7,
   "metadata": {},
   "outputs": [
    {
     "name": "stdout",
     "output_type": "stream",
     "text": [
      "489 price 383.02\n",
      "489 size 1\n",
      "489 size 1\n",
      "489 size 52869\n",
      "489 price 386.99\n",
      "489 price 379.35\n",
      "489 price 382.61\n",
      "489 price 382.45\n",
      "489 price 383.02\n",
      "489 size 1\n",
      "489 price 383.25\n",
      "489 size 10\n",
      "489 size 1\n",
      "489 size 10\n"
     ]
    }
   ],
   "source": [
    "# subscribe to realtime tick data\n",
    "reqId = tws.getReqId()\n",
    "tws.reqMktData(reqId, contract, genericTickList='', snapshot=False,\n",
    "        regulatorySnapshot=False, mktDataOptions=[])"
   ]
  },
  {
   "cell_type": "code",
   "execution_count": 8,
   "metadata": {
    "collapsed": true
   },
   "outputs": [],
   "source": [
    "# cancel realtime ticks\n",
    "tws.cancelMktData(reqId)"
   ]
  },
  {
   "cell_type": "code",
   "execution_count": 9,
   "metadata": {},
   "outputs": [
    {
     "name": "stderr",
     "output_type": "stream",
     "text": [
      "2017-06-23 22:25:10,980 quamash INFO Using Qt Implementation: PyQt5\n"
     ]
    },
    {
     "name": "stdout",
     "output_type": "stream",
     "text": [
      "starting coroutine...\n",
      "coroutine finished\n"
     ]
    }
   ],
   "source": [
    "# asyncio integration\n",
    "import asyncio\n",
    "import quamash\n",
    "\n",
    "async def coro(seconds):\n",
    "    print('starting coroutine...')\n",
    "    await asyncio.sleep(seconds)\n",
    "    print('coroutine finished')\n",
    "\n",
    "loop = quamash.QEventLoop()\n",
    "asyncio.set_event_loop(loop)\n",
    "\n",
    "task = asyncio.ensure_future(coro(seconds=1))\n",
    "# note that the Qt event loop doesn't need to be started as it's already running"
   ]
  },
  {
   "cell_type": "code",
   "execution_count": null,
   "metadata": {
    "collapsed": true
   },
   "outputs": [],
   "source": []
  }
 ],
 "metadata": {
  "kernelspec": {
   "display_name": "Python 3",
   "language": "python",
   "name": "python3"
  },
  "language_info": {
   "codemirror_mode": {
    "name": "ipython",
    "version": 3
   },
   "file_extension": ".py",
   "mimetype": "text/x-python",
   "name": "python",
   "nbconvert_exporter": "python",
   "pygments_lexer": "ipython3",
   "version": "3.6.1"
  }
 },
 "nbformat": 4,
 "nbformat_minor": 2
}
