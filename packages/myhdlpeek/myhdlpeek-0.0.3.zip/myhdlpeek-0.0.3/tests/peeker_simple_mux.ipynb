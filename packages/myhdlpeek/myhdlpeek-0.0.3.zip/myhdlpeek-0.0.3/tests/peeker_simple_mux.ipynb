{
 "cells": [
  {
   "cell_type": "markdown",
   "metadata": {},
   "source": [
    "# A Simple Multiplexer Example\n",
    "\n",
    "This example shows how to use the `myhdlpeek` module to monitor the inputs and output of a simple, two-input multiplexer."
   ]
  },
  {
   "cell_type": "code",
   "execution_count": 5,
   "metadata": {
    "collapsed": false
   },
   "outputs": [
    {
     "name": "stdout",
     "output_type": "stream",
     "text": [
      "t  z a b sel\n",
      "1  7 2 7 False\n",
      "2  7 7 4 1\n",
      "3  3 2 3 0\n",
      "4  0 0 2 1\n",
      "5  6 1 6 0\n",
      "6  4 4 2 1\n",
      "7  6 4 6 0\n",
      "8  1 1 5 1\n"
     ]
    },
    {
     "name": "stderr",
     "output_type": "stream",
     "text": [
      "<class 'myhdl.StopSimulation'>: No more events\n"
     ]
    },
    {
     "data": {
      "text/html": [
       "<div><script type=\"WaveDrom\">{\"signal\": [{\"data\": [\"2\", \"7\", \"2\", \"0\", \"1\", \"4\", \"1\"], \"name\": \"a\", \"wave\": \"======.=\"}, {\"data\": [\"7\", \"4\", \"3\", \"2\", \"6\", \"2\", \"6\", \"5\"], \"name\": \"b\", \"wave\": \"========\"}, {\"name\": \"select\", \"wave\": \"01010101\"}, {\"data\": [\"7\", \"3\", \"0\", \"6\", \"4\", \"6\", \"1\"], \"name\": \"z\", \"wave\": \"=.======\"}]}</script></div>"
      ]
     },
     "metadata": {},
     "output_type": "display_data"
    },
    {
     "data": {
      "application/javascript": [
       "$.getScript(\"http://wavedrom.com/wavedrom.min.js\", function () {\n",
       "$.getScript(\"http://wavedrom.com/skins/default.js\", function () {\n",
       "WaveDrom.ProcessAll();});\n",
       "});\n"
      ]
     },
     "metadata": {},
     "output_type": "display_data"
    },
    {
     "name": "stdout",
     "output_type": "stream",
     "text": [
      "times = [0, 1, 2, 3, 4, 5, 6, 7]\n"
     ]
    },
    {
     "data": {
      "text/html": [
       "<table>\n",
       "<thead>\n",
       "<tr><th style=\"text-align: right;\">  Time</th><th style=\"text-align: right;\">  select</th><th style=\"text-align: right;\">  a</th><th style=\"text-align: right;\">  b</th><th style=\"text-align: right;\">  z</th></tr>\n",
       "</thead>\n",
       "<tbody>\n",
       "<tr><td style=\"text-align: right;\">     0</td><td style=\"text-align: right;\">   False</td><td style=\"text-align: right;\">  0</td><td style=\"text-align: right;\">  0</td><td style=\"text-align: right;\">  0</td></tr>\n",
       "<tr><td style=\"text-align: right;\">     1</td><td style=\"text-align: right;\">       1</td><td style=\"text-align: right;\">  7</td><td style=\"text-align: right;\">  4</td><td style=\"text-align: right;\">  7</td></tr>\n",
       "<tr><td style=\"text-align: right;\">     2</td><td style=\"text-align: right;\">       0</td><td style=\"text-align: right;\">  2</td><td style=\"text-align: right;\">  3</td><td style=\"text-align: right;\">  3</td></tr>\n",
       "<tr><td style=\"text-align: right;\">     3</td><td style=\"text-align: right;\">       1</td><td style=\"text-align: right;\">  0</td><td style=\"text-align: right;\">  2</td><td style=\"text-align: right;\">  0</td></tr>\n",
       "<tr><td style=\"text-align: right;\">     4</td><td style=\"text-align: right;\">       0</td><td style=\"text-align: right;\">  1</td><td style=\"text-align: right;\">  6</td><td style=\"text-align: right;\">  6</td></tr>\n",
       "<tr><td style=\"text-align: right;\">     5</td><td style=\"text-align: right;\">       1</td><td style=\"text-align: right;\">  4</td><td style=\"text-align: right;\">  2</td><td style=\"text-align: right;\">  4</td></tr>\n",
       "<tr><td style=\"text-align: right;\">     6</td><td style=\"text-align: right;\">       0</td><td style=\"text-align: right;\">  4</td><td style=\"text-align: right;\">  6</td><td style=\"text-align: right;\">  6</td></tr>\n",
       "<tr><td style=\"text-align: right;\">     7</td><td style=\"text-align: right;\">       1</td><td style=\"text-align: right;\">  1</td><td style=\"text-align: right;\">  5</td><td style=\"text-align: right;\">  1</td></tr>\n",
       "</tbody>\n",
       "</table>"
      ]
     },
     "metadata": {},
     "output_type": "display_data"
    }
   ],
   "source": [
    "from myhdl import *\n",
    "from myhdlpeek import Peeker, show_waveforms, show_html_table  # Import the myhdlpeeker module.\n",
    "\n",
    "def mux(z, a, b, sel):\n",
    "    \"\"\"A simple multiplexer.\"\"\"\n",
    "\n",
    "    @always_comb\n",
    "    def mux_logic():\n",
    "        if sel == 1:\n",
    "            z.next = a  # Signal a sent to mux output when sel is high.\n",
    "        else:\n",
    "            z.next = b  # Signal b sent to mux output when sel is low.\n",
    "           \n",
    "    return mux_logic\n",
    "\n",
    "# Create some signals to attach to the multiplexer.\n",
    "a, b, z = [Signal(0) for _ in range(3)]  # Integer signals for the inputs & output.\n",
    "sel = Signal(bool(0))                    # Binary signal for the selector.\n",
    "\n",
    "# Create some Peekers to monitor the multiplexer I/Os.\n",
    "Peeker.clear()         # Clear any existing Peekers. (Start with a clean slate.)\n",
    "Peeker(a, 'a')         # Add a Peeker to the a input.\n",
    "Peeker(b, 'b')         # Add a Peeker to the b input.\n",
    "Peeker(z, 'z')         # Add a peeker to the z output.\n",
    "Peeker(sel, 'select')  # Add a Peeker to the select input. The Peeker label doesn't have to match the signal name.\n",
    "\n",
    "# Instantiate mux.\n",
    "mux_1 = mux(z, a, b, sel)\n",
    "\n",
    "# Create a simple testbed to apply random patterns to the multiplexer.\n",
    "from random import randrange\n",
    "def test():\n",
    "    '''Simple testbed generator that applies random inputs to the multiplexer.'''\n",
    "    print(\"t  z a b sel\")\n",
    "    for _ in range(8):\n",
    "        a.next, b.next, sel.next = randrange(8), randrange(8), randrange(2)\n",
    "        yield delay(1)\n",
    "        print(\"%d  %s %s %s %s\" % (now(), z, a, b, sel))\n",
    "\n",
    "# Simulate the multiplexer, testbed and the peekers.\n",
    "sim = Simulation(mux_1, test(), *Peeker.instances()).run()\n",
    "\n",
    "# Display the complete waveforms captured by all the Peekers. \n",
    "show_waveforms()\n",
    "\n",
    "show_html_table('select a b z')"
   ]
  }
 ],
 "metadata": {
  "kernelspec": {
   "display_name": "Python 2",
   "language": "python",
   "name": "python2"
  },
  "language_info": {
   "codemirror_mode": {
    "name": "ipython",
    "version": 2
   },
   "file_extension": ".py",
   "mimetype": "text/x-python",
   "name": "python",
   "nbconvert_exporter": "python",
   "pygments_lexer": "ipython2",
   "version": "2.7.12"
  }
 },
 "nbformat": 4,
 "nbformat_minor": 2
}
