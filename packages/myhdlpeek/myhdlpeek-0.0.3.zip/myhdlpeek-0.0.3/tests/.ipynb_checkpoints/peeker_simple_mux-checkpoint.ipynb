{
 "cells": [
  {
   "cell_type": "markdown",
   "metadata": {},
   "source": [
    "# A Simple Multiplexer Example\n",
    "\n",
    "This example shows how to use the `myhdlpeek` module to monitor the inputs and output of a simple, two-input multiplexer."
   ]
  },
  {
   "cell_type": "code",
   "execution_count": 2,
   "metadata": {},
   "outputs": [
    {
     "name": "stdout",
     "output_type": "stream",
     "text": [
      "t  z a b sel\n",
      "1  1 7 1 False\n",
      "2  3 3 4 1\n",
      "3  3 3 1 1\n",
      "4  3 0 3 0\n",
      "5  5 5 0 1\n",
      "6  0 6 0 0\n",
      "7  4 4 1 1\n",
      "8  6 6 1 1\n"
     ]
    },
    {
     "name": "stderr",
     "output_type": "stream",
     "text": [
      "<class 'myhdl.StopSimulation'>: No more events\n"
     ]
    },
    {
     "data": {
      "text/html": [
       "<div><script type=\"WaveDrom\">{\"signal\": [{\"name\": \"a\", \"wave\": \"==.=====\", \"data\": [\"7\", \"3\", \"0\", \"5\", \"6\", \"4\", \"6\"]}, {\"name\": \"b\", \"wave\": \"=====.=.\", \"data\": [\"1\", \"4\", \"1\", \"3\", \"0\", \"1\"]}, {\"name\": \"select\", \"wave\": \"01.0101.\"}, {\"name\": \"z\", \"wave\": \"==..====\", \"data\": [\"1\", \"3\", \"5\", \"0\", \"4\", \"6\"]}]}</script></div>"
      ]
     },
     "metadata": {},
     "output_type": "display_data"
    },
    {
     "data": {
      "application/javascript": [
       "$.getScript(\"http://wavedrom.com/wavedrom.min.js\", function () {\n",
       "$.getScript(\"http://wavedrom.com/skins/default.js\", function () {\n",
       "WaveDrom.ProcessAll();});\n",
       "});\n"
      ]
     },
     "metadata": {},
     "output_type": "display_data"
    }
   ],
   "source": [
    "from myhdl import *\n",
    "from myhdlpeek import Peeker  # Import the myhdlpeeker module.\n",
    "\n",
    "def mux(z, a, b, sel):\n",
    "    \"\"\"A simple multiplexer.\"\"\"\n",
    "\n",
    "    @always_comb\n",
    "    def mux_logic():\n",
    "        if sel == 1:\n",
    "            z.next = a  # Signal a sent to mux output when sel is high.\n",
    "        else:\n",
    "            z.next = b  # Signal b sent to mux output when sel is low.\n",
    "           \n",
    "    return mux_logic\n",
    "\n",
    "# Create some signals to attach to the multiplexer.\n",
    "a, b, z = [Signal(0) for _ in range(3)]  # Integer signals for the inputs & output.\n",
    "sel = Signal(bool(0))                    # Binary signal for the selector.\n",
    "\n",
    "# Create some Peekers to monitor the multiplexer I/Os.\n",
    "Peeker.clear()         # Clear any existing Peekers. (Start with a clean slate.)\n",
    "Peeker(a, 'a')         # Add a Peeker to the a input.\n",
    "Peeker(b, 'b')         # Add a Peeker to the b input.\n",
    "Peeker(z, 'z')         # Add a peeker to the z output.\n",
    "Peeker(sel, 'select')  # Add a Peeker to the select input. The Peeker label doesn't have to match the signal name.\n",
    "\n",
    "# Instantiate mux.\n",
    "mux_1 = mux(z, a, b, sel)\n",
    "\n",
    "# Create a simple testbed to apply random patterns to the multiplexer.\n",
    "from random import randrange\n",
    "def test():\n",
    "    '''Simple testbed generator that applies random inputs to the multiplexer.'''\n",
    "    print(\"t  z a b sel\")\n",
    "    for _ in range(8):\n",
    "        a.next, b.next, sel.next = randrange(8), randrange(8), randrange(2)\n",
    "        yield delay(1)\n",
    "        print(\"%d  %s %s %s %s\" % (now(), z, a, b, sel))\n",
    "\n",
    "# Simulate the multiplexer, testbed and the peekers.\n",
    "sim = Simulation(mux_1, test(), *Peeker.instances()).run()\n",
    "\n",
    "# Display the complete waveforms captured by all the Peekers. \n",
    "Peeker.to_wavedrom()\n"
   ]
  }
 ],
 "metadata": {
  "kernelspec": {
   "display_name": "Python 3",
   "language": "python",
   "name": "python3"
  },
  "language_info": {
   "codemirror_mode": {
    "name": "ipython",
    "version": 3
   },
   "file_extension": ".py",
   "mimetype": "text/x-python",
   "name": "python",
   "nbconvert_exporter": "python",
   "pygments_lexer": "ipython3",
   "version": "3.5.2"
  }
 },
 "nbformat": 4,
 "nbformat_minor": 2
}
