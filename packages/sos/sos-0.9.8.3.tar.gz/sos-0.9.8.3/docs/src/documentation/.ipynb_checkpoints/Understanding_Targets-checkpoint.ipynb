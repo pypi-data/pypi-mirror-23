{
 "cells": [
  {
   "cell_type": "markdown",
   "metadata": {},
   "source": [
    "# Understanding Targets"
   ]
  },
  {
   "cell_type": "markdown",
   "metadata": {},
   "source": [
    "Targets are objects that a SoS step can input, output, or dependent on. They are usually files that are presented by filenames, but can also be other targets."
   ]
  },
  {
   "cell_type": "markdown",
   "metadata": {},
   "source": [
    "## `executable` target"
   ]
  },
  {
   "cell_type": "markdown",
   "metadata": {},
   "source": [
    "`executable` targets are commands that should be accessible and executable by SoS. These targets are usually listed in the `depends` section of a SoS step. For example, SoS would stop if a command `fastqc` is not found."
   ]
  },
  {
   "cell_type": "code",
   "execution_count": 1,
   "metadata": {
    "collapsed": false
   },
   "outputs": [
    {
     "name": "stderr",
     "output_type": "stream",
     "text": [
      "No step to generate target a.txt requested by default_10"
     ]
    }
   ],
   "source": [
    "%sandbox --expect-error\n",
    "[10]\n",
    "input:     'a.txt'\n",
    "depends:   executable('some_command')\n",
    "sh:\n",
    "    some_command ${input}"
   ]
  },
  {
   "cell_type": "markdown",
   "metadata": {},
   "source": [
    "`executable` target can also be output of a step but installing executables can be tricky because the commands should be installed to existing `$PATH` so that they can be immediately accessible by SoS. Because SoS automatically adds `~/.sos/bin` to `$PATH` (option `-b`), an environment-neutral way for on-the-fly installation is to install commands to this directory. For example"
   ]
  },
  {
   "cell_type": "code",
   "execution_count": 2,
   "metadata": {
    "collapsed": false
   },
   "outputs": [
    {
     "name": "stdout",
     "output_type": "stream",
     "text": [
      "I am lls\n"
     ]
    }
   ],
   "source": [
    "!rm -f ~/.sos/bin/lls\n",
    "\n",
    "[lls: provides=executable('lls')]\n",
    "sh:\n",
    "    echo \"#!/usr/bin/env bash\" > ~/.sos/bin/lls\n",
    "    echo \"echo I am lls\" >> ~/.sos/bin/lls\n",
    "    chmod +x ~/.sos/bin/lls\n",
    "\n",
    "[10]\n",
    "depends: executable('lls')\n",
    "sh:\n",
    "    lls"
   ]
  },
  {
   "cell_type": "raw",
   "metadata": {},
   "source": [
    "creates an executable command `lls` under `~/.sos/bin` when this executable does not exist."
   ]
  },
  {
   "cell_type": "raw",
   "metadata": {},
   "source": [
    "You can also have finer control over which version of the command is eligible by checking the output of commands. The trick here is to provide a complete command and one or more version strings as the string that should appear in the output of the command.\n",
    "\n",
    "For example, command `perl --version` is executed in the following example to check if the output contains string `5.18`. The step would only be executed if the right version exists."
   ]
  },
  {
   "cell_type": "code",
   "execution_count": 3,
   "metadata": {
    "collapsed": false
   },
   "outputs": [
    {
     "name": "stdout",
     "output_type": "stream",
     "text": [
      "ok\n"
     ]
    }
   ],
   "source": [
    "[10]\n",
    "depends: executable('perl --version', version='5.18')\n",
    "print('ok')"
   ]
  },
  {
   "cell_type": "markdown",
   "metadata": {},
   "source": [
    "If no verion string is provided, SoS will only check the existence of the command and not actually execute the command."
   ]
  },
  {
   "cell_type": "markdown",
   "metadata": {},
   "source": [
    "## `sos_variable` target"
   ]
  },
  {
   "cell_type": "markdown",
   "metadata": {},
   "source": [
    "`sos_variable(name)` targets represent SoS variables that are created by a SoS step and shared to other steps. These targets can be used to provide information to other steps. For example,"
   ]
  },
  {
   "cell_type": "code",
   "execution_count": 4,
   "metadata": {
    "collapsed": false
   },
   "outputs": [
    {
     "name": "stdout",
     "output_type": "stream",
     "text": [
      "There are 100 objects\n",
      "\n"
     ]
    }
   ],
   "source": [
    "%sandbox\n",
    "[counts: shared='counts']\n",
    "input: 'result.txt'\n",
    "with open(input[0]) as ifile:\n",
    "    counts = int(ifile.read())\n",
    "\n",
    "[10]\n",
    "# perform some task and create a file with some statistics\n",
    "output: 'result.txt'\n",
    "run:\n",
    "   echo 100 >> result.txt \n",
    "\n",
    "[100]\n",
    "depends: sos_variable('counts')\n",
    "report:\n",
    "    There are ${counts} objects\n"
   ]
  },
  {
   "cell_type": "markdown",
   "metadata": {},
   "source": [
    "Step `100` needed some information extracted from output of another step (step `10`). You can either parse the information in step `100` or use another step to provide the information. The latter is recommended because the information could be requested by multiple steps. Note that `counts` is an auxiliary step that provides `sos_variable('counts')` through its `shared` section option."
   ]
  },
  {
   "cell_type": "markdown",
   "metadata": {},
   "source": [
    "## `env_variable` target"
   ]
  },
  {
   "cell_type": "markdown",
   "metadata": {},
   "source": [
    "SoS keeps tract of runtime environment and creates signatures of executed steps so that they do not have to be executed again. Some commands, especially shell scripts, could however behave differently with different environmental variables. To make sure a step would be re-executed with changing environments, you should list the variables that affects the output of these commands as dependencies of the step. For example"
   ]
  },
  {
   "cell_type": "code",
   "execution_count": 6,
   "metadata": {
    "collapsed": false
   },
   "outputs": [
    {
     "name": "stderr",
     "output_type": "stream",
     "text": [
      "No step to generate target env_variable(\"DEBUG\") requested by default_10"
     ]
    }
   ],
   "source": [
    "%sandbox --expect-error\n",
    "[10]\n",
    "depends:   env_variable('DEBUG')\n",
    "sh:\n",
    "    echo DEBUG is set to $DEBUG\n"
   ]
  },
  {
   "cell_type": "markdown",
   "metadata": {},
   "source": [
    "## `dynamic` target"
   ]
  },
  {
   "cell_type": "markdown",
   "metadata": {},
   "source": [
    "A `dynamic` target is a target that can only be determined when the step is actually executed. \n",
    "\n",
    "For example,"
   ]
  },
  {
   "cell_type": "code",
   "execution_count": 7,
   "metadata": {
    "collapsed": false
   },
   "outputs": [
    {
     "name": "stderr",
     "output_type": "stream",
     "text": [
      "Output target *.txt does not exist after the completion of step default_10"
     ]
    }
   ],
   "source": [
    "%sandbox --expect-error\n",
    "[10]\n",
    "output: '*.txt'\n",
    "sh:\n",
    "    touch a.txt\n",
    "\n",
    "[20]\n",
    "print('Last output is ${input}')"
   ]
  },
  {
   "cell_type": "markdown",
   "metadata": {},
   "source": [
    "To address this problem, you should try to expand the output file after the completion of the step, using a `dynamic` target."
   ]
  },
  {
   "cell_type": "code",
   "execution_count": 8,
   "metadata": {
    "collapsed": false
   },
   "outputs": [
    {
     "name": "stdout",
     "output_type": "stream",
     "text": [
      "Last output is a.txt\n"
     ]
    }
   ],
   "source": [
    "%sandbox\n",
    "[10]\n",
    "output: dynamic('*.txt')\n",
    "sh:\n",
    "    touch a.txt\n",
    "\n",
    "[20]\n",
    "print(\"Last output is ${input}\")"
   ]
  },
  {
   "cell_type": "markdown",
   "metadata": {
    "collapsed": true
   },
   "source": [
    "Please refer to chapter [SoS Step](SoS_Step.html) for details of such targets."
   ]
  },
  {
   "cell_type": "markdown",
   "metadata": {},
   "source": [
    "## Language specific targets"
   ]
  },
  {
   "cell_type": "markdown",
   "metadata": {},
   "source": [
    "Some language defines their own targets, such as `Py_Module` of the Python language and `R_Library` target of the R language. Please refer to [SoS Reference Manual](Reference_Manual.html) for details."
   ]
  }
 ],
 "metadata": {
  "anaconda-cloud": {},
  "kernelspec": {
   "display_name": "SoS",
   "language": "sos",
   "name": "sos"
  },
  "language_info": {
   "codemirror_mode": "sos",
   "file_extension": ".sos",
   "mimetype": "text/x-sos",
   "name": "sos",
   "nbconvert_exporter": "sos.jupyter.converter.SoS_Exporter",
   "pygments_lexer": "sos"
  },
  "toc": {
   "colors": {
    "hover_highlight": "#DAA520",
    "running_highlight": "#FF0000",
    "selected_highlight": "#FFD700"
   },
   "moveMenuLeft": true,
   "nav_menu": {
    "height": "147px",
    "width": "254px"
   },
   "navigate_menu": true,
   "number_sections": true,
   "sideBar": true,
   "threshold": 4,
   "toc_cell": false,
   "toc_section_display": "block",
   "toc_window_display": true
  }
 },
 "nbformat": 4,
 "nbformat_minor": 0
}
