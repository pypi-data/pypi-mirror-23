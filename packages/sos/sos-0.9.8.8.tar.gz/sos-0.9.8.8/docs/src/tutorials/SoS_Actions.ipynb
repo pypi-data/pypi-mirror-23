{
 "cells": [
  {
   "cell_type": "markdown",
   "metadata": {},
   "source": [
    "# Understanding SoS action"
   ]
  },
  {
   "cell_type": "markdown",
   "metadata": {},
   "source": [
    "## SoS Action"
   ]
  },
  {
   "cell_type": "markdown",
   "metadata": {},
   "source": [
    "Although arbitrary python functions can be used in SoS step process, SoS defines some **`actions`** that can be used in a SoS script. These fucntions accept a common set of **parameters** that determines when and how these functions would be called.\n",
    "\n",
    "For example, function `time.sleep(5)` would be executed in run mode,"
   ]
  },
  {
   "cell_type": "code",
   "execution_count": 1,
   "metadata": {
    "kernel": "sos"
   },
   "outputs": [
    {
     "name": "stdout",
     "output_type": "stream",
     "text": [
      "I just slept 1.00 seconds\n"
     ]
    }
   ],
   "source": [
    "[0]\n",
    "import time\n",
    "st = time.time()\n",
    "time.sleep(1)\n",
    "print('I just slept {:.2f} seconds'.format(time.time() - st))"
   ]
  },
  {
   "cell_type": "markdown",
   "metadata": {},
   "source": [
    "and also in dryrun mode (option `-n`),"
   ]
  },
  {
   "cell_type": "code",
   "execution_count": 2,
   "metadata": {
    "kernel": "sos"
   },
   "outputs": [
    {
     "name": "stdout",
     "output_type": "stream",
     "text": [
      "I just slept 1.00 seconds\n"
     ]
    }
   ],
   "source": [
    "%run -n\n",
    "[0]\n",
    "import time\n",
    "st = time.time()\n",
    "time.sleep(1)\n",
    "print('I just slept {:.2f} seconds'.format(time.time() - st))"
   ]
  },
  {
   "cell_type": "markdown",
   "metadata": {},
   "source": [
    "because these statements are regular Python functions. However, if you put the statements in an action `python`, the statements would be executed in run mode,"
   ]
  },
  {
   "cell_type": "code",
   "execution_count": 3,
   "metadata": {
    "kernel": "sos"
   },
   "outputs": [
    {
     "name": "stdout",
     "output_type": "stream",
     "text": [
      "I just slept 1.00 seconds\n"
     ]
    }
   ],
   "source": [
    "[0]\n",
    "python:\n",
    "    import time\n",
    "    st = time.time()\n",
    "    time.sleep(1)\n",
    "    print('I just slept {:.2f} seconds'.format(time.time() - st))"
   ]
  },
  {
   "cell_type": "markdown",
   "metadata": {},
   "source": [
    "but not executed in dryrun mode (option `-n`)"
   ]
  },
  {
   "cell_type": "code",
   "execution_count": 4,
   "metadata": {
    "collapsed": true,
    "kernel": "sos"
   },
   "outputs": [],
   "source": [
    "%run -n\n",
    "[0]\n",
    "python:\n",
    "    import time\n",
    "    st = time.time()\n",
    "    time.sleep(1)\n",
    "    print('I just slept {:.2f} seconds'.format(time.time() - st))"
   ]
  },
  {
   "cell_type": "markdown",
   "metadata": {},
   "source": [
    "## Action options"
   ]
  },
  {
   "cell_type": "markdown",
   "metadata": {},
   "source": [
    "Actions define their own parameters but their execution is controlled by a common set of options."
   ]
  },
  {
   "cell_type": "markdown",
   "metadata": {},
   "source": [
    "### `input`"
   ]
  },
  {
   "cell_type": "markdown",
   "metadata": {},
   "source": [
    "Parameter `input` specifies the input files that an action needs before it can be executed. This parameter is processed by SoS before an action is called and SoS will try to generate the file if an input target does not exist.\n",
    "\n",
    "For example,"
   ]
  },
  {
   "cell_type": "code",
   "execution_count": 5,
   "metadata": {
    "kernel": "sos"
   },
   "outputs": [
    {
     "name": "stdout",
     "output_type": "stream",
     "text": [
      "content of a.txt\n",
      "\n"
     ]
    }
   ],
   "source": [
    "%sandbox\n",
    "[10]\n",
    "output: 'a.txt'\n",
    "bash:\n",
    "    echo 'content of a.txt' > a.txt\n",
    "\n",
    "[20]\n",
    "report: input='a.txt'"
   ]
  },
  {
   "cell_type": "code",
   "execution_count": 6,
   "metadata": {
    "kernel": "sos"
   },
   "outputs": [
    {
     "name": "stdout",
     "output_type": "stream",
     "text": [
      "content of a.txt\n",
      "\n"
     ]
    }
   ],
   "source": [
    "%sandbox\n",
    "[a: provides='a.txt']\n",
    "bash:\n",
    "    echo 'content of a.txt' > a.txt\n",
    "\n",
    "[20]\n",
    "report: input='a.txt'"
   ]
  },
  {
   "cell_type": "markdown",
   "metadata": {},
   "source": [
    "Although both the `input` parameter and the `input` statement of a step can affect the execution of workflow (change DAG), they differ in that `input` statement defines variables `input` and `_input`, `input` parameter does not define any. "
   ]
  },
  {
   "cell_type": "markdown",
   "metadata": {},
   "source": [
    "### `output`"
   ]
  },
  {
   "cell_type": "markdown",
   "metadata": {},
   "source": [
    "Similar to `input`, parameter `output` defines the output of an action, which can be a single name (or target) or a list of files or targets. SoS would check the existence of output after the completion of the action. For example, "
   ]
  },
  {
   "cell_type": "code",
   "execution_count": 7,
   "metadata": {},
   "outputs": [
    {
     "name": "stderr",
     "output_type": "stream",
     "text": [
      "Failed to process statement 'bash(r\"\"\"\"\"\", output=\\'a.txt\\')\\n': Target a.txt does not exist after execution of action\n"
     ]
    }
   ],
   "source": [
    "%sandbox --expect-error\n",
    "[10]\n",
    "bash: output='a.txt'"
   ]
  },
  {
   "cell_type": "markdown",
   "metadata": {},
   "source": [
    "Parameter `output`  does not change the step variable `output` and thus affect the default input file of the next step. The targets specified by this parameter will be tracked, so this is a great way to track additional files from a step. For example,"
   ]
  },
  {
   "cell_type": "code",
   "execution_count": 8,
   "metadata": {
    "kernel": "sos"
   },
   "outputs": [
    {
     "name": "stdout",
     "output_type": "stream",
     "text": [
      "My input is a.txt\n"
     ]
    }
   ],
   "source": [
    "%sandbox\n",
    "%preview summary.md\n",
    "[10]\n",
    "output: 'a.txt'\n",
    "run:\n",
    "    echo 'a' > a.txt\n",
    "\n",
    "report: output='a.md'\n",
    "  this is step 10\n",
    "\n",
    "[20]\n",
    "print(\"My input is ${input}\")\n",
    "report: input='a.md', output='summary.md'\n",
    "   Summary report"
   ]
  },
  {
   "cell_type": "markdown",
   "metadata": {},
   "source": [
    "As you can see, the `output` variable of step 10 (and thus input of step 20) is defined by the output statement, which is not affected by parameter `output='a.md'`."
   ]
  },
  {
   "cell_type": "markdown",
   "metadata": {},
   "source": [
    "###  `active`"
   ]
  },
  {
   "cell_type": "markdown",
   "metadata": {},
   "source": [
    "Action option `active` is used to activate or inactivate an action in an input loop. Basically, when a loop is defined by `for_each` or `group_by` options of `input:` statement, an action after input would be repeated for each input group. The `action` parameter accepts an integer, either a non-negative number, a negative number (counting backward), a sequence of indexes, or a slice object, for which the action would be active.\n",
    "\n",
    "For example, for an input loop that loops through a sequence of numbers, the first action `run` is executed for all groups, the second action is executed for even number of groups, the last action is executed for the last step."
   ]
  },
  {
   "cell_type": "code",
   "execution_count": 9,
   "metadata": {
    "kernel": "sos"
   },
   "outputs": [
    {
     "name": "stdout",
     "output_type": "stream",
     "text": [
      "I am active at all groups 0\n",
      "I am active at even groups 0\n",
      "I am active at all groups 1\n",
      "I am active at all groups 2\n",
      "I am active at even groups 2\n",
      "I am active at all groups 3\n",
      "I am active at all groups 4\n",
      "I am active at even groups 4\n",
      "I am active at last group 4\n"
     ]
    }
   ],
   "source": [
    "seq = range(5)\n",
    "input: for_each='seq'\n",
    "run:\n",
    "   echo I am active at all groups ${_index}\n",
    "run: active=slice(None, None, 2)\n",
    "   echo I am active at even groups ${_index}\n",
    "run: active=-1\n",
    "   echo I am active at last group ${_index}"
   ]
  },
  {
   "cell_type": "markdown",
   "metadata": {},
   "source": [
    "### `workdir`"
   ]
  },
  {
   "cell_type": "markdown",
   "metadata": {},
   "source": [
    "Option `workdir` changes the current working directory for the action, and change back once the action is executed. The directory will be created if it does not exist."
   ]
  },
  {
   "cell_type": "code",
   "execution_count": 10,
   "metadata": {
    "kernel": "sos"
   },
   "outputs": [
    {
     "name": "stdout",
     "output_type": "stream",
     "text": [
      "a.txt\n"
     ]
    }
   ],
   "source": [
    "bash: workdir='tmp'\n",
    "   touch a.txt\n",
    "bash:\n",
    "    ls tmp\n",
    "    rm tmp/a.txt\n",
    "    rmdir tmp"
   ]
  },
  {
   "cell_type": "markdown",
   "metadata": {},
   "source": [
    "### `docker_image`"
   ]
  },
  {
   "cell_type": "markdown",
   "metadata": {},
   "source": [
    "If a docker image is specified (either a name, an Id, or a file), the action is assumed to be executed in the specified docker. The image will be automatically downloaded (pulled) or loaded (if a `.tar` or `.tar.gz` file is specified`) if it is not available locally. \n",
    "\n",
    "For example, executing the following script "
   ]
  },
  {
   "cell_type": "markdown",
   "metadata": {},
   "source": [
    "```\n",
    "[10]\n",
    "python3: docker_image='python'\n",
    "  set = {'a', 'b'}\n",
    "  print(set)\n",
    "  ```"
   ]
  },
  {
   "cell_type": "markdown",
   "metadata": {},
   "source": [
    "under a docker terminal (that is connected to the docker daemon) will\n",
    "\n",
    "1. Pull docker image `python`,  which is the official docker image for Python 2 and 3.\n",
    "2. Create a python script with the specified content\n",
    "3. Run the docker container `python` and make the script available inside the container\n",
    "4. Use the `python3` command inside the container to execute the script.\n",
    "\n",
    "Additional `docker_run` parameters can be passed to actions when the action\n",
    "is executed in a docker image. These options include\n",
    "\n",
    "* `name`: name of the container (option `--name`)\n",
    "* `tty`: if a tty is attached (default to `True`, option `-t`)\n",
    "* `stdin_open`: if stdin should be open (default to `False`, option `-i`)\n",
    "* `user`: username (default o `root`, option `-u`)\n",
    "* `environment`: Can be a string, a list of string or dictinary of environment variables for docker (option `-e`)\n",
    "* `volumes`: string or list of string, extra volumes that need to be link, in addition to SoS mounted (`/tmp`, `/Users` (if mac), `/Volumes` (if [properly configured](http://vatlab.github.io/SOS/doc/tutorials/SoS_Docker_Guide.html) under mac) and script file)\n",
    "* `volumes_from`: container names or Ids to get volumes from\n",
    "* `working_dir`: working directory (option `-w`), default working directory, or working directory set by runtime option `workdir`.\n",
    "* `port`: port opened (option `-p`)\n",
    "* `extra_args`: If there is any extra arguments you would like to pass to the `docker run` process (after you check the actual command of `docker run` of SoS"
   ]
  },
  {
   "cell_type": "markdown",
   "metadata": {},
   "source": [
    "### `docker_file`\n",
    "\n",
    "This option allows you to import a docker from specified `docker_file`, which can be an archive file (`.tar`, `.tar.gz`, `.tgz`, `.bzip`, `.tar.xz`, `.txz`) or a URL to an archive file (e.g. `http://example.com/exampleimage.tgz`). SoS will use command `docker import` to import the `docker_file`. However, because SoS does not know the repository and tag names of the imported docker file, you will still need to use option `docker_image` to specify the image to use."
   ]
  },
  {
   "cell_type": "markdown",
   "metadata": {},
   "source": [
    "It is easy to define your own actions. All you need to do is to define a function and decorate it with a `SoS_Action` decorator. For example\n",
    "\n",
    "```python\n",
    "from pysos import SoS_Action\n",
    "\n",
    "@SoS_Action(run_mode=('run', 'interactive'))\n",
    "def my_action(parameters):\n",
    "    do_something_with_parameters\n",
    "\treturn 1\n",
    "```"
   ]
  },
  {
   "cell_type": "markdown",
   "metadata": {},
   "source": [
    "###  `args`"
   ]
  },
  {
   "cell_type": "markdown",
   "metadata": {},
   "source": [
    "All script-executing actions accept an option `args`, which changes how the script is executed.\n",
    "\n",
    "By default, such an action has an `interpreter` (e.g. `bash`), a default `args='${filename!q}'`, amd the script would be executed as `interpreter args`, which is\n",
    "```\n",
    "bash ${filename!q}\n",
    "```\n",
    "where `${filename!q}` would be replaced by the temporary script file."
   ]
  },
  {
   "cell_type": "markdown",
   "metadata": {},
   "source": [
    "If you would like to change the command line with additional parameters, or different format of filename, you can specify an alternative `args`, with variables `filename` (filename of temporary script) and `script` (actual content of the script).\n",
    "\n",
    "For example, option `-n` can be added to command `bash` to execute script in dryrun mode"
   ]
  },
  {
   "cell_type": "code",
   "execution_count": 11,
   "metadata": {
    "collapsed": true,
    "kernel": "sos"
   },
   "outputs": [],
   "source": [
    "bash: args='-n ${filename!q}'\n",
    "    echo \"-n means running in dryrun mode (only check syntax)\""
   ]
  },
  {
   "cell_type": "markdown",
   "metadata": {},
   "source": [
    "and you can actually execute a command without filename, and instead executing the script directly from command line"
   ]
  },
  {
   "cell_type": "code",
   "execution_count": 12,
   "metadata": {
    "kernel": "sos",
    "output_cache": "[{\"output_type\":\"stream\",\"name\":\"stdout\",\"text\":\"10000 loops, best of 3: 31.2 usec per loop\\n\"}]"
   },
   "outputs": [
    {
     "name": "stdout",
     "output_type": "stream",
     "text": [
      "10000 loops, best of 3: 35 usec per loop\n"
     ]
    }
   ],
   "source": [
    "python: args='-m timeit ${script}'\n",
    "    '\"-\".join(str(n) for n in range(100))'"
   ]
  },
  {
   "cell_type": "markdown",
   "metadata": {
    "output_cache": "[]"
   },
   "source": [
    "### allow_error"
   ]
  },
  {
   "cell_type": "markdown",
   "metadata": {
    "output_cache": "[]"
   },
   "source": [
    "Option `allow_error` tells SoS that the action might fail but this should not stop the workflow from executing. This option essentially turns an error to a warning message and change the return value of action to `None`. \n",
    "\n",
    "For example, in the following example, the wrong shell script would stop the execution of the step so the following action is not executed."
   ]
  },
  {
   "cell_type": "code",
   "execution_count": 15,
   "metadata": {
    "kernel": "sos",
    "output_cache": "[{\"output_type\":\"stream\",\"text\":\"/var/folders/ys/gnzk0qbx5wbdgm531v82xxljv5yqy8/T/tmpi62wxece: line 1: This: command not found\\nFailed to process statement run(r\\\"\\\"\\\"This is not shell\\\\n\\\"\\\"\\\")...fter run'): Failed to execute script (ret=127). \\nPlease use command\\n    /bin/bash /var/folders/ys/gnzk0qbx5wbdgm531v82xxljv5yqy8/T/tmpzn3zpjx3/.sos/interactive_0_0\\nunder /private/var/folders/ys/gnzk0qbx5wbdgm531v82xxljv5yqy8/T/tmpzn3zpjx3 to test it.\\n\",\"name\":\"stderr\"}]"
   },
   "outputs": [
    {
     "name": "stderr",
     "output_type": "stream",
     "text": [
      "/var/folders/ys/gnzk0qbx5wbdgm531v82xxljv5yqy8/T/tmpi62wxece: line 1: This: command not found\n",
      "Failed to process statement run(r\"\"\"This is not shell\\n\"\"\")...fter run'): Failed to execute script (ret=127). \n",
      "Please use command\n",
      "    /bin/bash /var/folders/ys/gnzk0qbx5wbdgm531v82xxljv5yqy8/T/tmpzn3zpjx3/.sos/interactive_0_0\n",
      "under /private/var/folders/ys/gnzk0qbx5wbdgm531v82xxljv5yqy8/T/tmpzn3zpjx3 to test it.\n"
     ]
    }
   ],
   "source": [
    "%sandbox --expect-error\n",
    "run: \n",
    "    This is not shell\n",
    "print('Step after run')"
   ]
  },
  {
   "cell_type": "markdown",
   "metadata": {
    "output_cache": "[]"
   },
   "source": [
    "but in this example, the error of `run` action is turned to a warning message and the later step would still be executed."
   ]
  },
  {
   "cell_type": "code",
   "execution_count": 16,
   "metadata": {
    "kernel": "sos",
    "output_cache": "[{\"output_type\":\"stream\",\"text\":\"/var/folders/ys/gnzk0qbx5wbdgm531v82xxljv5yqy8/T/tmpfemreue0: line 1: This: command not found\\n\\u001b[95mWARNING\\u001b[0m: \\u001b[95mFailed to execute script (ret=127). \\nPlease use command\\n    /bin/bash /var/folders/ys/gnzk0qbx5wbdgm531v82xxljv5yqy8/T/tmp557fin4d/.sos/interactive_0_0\\nunder /Users/bpeng1/SOS/docs/src/documentation to test it.\\u001b[0m\\n\",\"name\":\"stderr\"}]"
   },
   "outputs": [
    {
     "name": "stderr",
     "output_type": "stream",
     "text": [
      "/var/folders/ys/gnzk0qbx5wbdgm531v82xxljv5yqy8/T/tmpag5371q4: line 1: This: command not found\n",
      "\u001b[95mWARNING\u001b[0m: \u001b[95mFailed to execute script (ret=127). \n",
      "Please use command\n",
      "    /bin/bash /var/folders/ys/gnzk0qbx5wbdgm531v82xxljv5yqy8/T/tmpzn3zpjx3/.sos/interactive_0_0\n",
      "under /Users/bpeng1/SOS/docs/src/documentation to test it.\u001b[0m\n"
     ]
    },
    {
     "name": "stdout",
     "output_type": "stream",
     "text": [
      "Step after run\n"
     ]
    }
   ],
   "source": [
    "run: allow_error=True\n",
    "    This is not shell\n",
    "print('Step after run')"
   ]
  }
 ],
 "metadata": {
  "anaconda-cloud": {},
  "kernelspec": {
   "display_name": "SoS",
   "language": "sos",
   "name": "sos"
  },
  "language_info": {
   "codemirror_mode": "sos",
   "file_extension": ".sos",
   "mimetype": "text/x-sos",
   "name": "sos",
   "nbconvert_exporter": "sos.jupyter.converter.SoS_Exporter",
   "pygments_lexer": "sos"
  },
  "sos": {
   "celltoolbar": true,
   "kernels": [
    [
     "sos",
     "SoS",
     ""
    ],
    [
     "bash",
     "Bash",
     "#E6EEFF"
    ],
    [
     "python2",
     "Python2",
     "#F6FAEA"
    ],
    [
     "ir",
     "R",
     "#FDEDEC"
    ],
    [
     "python3",
     "Python3",
     "#EAFAF1"
    ]
   ],
   "panel": {
    "displayed": true,
    "height": 0,
    "style": "side"
   }
  },
  "toc": {
   "colors": {
    "hover_highlight": "#DAA520",
    "running_highlight": "#FF0000",
    "selected_highlight": "#FFD700"
   },
   "moveMenuLeft": true,
   "nav_menu": {
    "height": "503px",
    "width": "254px"
   },
   "navigate_menu": true,
   "number_sections": true,
   "sideBar": true,
   "threshold": 4,
   "toc_cell": false,
   "toc_section_display": "block",
   "toc_window_display": true
  }
 },
 "nbformat": 4,
 "nbformat_minor": 1
}
