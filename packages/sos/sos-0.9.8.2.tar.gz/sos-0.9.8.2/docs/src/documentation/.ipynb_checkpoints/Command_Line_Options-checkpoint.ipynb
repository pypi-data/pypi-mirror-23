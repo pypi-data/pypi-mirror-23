{
 "cells": [
  {
   "cell_type": "markdown",
   "metadata": {},
   "source": [
    "# Command line options"
   ]
  },
  {
   "cell_type": "markdown",
   "metadata": {},
   "source": [
    "SoS allows you to define parameters that accept values from command line options easily. "
   ]
  },
  {
   "cell_type": "markdown",
   "metadata": {},
   "source": [
    "## Optional arguments"
   ]
  },
  {
   "cell_type": "markdown",
   "metadata": {},
   "source": [
    "Any variable assignment prefixed with `parameter:` can accept values from command  line. The format of such lines are\n",
    "\n",
    "```\n",
    "# comment\n",
    "parameter: var_name = default_value\n",
    "```\n",
    "\n",
    "The default value can be number, string, list of string, or expressions that return values of these types. Other types can be used as long as they can be converted to these types from user-provided values. For example"
   ]
  },
  {
   "cell_type": "code",
   "execution_count": 1,
   "metadata": {
    "collapsed": true
   },
   "outputs": [],
   "source": [
    "# path to tool gatk\n",
    "parameter: gatk_path = '~/bin/GATK'"
   ]
  },
  {
   "cell_type": "markdown",
   "metadata": {},
   "source": [
    "defines a variable `gatk_path` with default value `'~/bin/GATK'`."
   ]
  },
  {
   "cell_type": "markdown",
   "metadata": {},
   "source": [
    "If you execute a workflow without defining `gatk_path`, the default value will be used"
   ]
  },
  {
   "cell_type": "code",
   "execution_count": 2,
   "metadata": {
    "collapsed": false
   },
   "outputs": [
    {
     "name": "stdout",
     "output_type": "stream",
     "text": [
      "~/bin/GATK\n"
     ]
    }
   ],
   "source": [
    "%run\n",
    "parameter: gatk_path = '~/bin/GATK'\n",
    "print(gatk_path)"
   ]
  },
  {
   "cell_type": "markdown",
   "metadata": {},
   "source": [
    "You can set this parameter from command line using option `--gatk_path`"
   ]
  },
  {
   "cell_type": "code",
   "execution_count": 3,
   "metadata": {
    "collapsed": false
   },
   "outputs": [
    {
     "name": "stdout",
     "output_type": "stream",
     "text": [
      "/my/GATK\n"
     ]
    }
   ],
   "source": [
    "%run --gatk_path /my/GATK\n",
    "parameter: gatk_path = '~/bin/GATK'\n",
    "print(gatk_path)"
   ]
  },
  {
   "cell_type": "markdown",
   "metadata": {},
   "source": [
    "You can also use `-` in place of `_` in command line, although the variable name cannot have `-` in it."
   ]
  },
  {
   "cell_type": "code",
   "execution_count": 4,
   "metadata": {
    "collapsed": false
   },
   "outputs": [
    {
     "name": "stdout",
     "output_type": "stream",
     "text": [
      "/my/GATK\n"
     ]
    }
   ],
   "source": [
    "%run --gatk-path /my/GATK\n",
    "parameter: gatk_path = '~/bin/GATK'\n",
    "print(gatk_path)"
   ]
  },
  {
   "cell_type": "markdown",
   "metadata": {},
   "source": [
    "The default value of the parameter determines the type of values it accepts. For example, the following command yields an error because the parameter expects an integer (from default value `0`) but a string is passed."
   ]
  },
  {
   "cell_type": "code",
   "execution_count": 5,
   "metadata": {
    "collapsed": false
   },
   "outputs": [
    {
     "name": "stderr",
     "output_type": "stream",
     "text": [
      "Failed to process statement if \"sos_handle_parameter_\" in ...ff',  0\\n)\\n: argument --cutoff: invalid int value: 'zero'\n",
      "Sandbox execution failed."
     ]
    }
   ],
   "source": [
    "%sandbox --expect-error\n",
    "\n",
    "%run --cutoff zero\n",
    "parameter: cutoff = 0"
   ]
  },
  {
   "cell_type": "markdown",
   "metadata": {},
   "source": [
    "Simiarly, a list would be created if the parameter has a default value of type list"
   ]
  },
  {
   "cell_type": "code",
   "execution_count": 6,
   "metadata": {
    "collapsed": false
   },
   "outputs": [
    {
     "name": "stdout",
     "output_type": "stream",
     "text": [
      "['A']\n"
     ]
    }
   ],
   "source": [
    "%run --sample-names A\n",
    "parameter: sample_names = []\n",
    "print(sample_names)"
   ]
  },
  {
   "cell_type": "markdown",
   "metadata": {},
   "source": [
    "Finally, the convention to specify `True` or `False` of a boolean parameter is to use `--no-PARAM` for `PARAM=False`. For example,"
   ]
  },
  {
   "cell_type": "code",
   "execution_count": 7,
   "metadata": {
    "collapsed": false
   },
   "outputs": [
    {
     "name": "stdout",
     "output_type": "stream",
     "text": [
      "False\n"
     ]
    }
   ],
   "source": [
    "%run --no-trim\n",
    "parameter: trim=True\n",
    "print(trim)"
   ]
  },
  {
   "cell_type": "markdown",
   "metadata": {},
   "source": [
    "## Required arguments"
   ]
  },
  {
   "cell_type": "markdown",
   "metadata": {},
   "source": [
    "In cases where there is no suitable default values and/or command line arguments are mandatary, you can list the type of arguments (e.g. `int`, `bool`, `str`, `list` of strings) in place of default values. This will force SoS to get a parameter from command line, and yield an error if no value is specified for this parameter.\n",
    "\n",
    "For example, if an integer parameter `cutoff` is required, you can define it as"
   ]
  },
  {
   "cell_type": "code",
   "execution_count": 8,
   "metadata": {
    "collapsed": false
   },
   "outputs": [
    {
     "name": "stderr",
     "output_type": "stream",
     "text": [
      "Failed to process statement if \"sos_handle_parameter_\" in ...',  int\\n)\\n: Argument cutoff of type <class 'int'> is required\n",
      "Sandbox execution failed."
     ]
    }
   ],
   "source": [
    "%sandbox --expect-error\n",
    "\n",
    "# cutoff value\n",
    "parameter: cutoff = int"
   ]
  },
  {
   "cell_type": "markdown",
   "metadata": {},
   "source": [
    "and execute the workflow without parameter, SoS would fail with an error message. This will force the users to provide an integer to this parameter. You can do the same for lists but SoS assumes that you need a **list of strings**. For example, the following definition"
   ]
  },
  {
   "cell_type": "code",
   "execution_count": 9,
   "metadata": {
    "collapsed": false
   },
   "outputs": [
    {
     "name": "stdout",
     "output_type": "stream",
     "text": [
      "['A.bam', 'B.bam']\n"
     ]
    }
   ],
   "source": [
    "%run --bam-files A.bam B.bam\n",
    "# input bam files\n",
    "parameter: bam_files = list\n",
    "print(bam_files)"
   ]
  },
  {
   "cell_type": "markdown",
   "metadata": {},
   "source": [
    "request a list of strings from command line. SoS will return a list even if only one value is provided."
   ]
  },
  {
   "cell_type": "markdown",
   "metadata": {},
   "source": [
    "## `parameter` of subworkflows"
   ]
  },
  {
   "cell_type": "markdown",
   "metadata": {},
   "source": [
    "The `parameter` statement usually gets its value from command line. However, when a workflow is executed as a subworkflow by action `sos_run`, the `parameter` statement can get its value from the `args` or `**kwargs` parameters of `sos_run`.\n",
    "\n",
    "For example, when the `default` workflow of the following script is executed, `cutoff` takes its default value of `10`. "
   ]
  },
  {
   "cell_type": "code",
   "execution_count": 1,
   "metadata": {
    "collapsed": false
   },
   "outputs": [
    {
     "name": "stdout",
     "output_type": "stream",
     "text": [
      "10\n"
     ]
    }
   ],
   "source": [
    "[default_1]\n",
    "parameter: cutoff=10\n",
    "sh:\n",
    "  echo ${cutoff}\n",
    "\n",
    "[batch]\n",
    "for cutoff in range(3):\n",
    "    sos_run('default', cutoff=cutoff)"
   ]
  },
  {
   "cell_type": "markdown",
   "metadata": {},
   "source": [
    "A command line argument can be used to set this parameter to `8`,"
   ]
  },
  {
   "cell_type": "code",
   "execution_count": 2,
   "metadata": {
    "collapsed": false
   },
   "outputs": [
    {
     "name": "stdout",
     "output_type": "stream",
     "text": [
      "8\n"
     ]
    }
   ],
   "source": [
    "%rerun --cutoff 8"
   ]
  },
  {
   "cell_type": "markdown",
   "metadata": {},
   "source": [
    "Now, if the workflow is called as a subworkflow of step `batch`, `sos_run` set up the environment so that the statement `parameter: cutoff=10` gets a different cutoff value pass by  `sos_run`."
   ]
  },
  {
   "cell_type": "code",
   "execution_count": 3,
   "metadata": {
    "collapsed": false
   },
   "outputs": [
    {
     "name": "stdout",
     "output_type": "stream",
     "text": [
      "0\n",
      "1\n",
      "2\n"
     ]
    }
   ],
   "source": [
    "%rerun batch "
   ]
  }
 ],
 "metadata": {
  "anaconda-cloud": {},
  "kernelspec": {
   "display_name": "SoS",
   "language": "sos",
   "name": "sos"
  },
  "language_info": {
   "codemirror_mode": "sos",
   "file_extension": ".sos",
   "mimetype": "text/x-sos",
   "name": "sos",
   "nbconvert_exporter": "sos.jupyter.converter.SoS_Exporter",
   "pygments_lexer": "sos"
  },
  "toc": {
   "colors": {
    "hover_highlight": "#DAA520",
    "running_highlight": "#FF0000",
    "selected_highlight": "#FFD700"
   },
   "moveMenuLeft": true,
   "nav_menu": {
    "height": "101px",
    "width": "254px"
   },
   "navigate_menu": true,
   "number_sections": true,
   "sideBar": true,
   "threshold": 4,
   "toc_cell": false,
   "toc_section_display": "block",
   "toc_window_display": false
  }
 },
 "nbformat": 4,
 "nbformat_minor": 1
}
