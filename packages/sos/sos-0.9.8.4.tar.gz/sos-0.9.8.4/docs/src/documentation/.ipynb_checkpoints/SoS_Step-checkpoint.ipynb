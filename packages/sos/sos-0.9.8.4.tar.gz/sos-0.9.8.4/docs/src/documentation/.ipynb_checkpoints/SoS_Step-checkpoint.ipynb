{
 "cells": [
  {
   "cell_type": "markdown",
   "metadata": {
    "deletable": true,
    "editable": true
   },
   "source": [
    "# Step definition"
   ]
  },
  {
   "cell_type": "markdown",
   "metadata": {
    "deletable": true,
    "editable": true
   },
   "source": [
    "SoS steps are building blocks of SoS workflows. Although the input and output can be more general, each step typically has its **input**, **output**, and **dependents** files, it executes a **step process** that consists of one or more Python statements and SoS actions (special python functions). Part or all the step process, called **tasks**, can be executed and monitored externally.\n",
    "\n",
    "![sos_step](../media/sos_step.png)\n"
   ]
  },
  {
   "cell_type": "markdown",
   "metadata": {
    "deletable": true,
    "editable": true
   },
   "source": [
    "## Step options"
   ]
  },
  {
   "cell_type": "markdown",
   "metadata": {
    "deletable": true,
    "editable": true
   },
   "source": [
    "**Step options** are specified after step name that assists the specification of workflows. SoS provides the following options"
   ]
  },
  {
   "cell_type": "markdown",
   "metadata": {
    "deletable": true,
    "editable": true
   },
   "source": [
    "### Option `skip`\n",
    "\n",
    "Option `skip` takes two formats, the first format has no value\n",
    "\n",
    "```\n",
    "[10: skip]\n",
    "```\n",
    "\n",
    "and is equivalent to\n",
    "\n",
    "```\n",
    "[10: skip=True]\n",
    "```\n",
    "\n",
    "The whole step will be skipped as if it is not defined at all in the script. This option provides a quick method to disable a step."
   ]
  },
  {
   "cell_type": "markdown",
   "metadata": {
    "deletable": true,
    "editable": true
   },
   "source": [
    "The second format takes a value, which is usually an expression that will be evaluated when the step is executed. For example, step 10 is by default executed by default"
   ]
  },
  {
   "cell_type": "code",
   "execution_count": 1,
   "metadata": {
    "collapsed": false,
    "deletable": true,
    "editable": true,
    "kernel": "sos"
   },
   "outputs": [
    {
     "name": "stdout",
     "output_type": "stream",
     "text": [
      "default_10 is executed\n"
     ]
    }
   ],
   "source": [
    "parameter: qc = True\n",
    "[10 (quality check): skip=not qc]\n",
    "print(\"${step_name} is executed\")"
   ]
  },
  {
   "cell_type": "markdown",
   "metadata": {
    "deletable": true,
    "editable": true
   },
   "source": [
    "but will not be executed if the workflow is executed with option `--no-qc` (for `qc=False`)"
   ]
  },
  {
   "cell_type": "code",
   "execution_count": 2,
   "metadata": {
    "collapsed": true,
    "deletable": true,
    "editable": true,
    "kernel": "sos"
   },
   "outputs": [],
   "source": [
    "%run --no-qc\n",
    "parameter: qc = True\n",
    "[10 (quality check): skip=not qc]\n",
    "print(\"${step_name} is executed\")"
   ]
  },
  {
   "cell_type": "markdown",
   "metadata": {
    "deletable": true,
    "editable": true
   },
   "source": [
    "### Option `sigil`\n",
    "\n",
    "Option `sigil` accepts a string for an alternative sigil, or `None` to disable string interpolation in the step. The sigil must be two strings separated by a space, such as `%( )`, `< >`, and `#{ }`. Sigils with equal left and right symbol such as `# #` can be used although they do not support features such as nested interpolation. Please refer to section [string interpolation](String_Interpolation.html) for details of this option."
   ]
  },
  {
   "cell_type": "markdown",
   "metadata": {
    "deletable": true,
    "editable": true
   },
   "source": [
    "### Option `shared`"
   ]
  },
  {
   "cell_type": "markdown",
   "metadata": {
    "deletable": true,
    "editable": true
   },
   "source": [
    "SoS executes each step in a separate process and by default does not return any result to the master SoS process. Option `shared` is used to share variables between steps. This option accepts:\n",
    "\n",
    "* A string (variable name), or\n",
    "* A map between variable names and expressions (strings) that will be evaluated upon the completion of the step.\n",
    "* A sequence of strings (variables) or maps.\n",
    "\n",
    "For example,"
   ]
  },
  {
   "cell_type": "code",
   "execution_count": 3,
   "metadata": {
    "collapsed": false,
    "deletable": true,
    "editable": true,
    "kernel": "sos"
   },
   "outputs": [
    {
     "name": "stdout",
     "output_type": "stream",
     "text": [
      "100\n"
     ]
    }
   ],
   "source": [
    "[10: shared='myvar']\n",
    "myvar = 100\n",
    "\n",
    "[20]\n",
    "print(myvar)"
   ]
  },
  {
   "cell_type": "markdown",
   "metadata": {
    "deletable": true,
    "editable": true
   },
   "source": [
    "A map syntax is recommended to share `output` of one step with others, because the variable assignment will be evaluated only after the step is complete:"
   ]
  },
  {
   "cell_type": "code",
   "execution_count": 4,
   "metadata": {
    "collapsed": false,
    "deletable": true,
    "editable": true,
    "kernel": "sos"
   },
   "outputs": [
    {
     "name": "stdout",
     "output_type": "stream",
     "text": [
      "Input file a.txt\n"
     ]
    }
   ],
   "source": [
    "%sandbox\n",
    "[1: shared = {'test_output': 'output'}]\n",
    "output: 'a.txt'\n",
    "sh:\n",
    "    touch a.txt\n",
    "[2]\n",
    "print(\"Input file ${test_output}\")\n",
    "input: test_output"
   ]
  },
  {
   "cell_type": "markdown",
   "metadata": {
    "deletable": true,
    "editable": true
   },
   "source": [
    "The map syntax is evaluated as expressions; therefore it is possible to finer control what specific output, or variations of output, to share with others. For example:"
   ]
  },
  {
   "cell_type": "code",
   "execution_count": 5,
   "metadata": {
    "collapsed": false,
    "deletable": true,
    "editable": true,
    "kernel": "sos"
   },
   "outputs": [
    {
     "name": "stdout",
     "output_type": "stream",
     "text": [
      "output 1: a.txt\n",
      "output 2: b.txt\n"
     ]
    }
   ],
   "source": [
    "%sandbox\n",
    "[1: shared={'test_output_1':'output[0]', 'test_output_2': 'output[1]'}]\n",
    "output: 'a.txt', 'b.txt'\n",
    "sh:\n",
    "    touch a.txt b.txt\n",
    "[2]\n",
    "print(\"output 1: ${test_output_1}\")\n",
    "print(\"output 2: ${test_output_2}\")"
   ]
  },
  {
   "cell_type": "markdown",
   "metadata": {
    "deletable": true,
    "editable": true
   },
   "source": [
    "to shared the first file in `output` (filename `output[0]`) instead of the entire output file list."
   ]
  },
  {
   "cell_type": "markdown",
   "metadata": {
    "deletable": true,
    "editable": true
   },
   "source": [
    "The `shared` option also provides a `sos_variable` target. Please refer to section [auxiliary step](Auxiliary_Steps.html) for details."
   ]
  },
  {
   "cell_type": "markdown",
   "metadata": {
    "deletable": true,
    "editable": true
   },
   "source": [
    "### Option `provides`\n",
    "\n",
    "This option lists files or targets a step generates so that it can be called if the target is required but does not exist. Please see section [auxiliary step](Auxiliary_Steps.html) for details. A step can be treated as both a forward step and an auxiliary step despite of the differences on how they are invoked."
   ]
  },
  {
   "cell_type": "markdown",
   "metadata": {
    "deletable": true,
    "editable": true
   },
   "source": [
    "## Step Input"
   ]
  },
  {
   "cell_type": "markdown",
   "metadata": {
    "deletable": true,
    "editable": true
   },
   "source": [
    "### Input files\n",
    "\n",
    "The input of SoS step follows the following rules:\n",
    "\n",
    "* **the input of a SoS step is by default the output of the previous step**, which is `None` for the first step.\n",
    "* **`input` option**, which could be **a list** of filenames (string literal, variables, or expressions that return filenames).  Wildcard characters (`*`, which matches everything and `?`, which matches any single character) are acceptable. Nested lists are flattened.\n",
    "\n",
    "Examples of input specification are as follows:\n",
    "\n",
    "```\n",
    "input: []\n",
    "\n",
    "input: 'file1.fasta', 'file2.fasta'\n",
    "\n",
    "input: 'file*.fasta', 'filename with space.fasta'\n",
    "\n",
    "input:\n",
    "    'file*.txt',\n",
    "    'directory/file2.txt'\n",
    "\n",
    "input: aligned_reads\n",
    "\n",
    "input: aligned_reads, reference_genome\n",
    "\n",
    "input: aligned_reads[2:]\n",
    "\n",
    "input: 'data/*.fastq'\n",
    "\n",
    "input: '*/GXT*.fastq'\n",
    "\n",
    "input: func(parameter)\n",
    "```\n",
    "\n",
    "It is worth noting that\n",
    "\n",
    "* The first examples shows that the step does not need any input file (so it does not depend on any other step).\n",
    "* It does not matter if `aligned_reads` and `reference_genome` are strings or lists of strings because SoS will flatten nested lists to a single list of filenames.\n",
    "* The `input` option tries to expand filenames with wildcard characters (`*` and `?`). This can be very useful for workflows that, for example, regularly scan a directory and process unprocessed files. However, because the value of this step depends on availability of files, the output of `sos show script` and the execution path will be unpredictable, and even wrong if there is no available file during the execution of `sos show script`.\n",
    "\n",
    "The input files will be evaluated and form a list of input files. They are by default sent to the step process all at once as varible `_input`, but can also be sent in groups, each time\n",
    "with different `_input`. Here `_input` is a temporary variable that is available only within the step."
   ]
  },
  {
   "cell_type": "markdown",
   "metadata": {
    "deletable": true,
    "editable": true
   },
   "source": [
    "### Option `filetype`\n",
    "\n",
    "SoS allows the specification of input options, which are appended to input file list as comma separated `name=value` pairs.\n",
    "\n",
    "Option `filetype` accepts one or more filetypes or a lambda function. For example,"
   ]
  },
  {
   "cell_type": "code",
   "execution_count": 6,
   "metadata": {
    "collapsed": false,
    "deletable": true,
    "editable": true,
    "kernel": "sos"
   },
   "outputs": [
    {
     "name": "stdout",
     "output_type": "stream",
     "text": [
      "a.fastq b.fastq\n"
     ]
    }
   ],
   "source": [
    "%sandbox\n",
    "!touch a.fastq b.fastq README.txt\n",
    "\n",
    "[step]\n",
    "input: '*', filetype='*.fastq'\n",
    "print(\"${input}\")"
   ]
  },
  {
   "cell_type": "markdown",
   "metadata": {
    "deletable": true,
    "editable": true
   },
   "source": [
    "This step passes three files to `step` with wildcard filename `*`. The filetype filter removes the text file from `input`."
   ]
  },
  {
   "cell_type": "markdown",
   "metadata": {
    "deletable": true,
    "editable": true
   },
   "source": [
    "Under the hood SoS treats the pattern as Unix shell-stype wildcard pattern (with `*`, `?`, `[seq]` and `[!seq]`, see [doc](https://docs.python.org/2/library/fnmatch.html#module-fnmatch) for details) so\n",
    "\n",
    "* **`filetype='.txt'` does not match `file.txt`**\n",
    "* `filetype='*.fastq*'` matches `a.fastq`, `a.fastq.gz` and `a.fastq.zip`\n",
    "* `filetype='[!_]*.txt'` matches `file1.txt` but not `_file1.txt`\n",
    "\n",
    "If you need more refined control over the selection of files, you can use lambda functions (a bit python knowledge is required). For example,"
   ]
  },
  {
   "cell_type": "code",
   "execution_count": 7,
   "metadata": {
    "collapsed": false,
    "deletable": true,
    "editable": true,
    "kernel": "sos"
   },
   "outputs": [
    {
     "name": "stdout",
     "output_type": "stream",
     "text": [
      "a.vcf\n"
     ]
    }
   ],
   "source": [
    "%sandbox\n",
    "!echo '##fileformat=VCF4.1' > a.vcf\n",
    "!echo '#!/usr/bin/env python' > a.py\n",
    "\n",
    "[step]\n",
    "input: '*', filetype=lambda x: open(x).readline().startswith('##fileformat=VCF4.1')\n",
    "print(\"${input}\")"
   ]
  },
  {
   "cell_type": "markdown",
   "metadata": {
    "deletable": true,
    "editable": true
   },
   "source": [
    "The lambda function passes only files with the first line starting with string `##fileformat=VCF4.1``."
   ]
  },
  {
   "cell_type": "markdown",
   "metadata": {
    "deletable": true,
    "editable": true
   },
   "source": [
    "### Option `group_by`"
   ]
  },
  {
   "cell_type": "markdown",
   "metadata": {
    "deletable": true,
    "editable": true
   },
   "source": [
    "SoS by default passes all input files to step process as a single list. Option `group_by` pass input files in groups, each time with a subset of input files named `_input`. SoS allows you to group input by `single` (individual file), `pairs` (match first half of files with the second half),  `combinations` (all unordered combinations of 2-sets), `pairwise` (all adjacent 2-sets), or chunks of size `N` (integer `group_by=3` or string `group_by='4'`, the last group might have few files if the number of input files is not a multiple of `group_by`). For example, with the following sos script"
   ]
  },
  {
   "cell_type": "code",
   "execution_count": 8,
   "metadata": {
    "collapsed": false,
    "deletable": true,
    "editable": true,
    "kernel": "sos"
   },
   "outputs": [
    {
     "name": "stdout",
     "output_type": "stream",
     "text": [
      "file1 file2\n",
      "file2 file3\n",
      "file3 file4\n"
     ]
    }
   ],
   "source": [
    "%sandbox\n",
    "!touch file1 file2 file3 file4\n",
    "\n",
    "[group]\n",
    "input: 'file1', 'file2', 'file3', 'file4', group_by='pairwise'\n",
    "print(\"${_input}\")"
   ]
  },
  {
   "cell_type": "markdown",
   "metadata": {
    "deletable": true,
    "editable": true
   },
   "source": [
    "It is very important to understand that the `group_by` option does not change `${input}`. It creates a looping variable `${_input}` that changes with each input group. To demonstrate more acceptable values, the following example uses `sos_run` action to execute this a step with different grouping method."
   ]
  },
  {
   "cell_type": "code",
   "execution_count": 9,
   "metadata": {
    "collapsed": false,
    "deletable": true,
    "editable": true,
    "kernel": "sos"
   },
   "outputs": [
    {
     "name": "stdout",
     "output_type": "stream",
     "text": [
      "group_by=1\n",
      "0: file1\n",
      "1: file2\n",
      "2: file3\n",
      "3: file4\n",
      "group_by=2\n",
      "0: file1 file2\n",
      "1: file3 file4\n",
      "group_by=single\n",
      "0: file1\n",
      "1: file2\n",
      "2: file3\n",
      "3: file4\n",
      "group_by=pairs\n",
      "0: file1 file3\n",
      "1: file2 file4\n",
      "group_by=pairwise\n",
      "0: file1 file2\n",
      "1: file2 file3\n",
      "2: file3 file4\n",
      "group_by=combinations\n",
      "0: file1 file2\n",
      "1: file1 file3\n",
      "2: file1 file4\n",
      "3: file2 file3\n",
      "4: file2 file4\n",
      "5: file3 file4\n"
     ]
    }
   ],
   "source": [
    "%sandbox\n",
    "!touch file1 file2 file3 file4\n",
    "\n",
    "[group]\n",
    "parameter: group = str\n",
    "print(\"group_by=${group}\")\n",
    "input: 'file1', 'file2', 'file3', 'file4', group_by=group\n",
    "print(\"${_index}: ${_input}\")\n",
    "\n",
    "[default]\n",
    "sos_run('group', group=1)\n",
    "sos_run('group', group=2)\n",
    "sos_run('group', group='single')\n",
    "sos_run('group', group='pairs')\n",
    "sos_run('group', group='pairwise')\n",
    "sos_run('group', group='combinations')\n"
   ]
  },
  {
   "cell_type": "markdown",
   "metadata": {
    "deletable": true,
    "editable": true
   },
   "source": [
    "Obviously, the output of the `pairs` cases depends on the order of files. If you need to pair files in any particular order, you can control it in input. For example"
   ]
  },
  {
   "cell_type": "code",
   "execution_count": 10,
   "metadata": {
    "collapsed": false,
    "deletable": true,
    "editable": true,
    "kernel": "sos"
   },
   "outputs": [
    {
     "name": "stdout",
     "output_type": "stream",
     "text": [
      "['A_R1_0.fastq', 'A_R2_0.fastq']\n",
      "['A_R1_1.fastq', 'A_R2_1.fastq']\n",
      "['B_R1_0.fastq', 'B_R2_0.fastq']\n",
      "['B_R1_1.fastq', 'B_R2_1.fastq']\n"
     ]
    }
   ],
   "source": [
    "%sandbox\n",
    "!touch A_R1_0.fastq A_R2_0.fastq B_R1_0.fastq B_R2_0.fastq\n",
    "!touch A_R1_1.fastq A_R2_1.fastq B_R1_1.fastq B_R2_1.fastq\n",
    "\n",
    "fastq_files = glob.glob('*')\n",
    "\n",
    "[step]\n",
    "input:\n",
    "\tsorted([x for x in fastq_files if '_R1_' in x]),\n",
    "\tsorted([x for x in fastq_files if '_R2_' in x]),\n",
    "\tgroup_by='pairs'\n",
    "\n",
    "print(_input)"
   ]
  },
  {
   "cell_type": "markdown",
   "metadata": {
    "deletable": true,
    "editable": true
   },
   "source": [
    "will take all input files and sort them by `_R1_` and `_R2_` and by filename, and pair them."
   ]
  },
  {
   "cell_type": "markdown",
   "metadata": {
    "deletable": true,
    "editable": true
   },
   "source": [
    "### Option `for_each`"
   ]
  },
  {
   "cell_type": "markdown",
   "metadata": {
    "deletable": true,
    "editable": true
   },
   "source": [
    "Option `for_each` allows you to repeat step process for each value of a variable. For example,"
   ]
  },
  {
   "cell_type": "code",
   "execution_count": 11,
   "metadata": {
    "collapsed": false,
    "deletable": true,
    "editable": true,
    "kernel": "sos"
   },
   "outputs": [
    {
     "name": "stdout",
     "output_type": "stream",
     "text": [
      "0: file1 file2 m1\n",
      "1: file1 file2 m2\n"
     ]
    }
   ],
   "source": [
    "%sandbox\n",
    "!touch file1 file2\n",
    "\n",
    "method = ['m1', 'm2']\n",
    "input: 'file1', 'file2', for_each='method'\n",
    "print(\"${_index}: ${_input} ${_method}\")"
   ]
  },
  {
   "cell_type": "markdown",
   "metadata": {
    "deletable": true,
    "editable": true
   },
   "source": [
    "will repeat the step with each item of variable `method`"
   ]
  },
  {
   "cell_type": "markdown",
   "metadata": {
    "deletable": true,
    "editable": true
   },
   "source": [
    "SoS automatically creates a loop variable `_method` for variable `method`, which assumes a slice of the variable at each iteration. "
   ]
  },
  {
   "cell_type": "markdown",
   "metadata": {
    "deletable": true,
    "editable": true
   },
   "source": [
    "Nested loops are also allowed. For example,"
   ]
  },
  {
   "cell_type": "code",
   "execution_count": 12,
   "metadata": {
    "collapsed": false,
    "deletable": true,
    "editable": true,
    "kernel": "sos"
   },
   "outputs": [
    {
     "name": "stdout",
     "output_type": "stream",
     "text": [
      "0: _input=file1 file2 _method=m1, _pars=1\n",
      "1: _input=file1 file2 _method=m2, _pars=1\n",
      "2: _input=file1 file2 _method=m1, _pars=2\n",
      "3: _input=file1 file2 _method=m2, _pars=2\n"
     ]
    }
   ],
   "source": [
    "%sandbox\n",
    "!touch file1 file2\n",
    "\n",
    "[0]\n",
    "method = ['m1', 'm2']\n",
    "pars = [1, 2]\n",
    "input: 'file1', 'file2', for_each=['method', 'pars']\n",
    "print(\"${_index}: _input=${_input} _method=${_method}, _pars=${_pars}\")"
   ]
  },
  {
   "cell_type": "markdown",
   "metadata": {
    "deletable": true,
    "editable": true
   },
   "source": [
    "If you would like to loop the process with several parameters, you can put them into the same level by 'var1,var2'. For example,"
   ]
  },
  {
   "cell_type": "code",
   "execution_count": 13,
   "metadata": {
    "collapsed": false,
    "deletable": true,
    "editable": true,
    "kernel": "sos"
   },
   "outputs": [
    {
     "name": "stdout",
     "output_type": "stream",
     "text": [
      "0: _input=file1 file2 _method=m1, _pars=1\n",
      "1: _input=file1 file2 _method=m2, _pars=2\n"
     ]
    }
   ],
   "source": [
    "%sandbox\n",
    "!touch file1 file2\n",
    "\n",
    "[0]\n",
    "method = ['m1', 'm2']\n",
    "pars = [1, 2]\n",
    "input: 'file1', 'file2', for_each=['method,pars']\n",
    "print(\"${_index}: _input=${_input} _method=${_method}, _pars=${_pars}\")"
   ]
  },
  {
   "cell_type": "markdown",
   "metadata": {
    "deletable": true,
    "editable": true
   },
   "source": [
    "The variable passed to option `for_each` can a sequence (`list`, `tuple`, `set`, etc), a Pandas `Series`, `Index`, or `DataFrame`. In the last case, each `_loop` variable presents a line in the dataframe and you can access single values using format `_loop[\"header\"]`. For example"
   ]
  },
  {
   "cell_type": "code",
   "execution_count": 14,
   "metadata": {
    "collapsed": true,
    "deletable": true,
    "editable": true,
    "kernel": "sos",
    "output_cache": "[]"
   },
   "outputs": [],
   "source": [
    "%sandbox\n",
    "%preview data\n",
    "[0]\n",
    "import pandas as pd\n",
    "data = pd.DataFrame([(1, 2, 'Hello'), (2, 4, 'World')], columns=['A', 'B', 'C'])\n",
    "input: for_each='data'\n",
    "output: \"${_data['A']}_${_data['B']}_${_data['C']}.txt\"\n",
    "sh:\n",
    "    touch ${_output}"
   ]
  },
  {
   "cell_type": "markdown",
   "metadata": {
    "deletable": true,
    "editable": true
   },
   "source": [
    "If you would like define your own loop variable, or if the default loop variable does not work (e.g. loop through `obj.sequence` where `_obj.sequence` is not a valid variable name), you can use a dictionary syntax in the format of `{'varname': sequence}`. Mult-variable and nested loops can be specified in the format of `{'var1': seq1, 'var2': seq2}` (same level) and `[{'var1': seq1}, {'var2': seq2}]`. \n",
    "\n",
    "For example, the first example for this parameter can be written as"
   ]
  },
  {
   "cell_type": "code",
   "execution_count": 15,
   "metadata": {
    "collapsed": false,
    "deletable": true,
    "editable": true,
    "kernel": "sos"
   },
   "outputs": [
    {
     "name": "stdout",
     "output_type": "stream",
     "text": [
      "0: file1 file2 m1\n",
      "1: file1 file2 m2\n"
     ]
    }
   ],
   "source": [
    "%sandbox\n",
    "!touch file1 file2\n",
    "\n",
    "input: 'file1', 'file2', for_each={'method': ['m1', 'm2']}\n",
    "print(\"${_index}: ${_input} ${method}\")"
   ]
  },
  {
   "cell_type": "markdown",
   "metadata": {
    "deletable": true,
    "editable": true
   },
   "source": [
    "and a latter example can be written as"
   ]
  },
  {
   "cell_type": "code",
   "execution_count": 16,
   "metadata": {
    "collapsed": false,
    "deletable": true,
    "editable": true,
    "kernel": "sos",
    "output_cache": "[{\"text\":\"0: _input=file1 file2 method=m1, pars=1\\n1: _input=file1 file2 method=m2, pars=2\\n\",\"name\":\"stdout\",\"output_type\":\"stream\"}]"
   },
   "outputs": [
    {
     "name": "stdout",
     "output_type": "stream",
     "text": [
      "0: _input=file1 file2 method=m1, pars=1\n",
      "1: _input=file1 file2 method=m2, pars=2\n"
     ]
    }
   ],
   "source": [
    "%sandbox\n",
    "!touch file1 file2\n",
    "\n",
    "[0]\n",
    "input: 'file1', 'file2', for_each={'method': ['m1','m2'],\n",
    "                                   'pars': [1, 2]}\n",
    "print(\"${_index}: _input=${_input} method=${method}, pars=${pars}\")"
   ]
  },
  {
   "cell_type": "markdown",
   "metadata": {
    "deletable": true,
    "editable": true,
    "output_cache": "[]"
   },
   "source": [
    "The dictionary syntax also supports multiple keys. This helps customizing groups of variables. For example in the script below we only care for situations where `n` is greater than `p`,  "
   ]
  },
  {
   "cell_type": "code",
   "execution_count": 17,
   "metadata": {
    "collapsed": false,
    "deletable": true,
    "editable": true,
    "kernel": "sos",
    "output_cache": "[]"
   },
   "outputs": [
    {
     "name": "stdout",
     "output_type": "stream",
     "text": [
      "0 1.txt 100 50\n",
      "1 2.txt 300 50\n",
      "2 3.txt 300 100\n",
      "3 4.txt 300 200\n"
     ]
    }
   ],
   "source": [
    "%sandbox\n",
    "!touch a.txt\n",
    "[1]\n",
    "import itertools\n",
    "parameter: n = [100, 300]\n",
    "parameter: p = [50, 100, 200]\n",
    "parameter: outfile = ['1.txt', '2.txt', '3.txt', '4.txt', '5.txt', '6.txt']\n",
    "input: 'a.txt', for_each= {'_n,_p': [(_n,_p) for _n in n for _p in p if _n > _p]}\n",
    "print(\"${_index} ${outfile[_index]} ${_n} ${_p}\")"
   ]
  },
  {
   "cell_type": "markdown",
   "metadata": {
    "deletable": true,
    "editable": true
   },
   "source": [
    "### Option `paired_with`"
   ]
  },
  {
   "cell_type": "markdown",
   "metadata": {
    "deletable": true,
    "editable": true
   },
   "source": [
    "Input files might might come with additional information such as sample type, and sample name, and you can pair these information to input files using the `paired_with` option. For example, `bam_files` in the following example have matched `mutated` and `sample_name`, you can atteched these information to groups of input files `_input` with looped paired with variables."
   ]
  },
  {
   "cell_type": "code",
   "execution_count": 18,
   "metadata": {
    "collapsed": false,
    "deletable": true,
    "editable": true,
    "kernel": "sos"
   },
   "outputs": [
    {
     "name": "stdout",
     "output_type": "stream",
     "text": [
      "0: _input=case/A1.bam _mutated=case, _sample_name=A1\n",
      "1: _input=case/A2.bam _mutated=case, _sample_name=A2\n",
      "2: _input=ctrl/A1.bam _mutated=ctrl, _sample_name=A1\n",
      "3: _input=ctrl/A2.bam _mutated=ctrl, _sample_name=A2\n"
     ]
    }
   ],
   "source": [
    "%sandbox\n",
    "!mkdir case ctrl\n",
    "!touch case/A1.bam case/A2.bam ctrl/A1.bam ctrl/A2.bam\n",
    "\n",
    "bam_files = ['case/A1.bam', 'case/A2.bam', 'ctrl/A1.bam', 'ctrl/A2.bam']\n",
    "mutated = ['case', 'case', 'ctrl', 'ctrl']\n",
    "sample_name = ['A1', 'A2', 'A1', 'A2']\n",
    "\n",
    "input: bam_files, paired_with=['mutated', 'sample_name'], group_by=1\n",
    "print(\"${_index}: _input=${_input} _mutated=${_mutated}, _sample_name=${_sample_name}\")"
   ]
  },
  {
   "cell_type": "markdown",
   "metadata": {
    "deletable": true,
    "editable": true
   },
   "source": [
    "The paired varaibles stay with the input files, so we get different paired variables with different grouping method"
   ]
  },
  {
   "cell_type": "code",
   "execution_count": 19,
   "metadata": {
    "collapsed": false,
    "deletable": true,
    "editable": true,
    "kernel": "sos",
    "output_cache": "[{\"name\":\"stdout\",\"output_type\":\"stream\",\"text\":\"0: _input=case/A1.bam ctrl/A1.bam _mutated=case ctrl, _sample_name=A1 A1\\n1: _input=case/A2.bam ctrl/A2.bam _mutated=case ctrl, _sample_name=A2 A2\\n\"}]"
   },
   "outputs": [
    {
     "name": "stdout",
     "output_type": "stream",
     "text": [
      "0: _input=case/A1.bam ctrl/A1.bam _mutated=case ctrl, _sample_name=A1 A1\n",
      "1: _input=case/A2.bam ctrl/A2.bam _mutated=case ctrl, _sample_name=A2 A2\n"
     ]
    }
   ],
   "source": [
    "%sandbox\n",
    "!mkdir case ctrl\n",
    "!touch case/A1.bam case/A2.bam ctrl/A1.bam ctrl/A2.bam\n",
    "\n",
    "bam_files = ['case/A1.bam', 'case/A2.bam', 'ctrl/A1.bam', 'ctrl/A2.bam']\n",
    "mutated = ['case', 'case', 'ctrl', 'ctrl']\n",
    "sample_name = ['A1', 'A2', 'A1', 'A2']\n",
    "\n",
    "input: bam_files, paired_with=['mutated', 'sample_name'], group_by='pairs'\n",
    "print(\"${_index}: _input=${_input} _mutated=${_mutated}, _sample_name=${_sample_name}\")"
   ]
  },
  {
   "cell_type": "markdown",
   "metadata": {
    "deletable": true,
    "editable": true
   },
   "source": [
    "In case that the variable you would like to pair has a name with `.` (e.g. `align.output` for which name of looping variable `_align.outpu` is invalid) or if you would like to control the name of the looping variable, you can use the full format of this parameter `{var_name: var_value}`. "
   ]
  },
  {
   "cell_type": "code",
   "execution_count": 20,
   "metadata": {
    "collapsed": false,
    "deletable": true,
    "editable": true,
    "kernel": "sos",
    "output_cache": "[{\"output_type\":\"stream\",\"text\":\"0: _input=case/A1.bam mutated=case, sample_name=A1\\n1: _input=case/A2.bam mutated=case, sample_name=A2\\n2: _input=ctrl/A1.bam mutated=ctrl, sample_name=A1\\n3: _input=ctrl/A2.bam mutated=ctrl, sample_name=A2\\n\",\"name\":\"stdout\"}]"
   },
   "outputs": [
    {
     "name": "stdout",
     "output_type": "stream",
     "text": [
      "0: _input=case/A1.bam mutated=case, sample_name=A1\n",
      "1: _input=case/A2.bam mutated=case, sample_name=A2\n",
      "2: _input=ctrl/A1.bam mutated=ctrl, sample_name=A1\n",
      "3: _input=ctrl/A2.bam mutated=ctrl, sample_name=A2\n"
     ]
    }
   ],
   "source": [
    "%sandbox\n",
    "!mkdir case ctrl\n",
    "!touch case/A1.bam case/A2.bam ctrl/A1.bam ctrl/A2.bam\n",
    "\n",
    "bam_files = ['case/A1.bam', 'case/A2.bam', 'ctrl/A1.bam', 'ctrl/A2.bam']\n",
    "input: bam_files, paired_with={\n",
    "    'mutated': ['case', 'case', 'ctrl', 'ctrl'],\n",
    "    'sample_name': ['A1', 'A2', 'A1', 'A2']\n",
    "    }, group_by=1\n",
    "print(\"${_index}: _input=${_input} mutated=${mutated}, sample_name=${sample_name}\")"
   ]
  },
  {
   "cell_type": "markdown",
   "metadata": {
    "deletable": true,
    "editable": true
   },
   "source": [
    "### Option `pattern`"
   ]
  },
  {
   "cell_type": "markdown",
   "metadata": {
    "deletable": true,
    "editable": true
   },
   "source": [
    "This option does the reverse of function `expand_pattern`. It uses named wildcards to match pattern to all input files, and creates step variables for these wildcard objects. For example,"
   ]
  },
  {
   "cell_type": "code",
   "execution_count": 21,
   "metadata": {
    "collapsed": false,
    "deletable": true,
    "editable": true,
    "kernel": "sos"
   },
   "outputs": [
    {
     "name": "stdout",
     "output_type": "stream",
     "text": [
      "a-processed-20.txt b-processed-10.txt\n"
     ]
    }
   ],
   "source": [
    "%sandbox\n",
    "!touch a-20.txt b-10.txt\n",
    "\n",
    "[step]\n",
    "input:  'a-20.txt', 'b-10.txt', pattern = '{name}-{par}.txt'\n",
    "output: expand_pattern(\"{name}-processed-{par}.txt\")\n",
    "run:\n",
    "    echo ${output}\n",
    "    touch ${output}"
   ]
  },
  {
   "cell_type": "markdown",
   "metadata": {
    "deletable": true,
    "editable": true
   },
   "source": [
    "will take all input files and extract `name` and `par` from each file name as variables `name` and `par`. It is then used to create output file names adding the word `processed` in between these wildcard objects. The outcome of the SoS script above is creation of files `a-processed-10.txt` and `b-processed-20.txt`."
   ]
  },
  {
   "cell_type": "markdown",
   "metadata": {
    "deletable": true,
    "editable": true
   },
   "source": [
    "When wildcard objects are accessed as step variables, both variable names with and without `_` prefix is available, e.g. in this example, both `_name` and `name`, `_par` and `par` are avaiable and are the same. The two conventions will only differ when `group_by` or `for_each` is also used. In which case the generated pattern variables `name` and `par` are automatically paired with `input` as if they have been paired using option `paired_with=['name', 'par']`."
   ]
  },
  {
   "cell_type": "code",
   "execution_count": 22,
   "metadata": {
    "collapsed": false,
    "deletable": true,
    "editable": true,
    "kernel": "sos"
   },
   "outputs": [
    {
     "name": "stdout",
     "output_type": "stream",
     "text": [
      "a-processed-20.txt\n",
      "b-processed-10.txt\n"
     ]
    }
   ],
   "source": [
    "%sandbox\n",
    "!touch a-20.txt b-10.txt\n",
    "\n",
    "[step]\n",
    "input:  'a-20.txt', 'b-10.txt', pattern = '{name}-{par}.txt', group_by=1\n",
    "output: expand_pattern(\"{_name}-processed-{_par}.txt\")\n",
    "run:\n",
    "    echo ${_output}\n",
    "    touch ${_output}"
   ]
  },
  {
   "cell_type": "markdown",
   "metadata": {
    "deletable": true,
    "editable": true
   },
   "source": [
    "### `dynamic` input files"
   ]
  },
  {
   "cell_type": "markdown",
   "metadata": {
    "deletable": true,
    "editable": true
   },
   "source": [
    "In order to determine the best execution strategy, SoS evaluates all expressions for all steps before the execution of a workflow to figure\n",
    "out input and output of steps. This works most of the time but sometimes the input of a step can only be determined at runtime. For example,\n",
    "if you would like your workflow to automatically scan an input directory and process all fasta files under it, or if a previous step produces\n",
    "files that cannot be determined beforehand, you can specify input files as follows,\n",
    "\n",
    "```python\n",
    "input: 'input/*.fasta'\n",
    "```\n",
    "\n",
    "The problem is that no file or a wrong set files might exist during the planing stage so SoS might skip this step or start the step\n",
    "with a wrong set of files. To address this problem, you can declare the input files as **dynamic** by passing a `dynamic` object\n",
    "\n",
    "```python\n",
    "input: dynamic('input/*.fasta')\n",
    "```\n",
    "\n",
    "This tells SoS that the input of this step can only be determined at runtime and will execute the step only after all its previous\n",
    "steps have been completed."
   ]
  },
  {
   "cell_type": "markdown",
   "metadata": {
    "deletable": true,
    "editable": true
   },
   "source": [
    "### Summary\n",
    "\n",
    "Options of step `input` are evaluated in the following orders:\n",
    "\n",
    "1. A list of input files, if specified, would replace `input`, which is by default output from the previous step.\n",
    "2. Option `filetype` filters input files. **The output becomes `input`**.\n",
    "3. Option `group_by` groups the files into several groups, named `_input`\n",
    "4. Option `for_each` repeat `_input` for each loop var, named `_loopvar` if `for_each='loopvar'`.\n",
    "5. Option `paired_with` pairs one or more variables with `input`, variable `paired` is paired with `input`\n",
    "    and variable `_paired` is paired with `_input` in each loop if `paired_with='paired'`\n",
    "6. Option `pattern` extract variables from filenames in `input`. Variable `extracted` is paired with `input`\n",
    "    and variable `_extracted` is paired with `_input` in each loop if `extract='{extracted}_other_part'`.\n",
    "7. Option `skip` optionally skip all or part of the input groups.\n",
    "\n",
    "The differences between looped and non-loop steps are sumarized in the following figure\n",
    "\n",
    "![step_loop](../media/step_loop.jpg)"
   ]
  },
  {
   "cell_type": "markdown",
   "metadata": {
    "deletable": true,
    "editable": true
   },
   "source": [
    "## Step output"
   ]
  },
  {
   "cell_type": "markdown",
   "metadata": {
    "deletable": true,
    "editable": true
   },
   "source": [
    "### Output files\n",
    "\n",
    "Output files of a step can be specified by step `output`. Whereas step `input` override or\n",
    "change SoS provided variable `input` to produce one or more variable `_input`,\n",
    "the step `output` specify `output` which should be `[]` if no output is generated\n",
    "(or of interest). Similar to `input`, step output accepts strings, variables, expressions, and allows wildcard characters. For example, the following are acceptable output files\n",
    "\n",
    "```python\n",
    "output:  []\n",
    "\n",
    "output:  'accepted_hits.bam'\n",
    "\n",
    "output:  aligned_reads, bam_stats\n",
    "\n",
    "output:  'aligned/*.bam'\n",
    "\n",
    "output:  expand_pattern('aligned_{samples}.bam')\n",
    "```\n",
    "\n",
    "In the last example, function `expand_pattern` is used to contruct list of files from items of a sequence `samples`. In case of `input` loop, step `output` actually determines variable `_output` for each input loop. For example, the following step accepts one or more bam files and index them using command `samtools index`. The input files are passed one\n",
    "by one so generate multiple `output` files (`'${_input}.bai'`). \n",
    "\n",
    "```python\n",
    "[10]\n",
    "input:\n",
    "\tbamfiles, group_by='single'\n",
    "\n",
    "output:\n",
    "\t'${_input}.bai'\n",
    "\n",
    "run('''samtools index ${_input} ''')\n",
    "```\n",
    "\n",
    "The use of variable `output` in this scenario is discouraged because `output`, as the collection of all `_output` increases with each input group. The accumulation only happens when `_output` and `output` are different so `output` will stay the same if all output files are specified as in the following example\n",
    "\n",
    "```python\n",
    "output: [x + '.bai' for x in bamfiles]\n",
    "```"
   ]
  },
  {
   "cell_type": "markdown",
   "metadata": {
    "deletable": true,
    "editable": true
   },
   "source": [
    "### `dynamic` output files\n",
    "\n",
    "Similar to the cases with [dynamic input files](#dynamically-determined-input-files-function-dynamic), the output of some steps could also not be determined beforehand. For example, with the following script that generates `html` files that cannot be determined during dry run, "
   ]
  },
  {
   "cell_type": "code",
   "execution_count": 23,
   "metadata": {
    "collapsed": false,
    "deletable": true,
    "editable": true
   },
   "outputs": [
    {
     "name": "stderr",
     "output_type": "stream",
     "text": [
      "Output target *.html does not exist after the completion of step default_10 (curdir=/private/var/folders/ys/gnzk0qbx5wbdgm531v82xxljv5yqy8/T/tmpgi3r_3pg)\n"
     ]
    }
   ],
   "source": [
    "%sandbox --expect-error\n",
    "[10]\n",
    "output: '*.html'\n",
    "\n",
    "import random\n",
    "for i in range(2):\n",
    "    run(\"touch result_${random.randint(1, 20)}.html\")"
   ]
  },
  {
   "cell_type": "markdown",
   "metadata": {
    "deletable": true,
    "editable": true
   },
   "source": [
    "In this case, you will need to define the output as `dynamic` using a `dynamic` function."
   ]
  },
  {
   "cell_type": "code",
   "execution_count": 24,
   "metadata": {
    "collapsed": true,
    "deletable": true,
    "editable": true,
    "kernel": "sos"
   },
   "outputs": [],
   "source": [
    "%sandbox\n",
    "[10]\n",
    "output: dynamic('*.html')\n",
    "\n",
    "import random\n",
    "for i in range(2):\n",
    "    run(\"touch result_${random.randint(1, 20)}.html\")\n"
   ]
  },
  {
   "cell_type": "markdown",
   "metadata": {
    "deletable": true,
    "editable": true
   },
   "source": [
    "In this case, SoS knows that the output can only be determined after the completion of the step."
   ]
  },
  {
   "cell_type": "markdown",
   "metadata": {
    "deletable": true,
    "editable": true
   },
   "source": [
    "## Step depends"
   ]
  },
  {
   "cell_type": "markdown",
   "metadata": {
    "deletable": true,
    "editable": true
   },
   "source": [
    "This item specifies files that are required for the step. Although not required, it is a good practice to list resource files and other dependency files for a particular step. For example\n",
    "\n",
    "```python\n",
    "[10]\n",
    "input: fasta_files\n",
    "depends: reference_seq, executable('fastqc')\n",
    "```\n",
    "\n",
    "Similar to `output` options, dependent files can also be defined after `input` options and consist of dependent files determined from loop variables. "
   ]
  },
  {
   "cell_type": "markdown",
   "metadata": {
    "deletable": true,
    "editable": true
   },
   "source": [
    "The following figure summarizes the effect of `input` and `output` options and input options `group_by` and `for_each` on the flow\n",
    "of input and output files and related variables.\n",
    "\n",
    "![Step options](../media/step_options.jpg)"
   ]
  },
  {
   "cell_type": "markdown",
   "metadata": {
    "deletable": true,
    "editable": true
   },
   "source": [
    "## Step process"
   ]
  },
  {
   "cell_type": "markdown",
   "metadata": {
    "deletable": true,
    "editable": true
   },
   "source": [
    "A step process is the Python statements that perform certain tasks and produce step output from step input. A step process can contain arbitrary Python statements. For example,"
   ]
  },
  {
   "cell_type": "code",
   "execution_count": 25,
   "metadata": {
    "collapsed": true,
    "deletable": true,
    "editable": true,
    "kernel": "sos"
   },
   "outputs": [],
   "source": [
    "%sandbox\n",
    "\n",
    "[10]\n",
    "output: 'a.txt'\n",
    "with open(_output[0], 'w') as dest:\n",
    "   dest.write('some text')"
   ]
  },
  {
   "cell_type": "markdown",
   "metadata": {
    "deletable": true,
    "editable": true
   },
   "source": [
    "and"
   ]
  },
  {
   "cell_type": "code",
   "execution_count": 26,
   "metadata": {
    "collapsed": true,
    "deletable": true,
    "editable": true,
    "kernel": "sos"
   },
   "outputs": [],
   "source": [
    "%sandbox\n",
    "\n",
    "[10]\n",
    "output: 'a.txt'\n",
    "run:\n",
    "    echo \"some text\" > ${_output!q}"
   ]
  },
  {
   "cell_type": "markdown",
   "metadata": {
    "deletable": true,
    "editable": true
   },
   "source": [
    "use inline (interpreted and executed by SoS) python code or shell script to generate `a.txt`. "
   ]
  },
  {
   "cell_type": "markdown",
   "metadata": {
    "deletable": true,
    "editable": true
   },
   "source": [
    "Step processes are executed within SoS and are executed sequentially. However, part or all of the step process can be executed externally and potentially in parallel as step `task`. This will be covered in detail in section [External task](External_task.html)."
   ]
  }
 ],
 "metadata": {
  "anaconda-cloud": {},
  "kernelspec": {
   "display_name": "SoS",
   "language": "sos",
   "name": "sos"
  },
  "language_info": {
   "codemirror_mode": "sos",
   "file_extension": ".sos",
   "mimetype": "text/x-sos",
   "name": "sos",
   "nbconvert_exporter": "sos.jupyter.converter.SoS_Exporter",
   "pygments_lexer": "sos"
  },
  "sos": {
   "celltoolbar": true,
   "kernels": [
    [
     "sos",
     "SoS",
     ""
    ],
    [
     "ir",
     "R",
     "#FDEDEC"
    ],
    [
     "python2",
     "Python2",
     "#F6FAEA"
    ],
    [
     "bash",
     "Bash",
     "#E6EEFF"
    ],
    [
     "python3",
     "Python3",
     "#EAFAF1"
    ]
   ],
   "panel": {
    "displayed": true,
    "height": 0,
    "style": "side"
   }
  },
  "toc": {
   "colors": {
    "hover_highlight": "#DAA520",
    "running_highlight": "#FF0000",
    "selected_highlight": "#FFD700"
   },
   "moveMenuLeft": true,
   "nav_menu": {
    "height": "488px",
    "width": "254px"
   },
   "navigate_menu": true,
   "number_sections": true,
   "sideBar": true,
   "threshold": 4,
   "toc_cell": false,
   "toc_section_display": "block",
   "toc_window_display": true
  }
 },
 "nbformat": 4,
 "nbformat_minor": 1
}
