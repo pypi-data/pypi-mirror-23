{
 "cells": [
  {
   "cell_type": "markdown",
   "metadata": {},
   "source": [
    "# Reference of SoS actions and functions"
   ]
  },
  {
   "cell_type": "markdown",
   "metadata": {},
   "source": [
    "## Core Actions"
   ]
  },
  {
   "cell_type": "markdown",
   "metadata": {},
   "source": [
    "###  Action `run`"
   ]
  },
  {
   "cell_type": "markdown",
   "metadata": {},
   "source": [
    "`run` is the most frequently used action in sos. In most cases, it is equivalent to action `bash` that uses `bash` to execute specified script. Under the hood, this action is quite different from `bash` because the run action does not have a default interpreter and would behave differently under different situations."
   ]
  },
  {
   "cell_type": "markdown",
   "metadata": {},
   "source": [
    "In the simplest case when one or more commands are specified, action `run` would assume it is a batch script under windows, and a bash script otherwise."
   ]
  },
  {
   "cell_type": "code",
   "execution_count": 4,
   "metadata": {
    "collapsed": false,
    "kernel": "sos"
   },
   "outputs": [
    {
     "name": "stdout",
     "output_type": "stream",
     "text": [
      "A\n"
     ]
    }
   ],
   "source": [
    "run:\n",
    "    echo \"A\""
   ]
  },
  {
   "cell_type": "markdown",
   "metadata": {},
   "source": [
    "However, if the script starts with a shebang line, this action would execute the script directly. This allows you to execute any script in any language. For example, the following script executes a python script using action `run`"
   ]
  },
  {
   "cell_type": "code",
   "execution_count": 5,
   "metadata": {
    "collapsed": false,
    "kernel": "sos"
   },
   "outputs": [
    {
     "name": "stdout",
     "output_type": "stream",
     "text": [
      "This is python\n"
     ]
    }
   ],
   "source": [
    "run:\n",
    "    #!/usr/bin/env python\n",
    "    print('This is python')"
   ]
  },
  {
   "cell_type": "markdown",
   "metadata": {},
   "source": [
    "and the following example runs a complete sos script using command `sos-runner`"
   ]
  },
  {
   "cell_type": "code",
   "execution_count": 6,
   "metadata": {
    "collapsed": false,
    "kernel": "sos"
   },
   "outputs": [
    {
     "name": "stdout",
     "output_type": "stream",
     "text": [
      "This is default_10\n",
      "This is default_20\n"
     ]
    },
    {
     "name": "stderr",
     "output_type": "stream",
     "text": [
      "INFO: Executing \u001b[32mdefault_10\u001b[0m: \n",
      "INFO: default_10 input:    \u001b[32m[]\u001b[0m\n",
      "INFO: Executing \u001b[32mdefault_20\u001b[0m: \n",
      "INFO: Workflow default (ID=fc087fb3ae4c581e) is executed successfully.\n"
     ]
    }
   ],
   "source": [
    "# use sigil=None to stop interpolating expressions in script\n",
    "[sos: sigil=None]\n",
    "run:\n",
    "    #!/usr/bin/env sos-runner\n",
    "    [10]\n",
    "    print(\"This is ${step_name}\")\n",
    "    [20]\n",
    "    print(\"This is ${step_name}\")"
   ]
  },
  {
   "cell_type": "markdown",
   "metadata": {},
   "source": [
    "Note that action `run`would not analyze shebang line of a script if it is executed in a docker container (with option `docker-image`) and would always assumed to be `bash`."
   ]
  },
  {
   "cell_type": "markdown",
   "metadata": {},
   "source": [
    "###  Action `sos_run`"
   ]
  },
  {
   "cell_type": "markdown",
   "metadata": {},
   "source": [
    "Action `sos_run(workflow=None, targets=None, shared=[], args={}, **kwargs)` executes a specified workflow. The workflow can be a single workflow, a subworkflow (e.g. `A_-10`), a combined workflow (e.g. `A + B`), or a workflow that is constructed to generate `targets`. The workflow\n",
    "\n",
    "* Takes `_input` of the parental step as the input of the first step of the subworkflow\n",
    "* Takes `args` (a dictionary) and `**kwargs` as parameters as if they are specified from command line\n",
    "* Copies variables specified in `shared` (a string or a list of string) to the subworkflow if they exist in the parental namespace\n",
    "* Returns variables defined in `shared` to the parental namespace after the completion of the workflow\n",
    "\n",
    "`sos_run` would be executed in a separate process in batch mode, and would be executed in the same process in interactive mode, so parameter `shared` is only needed for batch execution."
   ]
  },
  {
   "cell_type": "markdown",
   "metadata": {},
   "source": [
    "The simplest use of action `sos_run` is for the execution of one or more workflows. For example,"
   ]
  },
  {
   "cell_type": "code",
   "execution_count": 7,
   "metadata": {
    "collapsed": false,
    "kernel": "sos"
   },
   "outputs": [
    {
     "name": "stdout",
     "output_type": "stream",
     "text": [
      "A_0\n",
      "B_0\n"
     ]
    }
   ],
   "source": [
    "[A]\n",
    "print(step_name)\n",
    "\n",
    "[B]\n",
    "print(step_name)\n",
    "\n",
    "[default]\n",
    "sos_run('A + B')"
   ]
  },
  {
   "cell_type": "markdown",
   "metadata": {},
   "source": [
    "The subworkflows are executed separately and only takes the `_input` of the step as the `input` of the workflow. For example,"
   ]
  },
  {
   "cell_type": "code",
   "execution_count": 8,
   "metadata": {
    "collapsed": false,
    "kernel": "sos"
   },
   "outputs": [
    {
     "name": "stdout",
     "output_type": "stream",
     "text": [
      "Handling a.txt\n",
      "Handling b.txt\n"
     ]
    }
   ],
   "source": [
    "%sandbox\n",
    "!touch a.txt b.txt\n",
    "\n",
    "[process]\n",
    "print(\"Handling ${input}\")\n",
    "\n",
    "[default]\n",
    "input: 'a.txt', 'b.txt', group_by=1\n",
    "sos_run('process')"
   ]
  },
  {
   "cell_type": "markdown",
   "metadata": {},
   "source": [
    "If you would like to send one or more variables to the subworkflow or return a variable from the execution of subworkflow, you can specify them with the `shared` variable. The return variable part is a bit tricky here because you can only return workflow level variable that are usually `shared` from a step of the subworkflow. For example,"
   ]
  },
  {
   "cell_type": "code",
   "execution_count": 9,
   "metadata": {
    "collapsed": false,
    "kernel": "sos"
   },
   "outputs": [
    {
     "name": "stdout",
     "output_type": "stream",
     "text": [
      "Working with seed 0\n",
      "Working with seed 1\n",
      "Working with seed 2\n",
      "Working with seed 3\n",
      "Working with seed 4\n"
     ]
    }
   ],
   "source": [
    "%sandbox\n",
    "\n",
    "[process]\n",
    "print(\"Working with seed ${seed}\")\n",
    "\n",
    "[default]\n",
    "for seed in range(5):\n",
    "    sos_run('process', shared='seed')"
   ]
  },
  {
   "cell_type": "code",
   "execution_count": 10,
   "metadata": {
    "collapsed": false,
    "kernel": "sos"
   },
   "outputs": [
    {
     "name": "stdout",
     "output_type": "stream",
     "text": [
      "Result from subworkflow process is 100\n"
     ]
    }
   ],
   "source": [
    "%sandbox\n",
    "\n",
    "[process: shared='result']\n",
    "result = 100\n",
    "\n",
    "[default]\n",
    "sos_run('process', shared='result')\n",
    "print(\"Result from subworkflow process is ${result}\")\n",
    "    "
   ]
  },
  {
   "cell_type": "markdown",
   "metadata": {},
   "source": [
    "If the subworkflow accepts parameters, they can be specified using keyword arguments or as a dictionary for parameter `args` of the `sos_run` function. The subworkflow would take values from parameters as if they are passed from command line. \n",
    "\n",
    "For example, the following workflow defines parameter `cutoff` with default value 10. When it is executed without command line option, the default value is used."
   ]
  },
  {
   "cell_type": "code",
   "execution_count": 11,
   "metadata": {
    "collapsed": false,
    "kernel": "sos"
   },
   "outputs": [
    {
     "name": "stdout",
     "output_type": "stream",
     "text": [
      "Process with cutoff=10\n"
     ]
    }
   ],
   "source": [
    "%sandbox\n",
    "\n",
    "[default]\n",
    "parameter: cutoff=10\n",
    "print(\"Process with cutoff=${cutoff}\")\n",
    "\n",
    "[batch]\n",
    "for value in range(2, 10, 2):\n",
    "    sos_run('default', cutoff=value)"
   ]
  },
  {
   "cell_type": "markdown",
   "metadata": {},
   "source": [
    "Command line argument could be used to specify a different `cutoff` value:"
   ]
  },
  {
   "cell_type": "code",
   "execution_count": 12,
   "metadata": {
    "collapsed": false,
    "kernel": "sos"
   },
   "outputs": [
    {
     "name": "stdout",
     "output_type": "stream",
     "text": [
      "Process with cutoff=4\n"
     ]
    }
   ],
   "source": [
    "%sandbox\n",
    "%rerun --cutoff=4"
   ]
  },
  {
   "cell_type": "markdown",
   "metadata": {},
   "source": [
    "Now, if we run the `batch` workflow, which calls the `default` workflow with parameter `cutoff`, the `parameter: cutoff=10` statement takes the passed value as if it were specified from command line."
   ]
  },
  {
   "cell_type": "code",
   "execution_count": 13,
   "metadata": {
    "collapsed": false,
    "kernel": "sos"
   },
   "outputs": [
    {
     "name": "stdout",
     "output_type": "stream",
     "text": [
      "Process with cutoff=2\n",
      "Process with cutoff=4\n",
      "Process with cutoff=6\n",
      "Process with cutoff=8\n"
     ]
    }
   ],
   "source": [
    "%sandbox\n",
    "%rerun batch"
   ]
  },
  {
   "cell_type": "markdown",
   "metadata": {},
   "source": [
    "Note that the parameters could also be specified with parameter `args`, "
   ]
  },
  {
   "cell_type": "code",
   "execution_count": 14,
   "metadata": {
    "collapsed": false,
    "kernel": "sos"
   },
   "outputs": [
    {
     "name": "stdout",
     "output_type": "stream",
     "text": [
      "Process with cutoff=2\n",
      "Process with cutoff=4\n",
      "Process with cutoff=6\n",
      "Process with cutoff=8\n"
     ]
    }
   ],
   "source": [
    "%sandbox\n",
    "%run batch\n",
    "\n",
    "[default]\n",
    "parameter: cutoff=10\n",
    "print(\"Process with cutoff=${cutoff}\")\n",
    "\n",
    "[batch]\n",
    "for value in range(2, 10, 2):\n",
    "    sos_run('default', args={'cutoff': value})"
   ]
  },
  {
   "cell_type": "markdown",
   "metadata": {},
   "source": [
    "although the keyword arguments are usually easier to use."
   ]
  },
  {
   "cell_type": "markdown",
   "metadata": {},
   "source": [
    "The subworkflow can also be defined by parameter targets, in which case a workflow would be created dynamically to produce the specified targets. Please refer to section [Auxiliary Steps](Auxiliary_Steps.html) for details about such usage."
   ]
  },
  {
   "cell_type": "markdown",
   "metadata": {},
   "source": [
    "### Action `report`"
   ]
  },
  {
   "cell_type": "markdown",
   "metadata": {},
   "source": [
    "Action `report` writes some content to an output stream. The input can either be a string or content of one or more files specified by option `input`. The output is determined by parameter `output`, and command line option `-r`.\n",
    "\n",
    "* If `output='filename'`, the content will be written to a file.\n",
    "* If `output=obj` and `obj` has a `write` function (e.g. a file handle), the content will be passed to the `write` function\n",
    "* If output is unspecified and no filename is specified from option `-r`, the content will be written to standard output.\n",
    "* If output is unspecified and a filename is specified with option `-r`, the content will be appended to specified file.\n",
    "\n",
    "For example, the content of `report` actions is printed to standard output if no output is specified."
   ]
  },
  {
   "cell_type": "code",
   "execution_count": 15,
   "metadata": {
    "collapsed": false,
    "kernel": "sos"
   },
   "outputs": [
    {
     "name": "stdout",
     "output_type": "stream",
     "text": [
      "Runing default_10\n",
      "\n",
      "Runing default_20\n",
      "\n"
     ]
    }
   ],
   "source": [
    "[10]\n",
    "report:\n",
    "    Runing ${step_name}\n",
    "\n",
    "[20]\n",
    "report:\n",
    "    Runing ${step_name}\n"
   ]
  },
  {
   "cell_type": "markdown",
   "metadata": {},
   "source": [
    "We can specify an output file with option `output`, but the output will be overwritten if multiple actions write to the same file"
   ]
  },
  {
   "cell_type": "code",
   "execution_count": 16,
   "metadata": {
    "collapsed": false,
    "kernel": "sos"
   },
   "outputs": [
    {
     "data": {
      "text/html": [
       "<pre><font color=\"green\">## %preview report.txt</font></pre>"
      ]
     },
     "metadata": {},
     "output_type": "display_data"
    },
    {
     "data": {
      "text/html": [
       "<pre><font color=\"green\">> report.txt (19 B):</font></pre>"
      ],
      "text/plain": [
       "\n",
       "> report.txt (19 B):"
      ]
     },
     "metadata": {},
     "output_type": "display_data"
    },
    {
     "name": "stdout",
     "output_type": "stream",
     "text": [
      "Runing default_20\n",
      "\n"
     ]
    }
   ],
   "source": [
    "%sandbox\n",
    "%preview report.txt\n",
    "[10]\n",
    "report: output='report.txt'\n",
    "    Runing ${step_name}\n",
    "\n",
    "[20]\n",
    "report: output='report.txt'\n",
    "    Runing ${step_name}"
   ]
  },
  {
   "cell_type": "markdown",
   "metadata": {},
   "source": [
    "Option `-r` can be used to set a default output of all `report` actions, in which case the file will be opened in append mode."
   ]
  },
  {
   "cell_type": "code",
   "execution_count": 17,
   "metadata": {
    "collapsed": false,
    "kernel": "sos"
   },
   "outputs": [
    {
     "data": {
      "text/html": [
       "<pre><font color=\"green\">## %preview report.txt</font></pre>"
      ]
     },
     "metadata": {},
     "output_type": "display_data"
    },
    {
     "data": {
      "text/html": [
       "<pre><font color=\"green\">> report.txt (38 B):</font></pre>"
      ],
      "text/plain": [
       "\n",
       "> report.txt (38 B):"
      ]
     },
     "metadata": {},
     "output_type": "display_data"
    },
    {
     "name": "stdout",
     "output_type": "stream",
     "text": [
      "Runing default_10\n",
      "\n",
      "Runing default_20\n",
      "\n"
     ]
    }
   ],
   "source": [
    "%sandbox\n",
    "%preview report.txt\n",
    "%run -r report.txt\n",
    "[10]\n",
    "report: \n",
    "    Runing ${step_name}\n",
    "\n",
    "[20]\n",
    "report:\n",
    "    Runing ${step_name}"
   ]
  },
  {
   "cell_type": "markdown",
   "metadata": {},
   "source": [
    "An interesting feature of the `-r` option is that the filename passed by this option is treated as double-quoted strings and will be interpolated. This allows the use of a single `-r` option to specify step-dependent output files. For example, "
   ]
  },
  {
   "cell_type": "code",
   "execution_count": 18,
   "metadata": {
    "collapsed": false,
    "kernel": "sos"
   },
   "outputs": [
    {
     "data": {
      "text/html": [
       "<pre><font color=\"green\">## %preview default_10.txt default_20.txt</font></pre>"
      ]
     },
     "metadata": {},
     "output_type": "display_data"
    },
    {
     "data": {
      "text/html": [
       "<pre><font color=\"green\">> default_10.txt (19 B):</font></pre>"
      ],
      "text/plain": [
       "\n",
       "> default_10.txt (19 B):"
      ]
     },
     "metadata": {},
     "output_type": "display_data"
    },
    {
     "name": "stdout",
     "output_type": "stream",
     "text": [
      "Runing default_10\n",
      "\n"
     ]
    },
    {
     "data": {
      "text/html": [
       "<pre><font color=\"green\">> default_20.txt (19 B):</font></pre>"
      ],
      "text/plain": [
       "\n",
       "> default_20.txt (19 B):"
      ]
     },
     "metadata": {},
     "output_type": "display_data"
    },
    {
     "name": "stdout",
     "output_type": "stream",
     "text": [
      "Runing default_20\n",
      "\n"
     ]
    }
   ],
   "source": [
    "%sandbox\n",
    "%preview default_10.txt default_20.txt\n",
    "%run -r '${step_name}.txt'\n",
    "[10]\n",
    "report: \n",
    "    Runing ${step_name}\n",
    "\n",
    "[20]\n",
    "report:\n",
    "    Runing ${step_name}"
   ]
  },
  {
   "cell_type": "markdown",
   "metadata": {},
   "source": [
    "Action `report` can also take the content of one or more input files and write them to the output stream, after the script content (if specified). For example, the `report` action in the following example writes the content of `out.txt` to the default report stream (which is the standard output in this case)."
   ]
  },
  {
   "cell_type": "code",
   "execution_count": 19,
   "metadata": {
    "collapsed": false,
    "kernel": "sos"
   },
   "outputs": [
    {
     "name": "stdout",
     "output_type": "stream",
     "text": [
      "Summary Report:\n",
      "\n",
      "* some result\n",
      "\n"
     ]
    }
   ],
   "source": [
    "%sandbox\n",
    "[10]\n",
    "output: 'out.txt'\n",
    "run:\n",
    "   # run some command and generate a out.txt\n",
    "   echo \"* some result \" > out.txt\n",
    "\n",
    "[20]\n",
    "report: input='out.txt'\n",
    "Summary Report:"
   ]
  },
  {
   "cell_type": "markdown",
   "metadata": {},
   "source": [
    "### Action  `bash`\n",
    "\n",
    "Action `bash(script)` accepts a shell script and execute it using `bash`. `sh`, `csh`, `tcsh`, `zsh` uses respective shell to execute the provided script.\n",
    "\n",
    "These actions, as well as all script-executing actions such as `python`, also accept an option `args` and allows you to pass additional arguments to the interpreter. For example"
   ]
  },
  {
   "cell_type": "code",
   "execution_count": 20,
   "metadata": {
    "collapsed": true,
    "kernel": "sos"
   },
   "outputs": [],
   "source": [
    "run: args='-n ${filename!q}'\n",
    "      echo \"a\""
   ]
  },
  {
   "cell_type": "markdown",
   "metadata": {},
   "source": [
    "execute the script with command `bash -n` (check syntax), so command `echo` is not actually executed."
   ]
  },
  {
   "cell_type": "markdown",
   "metadata": {},
   "source": [
    "### Action `sh`\n",
    "Execute script with a `sh` interpreter"
   ]
  },
  {
   "cell_type": "markdown",
   "metadata": {},
   "source": [
    "### Action  `csh`\n",
    "Execute script with a `csh` interpreter"
   ]
  },
  {
   "cell_type": "markdown",
   "metadata": {},
   "source": [
    "### Action  `tcsh`\n",
    "Execute script with a `tcsh` interpreter"
   ]
  },
  {
   "cell_type": "markdown",
   "metadata": {},
   "source": [
    "###  Action `zsh`\n",
    "Execute script with a `zsh` interpreter"
   ]
  },
  {
   "cell_type": "markdown",
   "metadata": {},
   "source": [
    "### Action  `perl`\n",
    "\n",
    "Action `perl(script)` execute the passed script using `perl` interpreter."
   ]
  },
  {
   "cell_type": "code",
   "execution_count": 21,
   "metadata": {
    "collapsed": false,
    "kernel": "sos"
   },
   "outputs": [
    {
     "name": "stdout",
     "output_type": "stream",
     "text": [
      "Hello, Brian!\n"
     ]
    }
   ],
   "source": [
    "perl:\n",
    "    my $name = \"Brian\";\n",
    "    print \"Hello, $name!\\n\";"
   ]
  },
  {
   "cell_type": "markdown",
   "metadata": {},
   "source": [
    "### Action  `ruby`"
   ]
  },
  {
   "cell_type": "markdown",
   "metadata": {},
   "source": [
    "Action `ruby(script)` execute the passed script using `ruby` interpreter."
   ]
  },
  {
   "cell_type": "code",
   "execution_count": 22,
   "metadata": {
    "collapsed": false,
    "kernel": "sos"
   },
   "outputs": [
    {
     "name": "stdout",
     "output_type": "stream",
     "text": [
      "45 3 19 8 sam max 56 98.9 3 10 jill\n",
      "19 3 10\n",
      "3 8 19 45\n",
      "A: 45 3 19 8 57 9 phil\n"
     ]
    }
   ],
   "source": [
    "ruby:\n",
    "    a = [ 45, 3, 19, 8 ]\n",
    "    b = [ 'sam', 'max', 56, 98.9, 3, 10, 'jill' ]\n",
    "    print (a + b).join(' '), \"\\n\"\n",
    "    print a[2], \" \", b[4], \" \", b[-2], \"\\n\"\n",
    "    print a.sort.join(' '), \"\\n\"\n",
    "    a << 57 << 9 << 'phil'\n",
    "    print \"A: \", a.join(' '), \"\\n\""
   ]
  },
  {
   "cell_type": "markdown",
   "metadata": {},
   "source": [
    "###  Action  `node`\n",
    "\n",
    "Action `node(script)` executes the passed script using `node` (JavaScript) interpreter."
   ]
  },
  {
   "cell_type": "code",
   "execution_count": 23,
   "metadata": {
    "collapsed": false,
    "kernel": "sos"
   },
   "outputs": [
    {
     "name": "stdout",
     "output_type": "stream",
     "text": [
      "831\n"
     ]
    }
   ],
   "source": [
    "node:\n",
    "    var i, a, b, c, max;\n",
    "\n",
    "    max = 1000000000;\n",
    "\n",
    "    var d = Date.now();\n",
    "\n",
    "    for (i = 0; i < max; i++) {\n",
    "        a = 1234 + 5678 + i;\n",
    "        b = 1234 * 5678 + i;\n",
    "        c = 1234 / 2 + i;\n",
    "    }\n",
    "\n",
    "    console.log(Date.now() - d);"
   ]
  },
  {
   "cell_type": "markdown",
   "metadata": {},
   "source": [
    "### Action  `pandoc`"
   ]
  },
  {
   "cell_type": "markdown",
   "metadata": {},
   "source": [
    "Action `pandoc` uses command [pandoc](http://pandoc.org/) to convert specified input to output. This input to this action can be specified from option `script` (usually specified in script format) and `input`.\n",
    "\n",
    "First, if a script is specified, pandoc assumes it is in markdown format and convert it by default to 'HTML' format. For example,"
   ]
  },
  {
   "cell_type": "code",
   "execution_count": 24,
   "metadata": {
    "collapsed": false,
    "kernel": "sos"
   },
   "outputs": [
    {
     "name": "stdout",
     "output_type": "stream",
     "text": [
      "<h1 id=\"this-is-header\">this is header</h1>\n",
      "<p>This is some test, with <strong>emphasis</strong>.</p>\n"
     ]
    }
   ],
   "source": [
    "pandoc:\n",
    "    # this is header\n",
    "    This is some test, with **emphasis**.        "
   ]
  },
  {
   "cell_type": "markdown",
   "metadata": {},
   "source": [
    "You can specify an output with option `output`"
   ]
  },
  {
   "cell_type": "code",
   "execution_count": 25,
   "metadata": {
    "collapsed": false,
    "kernel": "sos"
   },
   "outputs": [
    {
     "data": {
      "text/html": [
       "<pre><font color=\"green\">## %preview out.html</font></pre>"
      ]
     },
     "metadata": {},
     "output_type": "display_data"
    },
    {
     "data": {
      "text/html": [
       "<pre><font color=\"green\">> out.html (58 B):</font></pre>"
      ],
      "text/plain": [
       "\n",
       "> out.html (58 B):"
      ]
     },
     "metadata": {},
     "output_type": "display_data"
    },
    {
     "data": {
      "text/html": [
       "<p>Itemize</p>\n",
       "<ul>\n",
       "<li>item 1</li>\n",
       "<li>item 2</li>\n",
       "</ul>\n"
      ],
      "text/plain": [
       "Itemize \n",
       "\n",
       "  * item 1 \n",
       "\n",
       "\n",
       "\n",
       "  * item 2"
      ]
     },
     "metadata": {},
     "output_type": "display_data"
    }
   ],
   "source": [
    "%sandbox\n",
    "%preview out.html\n",
    "pandoc: output='out.html'\n",
    "    Itemize\n",
    "\n",
    "    * item 1\n",
    "    * item 2"
   ]
  },
  {
   "cell_type": "markdown",
   "metadata": {},
   "source": [
    "You can convert input file to another file type using a different file extension"
   ]
  },
  {
   "cell_type": "code",
   "execution_count": 26,
   "metadata": {
    "collapsed": false,
    "kernel": "sos"
   },
   "outputs": [
    {
     "data": {
      "text/html": [
       "<pre><font color=\"green\">## %preview out.tex</font></pre>"
      ]
     },
     "metadata": {},
     "output_type": "display_data"
    },
    {
     "data": {
      "text/html": [
       "<pre><font color=\"green\">> out.tex (80 B):</font></pre>"
      ],
      "text/plain": [
       "\n",
       "> out.tex (80 B):"
      ]
     },
     "metadata": {},
     "output_type": "display_data"
    },
    {
     "name": "stdout",
     "output_type": "stream",
     "text": [
      "Itemize\n",
      "\n",
      "\\begin{itemize}\n",
      "\\tightlist\n",
      "\\item\n"
     ]
    }
   ],
   "source": [
    "%sandbox\n",
    "%preview out.tex\n",
    "pandoc: output='out.tex'\n",
    "    Itemize\n",
    "\n",
    "    * item 1\n",
    "    * item 2"
   ]
  },
  {
   "cell_type": "markdown",
   "metadata": {},
   "source": [
    "Or you can add more options to the command line by modifying `args`,"
   ]
  },
  {
   "cell_type": "code",
   "execution_count": 27,
   "metadata": {
    "collapsed": false
   },
   "outputs": [
    {
     "name": "stderr",
     "output_type": "stream",
     "text": [
      "Failed to process statement pandoc(r\"\"\"Itemize\\n\\n* item 1\\n*...t!q} -s')\\n: Unrecognized option \"args\" for action <function pandoc at 0x10dd4d048>"
     ]
    },
    {
     "data": {
      "text/html": [
       "<pre><font color=\"green\">## %preview out.html</font></pre>"
      ]
     },
     "metadata": {},
     "output_type": "display_data"
    },
    {
     "data": {
      "text/html": [
       "<pre><font color=\"green\">> out.html:</font></pre>"
      ],
      "text/plain": [
       ">>> out.html:\n"
      ]
     },
     "metadata": {},
     "output_type": "display_data"
    },
    {
     "name": "stderr",
     "output_type": "stream",
     "text": [
      "\n",
      "> Failed to preview file or expression out.html"
     ]
    }
   ],
   "source": [
    "%sandbox\n",
    "%preview out.html\n",
    "pandoc: output='out.html', args='${input!q} --output ${output!q} -s'\n",
    "    Itemize\n",
    "\n",
    "    * item 1\n",
    "    * item 2"
   ]
  },
  {
   "cell_type": "markdown",
   "metadata": {},
   "source": [
    "The second usage of the `pandoc` action is to specify one or more input filenames. You have to use the function form of this action as follows"
   ]
  },
  {
   "cell_type": "code",
   "execution_count": null,
   "metadata": {
    "collapsed": false
   },
   "outputs": [],
   "source": [
    "%sandbox\n",
    "%preview out.html\n",
    "[10]\n",
    "report: output = 'out.md'\n",
    "    Itemize\n",
    "\n",
    "    * item 1\n",
    "    * item 2\n",
    "\n",
    "[20]\n",
    "pandoc(input='out.md', output='out.html')\n",
    "    "
   ]
  },
  {
   "cell_type": "markdown",
   "metadata": {},
   "source": [
    "If multiple files are specified, the content of these input files will be concatenated. This is very useful for generating a single pandoc output with input from different steps. We will demonstrate this feature in the [Generating Reports](../tutorials/Generating_Reports.html) tutorial.\n",
    "\n",
    "If both `script` and `input` parameters are specified, the content of input files would be appended to `script`. So"
   ]
  },
  {
   "cell_type": "code",
   "execution_count": null,
   "metadata": {
    "collapsed": false
   },
   "outputs": [],
   "source": [
    "#%sandbox\n",
    "%preview out.html\n",
    "[10]\n",
    "report: output = 'out10.md'\n",
    "    Itemize\n",
    "\n",
    "    * item 1\n",
    "    * item 2\n",
    "\n",
    "[20]\n",
    "report: output= 'out20.md'\n",
    "    enumerated\n",
    "\n",
    "    1. item 1\n",
    "    2. item 2\n",
    "\n",
    "[30]\n",
    "pandoc: input=['out10.md', 'out20.md'], output='out.html'\n",
    "    Markdown supports both itemized and enumerated"
   ]
  },
  {
   "cell_type": "markdown",
   "metadata": {},
   "source": [
    "### Action `docker_build`\n",
    "\n",
    "Build a docker image from an inline Docker file. The inline version of the action currently does not support adding any file from local machine because the docker file will be saved to a random directory. You can walk around this problem by creating a `Dockerfile` and pass it to the action through option `path`. This action accepts all parameters as specified in [docker-py documentation](http://docker-py.readthedocs.io/en/latest/images.html) because SoS simply pass additional parameters to the `build` function.\n",
    "\n",
    "For example, the following step builds a docker container for [MISO](http://miso.readthedocs.org/en/fastmiso/) based on anaconda python 2.7.\n",
    "\n",
    "```\n",
    "[build_1]\n",
    "# building miso from a Dockerfile\n",
    "docker_build: tag='mdabioinfo/miso:latest'\n",
    "\n",
    "\t############################################################\n",
    "\t# Dockerfile to build MISO container images\n",
    "\t# Based on Anaconda python\n",
    "\t############################################################\n",
    "\n",
    "\t# Set the base image to anaconda Python 2.7 (miso does not support python 3)\n",
    "\tFROM continuumio/anaconda\n",
    "\n",
    "\t# File Author / Maintainer\n",
    "\tMAINTAINER Bo Peng <bpeng@mdanderson.org>\n",
    "\n",
    "\t# Update the repository sources list\n",
    "\tRUN apt-get update\n",
    "\n",
    "\t# Install compiler and python stuff, samtools and git\n",
    "\tRUN apt-get install --yes \\\n",
    "\t build-essential \\\n",
    "\t gcc-multilib \\\n",
    "\t gfortran \\ \n",
    "\t apt-utils \\\n",
    "\t libblas3 \\ \n",
    "\t liblapack3 \\\n",
    "\t libc6 \\\n",
    "\t cython \\ \n",
    "\t samtools \\\n",
    "\t libbam-dev \\\n",
    "\t bedtools \\\n",
    "\t wget \\\n",
    "\t zlib1g-dev \\ \n",
    "\t tar \\\n",
    "\t gzip\n",
    "\n",
    "\tWORKDIR /usr/local\n",
    "\tRUN pip install misopy\n",
    "```"
   ]
  },
  {
   "cell_type": "markdown",
   "metadata": {},
   "source": [
    "### Action  `download`"
   ]
  },
  {
   "cell_type": "markdown",
   "metadata": {},
   "source": [
    "Action `download(URLs, dest_dir='.', dest_file=None, decompress=False)` download files from specified URLs, which can be a list of URLs, or a string with tab, space or newline separated URLs. \n",
    "\n",
    "* If `dest_file` is specified, only one URL is allowed and the URL can have any form.\n",
    "* Otherwise all files will be downloaded to `dest_dir`. Filenames are determined from URLs so the URLs must have the last portion as the filename to save. \n",
    "* If `decompress` is True, `.zip` file, compressed or plan `tar` (e.g. `.tar.gz`) files, and `.gz` files will be decompressed to the same directory as the downloaded file.\n",
    "\n",
    "For example,\n",
    "\n",
    "```\n",
    "[10]\n",
    "GATK_RESOURCE_DIR = '/path/to/resource'\n",
    "GATK_URL = 'ftp://gsapubftp-anonymous@ftp.broadinstitute.org/bundle/2.8/hg19/'\n",
    "\n",
    "download:   dest=GATK_RESOURCE_DIR\n",
    "    ${GATK_URL}/1000G_omni2.5.hg19.sites.vcf.gz\n",
    "    ${GATK_URL}/1000G_omni2.5.hg19.sites.vcf.gz.md5\n",
    "    ${GATK_URL}/1000G_omni2.5.hg19.sites.vcf.idx.gz\n",
    "    ${GATK_URL}/1000G_omni2.5.hg19.sites.vcf.idx.gz.md5\n",
    "    ${GATK_URL}/dbsnp_138.hg19.vcf.gz\n",
    "    ${GATK_URL}/dbsnp_138.hg19.vcf.gz.md5\n",
    "    ${GATK_URL}/dbsnp_138.hg19.vcf.idx.gz\n",
    "    ${GATK_URL}/dbsnp_138.hg19.vcf.idx.gz.md5\n",
    "    ${GATK_URL}/hapmap_3.3.hg19.sites.vcf.gz\n",
    "    ${GATK_URL}/hapmap_3.3.hg19.sites.vcf.gz.md5\n",
    "    ${GATK_URL}/hapmap_3.3.hg19.sites.vcf.idx.gz\n",
    "    ${GATK_URL}/hapmap_3.3.hg19.sites.vcf.idx.gz.md5\n",
    "```\n",
    "\n",
    "download the specified files to `GATK_RESOURCE_DIR`. The `.md5` files will be automatically used to validate the content of the associated files. Note that \n",
    "\n",
    "SoS automatically save signature of downloaded and decompressed files so the files will not be re-downloaded if the action is called multiple times. You can however still still specifies input and output of the step to use step signature\n",
    "\n",
    "\n",
    "```\n",
    "[10]\n",
    "GATK_RESOURCE_DIR = '/path/to/resource'\n",
    "GATK_URL = 'ftp://gsapubftp-anonymous@ftp.broadinstitute.org/bundle/2.8/hg19/'\n",
    "RESOUCE_FILES =  '''1000G_omni2.5.hg19.sites.vcf.gz\n",
    "    1000G_omni2.5.hg19.sites.vcf.gz.md5\n",
    "    1000G_omni2.5.hg19.sites.vcf.idx.gz\n",
    "    1000G_omni2.5.hg19.sites.vcf.idx.gz.md5\n",
    "    dbsnp_138.hg19.vcf.gz\n",
    "    dbsnp_138.hg19.vcf.gz.md5\n",
    "    dbsnp_138.hg19.vcf.idx.gz\n",
    "    dbsnp_138.hg19.vcf.idx.gz.md5\n",
    "    hapmap_3.3.hg19.sites.vcf.gz\n",
    "    hapmap_3.3.hg19.sites.vcf.gz.md5\n",
    "    hapmap_3.3.hg19.sites.vcf.idx.gz\n",
    "    hapmap_3.3.hg19.sites.vcf.idx.gz.md5'''.split() \n",
    "input: []\n",
    "output:  [os.path.join(GATK_RESOURCE_DIR, x) for x in GATK_RESOURCE_FILES]\n",
    "download(['${GATK_URL}/${x}' for x in GATK_RESOURCE_FILES], dest=GATK_RESOURCE_DIR)\n",
    "```\n",
    "\n",
    "Note that the `download` action uses up to 5 processes to download files. You can change this number by adjusting system configuration `sos_download_processes`."
   ]
  },
  {
   "cell_type": "markdown",
   "metadata": {},
   "source": [
    "###  Action `fail_if`\n",
    "\n",
    "Action `fail_if(expr, msg='')` raises an exception with `msg` (and terminate the execution of the workflow if the exception is not caught) if `expr` returns True."
   ]
  },
  {
   "cell_type": "markdown",
   "metadata": {},
   "source": [
    "###  Action `warn_if`\n",
    "\n",
    "Action `warn_if(expr, msg)` yields a warning message `msg` if `expr` is evaluate to be true."
   ]
  },
  {
   "cell_type": "markdown",
   "metadata": {},
   "source": [
    "###  Action `stop_if`\n",
    "\n",
    "Action `stop_if(expr, msg='')` stops the execution of the current step (or current processes if within `for_each` loop) and gives a warning message if `msg` is specified. For example,"
   ]
  },
  {
   "cell_type": "code",
   "execution_count": null,
   "metadata": {
    "collapsed": false
   },
   "outputs": [],
   "source": [
    "%sandbox\n",
    "!touch a.txt\n",
    "!echo 'something' > b.txt\n",
    "\n",
    "[10]\n",
    "input: '*.txt', group_by=1\n",
    "\n",
    "stop_if(os.path.getsize(_input[0]) == 0)\n",
    "print(_input)"
   ]
  },
  {
   "cell_type": "markdown",
   "metadata": {},
   "source": [
    "skips `a.txt` because it has size 0."
   ]
  },
  {
   "cell_type": "markdown",
   "metadata": {},
   "source": [
    "## Functions and objects"
   ]
  },
  {
   "cell_type": "markdown",
   "metadata": {},
   "source": [
    "###  Function `get_output`"
   ]
  },
  {
   "cell_type": "markdown",
   "metadata": {},
   "source": [
    "Function `get_output(cmd)` returns the output of command (decoded in `UTF-8`), which is a shortcut for `subprocess.check_output(cmd, shell=True).decode()`."
   ]
  },
  {
   "cell_type": "code",
   "execution_count": null,
   "metadata": {
    "collapsed": false
   },
   "outputs": [],
   "source": [
    "get_output('which ls')"
   ]
  },
  {
   "cell_type": "markdown",
   "metadata": {},
   "source": [
    "This function also accepts two options `show_command=False`, and `prompt='$ '` that can be useful in case you would like to present the command that produce the output. For example,"
   ]
  },
  {
   "cell_type": "code",
   "execution_count": null,
   "metadata": {
    "collapsed": false
   },
   "outputs": [],
   "source": [
    "print(get_output('which ls', show_command=True))"
   ]
  },
  {
   "cell_type": "markdown",
   "metadata": {},
   "source": [
    "### Function  `expand_pattern`\n",
    "\n",
    "Function `expand_pattern` expands a string to multiple ones using items of variables quoted between `{ }`. For example,\n",
    "\n",
    "```python\n",
    "output: expand_pattern('{a}_{b}.txt')\n",
    "```\n",
    "\n",
    "is equivalent to\n",
    "\n",
    "```python\n",
    "output: ['{x}_{y}.txt' for x,y in zip(a, b)]\n",
    "```\n",
    "\n",
    "if `a` and `b` are sequences of the same length. For example,"
   ]
  },
  {
   "cell_type": "code",
   "execution_count": null,
   "metadata": {
    "collapsed": false
   },
   "outputs": [],
   "source": [
    "name = ['Bob', 'John']\n",
    "salary = [200, 300]\n",
    "expand_pattern(\"{name}'s salary is {salary}\")"
   ]
  },
  {
   "cell_type": "markdown",
   "metadata": {},
   "source": [
    "The sequences should have the same length"
   ]
  },
  {
   "cell_type": "code",
   "execution_count": null,
   "metadata": {
    "collapsed": false
   },
   "outputs": [],
   "source": [
    "%sandbox --expect-error\n",
    "\n",
    "salary = [200]\n",
    "expand_pattern(\"{name}'s salary is {salary}\")"
   ]
  },
  {
   "cell_type": "markdown",
   "metadata": {},
   "source": [
    "An exception is made for variables of simple non-sequence types, in which case they are repeated in all expanded items"
   ]
  },
  {
   "cell_type": "code",
   "execution_count": null,
   "metadata": {
    "collapsed": false
   },
   "outputs": [],
   "source": [
    "salary = 200\n",
    "expand_pattern(\"{name}'s salary is {salary}\")"
   ]
  },
  {
   "cell_type": "markdown",
   "metadata": {},
   "source": [
    "###  Object `logger`"
   ]
  },
  {
   "cell_type": "markdown",
   "metadata": {},
   "source": [
    "The SoS logger object is a `logging` object used by SoS to produce various outputs. You can use this object to output error, warning, info, debug, and trace messages to terminal. For example,"
   ]
  },
  {
   "cell_type": "code",
   "execution_count": null,
   "metadata": {
    "collapsed": false
   },
   "outputs": [],
   "source": [
    "%run -v2\n",
    "[0]\n",
    "logger.info(\"I am at ${step_name}\")"
   ]
  },
  {
   "cell_type": "markdown",
   "metadata": {},
   "source": [
    "The output of `logger` is controlled by logging level, for example, the above message would not be printed at `-v1` (warning)"
   ]
  },
  {
   "cell_type": "code",
   "execution_count": null,
   "metadata": {
    "collapsed": false
   },
   "outputs": [],
   "source": [
    "%run -v1\n",
    "[0]\n",
    "logger.info(\"I am at ${step_name}\")"
   ]
  },
  {
   "cell_type": "markdown",
   "metadata": {},
   "source": [
    "## Language `Python`"
   ]
  },
  {
   "cell_type": "markdown",
   "metadata": {},
   "source": [
    "### Action `python`"
   ]
  },
  {
   "cell_type": "markdown",
   "metadata": {},
   "source": [
    "Action `python(script)` and `python3(script)` accepts a Python script and execute it with python or python3, respectively.\n",
    "\n",
    "Because SoS can include Python statements directly in a SoS script, it is important to note that embedded Python\n",
    "statements are interpreted by SoS and the `python` and `python3` actions are execute in separate processes without\n",
    "access to the SoS environment.\n",
    "\n",
    "For example, the following SoS step execute some python statements **within** SoS with direct access to SoS variables\n",
    "such as `input`, and with `result` writing directly to the SoS environment,\n",
    "\n",
    "```python\n",
    "[10]\n",
    "for filename in input:\n",
    "    with open(filename) as data:\n",
    "        result = filename + '.res'\n",
    "        ....\n",
    "```\n",
    "\n",
    "while\n",
    "\n",
    "```python\n",
    "[10]\n",
    "input: group_by='single'\n",
    "\n",
    "python:\n",
    "\n",
    "with open(${input!r}) as data:\n",
    "   result = ${input!r} + '.res'\n",
    "   ...\n",
    "\n",
    "\n",
    "```\n",
    "\n",
    "composes a Python script for each input file and calls separate Python interpreters to execute them. Whereas\n",
    "the Python statement in the first example will always be executed, the statements in `python` will not be executed\n",
    "in `inspect` mode."
   ]
  },
  {
   "cell_type": "markdown",
   "metadata": {},
   "source": [
    "### Action `python2`\n",
    "\n",
    "Action `python2` is similar to `python` but it tries to use interpreter `python2` (or `python2.7` on some systems) before `python`, which could be python 3. Note that this action does not actually test the version of interpreter so it would use python 3 if this is the only available version."
   ]
  },
  {
   "cell_type": "markdown",
   "metadata": {},
   "source": [
    "### Action `python3`\n",
    "\n",
    "Action `python3` is similar to `python` but it tries to use interpreter `python3` (version 3 of python) before `python`, which could be python 2. Note that this action does not actually test the version of interpreter so it would use python 2 if this is the only available version."
   ]
  },
  {
   "cell_type": "markdown",
   "metadata": {},
   "source": [
    "### Target `Py_Module`"
   ]
  },
  {
   "cell_type": "markdown",
   "metadata": {},
   "source": [
    "This target is usually used in the `depends` statement of a SoS step to specify a required Python module. If a module is not available, SoS will try to execute command `pip install` to install it, which might or might not succeed depending on your system configuration. For example,"
   ]
  },
  {
   "cell_type": "code",
   "execution_count": 3,
   "metadata": {
    "collapsed": false,
    "kernel": "sos"
   },
   "outputs": [
    {
     "name": "stdout",
     "output_type": "stream",
     "text": [
      "-----  ------  -------------\n",
      "Sun    696000     1.9891e+09\n",
      "Earth    6371  5973.6\n",
      "Moon     1737    73.5\n",
      "Mars     3390   641.85\n",
      "-----  ------  -------------\n"
     ]
    }
   ],
   "source": [
    "depends: Py_Module('tabulate')\n",
    "from tabulate import tabulate\n",
    "table = [[\"Sun\",696000,1989100000],[\"Earth\",6371,5973.6],\n",
    "    [\"Moon\",1737,73.5],[\"Mars\",3390,641.85]]\n",
    "print(tabulate(table))"
   ]
  },
  {
   "cell_type": "markdown",
   "metadata": {},
   "source": [
    "## Language `R`"
   ]
  },
  {
   "cell_type": "markdown",
   "metadata": {},
   "source": [
    "### Action `R`"
   ]
  },
  {
   "cell_type": "markdown",
   "metadata": {},
   "source": [
    "Action `R(script)` execute the passed script using `Rscript` command. "
   ]
  },
  {
   "cell_type": "code",
   "execution_count": null,
   "metadata": {
    "collapsed": false
   },
   "outputs": [],
   "source": [
    "R:\n",
    "    D <- data.frame(x=c(1,2,3,1), y=c(7,19,2,2))\n",
    "    # Sort on x\n",
    "    indexes <- order(D$x)\n",
    "    D[indexes,]"
   ]
  },
  {
   "cell_type": "markdown",
   "metadata": {},
   "source": [
    "### Action `Rmarkdown`"
   ]
  },
  {
   "cell_type": "markdown",
   "metadata": {},
   "source": [
    "Action `Rmarkdown` shares the same user interface with action `pandoc`. The only big difference is that it used `R`'s `rmarkdown` package to render R-flavored Markdown language.\n",
    "\n",
    "For example, the `Rmarkdown` action of the following example collects input files `A_10.md` and `A_20.md` and use `R`'s `rmarkdown` package to convert it to `out.html`."
   ]
  },
  {
   "cell_type": "code",
   "execution_count": null,
   "metadata": {
    "collapsed": false,
    "kernel": "sos"
   },
   "outputs": [],
   "source": [
    "%sandbox\n",
    "\n",
    "[A_10]\n",
    "report: output=\"A_10.md\"\n",
    "    step_10\n",
    "\n",
    "[A_20]\n",
    "report: output=\"A_20.md\"\n",
    "    Itemize\n",
    "\n",
    "    * item 1\n",
    "    * item 2\n",
    "\n",
    "[A_30]\n",
    "Rmarkdown(input=['A_10.md', 'A_20.md'], output='out.html')"
   ]
  },
  {
   "cell_type": "markdown",
   "metadata": {},
   "source": [
    "### Target `R_library`"
   ]
  },
  {
   "cell_type": "markdown",
   "metadata": {},
   "source": [
    "The `R_library` target represents a R library. If the libraries are not available, it will try to install it from [CRAN](https://cran.r-project.org/), [bioconductor](https://www.bioconductor.org/), or [github](https://github.com/). Github package name should be formatted as `repo/pkg`. A typical usage of this target would be"
   ]
  },
  {
   "cell_type": "code",
   "execution_count": 28,
   "metadata": {
    "collapsed": false,
    "kernel": "sos"
   },
   "outputs": [
    {
     "name": "stdout",
     "output_type": "stream",
     "text": [
      "null device \n",
      "          1 \n"
     ]
    },
    {
     "data": {
      "text/html": [
       "<pre><font color=\"green\">## -- Preview output --</font></pre>"
      ]
     },
     "metadata": {},
     "output_type": "display_data"
    },
    {
     "data": {
      "text/html": [
       "<pre> input: \n",
       "output: test.jpg\n",
       "</pre>"
      ]
     },
     "metadata": {},
     "output_type": "display_data"
    },
    {
     "data": {
      "text/html": [
       "<pre><font color=\"green\">> test.jpg (28.8 KiB):</font></pre>"
      ],
      "text/plain": [
       "\n",
       "> test.jpg (28.8 KiB):"
      ]
     },
     "metadata": {},
     "output_type": "display_data"
    },
    {
     "data": {
      "image/jpeg": "[encoded data removed]",
      "image/png": "[encoded data removed]"
     },
     "metadata": {},
     "output_type": "display_data"
    }
   ],
   "source": [
    "%sandbox\n",
    "[10]\n",
    "output: 'test.jpg'\n",
    "depends: R_library('ggplot2')\n",
    "R:\n",
    "  library(ggplot2) \n",
    "  jpeg(${output!r})\n",
    "  qplot(Sepal.Length, Petal.Length, data = iris, color = Species)\n",
    "  dev.off()\n"
   ]
  },
  {
   "cell_type": "markdown",
   "metadata": {
    "kernel": "sos"
   },
   "source": [
    "`R_library` can also be used to check for specific versions of packages. For example:\n",
    "\n",
    "```\n",
    "R_library('edgeR', '3.12.0')\n",
    "```\n",
    "will result in a warning if edgeR version is not 3.12.0. You can specify multiple versions \n",
    "\n",
    "```\n",
    "R_library('edgeR', ['3.12.0', '3.12.1'])\n",
    "```\n",
    "\n",
    "certain version or newer,\n",
    "```\n",
    "R_library('edgeR', '3.12.0+')\n",
    "```\n",
    "\n",
    "certain version or older\n",
    "```\n",
    "check_R_library('ggplot2', '1.0.0-')\n",
    "```\n",
    "\n",
    "The default R library repo is `http://cran.us.r-project.org`. It is possible to customize the repo for which a R library would be installed, for example:\n",
    "\n",
    "```\n",
    "R_library('Rmosek', repos = \"http://download.mosek.com/R/7\")\n",
    "```"
   ]
  }
 ],
 "metadata": {
  "anaconda-cloud": {},
  "kernelspec": {
   "display_name": "SoS",
   "language": "sos",
   "name": "sos"
  },
  "language_info": {
   "codemirror_mode": "sos",
   "file_extension": ".sos",
   "mimetype": "text/x-sos",
   "name": "sos",
   "nbconvert_exporter": "sos.jupyter.converter.SoS_Exporter",
   "pygments_lexer": "sos"
  },
  "toc": {
   "colors": {
    "hover_highlight": "#DAA520",
    "running_highlight": "#FF0000",
    "selected_highlight": "#FFD700"
   },
   "moveMenuLeft": true,
   "nav_menu": {
    "height": "503px",
    "width": "254px"
   },
   "navigate_menu": true,
   "number_sections": true,
   "sideBar": true,
   "threshold": 4,
   "toc_cell": false,
   "toc_section_display": "block",
   "toc_window_display": true
  }
 },
 "nbformat": 4,
 "nbformat_minor": 1
}
