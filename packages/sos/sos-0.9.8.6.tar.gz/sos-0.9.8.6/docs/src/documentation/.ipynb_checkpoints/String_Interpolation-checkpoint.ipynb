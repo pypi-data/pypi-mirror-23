{
 "cells": [
  {
   "cell_type": "markdown",
   "metadata": {},
   "source": [
    "# String Interpolation"
   ]
  },
  {
   "cell_type": "markdown",
   "metadata": {},
   "source": [
    "## Introduction"
   ]
  },
  {
   "cell_type": "markdown",
   "metadata": {},
   "source": [
    "Unlike Python format string, SoS string interpolation **does not require any prefix**, and is **applied to only double quoted strings** (`\" \"`, `\"\"\" \"\"\"`, `r\" \"`, and `r\"\"\" \"\"\"`). Single quoted strings (`' '`, `''' '''`, `r' '`, and `r''' '''`) are not interpolated.\n",
    "\n",
    "Although configurable, the default sigil for SoS string interpolation is `'${ }'`, which means by default any expression between `${` and `}` would be evaluated by SoS. For example, expressions `resource_path`, `sample_names[0]` and `sample_names` would be replaced by their values in variables `ref_genome`, `title`, and `all_names`, but not in `single_quoted` because the string literal is quoted by single quotes. For convenience, we use a magic `%preview` of the SoS kernel to display the values of variables after the evaluation of the cell content."
   ]
  },
  {
   "cell_type": "code",
   "execution_count": 1,
   "metadata": {
    "kernel": "sos"
   },
   "outputs": [
    {
     "data": {
      "text/html": [
       "<pre><font color=\"green\">%preview ref_genome title all_names single_quoted</font></pre>"
      ]
     },
     "metadata": {},
     "output_type": "display_data"
    },
    {
     "data": {
      "text/html": [
       "<pre><font color=\"green\">> ref_genome:</font> str of length 37</pre>"
      ],
      "text/plain": [
       ">>> ref_genome:\n"
      ]
     },
     "metadata": {},
     "output_type": "display_data"
    },
    {
     "data": {
      "text/plain": [
       "'~/.sos/resources/hg19/refGenome.fasta'"
      ]
     },
     "metadata": {},
     "output_type": "display_data"
    },
    {
     "data": {
      "text/html": [
       "<pre><font color=\"green\">> title:</font> str of length 16</pre>"
      ],
      "text/plain": [
       ">>> title:\n"
      ]
     },
     "metadata": {},
     "output_type": "display_data"
    },
    {
     "data": {
      "text/plain": [
       "'Sample A results'"
      ]
     },
     "metadata": {},
     "output_type": "display_data"
    },
    {
     "data": {
      "text/html": [
       "<pre><font color=\"green\">> all_names:</font> str of length 13</pre>"
      ],
      "text/plain": [
       ">>> all_names:\n"
      ]
     },
     "metadata": {},
     "output_type": "display_data"
    },
    {
     "data": {
      "text/plain": [
       "'Samples A B C'"
      ]
     },
     "metadata": {},
     "output_type": "display_data"
    },
    {
     "data": {
      "text/html": [
       "<pre><font color=\"green\">> single_quoted:</font> str of length 35</pre>"
      ],
      "text/plain": [
       ">>> single_quoted:\n"
      ]
     },
     "metadata": {},
     "output_type": "display_data"
    },
    {
     "data": {
      "text/plain": [
       "'${sample_names} is not interpolated'"
      ]
     },
     "metadata": {},
     "output_type": "display_data"
    }
   ],
   "source": [
    "%preview ref_genome title all_names single_quoted\n",
    "\n",
    "resource_path = '~/.sos/resources'\n",
    "ref_genome    = \"${resource_path}/hg19/refGenome.fasta\"\n",
    "\n",
    "sample_names  = ['A', 'B', 'C']\n",
    "title         = \"Sample ${sample_names[0]} results\"\n",
    "all_names     = \"Samples ${sample_names}\"\n",
    "\n",
    "single_quoted = '${sample_names} is not interpolated'"
   ]
  },
  {
   "cell_type": "markdown",
   "metadata": {},
   "source": [
    "SoS actions specified in **script format** is assumed to be in raw tripple quote and will be interpolated. For example, variable `num` is passed from SoS to a shell script in the following example"
   ]
  },
  {
   "cell_type": "code",
   "execution_count": 2,
   "metadata": {
    "kernel": "sos"
   },
   "outputs": [
    {
     "name": "stdout",
     "output_type": "stream",
     "text": [
      "Random number is 2\n"
     ]
    }
   ],
   "source": [
    "import random\n",
    "num = random.randint(1, 6)\n",
    "run:\n",
    "    echo \"Random number is ${num}\""
   ]
  },
  {
   "cell_type": "markdown",
   "metadata": {},
   "source": [
    "because the code is equivalent to"
   ]
  },
  {
   "cell_type": "code",
   "execution_count": 3,
   "metadata": {
    "kernel": "sos"
   },
   "outputs": [
    {
     "name": "stdout",
     "output_type": "stream",
     "text": [
      "Random number is 4\n"
     ]
    }
   ],
   "source": [
    "import random\n",
    "num = random.randint(1, 6)\n",
    "run(r\"\"\"\n",
    "echo \"Random number is ${num}\"\n",
    "\"\"\")"
   ]
  },
  {
   "cell_type": "markdown",
   "metadata": {},
   "source": [
    "## String representation of Objects"
   ]
  },
  {
   "cell_type": "markdown",
   "metadata": {},
   "source": [
    "SoS evaluate an expression and returns the string representation of the value.\n",
    "\n",
    "If the value is of simple Python types such as string, boolean, and numbers, the standard Python representation of the value (`repr(obj)`) will be returned."
   ]
  },
  {
   "cell_type": "code",
   "execution_count": 4,
   "metadata": {
    "kernel": "sos"
   },
   "outputs": [
    {
     "data": {
      "text/plain": [
       "'1024'"
      ]
     },
     "execution_count": 4,
     "metadata": {},
     "output_type": "execute_result"
    }
   ],
   "source": [
    "\"${2**10}\""
   ]
  },
  {
   "cell_type": "code",
   "execution_count": 5,
   "metadata": {
    "kernel": "sos"
   },
   "outputs": [
    {
     "data": {
      "text/plain": [
       "'Hi, Bob'"
      ]
     },
     "execution_count": 5,
     "metadata": {},
     "output_type": "execute_result"
    }
   ],
   "source": [
    "user = 'Bob'\n",
    "\"${\\\"Hi, \\\" + user}\""
   ]
  },
  {
   "cell_type": "markdown",
   "metadata": {},
   "source": [
    "For objects with an iterator interface (e.g. Python `list`, `tuple`, `dict`, and `set`), SoS join the string representation of each item by a space (or comma with `,` conversion flag). For example,\n",
    "\n",
    "  * List of strings will be converted to a string by joining strings with a space or comma.\n",
    "  * Dictionary of strings will be converted to a string by joining dictionary keys with no guarantee on the order of values."
   ]
  },
  {
   "cell_type": "code",
   "execution_count": 6,
   "metadata": {
    "kernel": "sos"
   },
   "outputs": [
    {
     "data": {
      "text/plain": [
       "'James Bob Kathy'"
      ]
     },
     "execution_count": 6,
     "metadata": {},
     "output_type": "execute_result"
    }
   ],
   "source": [
    "names = ['James', 'Bob', 'Kathy']\n",
    "\"${names}\""
   ]
  },
  {
   "cell_type": "code",
   "execution_count": 7,
   "metadata": {
    "kernel": "sos"
   },
   "outputs": [
    {
     "data": {
      "text/plain": [
       "'Employees: Bob James Kathy'"
      ]
     },
     "execution_count": 7,
     "metadata": {},
     "output_type": "execute_result"
    }
   ],
   "source": [
    "salary = {'James': 20, 'Bob': 25, 'Kathy': 18}\n",
    "\"Employees: ${salary}\""
   ]
  },
  {
   "cell_type": "markdown",
   "metadata": {},
   "source": [
    "It is worth noting that the step input and output variables (`input`, `output`, `depends`, and its looped version `_input`, `_output`, and `_depends`) are always list of targets. However, if the list contains only one filename, `\"${input}\"` would be the same as `\"${input[0]}\"`."
   ]
  },
  {
   "cell_type": "markdown",
   "metadata": {},
   "source": [
    "SoS string interpolation supports all string format and conversion specification as in the [Python string format specifier](https://docs.python.org/3/library/string.html#formatspec). That is to say, you can use `: specifier` at the end of the expression to control the format of the output. For example"
   ]
  },
  {
   "cell_type": "code",
   "execution_count": 8,
   "metadata": {
    "kernel": "sos"
   },
   "outputs": [
    {
     "data": {
      "text/plain": [
       "'0.33'"
      ]
     },
     "execution_count": 8,
     "metadata": {},
     "output_type": "execute_result"
    }
   ],
   "source": [
    "\"${1/3. :.2f}\""
   ]
  },
  {
   "cell_type": "code",
   "execution_count": 9,
   "metadata": {
    "kernel": "sos"
   },
   "outputs": [
    {
     "data": {
      "text/plain": [
       "'            test.sos'"
      ]
     },
     "execution_count": 9,
     "metadata": {},
     "output_type": "execute_result"
    }
   ],
   "source": [
    "filename = 'test.sos'\n",
    "\"${filename:>20}\""
   ]
  },
  {
   "cell_type": "markdown",
   "metadata": {},
   "source": [
    "SoS also extends the conversion operators of the standard Python string format string to give you more control on the string representation of objects, particularly file and directory names. The conversion operators should be specified after a `!` character.\n",
    "\n",
    "SoS currently supports the following convertors:\n",
    "\n",
    "\n",
    "| convertor | effect | input | output |\n",
    "| :----------| :----- | :----- | :-------|\n",
    "| `s`         | `str()`  | `${file1!s}` | `file 1.txt` |\n",
    "| `r`         | `repr()`  | `${file1!r}` | `'file 1.txt'` |\n",
    "| `q`         | `quoted()` | `${file1!q}` | `'file 1.txt'`|\n",
    "| `e`         | `replace(' ', '\\\\ ')` | `${file1!e}` | `file\\ 1.txt`|\n",
    "| `a`         | `abspath(expanduser())` |  `${file2!a}` | `/path/to/user/SoS/test.sos` |\n",
    "| `b`         | `basename())` |  `${file2!b}` | `test.sos` |\n",
    "| `d`         | `dirname())` |  `${file2!d}` | `/path/to/user/SoS/` |\n",
    "| `n`         | `splitext()[0]` | `${file2!n}` | `~/SoS/test` |\n",
    "| `u`         | `expanduser()` | `${file2!u}` | `/path/to/user/SoS/test.sos`|\n",
    "| `,`         | `','.join()` | `${files!,}` | `a.txt,b.txt`|\n",
    "\n",
    "\n",
    "here we assume\n",
    "\n",
    "```\n",
    "file1='file 1.txt'\n",
    "file2='~/SoS/test.sos'\n",
    "files=['a.txt', 'b.txt']\n",
    "```"
   ]
  },
  {
   "cell_type": "markdown",
   "metadata": {},
   "source": [
    "For example, if we need to create a file called `Bon Jovi.txt` and run"
   ]
  },
  {
   "cell_type": "code",
   "execution_count": 10,
   "metadata": {},
   "outputs": [
    {
     "name": "stdout",
     "output_type": "stream",
     "text": [
      "test Jovi.txt\n"
     ]
    },
    {
     "name": "stderr",
     "output_type": "stream",
     "text": [
      "cat: Jovi.txt: No such file or directory\n",
      "Failed to process statement run(r\"\"\"echo \"test\" > ${filena...name}\"\"\")\\n (RuntimeError): Failed to execute script (ret=1).\n",
      "Please use command\n",
      "\t``/bin/bash \\\n",
      "\t  /var/folders/ys/gnzk0qbx5wbdgm531v82xxljv5yqy8/T/tmp0q6rm6bx/.sos/interactive_0_0_2b5a234c``\n",
      "under \"/private/var/folders/ys/gnzk0qbx5wbdgm531v82xxljv5yqy8/T/tmp0q6rm6bx\" to test it.\n"
     ]
    }
   ],
   "source": [
    "%sandbox --expect-error\n",
    "filename = 'Bon Jovi.txt'\n",
    "run:\n",
    "    echo \"test\" > ${filename}\n",
    "    cat ${filename}"
   ]
  },
  {
   "cell_type": "markdown",
   "metadata": {},
   "source": [
    "We would get two files `Bon` and `Jovi.txt` because the command executed was actually\n",
    "\n",
    "```\n",
    "    echo \"test\" > Bon Jovi.txt\n",
    "    cat Bon Jovi.txt\n",
    "```"
   ]
  },
  {
   "cell_type": "markdown",
   "metadata": {},
   "source": [
    "To avoid such problems, you can quote the filename using the `q` (quoted) convertor"
   ]
  },
  {
   "cell_type": "code",
   "execution_count": 11,
   "metadata": {
    "kernel": "sos"
   },
   "outputs": [
    {
     "name": "stdout",
     "output_type": "stream",
     "text": [
      "test\n"
     ]
    }
   ],
   "source": [
    "run:\n",
    "   echo \"test\" > ${filename!q}\n",
    "   cat ${filename!q}"
   ]
  },
  {
   "cell_type": "markdown",
   "metadata": {},
   "source": [
    "Depending on how your scripts handle filenames, it can be handy to pass filenames to scripts in expanded format. For example, it would be perfectly OK to pass `~/a.txt` to a shell script, but a `u` convertor should be added if you are passing the filename to a script that does not understand `~` in filenames. SoS makes it easy for you to pass filenames in different forms to underlying scripts. For example,"
   ]
  },
  {
   "cell_type": "code",
   "execution_count": 12,
   "metadata": {
    "kernel": "sos",
    "output_cache": "[]"
   },
   "outputs": [
    {
     "data": {
      "text/html": [
       "<pre><font color=\"green\">%preview name filename basefilename expanded parparname</font></pre>"
      ]
     },
     "metadata": {},
     "output_type": "display_data"
    },
    {
     "data": {
      "text/html": [
       "<pre><font color=\"green\">> name:</font> str of length 25</pre>"
      ],
      "text/plain": [
       ">>> name:\n"
      ]
     },
     "metadata": {},
     "output_type": "display_data"
    },
    {
     "data": {
      "text/plain": [
       "'~/sos/examples/update_toc'"
      ]
     },
     "metadata": {},
     "output_type": "display_data"
    },
    {
     "data": {
      "text/html": [
       "<pre><font color=\"green\">> filename:</font> str of length 14</pre>"
      ],
      "text/plain": [
       ">>> filename:\n"
      ]
     },
     "metadata": {},
     "output_type": "display_data"
    },
    {
     "data": {
      "text/plain": [
       "'update_toc.sos'"
      ]
     },
     "metadata": {},
     "output_type": "display_data"
    },
    {
     "data": {
      "text/html": [
       "<pre><font color=\"green\">> basefilename:</font> str of length 10</pre>"
      ],
      "text/plain": [
       ">>> basefilename:\n"
      ]
     },
     "metadata": {},
     "output_type": "display_data"
    },
    {
     "data": {
      "text/plain": [
       "'update_toc'"
      ]
     },
     "metadata": {},
     "output_type": "display_data"
    },
    {
     "data": {
      "text/html": [
       "<pre><font color=\"green\">> expanded:</font> str of length 41</pre>"
      ],
      "text/plain": [
       ">>> expanded:\n"
      ]
     },
     "metadata": {},
     "output_type": "display_data"
    },
    {
     "data": {
      "text/plain": [
       "'/Users/bpeng1/sos/examples/update_toc.sos'"
      ]
     },
     "metadata": {},
     "output_type": "display_data"
    },
    {
     "data": {
      "text/html": [
       "<pre><font color=\"green\">> parparname:</font> str of length 3</pre>"
      ],
      "text/plain": [
       ">>> parparname:\n"
      ]
     },
     "metadata": {},
     "output_type": "display_data"
    },
    {
     "data": {
      "text/plain": [
       "'sos'"
      ]
     },
     "metadata": {},
     "output_type": "display_data"
    }
   ],
   "source": [
    "%preview name filename basefilename expanded parparname\n",
    "file = '~/sos/examples/update_toc.sos'\n",
    "name = \"${file!n}\"\n",
    "filename = \"${file!b}\"\n",
    "basefilename = \"${file!bn}\"\n",
    "expanded = \"${file!u}\"\n",
    "parparname = \"${file!ddb}\""
   ]
  },
  {
   "cell_type": "markdown",
   "metadata": {},
   "source": [
    "The last example is pretty interesting because it applies three converters and gets the name of grand-parent directory using an equivalence of `basename(dirname(dirname(file)))`."
   ]
  },
  {
   "cell_type": "markdown",
   "metadata": {},
   "source": [
    "Finally, the `,` converter can be used to output Python sequences with items separated by comma instead of space. For example, if you are passing a Python list as R literals, you can pass them as follows:"
   ]
  },
  {
   "cell_type": "code",
   "execution_count": 13,
   "metadata": {
    "kernel": "sos"
   },
   "outputs": [
    {
     "name": "stdout",
     "output_type": "stream",
     "text": [
      "[1] \"Bob\"   \"James\" \"Kathy\"\n"
     ]
    }
   ],
   "source": [
    "salary = {'James': 20, 'Bob': 25, 'Kathy': 18}\n",
    "R:\n",
    "    employee = c(${salary!,r})\n",
    "    print(employee)"
   ]
  },
  {
   "cell_type": "markdown",
   "metadata": {},
   "source": [
    "Here the `r` converter quotes the strings, and `,` converter joints the strings by `,`."
   ]
  },
  {
   "cell_type": "code",
   "execution_count": 14,
   "metadata": {
    "kernel": "sos"
   },
   "outputs": [
    {
     "data": {
      "text/plain": [
       "\"'Bob','James','Kathy'\""
      ]
     },
     "execution_count": 14,
     "metadata": {},
     "output_type": "execute_result"
    }
   ],
   "source": [
    "\"${salary!,r}\""
   ]
  },
  {
   "cell_type": "markdown",
   "metadata": {},
   "source": [
    "Although the SoS format specifiers are convenient to use, you are not limited to these rules and can define your own ways to present objects. For example"
   ]
  },
  {
   "cell_type": "code",
   "execution_count": 15,
   "metadata": {
    "kernel": "sos"
   },
   "outputs": [
    {
     "data": {
      "text/plain": [
       "\"c('James','Kathy','Bob')\""
      ]
     },
     "execution_count": 15,
     "metadata": {},
     "output_type": "execute_result"
    }
   ],
   "source": [
    "def r_list(obj):\n",
    "    return 'c(' + ','.join('{!r}'.format(x) for x in obj) + ')'\n",
    "\n",
    "\"${r_list(salary)}\""
   ]
  },
  {
   "cell_type": "markdown",
   "metadata": {},
   "source": [
    "## Inclusion of sigil in string"
   ]
  },
  {
   "cell_type": "markdown",
   "metadata": {},
   "source": [
    "If you need to stop SoS from interpolating some expressions in a string, you can \n",
    "\n",
    "1. Use single quotes, or\n",
    "2. precede the SoS sigil with a backslash (`\\`)\n",
    "\n",
    "For example, the following script includes a shell script with shell variable `${file}` that is not interpolated by SoS:"
   ]
  },
  {
   "cell_type": "code",
   "execution_count": 16,
   "metadata": {
    "kernel": "sos"
   },
   "outputs": [
    {
     "name": "stdout",
     "output_type": "stream",
     "text": [
      "Sample A results\n",
      "Processing a.txt ...\n",
      "Processing b.txt ...\n",
      "Processing c.txt ...\n"
     ]
    }
   ],
   "source": [
    "[10]\n",
    "title = \"Sample ${sample_names[0]} results\"\n",
    "run:\n",
    "    echo ${title}\n",
    "    for file in a.txt b.txt c.txt\n",
    "    do\n",
    "        echo Processing \\${file} ...\n",
    "    done\n"
   ]
  },
  {
   "cell_type": "markdown",
   "metadata": {},
   "source": [
    "## Alternative sigil"
   ]
  },
  {
   "cell_type": "markdown",
   "metadata": {},
   "source": [
    "If your SoS script contains long bash, perl, or other scripts in which `${ }` are frequently used, it can be tedious and error prone to backquote all sigils in these script. In this case you can assign an alternative sigil to the steps using a `sigil` section option.\n",
    "\n",
    "For example, the example above could be written as "
   ]
  },
  {
   "cell_type": "code",
   "execution_count": 17,
   "metadata": {
    "kernel": "sos"
   },
   "outputs": [
    {
     "name": "stdout",
     "output_type": "stream",
     "text": [
      "Sample A results\n",
      "Processing a.txt ...\n",
      "Processing b.txt ...\n",
      "Processing c.txt ...\n"
     ]
    }
   ],
   "source": [
    "[10: sigil='%( )']\n",
    "title = \"Sample %(sample_names[0]) results\"\n",
    "run:\n",
    "    echo %(title)\n",
    "    for file in a.txt b.txt c.txt\n",
    "    do\n",
    "        echo Processing ${file} ...\n",
    "    done"
   ]
  },
  {
   "cell_type": "markdown",
   "metadata": {},
   "source": [
    "to use an alternative sigil for this particular step using a step option `sigil`."
   ]
  },
  {
   "cell_type": "markdown",
   "metadata": {},
   "source": [
    "You can define any sigil as long as it has a left sigil and a right sigil separated by a space. You can even use sigils with identical left and right sigil (e.g. `# #`), although the latter is more prone to errors"
   ]
  }
 ],
 "metadata": {
  "anaconda-cloud": {},
  "kernelspec": {
   "display_name": "SoS",
   "language": "sos",
   "name": "sos"
  },
  "language_info": {
   "codemirror_mode": "sos",
   "file_extension": ".sos",
   "mimetype": "text/x-sos",
   "name": "sos",
   "nbconvert_exporter": "sos.jupyter.converter.SoS_Exporter",
   "pygments_lexer": "sos"
  },
  "sos": {
   "celltoolbar": true,
   "kernels": [
    [
     "sos",
     "SoS",
     ""
    ],
    [
     "bash",
     "Bash",
     "#E6EEFF"
    ],
    [
     "ir",
     "R",
     "#FDEDEC"
    ],
    [
     "python3",
     "Python3",
     "#EAFAF1"
    ],
    [
     "python2",
     "Python2",
     "#F6FAEA"
    ]
   ],
   "panel": {
    "displayed": true,
    "height": 0,
    "style": "side"
   }
  },
  "toc": {
   "colors": {
    "hover_highlight": "#DAA520",
    "running_highlight": "#FF0000",
    "selected_highlight": "#FFD700"
   },
   "moveMenuLeft": true,
   "nav_menu": {
    "height": "86px",
    "width": "252px"
   },
   "navigate_menu": true,
   "number_sections": true,
   "sideBar": true,
   "threshold": 4,
   "toc_cell": false,
   "toc_section_display": "block",
   "toc_window_display": false
  }
 },
 "nbformat": 4,
 "nbformat_minor": 1
}
