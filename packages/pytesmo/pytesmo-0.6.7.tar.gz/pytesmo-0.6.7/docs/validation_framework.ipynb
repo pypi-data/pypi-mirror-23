{
 "cells": [
  {
   "cell_type": "markdown",
   "metadata": {},
   "source": [
    "# The pytesmo validation framework\n",
    "\n",
    "The pytesmo validation framework takes care of iterating over datasets, spatial and temporal matching as well as sclaing. It uses metric calculators to then calculate metrics that are returned to the user. There are several metrics calculators included in pytesmo but new ones can be added simply.\n",
    "\n",
    "## Overview\n",
    "\n",
    "How does the validation framework work? It makes these assumptions about the used datasets:\n",
    "\n",
    "- The dataset readers that are used have a `read_ts` method that can be called either by a grid point index (gpi) which can be any indicator that identifies a certain grid point or by using longitude and latitude. This means that both call signatures `read_ts(gpi)` and `read_ts(lon, lat)` must be valid. Please check the [pygeobase](https://github.com/TUW-GEO/pygeobase) documentation for more details on how a fully compatible dataset class should look. But a simple `read_ts` method should do for the validation framework. This assumption can be relaxed by using the `read_ts_names` keyword in the pytesmo.validation_framework.data_manager.DataManager class.\n",
    "- The `read_ts` method returns a pandas.DataFrame time series.\n",
    "- Ideally the datasets classes also have a `grid` attribute that is a [pygeogrids](http://pygeogrids.readthedocs.org/en/latest/) grid. This makes the calculation of lookup tables easily possible and the nearest neighbor search faster.\n",
    "\n",
    "Fortunately these assumptions are true about the dataset readers included in pytesmo. \n",
    "\n",
    "It also makes a few assumptions about how to perform a validation. For a comparison study it is often necessary to choose a spatial reference grid, a temporal reference and a scaling or data space reference. \n",
    "\n",
    "### Spatial reference\n",
    "The spatial reference is the one to which all the other datasets are matched spatially. Often through nearest neighbor search. The validation framework uses grid points of the dataset specified as the spatial reference to spatially match all the other datasets with nearest neighbor search. Other, more sophisticated spatial matching algorithms are not implemented at the moment. If you need a more complex spatial matching then a preprocessing of the data is the only option at the moment.\n",
    "\n",
    "### Temporal reference\n",
    "The temporal reference is the dataset to which the other dataset are temporally matched. That means that the nearest observation to the reference timestamps in a certain time window is chosen for each comparison dataset. This is by default done by the temporal matching module included in pytesmo. How many datasets should be matched to the reference dataset at once can be configured, we will cover how to do this later.\n",
    "\n",
    "### Data space reference\n",
    "It is often necessary to bring all the datasets into a common data space by using. Scaling is often used for that and pytesmo offers a choice of several scaling algorithms (e.g. CDF matching, min-max scaling, mean-std scaling, triple collocation based scaling). The data space reference can also be chosen independently from the other two references. \n",
    "\n",
    "## Data Flow\n",
    "\n",
    "After it is initialized, the validation framework works through the following steps:\n",
    "\n",
    "1. Read all the datasets for a certain job (gpi, lon, lat)\n",
    "2. Read all the masking dataset if any\n",
    "3. Mask the temporal reference dataset using the masking data\n",
    "4. Temporally match all the chosen combinations of temporal reference and other datasets\n",
    "5. Turn the temporally matched time series over to the metric calculators\n",
    "6. Get the calculated metrics from the metric calculators\n",
    "7. Put all the metrics into a dictionary by dataset combination and return them.\n",
    "\n",
    "## Masking datasets\n",
    "Masking datasets can be used if the the datasets that are compared do not contain the necessary information to mask them. For example we might want to use modelled soil temperature data to mask our soil moisture observations before comparing them. To be able to do that we just need a Dataset that returns a pandas.DataFrame with one column of boolean data type. Everywhere where the masking dataset is `True` the data will be masked.\n",
    "\n",
    "Let's look at a first example."
   ]
  },
  {
   "cell_type": "markdown",
   "metadata": {},
   "source": [
    "## Example soil moisture validation: ASCAT - ISMN"
   ]
  },
  {
   "cell_type": "markdown",
   "metadata": {},
   "source": [
    "This example shows how to setup the pytesmo validation framework to perform a comparison between ASCAT and ISMN data. "
   ]
  },
  {
   "cell_type": "code",
   "execution_count": 1,
   "metadata": {
    "collapsed": true
   },
   "outputs": [],
   "source": [
    "import os\n",
    "import tempfile\n",
    "\n",
    "import pytesmo.validation_framework.metric_calculators as metrics_calculators\n",
    "\n",
    "from datetime import datetime\n",
    "\n",
    "from pytesmo.io.sat.ascat import AscatH25_SSM\n",
    "from pytesmo.io.ismn.interface import ISMN_Interface\n",
    "from pytesmo.validation_framework.validation import Validation\n",
    "from pytesmo.validation_framework.results_manager import netcdf_results_manager"
   ]
  },
  {
   "cell_type": "markdown",
   "metadata": {},
   "source": [
    "First we initialize the data readers that we want to use. In this case the ASCAT soil moisture time series and in situ data from the ISMN. \n",
    "\n",
    "Initialize ASCAT reader"
   ]
  },
  {
   "cell_type": "code",
   "execution_count": 2,
   "metadata": {
    "collapsed": true
   },
   "outputs": [],
   "source": [
    "ascat_data_folder = os.path.join('/media/sf_R', 'Datapool_processed', 'WARP', 'WARP5.5',\n",
    "                                 'IRMA1_WARP5.5_P2', 'R1', '080_ssm', 'netcdf')\n",
    "ascat_grid_folder = os.path.join('/media/sf_R', 'Datapool_processed', 'WARP',\n",
    "                                 'ancillary', 'warp5_grid')\n",
    "\n",
    "ascat_reader = AscatH25_SSM(ascat_data_folder, ascat_grid_folder)\n",
    "ascat_reader.read_bulk = True\n",
    "ascat_reader._load_grid_info()"
   ]
  },
  {
   "cell_type": "markdown",
   "metadata": {},
   "source": [
    "Initialize ISMN reader"
   ]
  },
  {
   "cell_type": "code",
   "execution_count": 3,
   "metadata": {
    "collapsed": true
   },
   "outputs": [],
   "source": [
    "ismn_data_folder = '/data/Development/python/workspace/pytesmo/tests/test-data/ismn/format_header_values/'\n",
    "ismn_reader = ISMN_Interface(ismn_data_folder)"
   ]
  },
  {
   "cell_type": "markdown",
   "metadata": {},
   "source": [
    "The validation is run based on jobs. A job consists of at least three lists or numpy arrays specifing the grid point index, its latitude and longitude. In the case of the ISMN we can use the `dataset_ids` that identify every time series in the downloaded ISMN data as our grid point index. We can then get longitude and latitude from the metadata of the dataset.\n",
    "\n",
    "**DO NOT CHANGE** the name ***jobs*** because it will be searched during the parallel processing!"
   ]
  },
  {
   "cell_type": "code",
   "execution_count": 4,
   "metadata": {
    "collapsed": false
   },
   "outputs": [
    {
     "name": "stdout",
     "output_type": "stream",
     "text": [
      "[(0, 2.9567000000000001, 43.149999999999999)]\n"
     ]
    }
   ],
   "source": [
    "jobs = []\n",
    "\n",
    "ids = ismn_reader.get_dataset_ids(variable='soil moisture', min_depth=0, max_depth=0.1)\n",
    "for idx in ids:\n",
    "    metadata = ismn_reader.metadata[idx]\n",
    "    jobs.append((idx, metadata['longitude'], metadata['latitude']))\n",
    "print jobs"
   ]
  },
  {
   "cell_type": "markdown",
   "metadata": {},
   "source": [
    "For this small test dataset it is only one job\n",
    "\n",
    "It is important here that the ISMN reader has a read_ts function that works by just using the `dataset_id`. In this way the validation framework can go through the jobs and read the correct time series."
   ]
  },
  {
   "cell_type": "code",
   "execution_count": 5,
   "metadata": {
    "collapsed": false
   },
   "outputs": [
    {
     "name": "stdout",
     "output_type": "stream",
     "text": [
      "                     soil moisture soil moisture_flag soil moisture_orig_flag\n",
      "date                                                                         \n",
      "2007-01-01 01:00:00          0.214                  U                       M\n",
      "2007-01-01 02:00:00          0.214                  U                       M\n",
      "2007-01-01 03:00:00          0.214                  U                       M\n",
      "2007-01-01 04:00:00          0.214                  U                       M\n",
      "2007-01-01 05:00:00          0.214                  U                       M\n"
     ]
    }
   ],
   "source": [
    "data = ismn_reader.read_ts(ids[0])\n",
    "print data.head()"
   ]
  },
  {
   "cell_type": "markdown",
   "metadata": {},
   "source": [
    "## Initialize the Validation class\n",
    "\n",
    "The Validation class is the heart of the validation framwork. It contains the information about which datasets to read using which arguments or keywords and if they are spatially compatible. It also contains the settings about which metric calculators to use and how to perform the scaling into the reference data space. It is initialized in the following way:"
   ]
  },
  {
   "cell_type": "code",
   "execution_count": 11,
   "metadata": {
    "collapsed": true
   },
   "outputs": [],
   "source": [
    "datasets = {'ISMN': {'class': ismn_reader, \n",
    "                     'columns': ['soil moisture']},\n",
    "            'ASCAT': {'class': ascat_reader, 'columns': ['sm'],\n",
    "                      'kwargs': {'mask_frozen_prob': 80,\n",
    "                                 'mask_snow_prob': 80,\n",
    "                                 'mask_ssf': True}}\n",
    "           }"
   ]
  },
  {
   "cell_type": "markdown",
   "metadata": {},
   "source": [
    "The datasets dictionary contains all the information about the datasets to read. The `class` is the dataset class to use which we have already initialized. The `columns` key describes which columns of the dataset interest us for validation. This a mandatory field telling the framework which other columns to ignore. In this case the columns `soil moisture_flag` and `soil moisture_orig_flag` will be ignored by the ISMN reader. We can also specify additional keywords that should be given to the `read_ts` method of the dataset reader. In this case we want the ASCAT reader to mask the ASCAT soil moisture using the included frozen and snow probabilities as well as the SSF. There are also other keys that can be used here. Please see the documentation for explanations."
   ]
  },
  {
   "cell_type": "code",
   "execution_count": 13,
   "metadata": {
    "collapsed": false
   },
   "outputs": [],
   "source": [
    "period = [datetime(2007, 1, 1), datetime(2014, 12, 31)]\n",
    "basic_metrics = metrics_calculators.BasicMetrics(other_name='k1')\n",
    "\n",
    "process = Validation(\n",
    "    datasets, 'ISMN', {(2, 2): basic_metrics.calc_metrics},\n",
    "    temporal_ref='ASCAT',\n",
    "    scaling='lin_cdf_match',\n",
    "    scaling_ref='ASCAT',   \n",
    "    period=period)\n"
   ]
  },
  {
   "cell_type": "markdown",
   "metadata": {},
   "source": [
    "During the initialization of the Validation class we can also tell it other things that it needs to know. In this case it uses the datasets we have specified earlier. The spatial reference is the `'ISMN'` dataset which is the second argument. The third argument looks a little bit strange so let's look at it in more detail.\n",
    "\n",
    "It is a dictionary with a tuple as the key and a function as the value. The key tuple `(n, k)` has the following meaning: `n` datasets are temporally matched together and then given in sets of `k` columns to the metric calculator. The metric calculator then gets a DataFrame with the columns ['ref', 'k1', 'k2' ...] and so on depending on the value of k. The value of `(2, 2)` makes sense here since we only have two datasets and all our metrics also take two inputs. \n",
    "\n",
    "This can be used in more complex scenarios to e.g. have three input datasets that are all temporally matched together and then combinations of two input datasets are given to one metric calculator while all three datasets are given to another metric calculator. This could look like this:\n",
    "\n",
    "```python\n",
    "{ (3 ,2): metric_calc,\n",
    "  (3, 3): triple_collocation}\n",
    "```"
   ]
  },
  {
   "cell_type": "markdown",
   "metadata": {},
   "source": [
    "Create the variable ***save_path*** which is a string representing the path where the results will be saved. **DO NOT CHANGE** the name ***save_path*** because it will be searched during the parallel processing!"
   ]
  },
  {
   "cell_type": "code",
   "execution_count": 10,
   "metadata": {
    "collapsed": true
   },
   "outputs": [],
   "source": [
    "save_path = tempfile.mkdtemp()"
   ]
  },
  {
   "cell_type": "code",
   "execution_count": 22,
   "metadata": {
    "collapsed": false
   },
   "outputs": [
    {
     "name": "stdout",
     "output_type": "stream",
     "text": [
      "{(('ASCAT', 'sm'), ('ISMN', 'soil moisture')): {'BIAS': array([-0.34625292], dtype=float32),\n",
      "                                                'R': array([ 0.46913505], dtype=float32),\n",
      "                                                'RMSD': array([ 9.74285984], dtype=float32),\n",
      "                                                'gpi': array([0], dtype=int32),\n",
      "                                                'lat': array([ 43.15]),\n",
      "                                                'lon': array([ 2.9567]),\n",
      "                                                'n_obs': array([31], dtype=int32),\n",
      "                                                'p_R': array([ 0.00776013], dtype=float32),\n",
      "                                                'p_rho': array([ 0.00407545], dtype=float32),\n",
      "                                                'p_tau': array([ nan], dtype=float32),\n",
      "                                                'rho': array([ 0.50121337], dtype=float32),\n",
      "                                                'tau': array([ nan], dtype=float32)}}\n"
     ]
    }
   ],
   "source": [
    "import pprint\n",
    "for job in jobs:\n",
    "    \n",
    "    results = process.calc(*job)\n",
    "    pprint.pprint(results)\n",
    "    netcdf_results_manager(results, save_path)\n"
   ]
  },
  {
   "cell_type": "markdown",
   "metadata": {},
   "source": [
    "The validation is then performed by looping over all the defined jobs and storing the results. \n",
    "You can see that the results are a dictionary where the key is a tuple defining the exact combination of datasets and columns that were used for the calculation of the metrics. The metrics itself are a dictionary of `metric-name: numpy.ndarray` which also include information about the gpi, lon and lat. Since all the information contained in the job is given to the metric calculator they can be stored in the results.\n",
    "\n",
    "Storing of the results to disk is at the moment supported by the `netcdf_results_manager` which creates a netCDF file for each dataset combination and stores each metric as a variable. We can inspect the stored netCDF file which is named after the dictionary key:"
   ]
  },
  {
   "cell_type": "code",
   "execution_count": 23,
   "metadata": {
    "collapsed": false
   },
   "outputs": [
    {
     "name": "stdout",
     "output_type": "stream",
     "text": [
      "n_obs [31]\n",
      "tau [ nan]\n",
      "gpi [0]\n",
      "RMSD [ 9.74285984]\n",
      "lon [ 2.9567]\n",
      "p_tau [ nan]\n",
      "BIAS [-0.34625292]\n",
      "p_rho [ 0.00407545]\n",
      "rho [ 0.50121337]\n",
      "lat [ 43.15]\n",
      "R [ 0.46913505]\n",
      "p_R [ 0.00776013]\n"
     ]
    }
   ],
   "source": [
    "import netCDF4\n",
    "results_fname = os.path.join(save_path, 'ASCAT.sm_with_ISMN.soil moisture.nc')\n",
    "\n",
    "with netCDF4.Dataset(results_fname) as ds:\n",
    "    for var in ds.variables:\n",
    "        print var, ds.variables[var][:]"
   ]
  },
  {
   "cell_type": "markdown",
   "metadata": {},
   "source": [
    "## Parallel processing\n",
    "\n",
    "The same code can be executed in parallel by defining the following `start_processing` function."
   ]
  },
  {
   "cell_type": "code",
   "execution_count": 25,
   "metadata": {
    "collapsed": true
   },
   "outputs": [],
   "source": [
    "def start_processing(job):\n",
    "    try:\n",
    "        return process.calc(*job)\n",
    "    except RuntimeError:\n",
    "        return process.calc(*job)"
   ]
  },
  {
   "cell_type": "markdown",
   "metadata": {},
   "source": [
    "`pytesmo.validation_framework.start_validation` can then be used to run your validation in parallel. \n",
    "Your setup code can look like this Ipython notebook without the loop over the jobs. Otherwise the validation would be done twice. Save it into a `.py` file e.g. `my_validation.py`.\n",
    "\n",
    "After [starting the ipyparallel cluster](http://ipyparallel.readthedocs.org/en/latest/process.html) you can then execute the following code:"
   ]
  },
  {
   "cell_type": "markdown",
   "metadata": {
    "collapsed": true
   },
   "source": [
    "```python\n",
    "from pytesmo.validation_framework import start_validation\n",
    "\n",
    "# Note that before starting the validation you must start a controller\n",
    "# and engines, for example by using: ipcluster start -n 4\n",
    "# This command will launch a controller and 4 engines on the local machine.\n",
    "# Also, do not forget to change the setup_code path to your current setup.\n",
    "\n",
    "setup_code = \"my_validation.py\"\n",
    "start_validation(setup_code)\n",
    "```"
   ]
  },
  {
   "cell_type": "markdown",
   "metadata": {},
   "source": [
    "## Masking datasets\n",
    "\n",
    "Masking datasets are datasets that return a pandas DataFrame with boolean values. `True` means that the observation should be masked, `False` means it should be kept. All masking datasets are temporally matched in pairs to the temporal reference dataset. Only observations for which all masking datasets have a value of `False` are kept for further validation.\n",
    "\n",
    "The masking datasets have the same format as the dataset dictionary and can be specified in the Validation class with the `masking_datasets` keyword.\n",
    "\n",
    "### Masking adapter\n",
    "\n",
    "To easily transform an existing dataset into a masking dataset `pytesmo` offers a adapter class that calls the `read_ts` method of an existing dataset and performs the masking based on an operator and a given threshold."
   ]
  },
  {
   "cell_type": "code",
   "execution_count": 12,
   "metadata": {
    "collapsed": false
   },
   "outputs": [
    {
     "name": "stdout",
     "output_type": "stream",
     "text": [
      "date\n",
      "2007-01-01 01:00:00    False\n",
      "2007-01-01 02:00:00    False\n",
      "2007-01-01 03:00:00    False\n",
      "2007-01-01 04:00:00    False\n",
      "2007-01-01 05:00:00    False\n",
      "Name: soil moisture, dtype: bool\n"
     ]
    }
   ],
   "source": [
    "from pytesmo.validation_framework.adapters import MaskingAdapter\n",
    "\n",
    "ds_mask = MaskingAdapter(ismn_reader, '<', 0.2)\n",
    "print ds_mask.read_ts(ids[0])['soil moisture'].head()"
   ]
  }
 ],
 "metadata": {
  "kernelspec": {
   "display_name": "Python 2",
   "language": "python",
   "name": "python2"
  },
  "language_info": {
   "codemirror_mode": {
    "name": "ipython",
    "version": 2
   },
   "file_extension": ".py",
   "mimetype": "text/x-python",
   "name": "python",
   "nbconvert_exporter": "python",
   "pygments_lexer": "ipython2",
   "version": "2.7.11"
  }
 },
 "nbformat": 4,
 "nbformat_minor": 0
}
