{
 "cells": [
  {
   "cell_type": "code",
   "execution_count": 1,
   "metadata": {
    "collapsed": true
   },
   "outputs": [],
   "source": [
    "## Notebook to measure the speed-up in using C or Fortran over Python in the scanning strategy module\n",
    "## Make sure you already compiled the fortran sources before running this test.\n",
    "## Also, weave has a problem while run inside a notebook. \n",
    "## Therefore re-run several times the cell %timeit scan_c.run() is you have compilation problems.\n",
    "\n",
    "## Long story short: x1000 speed-up using Fortran or C compared to default Python."
   ]
  },
  {
   "cell_type": "code",
   "execution_count": 2,
   "metadata": {
    "collapsed": true
   },
   "outputs": [],
   "source": [
    "## Include the path to instrument\n",
    "import sys\n",
    "import os\n",
    "import numpy as np\n",
    "sys.path.insert(0,os.path.realpath(os.path.join(os.getcwd(),'..')))\n",
    "sys.path.insert(0,os.path.realpath(os.path.join(os.getcwd(),'../s4cmb')))\n",
    "\n",
    "## See http://simonsobservatory.wikidot.com/instrument-systmodule for more informations.\n",
    "from s4cmb.scanning_strategy import ScanningStrategy\n",
    "\n",
    "scan_p = ScanningStrategy(nCES=1, start_date='2013/1/1 00:00:00',\n",
    "                          telescope_longitude='-67:46.816',\n",
    "                          telescope_latitude='-22:56.396', telescope_elevation=5200.,\n",
    "                          name_strategy='deep_patch', sampling_freq=8., sky_speed=0.4,\n",
    "                          language='python')\n",
    "scan_f = ScanningStrategy(nCES=1, start_date='2013/1/1 00:00:00',\n",
    "                          telescope_longitude='-67:46.816',\n",
    "                          telescope_latitude='-22:56.396', telescope_elevation=5200.,\n",
    "                          name_strategy='deep_patch', sampling_freq=8., sky_speed=0.4,\n",
    "                          language='fortran')\n",
    "scan_c = ScanningStrategy(nCES=1, start_date='2013/1/1 00:00:00',\n",
    "                          telescope_longitude='-67:46.816',\n",
    "                          telescope_latitude='-22:56.396', telescope_elevation=5200.,\n",
    "                          name_strategy='deep_patch', sampling_freq=8., sky_speed=0.4,\n",
    "                          language='C')"
   ]
  },
  {
   "cell_type": "code",
   "execution_count": 3,
   "metadata": {
    "collapsed": false
   },
   "outputs": [
    {
     "name": "stdout",
     "output_type": "stream",
     "text": [
      "1 loop, best of 3: 2.51 s per loop\n"
     ]
    }
   ],
   "source": [
    "%timeit scan_p.run()"
   ]
  },
  {
   "cell_type": "code",
   "execution_count": 4,
   "metadata": {
    "collapsed": false
   },
   "outputs": [
    {
     "name": "stdout",
     "output_type": "stream",
     "text": [
      "100 loops, best of 3: 2.05 ms per loop\n"
     ]
    }
   ],
   "source": [
    "%timeit scan_f.run()"
   ]
  },
  {
   "cell_type": "code",
   "execution_count": 6,
   "metadata": {
    "collapsed": false
   },
   "outputs": [
    {
     "name": "stdout",
     "output_type": "stream",
     "text": [
      "100 loops, best of 3: 2.14 ms per loop\n"
     ]
    }
   ],
   "source": [
    "%timeit scan_c.run()"
   ]
  },
  {
   "cell_type": "code",
   "execution_count": 7,
   "metadata": {
    "collapsed": false
   },
   "outputs": [],
   "source": [
    "assert np.sum(scan_p.scan0['azimuth'] == scan_f.scan0['azimuth']) == len(scan_p.scan0['azimuth'])\n",
    "assert np.sum(scan_p.scan0['azimuth'] == scan_c.scan0['azimuth']) == len(scan_p.scan0['azimuth'])"
   ]
  }
 ],
 "metadata": {
  "kernelspec": {
   "display_name": "Python 2",
   "language": "python",
   "name": "python2"
  },
  "language_info": {
   "codemirror_mode": {
    "name": "ipython",
    "version": 2
   },
   "file_extension": ".py",
   "mimetype": "text/x-python",
   "name": "python",
   "nbconvert_exporter": "python",
   "pygments_lexer": "ipython2",
   "version": "2.7.13"
  }
 },
 "nbformat": 4,
 "nbformat_minor": 1
}
