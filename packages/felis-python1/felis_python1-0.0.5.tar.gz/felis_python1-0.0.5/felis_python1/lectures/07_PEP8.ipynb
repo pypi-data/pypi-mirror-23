{
 "cells": [
  {
   "cell_type": "markdown",
   "metadata": {},
   "source": [
    "# PEP 8"
   ]
  },
  {
   "cell_type": "markdown",
   "metadata": {},
   "source": [
    "The **PEP 8** directives are a *style guide for the Python programming language*. It is an evolving collection of best-practices, advices and rules guiding you to write better Python code. The overall objective goal is write *readable* code. PEP8 doesn't affect the performance or functionality of your code.<br>\n",
    "The main authors of PEP8 are Guide van Rossum (the inventor of Python), Barry Warsaw and Nick Coghlan. The style guide was started in 2001 and is in active development status since then. This means it is being exanded and changed over time and is partly up to discussion by the community.<br>\n",
    "We will go through the PEP 8 rules in the order of a typical Python script, like used in environmental science in order to have a closer look at the most important ones."
   ]
  },
  {
   "cell_type": "markdown",
   "metadata": {},
   "source": [
    "## Document Header"
   ]
  },
  {
   "cell_type": "markdown",
   "metadata": {},
   "source": [
    "The document header are the first lines of any Python script or module. There are two important facts to keep in mind. These will be the first lines another person will read while opening your files and these are usually the lines the Python interpreter will run as the script gets called or **imported**."
   ]
  },
  {
   "cell_type": "code",
   "execution_count": 1,
   "metadata": {
    "collapsed": false
   },
   "outputs": [
    {
     "data": {
      "text/plain": [
       "'Summary of script\\n\\nThis is a longer summary of this document and \\nplease do not forget to input some line-breaks.\\n\\nRember, the interpreter will ignore anything up \\nto here and this description is for your \\ncollaborators and collegues.\\n\\nalso inclue:\\nmore info at: http://awsemoe.io/give-more-info\\n\\n'"
      ]
     },
     "execution_count": 1,
     "metadata": {},
     "output_type": "execute_result"
    }
   ],
   "source": [
    "#! /usr/bin/env python\n",
    "# -*- coding: utf-8 -*-\n",
    "\"\"\"Summary of script\n",
    "\n",
    "This is a longer summary of this document and \n",
    "please do not forget to input some line-breaks.\n",
    "\n",
    "Rember, the interpreter will ignore anything up \n",
    "to here and this description is for your \n",
    "collaborators and collegues.\n",
    "\n",
    "also inclue:\n",
    "more info at: http://awsemoe.io/give-more-info\n",
    "\n",
    "\"\"\""
   ]
  },
  {
   "cell_type": "markdown",
   "metadata": {},
   "source": [
    "### Maximum line length"
   ]
  },
  {
   "cell_type": "markdown",
   "metadata": {},
   "source": [
    "One of the most important rules is already shown above. In Python, the maximum line length is set to **79** characters per line. The maximum line length for multi-line strings and docstrings is set to **72** characters. The proper wrapping of longer lines will be introduced later on.\n",
    "<br>\n",
    "<span style='font-size: 18px; color: red; font-weight: bold'>Any script, homework, hand-in, presentation assigned from now on violating this rule will suffer point reductions.</span>"
   ]
  },
  {
   "cell_type": "markdown",
   "metadata": {},
   "source": [
    "### Imports"
   ]
  },
  {
   "cell_type": "markdown",
   "metadata": {},
   "source": [
    "The imports shall **always** be given at the document header. This keeps the requirements for one of your scrips clear, especially for one person: yourself.<br>You will find more than one advice of how to organize your imports, all of them being differntly strict. The *official* PEP 8 directive looks like:"
   ]
  },
  {
   "cell_type": "code",
   "execution_count": 3,
   "metadata": {
    "collapsed": false
   },
   "outputs": [],
   "source": [
    "import sys\n",
    "import os\n",
    "\n",
    "import numpy as np\n",
    "from pandas import DataFrame\n",
    "\n",
    "from my_script import fancy_func"
   ]
  },
  {
   "cell_type": "markdown",
   "metadata": {},
   "source": [
    "### global Variables"
   ]
  },
  {
   "cell_type": "markdown",
   "metadata": {},
   "source": [
    "After the imports, you can place global variables. These are variables that should be known in all namespaces within the script.<br>An piece of advice, especially for environmental scientists: **Putting all the content in global varibales is not a best practice. It is hard to debug and usually requires system-specific adaptions.** <br>\n",
    "Always try to limit the global variables to a minimum, wrap them into functions or use context managers. However, in case you think there is no other way around a global variable, distinguish between the script-wide global variables and application-wide global variables:"
   ]
  },
  {
   "cell_type": "code",
   "execution_count": 4,
   "metadata": {
    "collapsed": true
   },
   "outputs": [],
   "source": [
    "_my_script_wide_global_var_1 = 'foo'\n",
    "_my_script_wide_global_var_1 = 42\n",
    "\n",
    "APP_WIDE_GLOBAL_VAR = 'bar'"
   ]
  },
  {
   "cell_type": "markdown",
   "metadata": {},
   "source": [
    "### Functions & Classes"
   ]
  },
  {
   "cell_type": "markdown",
   "metadata": {},
   "source": [
    "Most of the PEP 8 directives are related to function or class definitions. Writing a proper functions includes three main parts of PEP 8:\n",
    "- whitespaces\n",
    "- comments\n",
    "- naming conventions"
   ]
  },
  {
   "cell_type": "markdown",
   "metadata": {},
   "source": [
    "some def or class specific guidelines will be shown after handling the whitespace, comments and naming conventions."
   ]
  },
  {
   "cell_type": "markdown",
   "metadata": {},
   "source": [
    "### Comments"
   ]
  },
  {
   "cell_type": "code",
   "execution_count": 5,
   "metadata": {
    "collapsed": false
   },
   "outputs": [
    {
     "name": "stdout",
     "output_type": "stream",
     "text": [
      "but not separation between one-liner and code.\n"
     ]
    }
   ],
   "source": [
    "\"\"\"\n",
    "Multi line comments go into \n",
    "the three-hyphen strings\n",
    "\n",
    "do not do it with the single line\n",
    "characters like this:\n",
    "# first line \n",
    "# second line\n",
    "\"\"\"\n",
    "\n",
    "# an one-liner is always separated by a blank line\n",
    "print('but not separation between one-liner and code.')\n",
    "\n",
    "# do not use too many inline-comments\n",
    "a = 1   # inline comment\n",
    "\n",
    "# this is unnecessary\n",
    "b = 42  # assign 42 to be\n",
    "\n",
    "# if used, better:\n",
    "b = 42  # 42 will be the answer to anything"
   ]
  },
  {
   "cell_type": "code",
   "execution_count": 3,
   "metadata": {
    "collapsed": false
   },
   "outputs": [
    {
     "name": "stdout",
     "output_type": "stream",
     "text": [
      "useless function\n",
      "    \n",
      "    This multi-line comment is a special one,\n",
      "    called a docstring. It should describe the \n",
      "    fuction in a single statement and also in \n",
      "    a longer description\n",
      "    \n",
      "    Example usage\n",
      "    -------------\n",
      "    \n",
      "    You can even give an code example in the \n",
      "    docstring:\n",
      "    The function will alwys return 42:\n",
      "    \n",
      "    special_multi_line_comment()\n",
      "    >> 42\n",
      "    \n",
      "    Parameters\n",
      "    ----------\n",
      "    :param foo: string, can be given, useless\n",
      "    :return: int, 42\n",
      "    \n"
     ]
    }
   ],
   "source": [
    "def special_multi_line_comment(foo='bar'):\n",
    "    \"\"\"useless function\n",
    "    \n",
    "    This multi-line comment is a special one,\n",
    "    called a docstring. It should describe the \n",
    "    fuction in a single statement and also in \n",
    "    a longer description\n",
    "    \n",
    "    Example usage\n",
    "    -------------\n",
    "    \n",
    "    You can even give an code example in the \n",
    "    docstring:\n",
    "    The function will alwys return 42:\n",
    "    \n",
    "    special_multi_line_comment()\n",
    "    >> 42\n",
    "    \n",
    "    Parameters\n",
    "    ----------\n",
    "    :param foo: string, can be given, useless\n",
    "    :return: int, 42\n",
    "    \"\"\"\n",
    "    return 42\n",
    "\n",
    "print(special_multi_line_comment.__doc__)\n",
    "special_multi_line_comment??"
   ]
  },
  {
   "cell_type": "markdown",
   "metadata": {},
   "source": [
    "### Function signatures and line breaks"
   ]
  },
  {
   "cell_type": "markdown",
   "metadata": {},
   "source": [
    "While variable assignment always needs the equal sign to be pre- and suffixed by a white space, keyword arguments lack these whitespaces. The different key=values pairs are separated by a whitespace after the comma.<br>\n",
    "For highly indented or very long fuction signatures, the indentation rules differ from source to source. The 'official' rules from the PEP 8 website are introduced here. Note that the official indentation are 4 whitespaces, not a tab, not 8."
   ]
  },
  {
   "cell_type": "code",
   "execution_count": null,
   "metadata": {
    "collapsed": true
   },
   "outputs": [],
   "source": [
    "# for one line break, use the first delimiter\n",
    "very_long_function_name_that_will_overflow_the_line(with_really, a_lot_of,\n",
    "                                                   arguments, in_two_lones)\n",
    "\n",
    "\n",
    "# for multiple line_break, use a config-like style by adding only one level\n",
    "very_long_function_name_that_will_overflow_the_line(\n",
    "    especially_for=keyword,\n",
    "    arguments=this_is,\n",
    "    much_better_to=read\n",
    ")\n",
    "\n",
    "def and_this_does_also_apply(\n",
    "        to_function=definitions,\n",
    "        with_too=many,\n",
    "        key_word_arguments=or_arguments):\n",
    "    pass"
   ]
  },
  {
   "cell_type": "markdown",
   "metadata": {},
   "source": [
    "### Naming convention"
   ]
  },
  {
   "cell_type": "markdown",
   "metadata": {},
   "source": [
    "First of all, one shall not confuse a *naming convention* and a *naming style*. \n",
    "\n",
    "- naming style describes a special way of formatting and naming objects while\n",
    "- a naming convention defines which style shall be used in which cases"
   ]
  },
  {
   "cell_type": "markdown",
   "metadata": {},
   "source": [
    "#### Styles"
   ]
  },
  {
   "cell_type": "markdown",
   "metadata": {},
   "source": [
    "Following https://www.python.org/dev/peps/pep-0008/#naming-conventions there are different namming conventions:\n",
    "\n",
    "- b (single lower case)\n",
    "- B (single upper case)\n",
    "- lowercase\n",
    "- lower_case_with_underscores\n",
    "- UPPERCASE\n",
    "- UPPER_CASE_WITH_UNDERSCORES\n",
    "- CapitalizedWords (or CamelCase)\n",
    "  - ABBREVStayAllUpperCase\n",
    "- mixeCase (not capitalized)\n",
    "- Capitalized_Words_With_Underscores\n",
    "\n",
    "Moreover, variable or argument names sometimes show a leading or trailing underscore, which has also a meaning.<br>\n",
    "<br>\n",
    "\\_local\\_variable will not be imported with: "
   ]
  },
  {
   "cell_type": "code",
   "execution_count": null,
   "metadata": {
    "collapsed": false
   },
   "outputs": [],
   "source": [
    "from package import *"
   ]
  },
  {
   "cell_type": "markdown",
   "metadata": {},
   "source": [
    "A trailing underscore is used to use protected words or statements in Python. Usually you should try to avoid this, but sometimes this is not possible. For example in the SQLAlchemy package there are abstract functions for database operations. There is also a function for the SQL <span style='color:blue'>OR</span>,<span style='color:blue'>IN</span> or <span style='color:blue'>AND</span>."
   ]
  },
  {
   "cell_type": "code",
   "execution_count": 7,
   "metadata": {
    "collapsed": false
   },
   "outputs": [],
   "source": [
    "from sqlalchemy import or_, and_"
   ]
  },
  {
   "cell_type": "markdown",
   "metadata": {},
   "source": [
    "#### conventions"
   ]
  },
  {
   "cell_type": "markdown",
   "metadata": {},
   "source": [
    "Generally, variable, argument, class, function and module names should be ASCII conform, avoiding special characters. On top the single lowercase character l (el) and uppercase O (oh) shall be avoided as for some font types they can't be told apart from the 1 (one) and 0 (zero)."
   ]
  },
  {
   "cell_type": "markdown",
   "metadata": {},
   "source": [
    "| type        | style              | example          |\n",
    "|-------------|--------------------|------------------|\n",
    "| class       | CamelCase          | class MyClass    |\n",
    "| Type variables | CamelCase       | AnyStr = ''      |\n",
    "| Exceptions  | CamelCase + 'Error' suffix | class MyCustomError |\n",
    "| function names | lowercase, lower\\_case\\_with\\_underscores | def short(): def long_name(): |\n",
    "| instance methods | see above; first argument always 'self' | def report(self, format): |\n",
    "| class methods | see above; first argument alwys 'cls' | @classmethod<br>def report(cls, format): |\n",
    "| constants | UPPERCASE, <br>UPPER\\_CASE\\_WTIH\\_UNDERSCORES | APP\\_PATH = os.path.dirname(\\_\\_file\\_\\_) |"
   ]
  }
 ],
 "metadata": {
  "anaconda-cloud": {},
  "kernelspec": {
   "display_name": "Python [conda env:py3-dev]",
   "language": "python",
   "name": "conda-env-py3-dev-py"
  },
  "language_info": {
   "codemirror_mode": {
    "name": "ipython",
    "version": 3
   },
   "file_extension": ".py",
   "mimetype": "text/x-python",
   "name": "python",
   "nbconvert_exporter": "python",
   "pygments_lexer": "ipython3",
   "version": "3.5.2"
  }
 },
 "nbformat": 4,
 "nbformat_minor": 2
}
