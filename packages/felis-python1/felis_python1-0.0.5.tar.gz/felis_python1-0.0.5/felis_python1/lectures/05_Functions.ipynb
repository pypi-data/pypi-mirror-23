{
 "cells": [
  {
   "cell_type": "markdown",
   "metadata": {},
   "source": [
    "# Functions"
   ]
  },
  {
   "cell_type": "markdown",
   "metadata": {},
   "source": [
    "In Python it's realy easy to define your own functions. Once defined, you can use them just like any standard Python function. By condensing functionality into a function, your code will get structured and is way more readable. Beside that this specific chunk of code can be used over and over again with way less effort. A good function is as general and abstract, that it cannot only be used in the project it was written for, but in any Python project.   \n",
    "Every Python function   is composed by some main parts: the *function name*, *signature* and the *body*. Optionally, a *return value* and *arguments* can be defined. The *arguments* are also referred to as *attributes*."
   ]
  },
  {
   "cell_type": "markdown",
   "metadata": {},
   "source": [
    "#### Syntax"
   ]
  },
  {
   "cell_type": "markdown",
   "metadata": {},
   "source": [
    "The function sytanc is as follows:   \n",
    "\n",
    "<code>\n",
    "__<span style=\"color: purple\">def</span>__ *name* __(__*attributes*__):__   \n",
    "    *body*     \n",
    "    *return value* \n",
    "</code>"
   ]
  },
  {
   "cell_type": "code",
   "execution_count": null,
   "metadata": {
    "collapsed": false
   },
   "outputs": [],
   "source": [
    "print('Hello, Wolrd!')\n",
    "print('This is Python.')"
   ]
  },
  {
   "cell_type": "markdown",
   "metadata": {},
   "source": [
    "group the two print statements into a print_all function"
   ]
  },
  {
   "cell_type": "code",
   "execution_count": null,
   "metadata": {
    "collapsed": false
   },
   "outputs": [],
   "source": [
    ""
   ]
  },
  {
   "cell_type": "markdown",
   "metadata": {},
   "source": [
    "Extend *print_all*. It should accept a user name as an attribute and should substitute the *World* in the first print call with that name. Name the new function *welcome*."
   ]
  },
  {
   "cell_type": "code",
   "execution_count": null,
   "metadata": {
    "collapsed": false
   },
   "outputs": [],
   "source": [
    ""
   ]
  },
  {
   "cell_type": "markdown",
   "metadata": {},
   "source": [
    "Using the *input* function, we could first prompt for a name and them use it in *welcome*.   \n",
    "What does make more sense: extending *welcome* or defining a second function for prompting a name and then pass it to *welcome*?"
   ]
  },
  {
   "cell_type": "code",
   "execution_count": null,
   "metadata": {
    "collapsed": false
   },
   "outputs": [],
   "source": [
    ""
   ]
  },
  {
   "cell_type": "markdown",
   "metadata": {},
   "source": [
    "Execute this function in a endlessly until the phrase <span style='color:red'>'exit'</span> or <span style='color:red'>'Exit'</span> was passed by the user."
   ]
  },
  {
   "cell_type": "code",
   "execution_count": null,
   "metadata": {
    "collapsed": false
   },
   "outputs": [],
   "source": [
    ""
   ]
  },
  {
   "cell_type": "markdown",
   "metadata": {},
   "source": [
    "#### Return Values\n"
   ]
  },
  {
   "cell_type": "markdown",
   "metadata": {},
   "source": [
    "Up to now, no of the defined functions returned a value. In Python, there is no need to define a return value in the function signature (different from C++ or Java). It's also possible to return values only conditionally or to return a varying number of values.   \n",
    "Different to *welcome* the function *greet* will **return** the 'Hello World' Phares instead of printing it."
   ]
  },
  {
   "cell_type": "code",
   "execution_count": null,
   "metadata": {
    "collapsed": false
   },
   "outputs": [],
   "source": [
    "def greet():\n",
    "    return 'Hello, World!'\n",
    "\n",
    "message = greet()\n",
    "print(message)"
   ]
  },
  {
   "cell_type": "markdown",
   "metadata": {},
   "source": [
    "Rewrite *welcome* in the style of greet. It should substitute the user name and return the result."
   ]
  },
  {
   "cell_type": "code",
   "execution_count": null,
   "metadata": {
    "collapsed": false
   },
   "outputs": [],
   "source": [
    ""
   ]
  },
  {
   "cell_type": "markdown",
   "metadata": {},
   "source": [
    "#### Arguments"
   ]
  },
  {
   "cell_type": "markdown",
   "metadata": {},
   "source": [
    "Using *input* in productive Pyhton code is very uncommon. It is quite complicated to reuse the code, as it will not always be executed in a python console. Beyond that, it's more readable to define possible inputs as attributes and function arguments as it makes debugging way easier. Then, it is up to a developer how the input value shall be obtained. The *input* function, a configuration file, a web formular, a text file or a global variable could be used to get the value for the argument.<br>\n",
    "The example below will take two number and return their sum. This is very clear and reuseable."
   ]
  },
  {
   "cell_type": "code",
   "execution_count": null,
   "metadata": {
    "collapsed": false
   },
   "outputs": [],
   "source": [
    "def sum_a_and_b(a, b):\n",
    "    return a + b\n",
    "\n",
    "print(sum_a_and_b(5, 3))"
   ]
  },
  {
   "cell_type": "markdown",
   "metadata": {},
   "source": [
    "A function argument can also be optional. Therefore a default value has to be defined in the signature. You woould call this attribute an *optinal attribute* or more pythonic: **_keyword argument_**. Without this default value, an argument is also called a *positional argument* as Python can only reference it by the passing order. Thus, one cannot mix positional and keyword arguments. Nevertheless, the keyword arguemnts can be mixed in their ordner as they can be identified by thier keyword. As a last option, you can set any keyword argument in a positional manner, but then the order matters again."
   ]
  },
  {
   "cell_type": "code",
   "execution_count": null,
   "metadata": {
    "collapsed": true
   },
   "outputs": [],
   "source": [
    "def print_arguments(arg1, arg2, arg3='Foo', arg4='Bar', g=9.81):\n",
    "    print('arg1:\\t', arg1)\n",
    "    print('arg2:\\t', arg2)\n",
    "    print('arg3:\\t', arg3)\n",
    "    print('arg4:\\t', arg4)\n",
    "    print('g:\\t', g)\n",
    "    print('-' * 14)"
   ]
  },
  {
   "cell_type": "code",
   "execution_count": null,
   "metadata": {
    "collapsed": false
   },
   "outputs": [],
   "source": [
    ""
   ]
  },
  {
   "cell_type": "markdown",
   "metadata": {},
   "source": [
    "#### locals / globals"
   ]
  },
  {
   "cell_type": "markdown",
   "metadata": {},
   "source": [
    "Another important topic for functions is variable *validity* and *life span*. A variable is *alife* until you overwrite or explicitly delete it. In case you re-assign a variable the *life span* ends, even if the variable typse stays the same. That means, the new value will allocate another position in the memory."
   ]
  },
  {
   "cell_type": "code",
   "execution_count": null,
   "metadata": {
    "collapsed": false
   },
   "outputs": [],
   "source": [
    "x = 5\n",
    "print('x = 5\\t\\tmemory address:', hex(id(x)))\n",
    "x = 6\n",
    "print('x = 6\\t\\tmemory address:', hex(id(x)))"
   ]
  },
  {
   "cell_type": "markdown",
   "metadata": {},
   "source": [
    "Additionally one can declare and assign a variable, but it may only be *valid* in specific sections of your code. These sections of validity are called **_namespace_**. Any function defines its own namespace (the function body) and any variable declared within that scope is not valid outside this namespace. Nevertheless, namespaces can be nested. Then any outer namespace is also valid *inside* the inner namespaces."
   ]
  },
  {
   "cell_type": "code",
   "execution_count": null,
   "metadata": {
    "collapsed": false
   },
   "outputs": [],
   "source": [
    "a = 5\n",
    "def f():\n",
    "    b = 3\n",
    "    print('a: ', a, 'b: ', b)\n",
    "\n",
    "# call\n",
    "f()\n",
    "b"
   ]
  },
  {
   "cell_type": "markdown",
   "metadata": {},
   "source": [
    "The running Python session also defines a namespace. This is called the *global* namespace. The built-in function <span style='color: blue'>globals</span> can be used to return the global namespace content as a <span style='color: green'>dict</span>. The <span style='color: blue'>locals</span> function does the same for the local (*inner*) namespaces."
   ]
  },
  {
   "cell_type": "code",
   "execution_count": null,
   "metadata": {
    "collapsed": false
   },
   "outputs": [],
   "source": [
    "a = 5\n",
    "print('Global a: ', globals()['a'], '\\t\\tmemory address: ', hex(id(a)))\n",
    "\n",
    "def f(b):\n",
    "    print('Local b:', locals()['b'], '\\t\\tmemory address: ', hex(id(b)))\n",
    "f(a)"
   ]
  },
  {
   "cell_type": "markdown",
   "metadata": {},
   "source": [
    "#### \\*args, \\*\\*kwargs"
   ]
  },
  {
   "cell_type": "markdown",
   "metadata": {},
   "source": [
    "Two very specific and important attributes are _\\*args_ and _\\*\\*kwargs_ attributes. You can use any name for these two variables, **but it is highly recommented to use default name to prevent confusions!**. The star is a operator that is also called the *asterisk operator*. The single operator stacks or unstacks a varying number of positional arguments into a list, while the double operator does the same thing to keyword arguments and dictionaries. For a better understanding use the function below, just returning the content of args and kwargs."
   ]
  },
  {
   "cell_type": "code",
   "execution_count": null,
   "metadata": {
    "collapsed": true
   },
   "outputs": [],
   "source": [
    "def get_attributes(*args, **kwargs):\n",
    "    return args, kwargs"
   ]
  },
  {
   "cell_type": "code",
   "execution_count": null,
   "metadata": {
    "collapsed": false
   },
   "outputs": [],
   "source": [
    "a, b = get_attributes('foo', 'bar', g=9.81, version=2.7, idiot_president='Donald Trump')\n",
    "print('args:', a)\n",
    "print('kwargs:', b)"
   ]
  },
  {
   "cell_type": "markdown",
   "metadata": {},
   "source": [
    "#### lambda"
   ]
  },
  {
   "cell_type": "markdown",
   "metadata": {},
   "source": [
    "The <span style='color: blue'>lambda</span> function is a special case, as it is an *anonymous* function. This is the only function without a function name. On the other side, <span style='color: blue'>lambda</span>s does not accept keyword arguments. <span style='color: blue'>lambda</span>s are helpful to write short auxiliary functions, or inline functions that are used as arguments themselves. The seconda field are list comprehensions."
   ]
  },
  {
   "cell_type": "code",
   "execution_count": null,
   "metadata": {
    "collapsed": false
   },
   "outputs": [],
   "source": [
    "list(map(lambda x:x**2, [1,2,3,4,5,6,7,8,9]))"
   ]
  },
  {
   "cell_type": "code",
   "execution_count": null,
   "metadata": {
    "collapsed": false
   },
   "outputs": [],
   "source": [
    "list(map(lambda x:len(x), 'This is a sentence with rather with rather short and extraordinary long words.'.split()))"
   ]
  },
  {
   "cell_type": "code",
   "execution_count": null,
   "metadata": {
    "collapsed": false
   },
   "outputs": [],
   "source": [
    "list(map(lambda x:(x,len(x)), 'This is a sentence with rather with rather short and extraordinary long words.'.split()))"
   ]
  },
  {
   "cell_type": "markdown",
   "metadata": {},
   "source": [
    "#### Returning functions"
   ]
  },
  {
   "cell_type": "markdown",
   "metadata": {},
   "source": [
    "In Python it is also possible to define a function, that will return another function. There is even a built-in function called <span style=\"color:purple\">callable</span>, taht tests python objects for being callable. *Caution*: This does still not guarantee, that the object is a function, because Python also defines callable class instances.   \n",
    "The example below could be used in a data management environment."
   ]
  },
  {
   "cell_type": "code",
   "execution_count": null,
   "metadata": {
    "collapsed": true
   },
   "outputs": [],
   "source": [
    "def mean(data):\n",
    "    return sum(data) / len(data)\n",
    "\n",
    "def get_aggregator(variable_name):\n",
    "    if variable_name.lower() == 'temperature':\n",
    "        return mean\n",
    "    elif variable_name.lower() == 'rainfall':\n",
    "        return sum"
   ]
  },
  {
   "cell_type": "code",
   "execution_count": null,
   "metadata": {
    "collapsed": false
   },
   "outputs": [],
   "source": [
    "data = [2,4,7,9,2,3,5]\n",
    "\n",
    "# Temperature data\n",
    "agg = get_aggregator('Temperature')\n",
    "print('Temperature: ', agg(data), '°C')\n",
    "agg = get_aggregator('Rainfall')\n",
    "print('Rainfall:    ', agg(data), 'mm')"
   ]
  },
  {
   "cell_type": "markdown",
   "metadata": {},
   "source": [
    "#### Recursive functions"
   ]
  },
  {
   "cell_type": "markdown",
   "metadata": {},
   "source": [
    "A recursive function calls itself in the body. This technique can dramatically decrease the code size and shifts the code often very close to mathematical algorithms, but there are also some downsides. If a 'break' condition is never met or implemented, the recursive calling will never stop. (In fact it will stop, as Python will stop it but it will also stop your code.). The other downside is the dramatical loss of performance for highly nested functions. As an example the faculty function is implemented below:\n",
    "$$\n",
    "n! = n+ (n-1)!~~~~~~~~~ n > 1, 1! = 1\n",
    "$$"
   ]
  },
  {
   "cell_type": "code",
   "execution_count": null,
   "metadata": {
    "collapsed": true
   },
   "outputs": [],
   "source": [
    "def factorial(n):\n",
    "    return n*factorial(n-1) if n > 1 else 1"
   ]
  },
  {
   "cell_type": "code",
   "execution_count": null,
   "metadata": {
    "collapsed": false
   },
   "outputs": [],
   "source": [
    ""
   ]
  },
  {
   "cell_type": "markdown",
   "metadata": {},
   "source": [
    "Now define the Fibonacci series into <span style=\"color:blue\">fibonacci\\_recursive</span> below.\n",
    "$$F_n = F_{n - 1} + F_{n - 2} $$ using the start values $F_0 = 0$ and $F_1 = 1$."
   ]
  },
  {
   "cell_type": "code",
   "execution_count": null,
   "metadata": {
    "collapsed": false
   },
   "outputs": [],
   "source": [
    "def fibonacci_iterative(n):\n",
    "    a,b = 0, 1\n",
    "    for i in range(n):\n",
    "        a,b = b, a + b\n",
    "    return a\n",
    "\n",
    "def fibonacci_recursive(n):\n",
    "    pass\n",
    "    \n",
    "print('iterative:', fibonacci_iterative(10))\n",
    "print('recursive:', fibonacci_recursive(10))"
   ]
  },
  {
   "cell_type": "code",
   "execution_count": null,
   "metadata": {
    "collapsed": false
   },
   "outputs": [],
   "source": [
    "%time fibonacci_iterative(40)\n",
    "%time fibonacci_recursive(40)"
   ]
  },
  {
   "cell_type": "markdown",
   "metadata": {
    "collapsed": true
   },
   "source": [
    "#### Nested functions"
   ]
  },
  {
   "cell_type": "markdown",
   "metadata": {},
   "source": [
    "In Python it is also possible to define a function within the namespace of another function. Just like variables, this function also has a *validity*. You can use this concept to define a very specific auxiliary function, that cannot be used in another scope just in that namespace where it is valid. Then other developers cannot misuse your function.   \n",
    "The second use case is that an outer function wants to influence the definition of the inner function. The outer will be declared as your code is imported. The inner first as the outer is **run**. Therefore anything *happening* during runtime could still influence the declaration of the inner function. Here, the default values of a model are dependent on the boundary conditions."
   ]
  },
  {
   "cell_type": "code",
   "execution_count": null,
   "metadata": {
    "collapsed": true
   },
   "outputs": [],
   "source": [
    "def get_model(arid=True):\n",
    "    if arid:\n",
    "        a = 1.2\n",
    "    else:\n",
    "        a = 1.4\n",
    "    def _model(rain, evap, a=a):\n",
    "        return (rain - evap)**a if rain > evap else 0\n",
    "    return _model"
   ]
  },
  {
   "cell_type": "code",
   "execution_count": null,
   "metadata": {
    "collapsed": false
   },
   "outputs": [],
   "source": [
    "rain_values = [3, 0, 0, 16, 4]\n",
    "evap_values = [1, 1, 5, 3, 2]\n",
    "\n",
    "print(list(map(get_model(arid=True), rain_values, evap_values)))\n",
    "print(list(map(get_model(arid=False), rain_values, evap_values)))"
   ]
  }
 ],
 "metadata": {
  "anaconda-cloud": {},
  "kernelspec": {
   "display_name": "Python [conda env:py3-dev]",
   "language": "python",
   "name": "conda-env-py3-dev-py"
  },
  "language_info": {
   "codemirror_mode": {
    "name": "ipython",
    "version": 3.0
   },
   "file_extension": ".py",
   "mimetype": "text/x-python",
   "name": "python",
   "nbconvert_exporter": "python",
   "pygments_lexer": "ipython3",
   "version": "3.5.2"
  }
 },
 "nbformat": 4,
 "nbformat_minor": 0
}