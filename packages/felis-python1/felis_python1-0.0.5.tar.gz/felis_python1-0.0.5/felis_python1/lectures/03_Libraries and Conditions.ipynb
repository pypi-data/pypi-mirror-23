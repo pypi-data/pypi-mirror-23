{
 "cells": [
  {
   "cell_type": "markdown",
   "metadata": {},
   "source": [
    "<h1><i><center>Python 1</center></i></h1>"
   ]
  },
  {
   "cell_type": "markdown",
   "metadata": {},
   "source": [
    "## Section 3"
   ]
  },
  {
   "cell_type": "markdown",
   "metadata": {},
   "source": [
    "### Native Libraries"
   ]
  },
  {
   "cell_type": "markdown",
   "metadata": {},
   "source": [
    "In Python we have lots of functions that are available for usage directly. That's what we saw last section when we talked about Built-in functions. However, there are some functions we need, which are not available right away. In this case, we need to import them, like you did in the second section with the math library. "
   ]
  },
  {
   "cell_type": "code",
   "execution_count": null,
   "metadata": {
    "collapsed": true
   },
   "outputs": [],
   "source": [
    "'''The first thing to do, is to use the 'import' built-in function to\n",
    "make specific libraries available for usage. The 'import' function can\n",
    "be used in different aways. Let's see a few of them.'''\n",
    "\n",
    "# Let's use the math package that you already know\n",
    "import math                 #simple way to do it\n",
    "import math as mt           #import library with shorter name\n",
    "from math import sqrt       #import specific functions from a library\n",
    "from math import sqrt as sq #import specific functions from a library in abbreviated format\n",
    "from math import *          #import everything inside a library \n",
    "\n",
    "# But what is the difference between them?"
   ]
  },
  {
   "cell_type": "code",
   "execution_count": null,
   "metadata": {
    "collapsed": false
   },
   "outputs": [],
   "source": [
    "#Sandbox"
   ]
  },
  {
   "cell_type": "markdown",
   "metadata": {},
   "source": [
    "#### math"
   ]
  },
  {
   "cell_type": "code",
   "execution_count": null,
   "metadata": {
    "collapsed": false
   },
   "outputs": [],
   "source": [
    "# So, let's use some functions from math library\n",
    "import math\n",
    "\n",
    "#Square Root\n",
    "n = input('Enter a value: ')\n",
    "print 'The square root of {} is {}'.format(n,math.sqrt(n))"
   ]
  },
  {
   "cell_type": "code",
   "execution_count": null,
   "metadata": {
    "collapsed": false
   },
   "outputs": [],
   "source": [
    "# Trigonometry\n",
    "\n",
    "n = input('Enter a value: ')\n",
    "print 'The sine of {} is {}'.format(n,math.sin(n))\n",
    "print 'The cossine of {} is {}'.format(n,math.cos(n))\n",
    "print 'The tangent of {} is {}'.format(n,math.tan(n))"
   ]
  },
  {
   "cell_type": "code",
   "execution_count": null,
   "metadata": {
    "collapsed": false
   },
   "outputs": [],
   "source": [
    "# Log\n",
    "n = input('Enter a value: ')\n",
    "print 'The natural logarithm of {} is {}'.format(n,math.log(n))\n",
    "print 'The base-10 logarithm of {} is {}'.format(n,math.log10(n))"
   ]
  },
  {
   "cell_type": "code",
   "execution_count": null,
   "metadata": {
    "collapsed": false
   },
   "outputs": [],
   "source": [
    "# Constants\n",
    "print 'The constant pi is equal to {}.'.format(math.pi)\n",
    "# Euler's number: the unique number whose natural logarithm is equal to one.\n",
    "print 'The constant e is equal to {}.'.format(math.e)"
   ]
  },
  {
   "cell_type": "markdown",
   "metadata": {},
   "source": [
    "That are other calculations that can be performed. However, it is necessary to have some data structure. We will see that again in further sections."
   ]
  },
  {
   "cell_type": "markdown",
   "metadata": {},
   "source": [
    "#### os"
   ]
  },
  {
   "cell_type": "code",
   "execution_count": null,
   "metadata": {
    "collapsed": true
   },
   "outputs": [],
   "source": [
    "# Let's import the library first\n",
    "import os"
   ]
  },
  {
   "cell_type": "code",
   "execution_count": null,
   "metadata": {
    "collapsed": false
   },
   "outputs": [],
   "source": [
    "# getcwd and chdir\n",
    "# this function sets your home directory\n",
    "\n",
    "path = r\"C:\\Users\\Pereira\\Desktop\"\n",
    "print 'Former working environment:',os.getcwd()# get the path ot the current working directory\n",
    "os.chdir(path)\n",
    "print 'Current working environment:',os.getcwd()"
   ]
  },
  {
   "cell_type": "code",
   "execution_count": null,
   "metadata": {
    "collapsed": false
   },
   "outputs": [],
   "source": [
    "# mkdir\n",
    "# this functions creates a new folder in the working environment\n",
    "path = r\"second_folder\"\n",
    "os.mkdir(path)"
   ]
  },
  {
   "cell_type": "code",
   "execution_count": null,
   "metadata": {
    "collapsed": true
   },
   "outputs": [],
   "source": [
    "# rename\n",
    "path = r\"C:\\Users\\Pereira\\Desktop\\first_folder\"\n",
    "os.rename(path, 'New_name')"
   ]
  },
  {
   "cell_type": "code",
   "execution_count": null,
   "metadata": {
    "collapsed": false
   },
   "outputs": [],
   "source": [
    "# remove\n",
    "# deletes the file that was just created\n",
    "path = r\"C:\\Users\\Pereira\\Desktop\\New_name\"\n",
    "os.removedirs(path)"
   ]
  },
  {
   "cell_type": "code",
   "execution_count": null,
   "metadata": {
    "collapsed": true
   },
   "outputs": [],
   "source": [
    "# open\n",
    "string = 'Python is awesome!!'\n",
    "file_ = open('test.txt', 'w')\n",
    "file_.write(string)\n",
    "file_.close()"
   ]
  },
  {
   "cell_type": "code",
   "execution_count": null,
   "metadata": {
    "collapsed": false
   },
   "outputs": [],
   "source": [
    "# remove\n",
    "path = r\"C:\\Users\\Pereira\\Desktop\\test.txt\"\n",
    "os.remove(path)"
   ]
  },
  {
   "cell_type": "code",
   "execution_count": null,
   "metadata": {
    "collapsed": false
   },
   "outputs": [],
   "source": [
    "# read\n",
    "file_ = open('test.txt', 'r')\n",
    "print file_.read()\n",
    "file_.close() # very important"
   ]
  },
  {
   "cell_type": "code",
   "execution_count": null,
   "metadata": {
    "collapsed": true
   },
   "outputs": [],
   "source": [
    "# append\n",
    "string = '\\nIt really is!!'\n",
    "file_ = open('test.txt', 'a')\n",
    "file_.write(string)\n",
    "file_.close()"
   ]
  },
  {
   "cell_type": "markdown",
   "metadata": {},
   "source": [
    "<body>\n",
    "<b>The os.open function has different modes in order to do different things.</b>\n",
    "<p>‘r’ – Read mode which is used when the file is only being read </p>\n",
    "<p></p>\n",
    "<p>‘w’ – Write mode which is used to edit and write new information to the file (any existing files with the same name will be erased when this mode is activated)</p> \n",
    "<p></p>\n",
    "<p>‘a’ – Appending mode, which is used to add new data to the end of the file; that is new information is automatically amended to the end</p> \n",
    "<p></p>\n",
    "<p>‘r+’ – Special read and write mode, which is used to handle both actions when working with a file</p>"
   ]
  },
  {
   "cell_type": "code",
   "execution_count": null,
   "metadata": {
    "collapsed": false
   },
   "outputs": [],
   "source": [
    "# listdir\n",
    "# provide a list of files in a determined path given\n",
    "path = r'F:\\Joao\\Dropbox\\Python_I\\02_SS_2017\\material\\exercises'\n",
    "os.listdir(path)"
   ]
  },
  {
   "cell_type": "markdown",
   "metadata": {},
   "source": [
    "#### glob"
   ]
  },
  {
   "cell_type": "code",
   "execution_count": null,
   "metadata": {
    "collapsed": false
   },
   "outputs": [],
   "source": [
    "from glob import glob\n",
    "paths = glob(r'F:\\Joao\\Dropbox\\Python_I\\02_SS_2017\\material\\exercises\\*1.docx')\n",
    "# Don't worry if you don't get that. We will talk about it next section.\n",
    "for path in paths:\n",
    "    print path"
   ]
  },
  {
   "cell_type": "markdown",
   "metadata": {},
   "source": [
    "#### time"
   ]
  },
  {
   "cell_type": "code",
   "execution_count": null,
   "metadata": {
    "collapsed": false
   },
   "outputs": [],
   "source": [
    "import time\n",
    "print 'GMT time\\n',time.gmtime()\n",
    "print '\\nLocal time\\n',time.localtime()"
   ]
  },
  {
   "cell_type": "code",
   "execution_count": null,
   "metadata": {
    "collapsed": false
   },
   "outputs": [],
   "source": [
    "time.asctime()"
   ]
  },
  {
   "cell_type": "code",
   "execution_count": null,
   "metadata": {
    "collapsed": false
   },
   "outputs": [],
   "source": [
    "time.strftime(\"%a, %d %b %Y %H:%M:%S +0000\", time.gmtime())\n",
    "# https://docs.python.org/2/library/time.html#time.strftime"
   ]
  },
  {
   "cell_type": "code",
   "execution_count": null,
   "metadata": {
    "collapsed": false
   },
   "outputs": [],
   "source": [
    "time.gmtime()"
   ]
  },
  {
   "cell_type": "markdown",
   "metadata": {},
   "source": [
    "### datetime"
   ]
  },
  {
   "cell_type": "code",
   "execution_count": null,
   "metadata": {
    "collapsed": false
   },
   "outputs": [],
   "source": [
    "from datetime import datetime\n",
    "startTime = datetime.now()\n",
    "len(str(2**10000000))\n",
    "print datetime.now() - startTime"
   ]
  },
  {
   "cell_type": "markdown",
   "metadata": {},
   "source": [
    "#### random"
   ]
  },
  {
   "cell_type": "code",
   "execution_count": null,
   "metadata": {
    "collapsed": false
   },
   "outputs": [],
   "source": [
    "import random\n",
    "random.randint(0,100)"
   ]
  },
  {
   "cell_type": "markdown",
   "metadata": {},
   "source": [
    "### Conditions\n"
   ]
  },
  {
   "cell_type": "markdown",
   "metadata": {},
   "source": [
    "Conditions are already pretty well known, having the common sysntax 'if' and 'else'. In Python that is not different, but with the addition of another one called 'elif'. Now let's see how to use it in Python. But before we talk about conditions, we have to adress operators and boolean variables.\n",
    "In Python we have operators, which can be represented by:\n",
    " - equal (=)\n",
    " - comparison (==)\n",
    " - bigger than (>)\n",
    " - smaller than (<)\n",
    " - bigger or equal than (>=)\n",
    " - smaller or equal than (<=)\n",
    " - different than (!=)\n",
    "\n",
    "When these operators are used, a boolean (True or False) variable is generated. Let's have a look. "
   ]
  },
  {
   "cell_type": "code",
   "execution_count": null,
   "metadata": {
    "collapsed": false
   },
   "outputs": [],
   "source": [
    "print 4 > 2\n",
    "print 2 < 3.7\n",
    "print 2 > 5\n",
    "print 2 == 7 # Be careful here\n",
    "print 5 == 5 # Be careful here"
   ]
  },
  {
   "cell_type": "markdown",
   "metadata": {},
   "source": [
    "When working with 'if' and 'else' statements, conditions are assessed generating boolean variables as result. Let's see."
   ]
  },
  {
   "cell_type": "code",
   "execution_count": null,
   "metadata": {
    "collapsed": false
   },
   "outputs": [],
   "source": [
    "a = 4\n",
    "b = 'Python'\n",
    "if a == b: # watch the obligatory element ':'\n",
    "    print 'Variable a is equal variable b.'\n",
    "else: # watch the obligatory element ':'\n",
    "    print 'Variable a is different than variable b.'"
   ]
  },
  {
   "cell_type": "code",
   "execution_count": null,
   "metadata": {
    "collapsed": false
   },
   "outputs": [],
   "source": [
    "if a != b: # watch the obligatory element ':'\n",
    "    print 'Variable a is different than variable b.'\n",
    "else: # watch the obligatory element ':'\n",
    "    print 'Variable a is equal variable b.'"
   ]
  },
  {
   "cell_type": "code",
   "execution_count": null,
   "metadata": {
    "collapsed": false
   },
   "outputs": [],
   "source": [
    "b = 'Python'\n",
    "if 'P' in b: # Try changing the letter 'y'\n",
    "    print 'Yes, \"p\" is in {}.'.format(b)\n",
    "else:\n",
    "    print 'No, \"p\" isn\\'t in {}.'.format(b) # Have you asked yourself why this '\\' is there?"
   ]
  },
  {
   "cell_type": "markdown",
   "metadata": {},
   "source": [
    "Now, let's take a look how to use the 'elif'. Working with intervals is a good way to understand it."
   ]
  },
  {
   "cell_type": "code",
   "execution_count": null,
   "metadata": {
    "collapsed": false
   },
   "outputs": [],
   "source": [
    "# The 'elif' functions allows us to add extra conditions to our if statement.\n",
    "a = 5\n",
    "b = 2\n",
    "\n",
    "if a > b:\n",
    "    print 'The variable a is bigger than the variable b.'\n",
    "elif a < b:\n",
    "    print 'The variable a is smaller than the variable b.'\n",
    "else:\n",
    "    print 'The variable a is equal to the variable b.'"
   ]
  },
  {
   "cell_type": "code",
   "execution_count": null,
   "metadata": {
    "collapsed": false
   },
   "outputs": [],
   "source": [
    "# Let's make the example before a bit better by asking the user for the numbers\n",
    "a = input('Provide a number: ')\n",
    "b = input('Provide a second number: ')\n",
    "\n",
    "if a > b:\n",
    "    print '{} in bigger than {}.'.format(a,b)\n",
    "elif a < b:\n",
    "    print '{} is smaller than {}.'.format(a,b)\n",
    "else:\n",
    "    print '{} is equal to {}.'.format(a,b)"
   ]
  },
  {
   "cell_type": "code",
   "execution_count": null,
   "metadata": {
    "collapsed": false
   },
   "outputs": [],
   "source": [
    "# Task 01: ask the user for a number and use a if statement to see if this number is even or uneven\n",
    "a = input('Please, enter a number: ')\n",
    "if a%2==0:\n",
    "    print 'The number {} is even.'.format(a)\n",
    "else:\n",
    "    print 'The number {} is odd.'.format(a)"
   ]
  },
  {
   "cell_type": "code",
   "execution_count": 73,
   "metadata": {
    "collapsed": false
   },
   "outputs": [
    {
     "name": "stdout",
     "output_type": "stream",
     "text": [
      "Guess a number between 0 and 20: 17\n",
      "Great!! You won!!\n"
     ]
    }
   ],
   "source": [
    "# Task 02: create a game that asks the user for a number. Then, tell the user if he/she won the game.\n",
    "a = input('Guess a number between 0 and 20: ')\n",
    "number = 17\n",
    "if a==number:\n",
    "    print 'Great!! You won!!'\n",
    "else:\n",
    "    print 'Haha...You lost!! =)'"
   ]
  },
  {
   "cell_type": "code",
   "execution_count": 74,
   "metadata": {
    "collapsed": false
   },
   "outputs": [
    {
     "name": "stdout",
     "output_type": "stream",
     "text": [
      "Login: 6254287\n",
      "Password: 7659374\n",
      "Your login and password are wrong. Try again!!\n"
     ]
    }
   ],
   "source": [
    "# Task 03: create a login/password system where \n",
    "# you ask the user for his/her login and password. \n",
    "# If either password or login are wrong, print \n",
    "# a message with an error.\n",
    "login = raw_input('Login: ')\n",
    "passw = raw_input('Password: ')\n",
    "Login = 'user'\n",
    "Passw = 'admin'\n",
    "if login == Login and passw==Passw:\n",
    "    print 'Access granted!'\n",
    "elif login != Login and passw==Passw:\n",
    "    print 'Your login is wrong. Try again!!'\n",
    "elif login == Login and passw!=Passw:\n",
    "    print 'Your password is wrong. Try again!!'\n",
    "else:\n",
    "    print 'Your login and password are wrong. Try again!!'"
   ]
  },
  {
   "cell_type": "code",
   "execution_count": 81,
   "metadata": {
    "collapsed": false
   },
   "outputs": [
    {
     "name": "stdout",
     "output_type": "stream",
     "text": [
      "['Today', 'we', 'are', 'learning', 'something']\n",
      "The sentence is not valid.\n"
     ]
    }
   ],
   "source": [
    "# Task 04: write a code that asks for the user to write a sentence.\n",
    "# If the sentence has more then 10 words, print a message that the\n",
    "# sentence is valid. If the sentence has between 5 and 10, print a\n",
    "# message that the sentence is short but can be used. If the sentence\n",
    "# is less then 5, print a message that the setence is too short and\n",
    "# won't be used. Use the 'string.split()' function to help you with that.\n",
    "#string = 'Today we are learning about native functions and conditions in Python.'.split()\n",
    "#string = 'Today we are learning about native functions'.split()\n",
    "string = 'Today we are learning something'.split()\n",
    "\n",
    "if len(string)>=10:\n",
    "    print 'The sentence is valid.'\n",
    "elif len(string)>5 and len(string)<10:\n",
    "    print 'The sentence is short, but valid.'\n",
    "else:\n",
    "    print 'The sentence is not valid.'"
   ]
  },
  {
   "cell_type": "code",
   "execution_count": 84,
   "metadata": {
    "collapsed": false
   },
   "outputs": [
    {
     "name": "stdout",
     "output_type": "stream",
     "text": [
      "Please provide a value to convert. Please provide the input like US$ 23,12 or EUR 23,12: 23,14\n",
      "The value entered is invalid. Please try again.\n"
     ]
    }
   ],
   "source": [
    "# Task 05: create a coin conversion tool. Ask the user to provide a value \n",
    "# either in dollars or euros in a specific format (US$ XX,XX or EUR XX,XX)  \n",
    "# and then convert it to the other option.\n",
    "# For example: \n",
    "#       user's value: US$ XX,XX\n",
    "#       other option: EUR XX,XX\n",
    "# Your tool must recognize automatically the type of coin entered and then\n",
    "# convert the value using the rates:\n",
    "#       1 dollar = 0,919 EUR\n",
    "#       1 EUR = 1,088 dollar\n",
    "# Print the final result in a nice format. For example:\n",
    "# US$ XX,XX in euros is EUR XX,XX. or EUR XX,XX in dollars is US$ XX,XX.\n",
    "###########################################################################\n",
    "\n",
    "m = raw_input('Please provide a value to convert. Please provide the input like US$ 23,12 or EUR 23,12: ')\n",
    "m_ = float(m[4:].replace(',','.'))\n",
    "\n",
    "if m[:3]=='US$':\n",
    "    print 'US$ {} in euros is EUR {}.'.format(m[4:], m_*1.088)\n",
    "elif m[:3]=='EUR':\n",
    "    print 'EUR {} in dollars is US$ {}.'.format(m[4:], m_*0.919)\n",
    "else:\n",
    "    print 'The value entered is invalid. Please try again.'"
   ]
  },
  {
   "cell_type": "markdown",
   "metadata": {},
   "source": [
    "Python still have other operators called 'not', 'and' and 'or' (NAO). An easy way to understand is to use boolean variables. Let's try."
   ]
  },
  {
   "cell_type": "code",
   "execution_count": 85,
   "metadata": {
    "collapsed": false
   },
   "outputs": [
    {
     "name": "stdout",
     "output_type": "stream",
     "text": [
      "True and True is True\n",
      "0 and True is False\n",
      "False and False is False\n",
      "True or True is True\n",
      "1 or 0 is True\n",
      "0 or False is False\n",
      "not True is False\n",
      "not 0 is True\n"
     ]
    }
   ],
   "source": [
    "# Let's compare True and False using the operators.\n",
    "print 'True and True is',True and True\n",
    "print '0 and True is',False and True\n",
    "print 'False and False is',False and False\n",
    "print 'True or True is',True or True\n",
    "print '1 or 0 is',False or True\n",
    "print '0 or False is',False or False\n",
    "print 'not True is',not True\n",
    "print 'not 0 is',not False"
   ]
  },
  {
   "cell_type": "code",
   "execution_count": 86,
   "metadata": {
    "collapsed": false
   },
   "outputs": [
    {
     "name": "stdout",
     "output_type": "stream",
     "text": [
      "True and not True is False\n",
      "True and False or True is True\n",
      "not True or True and not True and True is False\n"
     ]
    }
   ],
   "source": [
    "# You can also combine them.\n",
    "print 'True and not True is',True and not True\n",
    "print 'True and False or True is',True and False or True\n",
    "print 'not True or True and not True and True is', not True or True and not True and True"
   ]
  },
  {
   "cell_type": "raw",
   "metadata": {},
   "source": [
    "####### Booleans and Operators#######\n",
    "\n",
    "But how the hell does that work? How is it possible that a string with only Trues ('not True or True and not True and True') turns out as False?\n",
    "\n",
    "Just like math when working with subtraction, addition, multplication and division, with 'not', 'and', 'or' or NAO, there is an specific order to analyse the operators. By now you might have guessed already, but if you didn't, the order is 'not', then 'and' then 'or'. Let see an example:\n",
    "\n",
    "True and not True or False and True or False and not False and not True or False and True or not False and True\n",
    "\n",
    "We have to start with 'not', so let's isolate only 'not' using brackets.\n",
    "\n",
    "True and (not True) or False and True or False and (not False) and (not True) or False and True or (not False) and True\n",
    "True and   False    or False and True or False and     True    and    False   or False and True or     True    and True\n",
    "\n",
    "Now we go to 'and'.\n",
    "\n",
    "(True and False) or (False and True) or ((False and True) and False) or (False and True) or (True and True)\n",
    "     False       or       False      or             False            or       False      or      True\n",
    "\n",
    "Finally, we analyse the 'or'.\n",
    "\n",
    "False or False or False or False or True = True"
   ]
  },
  {
   "cell_type": "code",
   "execution_count": 87,
   "metadata": {
    "collapsed": false
   },
   "outputs": [
    {
     "data": {
      "text/plain": [
       "True"
      ]
     },
     "execution_count": 87,
     "metadata": {},
     "output_type": "execute_result"
    }
   ],
   "source": [
    "True and not True or False and True or False and not False and not True or False and True or not False and True"
   ]
  },
  {
   "cell_type": "code",
   "execution_count": 88,
   "metadata": {
    "collapsed": false
   },
   "outputs": [
    {
     "name": "stdout",
     "output_type": "stream",
     "text": [
      "Hell yeah python is awesome \\o/\n"
     ]
    }
   ],
   "source": [
    "# Operator can also be used in if statements\n",
    "string = 'Python'\n",
    "statement = 'Python is awesome!!'\n",
    "if string not in statement:\n",
    "    print 'Something went wrong!!'\n",
    "else:\n",
    "    print 'Hell yeah python is awesome \\o/'"
   ]
  },
  {
   "cell_type": "markdown",
   "metadata": {},
   "source": [
    "For the next episode of Python 1...\n",
    "\n",
    "you will have a journey through:\n",
    "- loops (while and for)\n",
    "- list comprehentions\n",
    "- a loooot of exercises"
   ]
  },
  {
   "cell_type": "markdown",
   "metadata": {},
   "source": [
    "<h1><i><center>To be continued...</center></i></h1>"
   ]
  }
 ],
 "metadata": {
  "anaconda-cloud": {},
  "kernelspec": {
   "display_name": "Python [Root]",
   "language": "python",
   "name": "Python [Root]"
  },
  "language_info": {
   "codemirror_mode": {
    "name": "ipython",
    "version": 2.0
   },
   "file_extension": ".py",
   "mimetype": "text/x-python",
   "name": "python",
   "nbconvert_exporter": "python",
   "pygments_lexer": "ipython2",
   "version": "2.7.11"
  }
 },
 "nbformat": 4,
 "nbformat_minor": 0
}