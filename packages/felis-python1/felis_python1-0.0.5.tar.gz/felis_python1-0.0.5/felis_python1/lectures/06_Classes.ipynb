{
 "cells": [
  {
   "cell_type": "markdown",
   "metadata": {},
   "source": [
    "# Classes"
   ]
  },
  {
   "cell_type": "markdown",
   "metadata": {},
   "source": [
    "One of the main features in the Python programming language is its **_object oriented_** structure. Thus, beside procedual programming (*scripting*) it's also possible to use Python for object oriented Programming (OOP).   \n",
    "In a nutshell, everything in Python is an object and can be understood as an **_instance_** of a specific *class*. Therefore, a class is like a blueprint of how an object is structured and how it should behave. With that in mind, learning to write your own custom classes means implementing more or less any functionality into Python that you can think of. Nowadays, there is hardly anything in the field of information science, that is not implemented in Python."
   ]
  },
  {
   "cell_type": "markdown",
   "metadata": {},
   "source": [
    "Let's have a look at some of the *objects*."
   ]
  },
  {
   "cell_type": "code",
   "execution_count": null,
   "metadata": {
    "collapsed": false
   },
   "outputs": [],
   "source": [
    "f = open('afile.txt', 'w')\n",
    "print(f)\n",
    "print(f.__class__)\n",
    "print(type(f))\n",
    "print(f.readline)\n",
    "f.close()"
   ]
  },
  {
   "cell_type": "markdown",
   "metadata": {
    "collapsed": true
   },
   "source": [
    "The *file object* is already implemented in Python, just like thousands of other classes, therefore we do not have to bother with reading and writing files in Pthon. Therefore, let's have a look at defining our own classes.   \n",
    "A class can be defined using the <span style=\"color: green\">class</span> statement followed by a *class name*. This is very similar to <span style=\"color: green\">def</span>. Everything inside the *class namespace* is now part of that class. The shortest possible class does now define nothing inside the namespace (and will therefore have no attributes and no functionality). Nevertheless, it can be *instantiated* and a *reference* to the *class instance* can be assigned to a variable."
   ]
  },
  {
   "cell_type": "code",
   "execution_count": null,
   "metadata": {
    "collapsed": false
   },
   "outputs": [],
   "source": [
    "# define class\n",
    "class Car:\n",
    "    pass\n",
    "\n",
    "# create two instances\n",
    "vw = Car()\n",
    "audi= Car()\n",
    "\n",
    "print('vw: ', type(vw), 'audi: ', type(audi))\n",
    "print('vw: ', vw.__class__, 'audi: ', audi.__class__)\n",
    "print('vw: ', str(vw), 'audi: ', str(audi))"
   ]
  },
  {
   "cell_type": "markdown",
   "metadata": {},
   "source": [
    "#### Methods"
   ]
  },
  {
   "cell_type": "markdown",
   "metadata": {},
   "source": [
    "The shown class <span style='color: blue'>Car</span> is not really useful. But we can define functions *inside* the class namespace. These functions are called **_methods_**. To be correct here: they are called *instance methods* and should not be confused with *class methods*, which will not be covered here.   \n",
    "Although, we did not define methods so far, there are already some methods assigned to <span style='color: blue'>Car</span>, which Python created for us. These very generic methods handle the return of the  <span style=\"color: green\">type</span> or <span style=\"color: green\">str</span> function if invoked on a <span style='color: blue'>Car</span> instance.   \n",
    "We will first focus on a special method, the **\\_\\_init\\_\\_**. This method is already defined, but doesn't do anything. But we can do that and fill the method. It will be called on object instantiation. This way we can set default values and define what a <span style='color: blue'>Car</span> instance should look like after creation.   "
   ]
  },
  {
   "cell_type": "markdown",
   "metadata": {},
   "source": [
    "Let's define an actual speed and maximum speed for our car, because this is what a car needs."
   ]
  },
  {
   "cell_type": "code",
   "execution_count": null,
   "metadata": {
    "collapsed": false
   },
   "outputs": [],
   "source": [
    "# redefine class\n",
    "class Car:\n",
    "    def __init__(self):\n",
    "        self.speed = 0\n",
    "        self.max_speed = 100\n",
    "\n",
    "# create two instances\n",
    "vw = Car()\n",
    "audi = Car()\n",
    "print('vw: speed: %d max speed: %d' % (vw.speed, vw.max_speed))\n",
    "print('audi: speed: %d max speed: %d' % (audi.speed, audi.max_speed))\n",
    "\n",
    "audi.max_speed = 250\n",
    "audi.speed = 260\n",
    "vw.speed = - 50.4\n",
    "\n",
    "print('vw: speed: %d max speed: %d' % (vw.speed, vw.max_speed))\n",
    "print('audi: speed: %d max speed: %d' % (audi.speed, audi.max_speed))"
   ]
  },
  {
   "cell_type": "markdown",
   "metadata": {},
   "source": [
    "This is better, but still somehow wrong. A car should not be allowed to drive faster than the maximum possible speed. A Volkswagen might not be the best car in the world, but it can do definitely better than negative speeds. A better approach would be to define some methods for accelerating and decelerating the car.<br>\n",
    "Define two methods *accelerate* and *decelerate* that accept a value and set the new speed for the car. Prevent the car from negative speeds and stick to the maximum speed."
   ]
  },
  {
   "cell_type": "code",
   "execution_count": null,
   "metadata": {
    "collapsed": false
   },
   "outputs": [],
   "source": [
    "# redefine class\n",
    "class Car:\n",
    "   pass \n",
    "   \n",
    "vw = Car()\n",
    "print(vw.speed)\n",
    "vw.accelerate(60)\n",
    "print(vw.speed)\n",
    "vw.accelerate(45)\n",
    "print(vw.speed)\n",
    "vw.decelerate(10)\n",
    "print(vw.speed)\n",
    "vw.decelerate(2000)\n",
    "print(vw.speed)"
   ]
  },
  {
   "cell_type": "markdown",
   "metadata": {},
   "source": [
    "#### Magic Methods"
   ]
  },
  {
   "cell_type": "markdown",
   "metadata": {},
   "source": [
    "Maybe you recognized the two underscores in the **\\_\\_init\\_\\_** method. A defined set of function names following this name pattern are called *magic methods* in Python, because they are influcencing the object behaviour using magic. Beside **\\_\\_init\\_\\_** two other very important magic methods are **\\_\\_repr\\_\\_** and **\\_\\_str\\_\\_**. <br>\n",
    "The return value of **\\_\\_str\\_\\_** defines the string representation of the object instance. This way you can define the return value whenever <span style=\"color: green\">str</span> is called on an object instance. The **\\_\\_repr\\_\\_** method is very similar, but returns the *object* representation. Whenever possible, the object shall be recoverable from this returned string. However, with most custom classes this is not easily possible and **\\_\\_repr\\_\\_** shall return a one line string that clearly identifies the object **instance**. This is really useful for debugging your code."
   ]
  },
  {
   "cell_type": "code",
   "execution_count": null,
   "metadata": {
    "collapsed": false
   },
   "outputs": [],
   "source": [
    "print('str(vw) old:' , str(vw))\n",
    "\n",
    "class Car:\n",
    "    pass\n",
    "    \n",
    "\n",
    "vw = Car()\n",
    "vw.accelerate(45)\n",
    "print('str(vw) new:', str(vw))"
   ]
  },
  {
   "cell_type": "markdown",
   "metadata": {},
   "source": [
    "Using these functions, almost any behaviour of the <span style='color: blue'>Car</span> instance can be influenced. \n",
    "Imagine you are using it in a conditional statement and test two instances for equality or if one instance is *bigger* than the other one.<br>\n",
    "  \n",
    "  * Are these two variables equal if they reference *exactly* the same instance?\n",
    "  * Are they equal in case they are of the same *model*\n",
    "  * Is one instance *bigger* in case it's actually faster?\n",
    "  * or has the higher maximum speed?\n",
    "\n",
    "Let's define a new attribute *model*, which is requested by **\\_\\_init\\_\\_** as an argument. Then the magic method **\\_\\_eq\\_\\_** can be used to check the models of the two instances.<br>\n",
    "The **\\_\\_eq\\_\\_** method can be defined like: **\\_\\_eq\\_\\_(self, other)** and return either <span style='color: green'>True</span> or <span style='color: green'>False</span>."
   ]
  },
  {
   "cell_type": "code",
   "execution_count": null,
   "metadata": {
    "collapsed": false
   },
   "outputs": [],
   "source": [
    "class Car:\n",
    "    pass\n",
    "\n",
    "vw = Car('vw')\n",
    "vw2 = Car('vw')\n",
    "audi = Car('audi')\n",
    "\n",
    "print('vw equals vw2?   ',vw == vw2)\n",
    "print('vw equals vw?    ',vw == vw)\n",
    "print('vw equals audi?  ', vw == audi)\n",
    "print('is vw exactly 9? ', vw == 9)"
   ]
  },
  {
   "cell_type": "markdown",
   "metadata": {},
   "source": [
    "#### private methods and attributes"
   ]
  },
  {
   "cell_type": "markdown",
   "metadata": {},
   "source": [
    "The <span style='color: blue'>Car</span> class has two methods which are meant to be used for mainpulating the actual speed. Nevertheless, one could directly assign new values, even of other types than integers, to the speed and max\\_speed attribute. Thus, one would call these attributes *public* attributes, just like *accelerate* and *decelerate* are *public methods*. This implies to other developers, *'It's ok to directly use these attributes and methods, that's why I putted them there.'*"
   ]
  },
  {
   "cell_type": "code",
   "execution_count": null,
   "metadata": {
    "collapsed": false
   },
   "outputs": [],
   "source": [
    "vw = Car('audi')\n",
    "print('Speed: ', vw.speed)\n",
    "vw.speed = 900\n",
    "print('Speed: ', vw.speed)\n",
    "vw.speed = -11023048282\n",
    "print('Speed: ', vw.speed)\n",
    "vw.speed = Car('vw')\n",
    "print('Speed: ', vw.speed)"
   ]
  },
  {
   "cell_type": "markdown",
   "metadata": {},
   "source": [
    "Consequently, we want to protect this attribute from access from outside the class itself. Other languages use the keyword <span style=\"color: blue\">private</span> to achieve this. Here, Python is not very explicit, as it does not define a keyword or statement for this. You'll have to prefix your attribute or method name with double underscores. Renaming *Car.speed* to *Car.\\_\\_speed* will therefore not work like shown above."
   ]
  },
  {
   "cell_type": "markdown",
   "metadata": {},
   "source": [
    "As the user or other developers cannot access the speed anymore, we have to offer a new interface for accessing this attribute. We could either define a method *getSpeed* returning the actual speed or implement a so called *property*. This will be introduced in a later shown example.<br>\n",
    "**Note:** Some jupyter notebooks allow accessing a protected attribute, but your Python console won't allow this."
   ]
  },
  {
   "cell_type": "code",
   "execution_count": null,
   "metadata": {
    "collapsed": false
   },
   "outputs": [],
   "source": [
    "class Car:\n",
    "    pass\n",
    "\n",
    "\n",
    "vw = Car('vw')\n",
    "vw.accelerate(45)\n",
    "print(vw)\n",
    "vw.decelerate(20)\n",
    "print(vw)\n",
    "print(vw.getSpeed())"
   ]
  },
  {
   "cell_type": "markdown",
   "metadata": {},
   "source": [
    "#### class attributes"
   ]
  },
  {
   "cell_type": "markdown",
   "metadata": {},
   "source": [
    "All attributes and methods defined so far have one thing in common. They are bound to the instance. That means you can only access or invoke them using a reference to this instance. In most cases this is exactly what you want and would expect, as altering one instance won't influence other class instances. But in some cases this is exactly the desired behaviour. A typical example is counting object instances. For our <span style='color: blue'>Car</span> class this would mean an attribute storing the current amount of instanciated cars. It is not possible to implement this using instance attibutes and methods. <br>\n",
    "One (bad) solution would be shifting the declaration of <span style='color: blue'>Car</span> from the global namespace to a function returning a new car instance. Then the function could increment a global variable. The downside is, that destroyed car instances won't decrement this global variable. A function like this would, by the way, be called a *ClassFactory* in the Python world.<br>\n",
    "The second (way better) solution are using a *class attribute*. These attributes are bound to the class, not an instance of that class. That means all instances will operate on the *same* variable. In the field of data analysis one would implement a counter like this for example for counting the instances of a class handling large data amounts like a raster image. Then the amount of instances could be limited."
   ]
  },
  {
   "cell_type": "code",
   "execution_count": null,
   "metadata": {
    "collapsed": false
   },
   "outputs": [],
   "source": [
    "class Car:\n",
    "    pass\n",
    "\n",
    "\n",
    "vw = Car('vw')\n",
    "print(vw.count)\n",
    "audi = Car('audi')\n",
    "print(audi.count)\n",
    "\n",
    "\n",
    "bmw = Car('bmw')\n",
    "print('BMW:', bmw.max_speed)\n",
    "print('VW:', vw.max_speed)\n",
    "print('Audi:', audi.max_speed)\n",
    "print(vw.count)"
   ]
  },
  {
   "cell_type": "markdown",
   "metadata": {},
   "source": [
    "#### Inheritance"
   ]
  },
  {
   "cell_type": "markdown",
   "metadata": {},
   "source": [
    "As a proper OOP language Python does also implement inheritance. This means, that one can define a class which inherits the attibutes and classes from another class. You can put other classes into the parenthesis of your class signature and the new class will inherit from these classes. One would call this new class a *child* class and the class it inherits from a *parent* class. Every of that *child* classes can of course inherit to as many *children* as needed. Then these children will inherit from its parent and all their parents.<br>\n",
    "In case a method or attribute gets re-defined, the child method or attribute will overwrtie the parent methods and attributes.<br>\n",
    "A real world example of this concept is the definition of a class that can read different file formats and transform the content into a inner-application special format. You could then first write a class that can do the transformation. Next, another class is defined inheriting from this base class. This class can now read all text files on a very generic level. From here different class can be defined, each one capable of exactly one specific text-based format, like a CSV or JSON reader. Now, each of these specific classes know all the methods from all prent classes and the transformation does not have to be redefined on each level. The second advantage is, that at a later point of time one could decide to implement a generic database reader as well. Then different database engine specific reader could be defined and again inherit all the transformation stuff."
   ]
  },
  {
   "cell_type": "markdown",
   "metadata": {
    "collapsed": true
   },
   "source": [
    "Here, we will use this concept to write two inheriting class es **VW** and **Audi**, which both just set the model into a protected attribute.<br> How could this concept be extended?"
   ]
  },
  {
   "cell_type": "code",
   "execution_count": null,
   "metadata": {
    "collapsed": false
   },
   "outputs": [],
   "source": [
    "class VW(Car):\n",
    "    def __init__(self):\n",
    "        super(VW, self).__init__('vw')\n",
    "\n",
    "class Audi(Car):\n",
    "    def __init__(self):\n",
    "        super(Audi, self).__init__('audi')\n",
    "        \n",
    "vw = VW()\n",
    "audi = Audi()\n",
    "\n",
    "vw.accelerate(40)\n",
    "audi.accelerate(400)\n",
    "print(vw)\n",
    "print(audi)\n",
    "print(vw == audi)\n",
    "print(isinstance(vw, VW))\n",
    "print(isinstance(vw, Car))"
   ]
  },
  {
   "cell_type": "markdown",
   "metadata": {},
   "source": [
    "#### Property"
   ]
  },
  {
   "cell_type": "markdown",
   "metadata": {},
   "source": [
    "Sometimes it would be really handy if an attribute could be altered or calculated before returning it to the user. Or even better: if one could make a function to behave like an attribute. That's exactly what a *property* does. These are methods with no other argument than *self* and therefore be executed without parentheses. Using a property like this enables us to reimplement the *speed* attribute. We're just using a property.<br>\n",
    "The property function is a built-in function that needs a function as only argument and returns exactly the same function again with the *added* property behaviour. In information science a function expecting another function, altering it and returing it back for usage are called *decorators* (a concept borrowed from Java). Decorating functions is in Python even easier as you can just use the *decorator operator*: **@**."
   ]
  },
  {
   "cell_type": "code",
   "execution_count": null,
   "metadata": {
    "collapsed": false
   },
   "outputs": [],
   "source": [
    "class MyInt(int):\n",
    "    def as_string(self):\n",
    "        return 'The value is %s' % self\n",
    "\n",
    "i = MyInt(5)\n",
    "print(i.as_string())\n",
    "\n",
    "class MyInt(int):\n",
    "    @property\n",
    "    def as_string(self):\n",
    "        return 'The value is %s' % self\n",
    "    \n",
    "x = MyInt(7)\n",
    "print(x.as_string)"
   ]
  },
  {
   "cell_type": "code",
   "execution_count": null,
   "metadata": {
    "collapsed": false
   },
   "outputs": [],
   "source": [
    "class Car:    \n",
    "    pass\n",
    "\n",
    "class VW(Car):\n",
    "    def __init__(self):\n",
    "        super(VW, self).__init__('vw')\n",
    "        \n",
    "vw = VW()\n",
    "vw.accelerate(60)\n",
    "print(vw.speed)"
   ]
  },
  {
   "cell_type": "markdown",
   "metadata": {},
   "source": [
    "#### Property.setter "
   ]
  },
  {
   "cell_type": "markdown",
   "metadata": {},
   "source": [
    "Obviously, the protectec *\\_\\_speed* attribute cannot be changed and the *speed* property is a function and thus, cannot be set. In the example of the Car, this absolutely makes sense, but nevertheless, setting a property is also possible. This time the property function is defined again accepting an additional positional argument. This will be filled by the assigned value. The Decorator for the redefinition is the *@property.setter* function."
   ]
  },
  {
   "cell_type": "code",
   "execution_count": null,
   "metadata": {
    "collapsed": false
   },
   "outputs": [],
   "source": [
    "class Model(object):\n",
    "    def __init__(self, name):\n",
    "        self.__model = self.check_model(name)\n",
    "        \n",
    "    def check_model(self, name):\n",
    "        if name.lower() not in ('vw', 'audi'):\n",
    "            return 'VW'\n",
    "        else:\n",
    "            return name.upper()\n",
    "    \n",
    "    @property\n",
    "    def model(self):\n",
    "        return self.__model\n",
    "    \n",
    "    @model.setter\n",
    "    def model(self, value):\n",
    "        self.__model = self.check_model(value)\n",
    "        \n",
    "car = Model('audi')\n",
    "print(car.model)\n",
    "car.model = 'vw'\n",
    "print(car.model)\n",
    "car.model = 'mercedes'\n",
    "print(car.model)\n",
    "setattr(car, '__model', 'mercedes')\n",
    "print(car.model)"
   ]
  }
 ],
 "metadata": {
  "anaconda-cloud": {},
  "kernelspec": {
   "display_name": "Python [conda env:py3-dev]",
   "language": "python",
   "name": "conda-env-py3-dev-py"
  },
  "language_info": {
   "codemirror_mode": {
    "name": "ipython",
    "version": 3
   },
   "file_extension": ".py",
   "mimetype": "text/x-python",
   "name": "python",
   "nbconvert_exporter": "python",
   "pygments_lexer": "ipython3",
   "version": "3.5.2"
  }
 },
 "nbformat": 4,
 "nbformat_minor": 0
}
