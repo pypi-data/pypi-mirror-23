{
 "cells": [
  {
   "cell_type": "markdown",
   "metadata": {},
   "source": [
    "<h1><i><center>Python 1</center></i></h1>"
   ]
  },
  {
   "cell_type": "markdown",
   "metadata": {},
   "source": [
    "## Section 2"
   ]
  },
  {
   "cell_type": "markdown",
   "metadata": {},
   "source": [
    "### Slicing and indexing"
   ]
  },
  {
   "cell_type": "raw",
   "metadata": {},
   "source": [
    "Slicing consists of getting parts of an array that can be a tuple, list, strings, etc.\n",
    "The syntax consist of providing the lower and upper limit to \"clip\" an array. For example:\n",
    "\n",
    "index    0  1  2  3  4  5   \n",
    "array = [3, 7, 9, 3, 8, 3]\n",
    "\n",
    "If I want to get the numbers 7, 9 and 3, I can slice array like this:\n",
    "\n",
    "index    0  1  2  3  4  5   \n",
    "array = [3, 7, 9, 3, 8, 3]\n",
    "\n",
    "array[1:4] -> translating this code to words, we could say:\n",
    "take the values from the variable \"array\" located in the\n",
    "index 1 up to 4, but not including 4.\n",
    "\n",
    "The result at the end will be [7, 9, 3]"
   ]
  },
  {
   "cell_type": "code",
   "execution_count": 1,
   "metadata": {},
   "outputs": [
    {
     "name": "stdout",
     "output_type": "stream",
     "text": [
      "[7, 9, 3]\n"
     ]
    }
   ],
   "source": [
    "# So let's apply what was said before to have a better\n",
    "# understanding of how slicing works.\n",
    "array = [3, 7, 9, 3, 8, 3]\n",
    "print(array[1:4])"
   ]
  },
  {
   "cell_type": "code",
   "execution_count": 2,
   "metadata": {},
   "outputs": [
    {
     "name": "stdout",
     "output_type": "stream",
     "text": [
      "[48, 88, 41, 57, 44, 38, 45, 31, 83, 25]\n"
     ]
    }
   ],
   "source": [
    "# with slicing we can do lots of things\n",
    "\n",
    "# first we set some data\n",
    "data = [48, 88, 41, 57, 44, 38, 45, 31, 83, 25]\n",
    "print(data)"
   ]
  },
  {
   "cell_type": "code",
   "execution_count": 3,
   "metadata": {},
   "outputs": [
    {
     "data": {
      "text/plain": [
       "[38, 45, 31, 83, 25]"
      ]
     },
     "execution_count": 3,
     "metadata": {},
     "output_type": "execute_result"
    }
   ],
   "source": [
    "# get the number 38 until the end\n",
    "# index   0   1   2   3   4   5   6   7   8   9\n",
    "#data = [48, 88, 41, 57, 44, 38, 45, 31, 83, 25]\n",
    "\n",
    "data[5:10]"
   ]
  },
  {
   "cell_type": "code",
   "execution_count": 4,
   "metadata": {},
   "outputs": [
    {
     "data": {
      "text/plain": [
       "[38, 45, 31, 83, 25]"
      ]
     },
     "execution_count": 4,
     "metadata": {},
     "output_type": "execute_result"
    }
   ],
   "source": [
    "# or\n",
    "data[5:]"
   ]
  },
  {
   "cell_type": "code",
   "execution_count": 5,
   "metadata": {},
   "outputs": [
    {
     "data": {
      "text/plain": [
       "[48, 88, 41, 57, 44, 38]"
      ]
     },
     "execution_count": 5,
     "metadata": {},
     "output_type": "execute_result"
    }
   ],
   "source": [
    "# You can use the same idea if you wanted to get\n",
    "# all numbers up to 38\n",
    "data[:6]"
   ]
  },
  {
   "cell_type": "code",
   "execution_count": 6,
   "metadata": {},
   "outputs": [
    {
     "name": "stdout",
     "output_type": "stream",
     "text": [
      "[38, 45, 31, 83, 25]\n",
      "[48, 88, 41, 57, 44, 38]\n",
      "[44, 38, 45]\n"
     ]
    }
   ],
   "source": [
    "# slicing also works using backwards indexing\n",
    "# +index       0   1   2   3   4   5   6   7   8   9\n",
    "# data   =   [48, 88, 41, 57, 44, 38, 45, 31, 83, 25]\n",
    "# -index     -10  -9  -8  -7  -6  -5  -4  -3  -2  -1\n",
    "\n",
    "# let's take the examples shown before and do the backwards indexing\n",
    "\n",
    "print(data[-5:])\n",
    "print(data[:-4])\n",
    "\n",
    "# and now let's get [44, 38, 45]\n",
    "print(data[-6:7])"
   ]
  },
  {
   "cell_type": "code",
   "execution_count": 7,
   "metadata": {},
   "outputs": [
    {
     "name": "stdout",
     "output_type": "stream",
     "text": [
      "[48, 88]\n",
      "44\n",
      "[38, 45, 31, 83, 25]\n",
      "[45, 31, 83]\n",
      "[88, 41, 57, 44, 38, 45, 31, 83]\n",
      "[38, 45, 31]\n"
     ]
    }
   ],
   "source": [
    "# now it's time to do some stuff\n",
    "# Task 1: get slice [48, 88]\n",
    "print(data[:2])\n",
    "\n",
    "# Task 2: get slice [44] (indexing)\n",
    "print(data[4])\n",
    "\n",
    "# Task 3: get slice [38, 45, 31, 83, 25]\n",
    "print(data[5:])\n",
    "\n",
    "# Task 4: get slice [45, 31, 83]\n",
    "print (data[6:-1])\n",
    "\n",
    "# Task 5: get slice [88, 41, 57, 44, 38, 45, 31, 83]\n",
    "print(data[1:-1])\n",
    "\n",
    "# Task 6: get slice [38, 45, 31]\n",
    "print(data[5:8])"
   ]
  },
  {
   "cell_type": "code",
   "execution_count": 8,
   "metadata": {},
   "outputs": [
    {
     "data": {
      "text/plain": [
       "[48, 41, 44, 45]"
      ]
     },
     "execution_count": 8,
     "metadata": {},
     "output_type": "execute_result"
    }
   ],
   "source": [
    "# Slicing has also something called step\n",
    "# Let's explain that using a practical example\n",
    "\n",
    "data = [48, 88, 41, 57, 44, 38, 45, 31, 83, 25]\n",
    "data[:7:2]\n",
    "# we are taking all the numbers from index 0 until 7, \n",
    "# but not including 7, jumping in spaces of 2"
   ]
  },
  {
   "cell_type": "code",
   "execution_count": 9,
   "metadata": {},
   "outputs": [
    {
     "data": {
      "text/plain": [
       "[25, 83, 31, 45, 38, 44, 57, 41, 88, 48]"
      ]
     },
     "execution_count": 9,
     "metadata": {},
     "output_type": "execute_result"
    }
   ],
   "source": [
    "# we can use this technique with backwards indexing to\n",
    "# flip our list\n",
    "data[::-1]"
   ]
  },
  {
   "cell_type": "code",
   "execution_count": 10,
   "metadata": {},
   "outputs": [
    {
     "name": "stdout",
     "output_type": "stream",
     "text": [
      "pneumo\n",
      "ultramicroscopicos\n",
      "silico\n",
      "vulcanoconiose\n"
     ]
    }
   ],
   "source": [
    "# slicing is not only for tuples and list, but also for strings\n",
    "\n",
    "s = 'pneumoultramicroscopicossilicovulcanoconiose' # = )\n",
    "\n",
    "# Task 1: get 'pneumo'\n",
    "print(s[0:6])\n",
    "# Task 2: get 'ultramicroscopicos'\n",
    "print(s[6:24])\n",
    "# Task 3: get 'silico'\n",
    "print(s[24:30])\n",
    "# Task 4 : get 'vulcano'\n",
    "print(s[30:])"
   ]
  },
  {
   "cell_type": "code",
   "execution_count": 11,
   "metadata": {},
   "outputs": [
    {
     "name": "stdout",
     "output_type": "stream",
     "text": [
      "Rind\n",
      "fleisch\n",
      "etikettierungs\n",
      "überwachungsa\n",
      "ufgabenü\n",
      "bertragungs\n",
      "gesetz\n"
     ]
    }
   ],
   "source": [
    "# Let's have some fun with this beautiful German word\n",
    "# Separate the single words that form the big one\n",
    "deu = 'Rindfleischetikettierungsüberwachungsaufgabenübertragungsgesetz'\n",
    "# If you don't speak German, get to know a German friend and try to solve the code together.\n",
    "# Answer: 7 words\n",
    "print(deu[:4])\n",
    "print(deu[4:11])\n",
    "print(deu[11:25])\n",
    "print(deu[25:38])\n",
    "print(deu[38:46])\n",
    "print(deu[46:57])\n",
    "print(deu[57:])"
   ]
  },
  {
   "cell_type": "code",
   "execution_count": 12,
   "metadata": {},
   "outputs": [
    {
     "name": "stdout",
     "output_type": "stream",
     "text": [
      "[0, 1, 45, 32, 25.2, 12]\n"
     ]
    }
   ],
   "source": [
    "# You can also use slicing to assign new values to a list\n",
    "\n",
    "a = [0, 1, 2, 3, 4]\n",
    "# Let's change [2,3,4] for [45, 32, 25.2, 12]\n",
    "a[2:] = [45, 32, 25.2, 12]\n",
    "print(a)"
   ]
  },
  {
   "cell_type": "markdown",
   "metadata": {},
   "source": [
    "### Built-in functions"
   ]
  },
  {
   "cell_type": "markdown",
   "metadata": {},
   "source": [
    "Build-in functions are functions that do not need to be imported to make use of them. You used already a few built-in function like 'type' and 'print'."
   ]
  },
  {
   "cell_type": "markdown",
   "metadata": {},
   "source": [
    "#### print"
   ]
  },
  {
   "cell_type": "code",
   "execution_count": 13,
   "metadata": {},
   "outputs": [
    {
     "name": "stdout",
     "output_type": "stream",
     "text": [
      "Python is f.... awesome!!\n"
     ]
    }
   ],
   "source": [
    "# You already know the print function...\n",
    "text = 'Python is f.... awesome!!'\n",
    "print(text)"
   ]
  },
  {
   "cell_type": "code",
   "execution_count": 14,
   "metadata": {},
   "outputs": [
    {
     "name": "stdout",
     "output_type": "stream",
     "text": [
      "<class 'str'>\n"
     ]
    }
   ],
   "source": [
    "# ...and also the type function.\n",
    "print(type(text))"
   ]
  },
  {
   "cell_type": "markdown",
   "metadata": {},
   "source": [
    "#### minimum and maximum"
   ]
  },
  {
   "cell_type": "code",
   "execution_count": 15,
   "metadata": {},
   "outputs": [
    {
     "name": "stdout",
     "output_type": "stream",
     "text": [
      "[48, 94, 10, 16, 76, 36, 74, 56, 35, 70, 42, 44, 30, 89, 69, 94, 42, 29, 58, 74]\n"
     ]
    }
   ],
   "source": [
    "# Now let's get to know a few others\n",
    "\n",
    "# first we set some data\n",
    "import random\n",
    "# don't worry if you can't understand what is happening here.\n",
    "# we will talk a lot about this in further sections.\n",
    "data = [random.randint(1,100) for i in range(0,20)]\n",
    "print(data)"
   ]
  },
  {
   "cell_type": "code",
   "execution_count": 16,
   "metadata": {},
   "outputs": [
    {
     "name": "stdout",
     "output_type": "stream",
     "text": [
      "[10, 16, 29, 30, 35, 36, 42, 42, 44, 48, 56, 58, 69, 70, 74, 74, 76, 89, 94, 94]\n",
      "10\n",
      "94\n"
     ]
    }
   ],
   "source": [
    "# Task: get the minimum and maximum values of the variable 'data'\n",
    "# using indexing and the function 'sort' from lists\n",
    "data.sort()\n",
    "print(data)\n",
    "print(data[0])\n",
    "print(data[-1])"
   ]
  },
  {
   "cell_type": "code",
   "execution_count": 17,
   "metadata": {},
   "outputs": [
    {
     "name": "stdout",
     "output_type": "stream",
     "text": [
      "10\n",
      "94\n"
     ]
    }
   ],
   "source": [
    "# There is always a better way.\n",
    "print(min(data))\n",
    "print(max(data))"
   ]
  },
  {
   "cell_type": "markdown",
   "metadata": {},
   "source": [
    "#### sum"
   ]
  },
  {
   "cell_type": "code",
   "execution_count": 18,
   "metadata": {},
   "outputs": [
    {
     "name": "stdout",
     "output_type": "stream",
     "text": [
      "The sum is 1086\n"
     ]
    }
   ],
   "source": [
    "# One way to do it\n",
    "# Don't worry if this looks confusing. \n",
    "# We will talk about this soon =)\n",
    "count = 0\n",
    "for number in data:\n",
    "    count+= number\n",
    "print('The sum is {}'.format(count))"
   ]
  },
  {
   "cell_type": "code",
   "execution_count": 19,
   "metadata": {},
   "outputs": [
    {
     "name": "stdout",
     "output_type": "stream",
     "text": [
      "The sum is 1086\n"
     ]
    }
   ],
   "source": [
    "# but there is always a better way\n",
    "print('The sum is {}'.format(sum(data)))"
   ]
  },
  {
   "cell_type": "markdown",
   "metadata": {},
   "source": [
    "#### len"
   ]
  },
  {
   "cell_type": "code",
   "execution_count": 20,
   "metadata": {},
   "outputs": [
    {
     "name": "stdout",
     "output_type": "stream",
     "text": [
      "The length of the list is 4\n",
      "The length of the tuple is 2\n",
      "The length of the dictionary is 4\n",
      "The length of the string is 63\n"
     ]
    }
   ],
   "source": [
    "# We can also get the size of things using the function 'len'\n",
    "print('The length of the list is', len([1,2,3,4]))\n",
    "print('The length of the tuple is', len((4,6)))\n",
    "Dict = {'ID':1685, 'Name': 'Alan', 'Age': 20, 'City': 'Freiburg'}\n",
    "print('The length of the dictionary is', len(Dict))\n",
    "print('The length of the string is', len(deu)) # The longest German word"
   ]
  },
  {
   "cell_type": "markdown",
   "metadata": {},
   "source": [
    "#### round"
   ]
  },
  {
   "cell_type": "code",
   "execution_count": 21,
   "metadata": {},
   "outputs": [
    {
     "name": "stdout",
     "output_type": "stream",
     "text": [
      "The normal result looks like this 0.6666666666666666\n",
      "The rounded result like this 0.6667\n",
      "or this 0.67\n"
     ]
    }
   ],
   "source": [
    "# When you are doing some calculations, you might want\n",
    "# to have only a few numbers after the comma. In Python\n",
    "# there is on Built-in function called 'round' that does that.\n",
    "\n",
    "a = 2 / 3.\n",
    "print('The normal result looks like this', 2 / 3.)\n",
    "print('The rounded result like this',round(a,4))\n",
    "print('or this', round(a,2))"
   ]
  },
  {
   "cell_type": "markdown",
   "metadata": {},
   "source": [
    "#### abs"
   ]
  },
  {
   "cell_type": "code",
   "execution_count": 22,
   "metadata": {},
   "outputs": [
    {
     "name": "stdout",
     "output_type": "stream",
     "text": [
      "The absolute result of 2 - 6.45 is 4.45\n"
     ]
    }
   ],
   "source": [
    "# sometimes we also want absolute results\n",
    "print('The absolute result of 2 - 6.45 is', abs(2-6.45))"
   ]
  },
  {
   "cell_type": "markdown",
   "metadata": {},
   "source": [
    "#### input"
   ]
  },
  {
   "cell_type": "markdown",
   "metadata": {},
   "source": [
    "This function is really important in Python. You can get inputs from the user by using this function. Let's see how that works."
   ]
  },
  {
   "cell_type": "code",
   "execution_count": 26,
   "metadata": {},
   "outputs": [
    {
     "name": "stdout",
     "output_type": "stream",
     "text": [
      "Please enter a word: 125\n",
      "The word entered was 125\n"
     ]
    }
   ],
   "source": [
    "input_1 = input('Please enter a word: ')\n",
    "print('The word entered was', input_1)"
   ]
  },
  {
   "cell_type": "code",
   "execution_count": 27,
   "metadata": {},
   "outputs": [
    {
     "data": {
      "text/plain": [
       "str"
      ]
     },
     "execution_count": 27,
     "metadata": {},
     "output_type": "execute_result"
    }
   ],
   "source": [
    "# What type of varible is created with the raw_input function?\n",
    "type(input_1)"
   ]
  },
  {
   "cell_type": "markdown",
   "metadata": {},
   "source": [
    "#### map"
   ]
  },
  {
   "cell_type": "code",
   "execution_count": 31,
   "metadata": {},
   "outputs": [
    {
     "name": "stdout",
     "output_type": "stream",
     "text": [
      "[<class 'int'>, <class 'str'>, <class 'dict'>, <class 'tuple'>] \n",
      "\n",
      "[2, 3, 5]\n"
     ]
    }
   ],
   "source": [
    "# The 'map' function collect information from a variable based on\n",
    "# an specific function. Let's see an example:\n",
    "\n",
    "a = [1, 'test', {'House': 'green'},(1, 2, 3)]\n",
    "print(list(map(type, a)), '\\n')\n",
    "\n",
    "b = [[1, 2], [1, 2, 3], [1, 2, 3, 4, 5]]\n",
    "print(list(map(len, b)))"
   ]
  },
  {
   "cell_type": "markdown",
   "metadata": {},
   "source": [
    "#### Conversion functions"
   ]
  },
  {
   "cell_type": "code",
   "execution_count": 32,
   "metadata": {},
   "outputs": [
    {
     "name": "stdout",
     "output_type": "stream",
     "text": [
      "Tennenbacherstr. 4\n"
     ]
    }
   ],
   "source": [
    "# We are able to perform conversions between variable types.\n",
    "# For example:  float < > string    /    string < > to integer\n",
    "# Functions: str, float, int, bool, list, tuple, dict\n",
    "number = 4\n",
    "street = 'Tennenbacherstr. '\n",
    "print(street + str(number))"
   ]
  },
  {
   "cell_type": "code",
   "execution_count": 33,
   "metadata": {},
   "outputs": [
    {
     "name": "stdout",
     "output_type": "stream",
     "text": [
      "Volume: 432000 cm^3\n"
     ]
    }
   ],
   "source": [
    "# Task: take the variable 'text', get the 3 dimensions of the package\n",
    "# and calculate the volume of the package.\n",
    "text = 'Paket bis 20 kg (max. 120 x 60 x 60cm)'.split()\n",
    "lenght = int(text[5])\n",
    "width = int(text[7])\n",
    "height = int(text[7])\n",
    "volume = lenght * width * height\n",
    "print(\"Volume:\", volume, \"cm^3\")"
   ]
  },
  {
   "cell_type": "markdown",
   "metadata": {},
   "source": [
    "#### enumerate"
   ]
  },
  {
   "cell_type": "code",
   "execution_count": 34,
   "metadata": {},
   "outputs": [
    {
     "data": {
      "text/plain": [
       "((0, 'Spring'), (1, 'Summer'), (2, 'Fall'), (3, 'Winter'))"
      ]
     },
     "execution_count": 34,
     "metadata": {},
     "output_type": "execute_result"
    }
   ],
   "source": [
    "seasons = ['Spring', 'Summer', 'Fall', 'Winter']\n",
    "tuple(enumerate(seasons))"
   ]
  },
  {
   "cell_type": "markdown",
   "metadata": {},
   "source": [
    "#### eval"
   ]
  },
  {
   "cell_type": "code",
   "execution_count": 45,
   "metadata": {},
   "outputs": [
    {
     "name": "stdout",
     "output_type": "stream",
     "text": [
      "The area of the circle is 1962.5\n"
     ]
    }
   ],
   "source": [
    "pi = 3.14\n",
    "radius = 25\n",
    "print('The area of the circle is', eval('pi*radius**2'))"
   ]
  },
  {
   "cell_type": "markdown",
   "metadata": {},
   "source": [
    "#### range"
   ]
  },
  {
   "cell_type": "code",
   "execution_count": 46,
   "metadata": {},
   "outputs": [
    {
     "name": "stdout",
     "output_type": "stream",
     "text": [
      "range(0, 11)\n"
     ]
    }
   ],
   "source": [
    "a = range(0, 11)\n",
    "print(a)"
   ]
  },
  {
   "cell_type": "markdown",
   "metadata": {},
   "source": [
    "#### reversed"
   ]
  },
  {
   "cell_type": "code",
   "execution_count": 47,
   "metadata": {},
   "outputs": [
    {
     "data": {
      "text/plain": [
       "[10, 9, 8, 7, 6, 5, 4, 3, 2, 1, 0]"
      ]
     },
     "execution_count": 47,
     "metadata": {},
     "output_type": "execute_result"
    }
   ],
   "source": [
    "list(reversed(range(0, 11)))"
   ]
  },
  {
   "cell_type": "code",
   "execution_count": 48,
   "metadata": {},
   "outputs": [
    {
     "data": {
      "text/plain": [
       "range(10, -1, -1)"
      ]
     },
     "execution_count": 48,
     "metadata": {},
     "output_type": "execute_result"
    }
   ],
   "source": [
    "# another way would be\n",
    "range(0, 11)[::-1]"
   ]
  },
  {
   "cell_type": "markdown",
   "metadata": {},
   "source": [
    "For the next episode of Python 1...\n",
    "\n",
    "you will have a journey through:\n",
    "- native libraries and their application\n",
    "- if, elif, else"
   ]
  },
  {
   "cell_type": "markdown",
   "metadata": {},
   "source": [
    "<h1><i><center>To be continued...</center></i></h1>"
   ]
  }
 ],
 "metadata": {
  "anaconda-cloud": {},
  "kernelspec": {
   "display_name": "Python [Py35]",
   "language": "python",
   "name": "Python [Py35]"
  },
  "language_info": {
   "codemirror_mode": {
    "name": "ipython",
    "version": 3
   },
   "file_extension": ".py",
   "mimetype": "text/x-python",
   "name": "python",
   "nbconvert_exporter": "python",
   "pygments_lexer": "ipython3",
   "version": "3.5.3"
  }
 },
 "nbformat": 4,
 "nbformat_minor": 1
}
