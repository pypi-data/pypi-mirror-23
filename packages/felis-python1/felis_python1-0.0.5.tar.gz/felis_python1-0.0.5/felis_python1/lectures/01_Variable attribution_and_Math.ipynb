{
 "cells": [
  {
   "cell_type": "markdown",
   "metadata": {},
   "source": [
    "<h1><center><i>Python 1"
   ]
  },
  {
   "cell_type": "markdown",
   "metadata": {},
   "source": [
    "Python is an open source powerful programming language, which is quite easy to learn. Python can be found almost everywhere, such as Google, FBI, NSA, Disney, Amazon, Youtube and many others.\n",
    "Python was conceived in the late 1980s, and its implementation began in December 1989 by Guido van Rossum at Centrum Wiskunde & Informatica (CWI) in the Netherlands."
   ]
  },
  {
   "cell_type": "markdown",
   "metadata": {},
   "source": [
    "<html>\n",
    "    <body>\n",
    "        <table style=\"width:100%;border: none\">\n",
    "            <tr>\n",
    "                <td>\n",
    "                    <img src='https://upload.wikimedia.org/wikipedia/commons/6/66/Guido_van_Rossum_OSCON_2006.jpg' \n",
    "                    style='width: 200px; height: 300px'/>\n",
    "                </td>\n",
    "                <td>\n",
    "                    <i><center>\n",
    "        \"Over six years ago, in December 1989, I was looking for a \"hobby\" programming project that would keep me occupied during the week around Christmas. My office ... would be closed, but I had a home computer, and not much else on my hands. I decided to write an interpreter for the new scripting language I had been thinking about lately: a descendant of ABC that would appeal to Unix/C hackers. I chose Python as a working title for the project, being in a slightly irreverent mood (and a big fan of Monty Python's Flying Circus).\" \n",
    "                    </center></i>\n",
    "                    <i>\n",
    "                        <b>\n",
    "                            <h3><left>Guido Van Rossum</left></h3>\n",
    "                        </b>\n",
    "                    </i>\n",
    "                 </td>\n",
    "             </tr>\n",
    "        </table>\n",
    "    </body>\n",
    "</html>"
   ]
  },
  {
   "cell_type": "markdown",
   "metadata": {},
   "source": [
    "Python has currently to main versions, 2.x and 3.x. Although both are well supported and still used worldwide, in the future, Python 2.x will be unsupported. Therefore, in order to start things right, we will use mostly Python 3.x.\n",
    "\n",
    "In this course we will learn python basics, covering the following topics:\n",
    " - Variable assignment\n",
    " - Types of variables\n",
    " - Mathematics in Python\n",
    " - Built-in functions\n",
    " - Slicing and indexing\n",
    " - Libraries\n",
    " - Conditions\n",
    " - Loops\n",
    " - Functions\n",
    " - Classes\n",
    "\n",
    "After, we will give a quick look on some basics regarding:\n",
    " - Numpy\n",
    " - Matplotlib\n",
    "\n",
    "Bur for now, let's get started with variables assignment and some basic variable types."
   ]
  },
  {
   "cell_type": "code",
   "execution_count": 16,
   "metadata": {},
   "outputs": [
    {
     "name": "stdout",
     "output_type": "stream",
     "text": [
      "Type var 'a': <class 'int'>\n",
      "Type var 'b': <class 'float'>\n",
      "Type var 'c': <class 'str'>\n",
      "Type var 'd': <class 'bool'>\n",
      "Type var 'e': <class 'list'>\n",
      "Type var 'f': <class 'tuple'>\n"
     ]
    }
   ],
   "source": [
    "\n",
    "# let's declare variables and see the types we have\n",
    "\n",
    "a = 10                    # integer\n",
    "b = 3.14                  # float\n",
    "c = 'Python'              # string\n",
    "d =  True                 # boolean\n",
    "e = [2, 3.14, 'Python']   # list\n",
    "f = (2, 3.14, 'Python')   # tuple\n",
    "'''\n",
    "We still have dictionaries, but that\n",
    "is a surprise for latter  = )\n",
    "'''\n",
    "# now we print the types for each created variable. Pay attention to the different \n",
    "# ways to print.\n",
    "print(\"Type var 'a': {}\".format(type(a)))\n",
    "print(\"Type var 'b': %s\" %type(b)) # %0.2f %d %r\n",
    "print(\"Type var 'c':\",(type(c)))\n",
    "print(\"Type var 'd': {}\".format(type(d)))\n",
    "print(\"Type var 'e': {}\".format(type(e)))\n",
    "print(\"Type var 'f': {}\".format(type(f)))"
   ]
  },
  {
   "cell_type": "code",
   "execution_count": 3,
   "metadata": {},
   "outputs": [
    {
     "name": "stdout",
     "output_type": "stream",
     "text": [
      "The result of the calculation a + b is 6.6\n",
      "\n",
      "The result of the calculation c - a is 34\n",
      "\n",
      "The result of the calculation c / a is 18.0\n",
      "\n",
      "The result of the calculation a * b is 9.2\n",
      "\n",
      "The result of the calculation b ** a is 21.159999999999997\n",
      "\n",
      "The result of the calculation \"(a + b) / c\" is 0.18333333333333332\n"
     ]
    }
   ],
   "source": [
    "# now let's calculate some things\n",
    "a, b, c = 2, 4.6, 36   # multiple assignment\n",
    "\n",
    "# we print now some calculation options...\n",
    "print('The result of the calculation a + b is {}\\n'.format(a + b))\n",
    "print('The result of the calculation c - a is {}\\n'.format(c - a))\n",
    "print('The result of the calculation c / a is {}\\n'.format(c / a))\n",
    "print('The result of the calculation a * b is {}\\n'.format(a * b))\n",
    "print('The result of the calculation b ** a is {}\\n'.format(b ** a))\n",
    "print('The result of the calculation \"(a + b) / c\" is {}'.format((a + b) / c))"
   ]
  },
  {
   "cell_type": "code",
   "execution_count": 4,
   "metadata": {},
   "outputs": [
    {
     "name": "stdout",
     "output_type": "stream",
     "text": [
      "Rest for s = 0, t = 1.0\n"
     ]
    }
   ],
   "source": [
    "# Extra calculation\n",
    "\n",
    "# Modulus operator\n",
    "s = 4 % 2      \n",
    "t = 3. % 2.\n",
    "print('Rest for s = {}, t = {}'.format(s,t))"
   ]
  },
  {
   "cell_type": "code",
   "execution_count": 6,
   "metadata": {},
   "outputs": [
    {
     "name": "stdout",
     "output_type": "stream",
     "text": [
      "Rest for\n",
      " u = 1.5\n",
      " v = 1.5\n",
      " x = 5.45\n"
     ]
    }
   ],
   "source": [
    "# calculation between different types of variables\n",
    "u = 3. / 2.   # float / float = float\n",
    "v = 3 / 2.    # int / float = float\n",
    "x = 3 + 2.45  # int + float = float\n",
    "print('Rest for\\n u = {}\\n v = {}\\n x = {}'.format(u,v,x))"
   ]
  },
  {
   "cell_type": "code",
   "execution_count": 24,
   "metadata": {},
   "outputs": [
    {
     "name": "stdout",
     "output_type": "stream",
     "text": [
      "That looks ugly!\n",
      "PythonisAwesome\n",
      "\n",
      "Try this...\n",
      "Python is Awesome\n",
      "\n",
      "or this!\n",
      "Python is Awesome\n"
     ]
    }
   ],
   "source": [
    "# strings (concatenation)\n",
    "a = 'Python'\n",
    "b = 'is'\n",
    "c = 'Awesome'\n",
    "\n",
    "# that looks ugly\n",
    "print(\"That looks ugly!\")\n",
    "print(a + b + c) \n",
    "\n",
    "# Try this\n",
    "print(\"\\nTry this...\") \n",
    "print(a +\" \"+ b +\" \"+ c)\n",
    "\n",
    "# \\n jumps a line\n",
    "# or this\n",
    "print(\"\\nor this!\")\n",
    "print(a +\" \"+ b +\" \"+ c)"
   ]
  },
  {
   "cell_type": "code",
   "execution_count": 7,
   "metadata": {},
   "outputs": [
    {
     "name": "stdout",
     "output_type": "stream",
     "text": [
      "Results of int calculation is 0.6666666666666666\n",
      "\n",
      "Results of int calculation is 0.6666666666666666\n"
     ]
    }
   ],
   "source": [
    "# calculation details\n",
    "a = 2\n",
    "b = 3\n",
    "print('Results of int calculation is {}\\n'.format(a/b))\n",
    "a = 2.\n",
    "b = 3.\n",
    "print('Results of int calculation is {}'.format(a/b))"
   ]
  },
  {
   "cell_type": "code",
   "execution_count": 8,
   "metadata": {},
   "outputs": [
    {
     "name": "stdout",
     "output_type": "stream",
     "text": [
      "The new list looks like this [100, 200, 300, 400, 500, 27]\n",
      "\n",
      "The changed list looks like this [100, 200, 23.5, 400, 500, 27]\n",
      "\n",
      "The changed list looks like this [100, 23.5, 400, 500, 27]\n",
      "\n",
      "The changed list looks like this [100, 23.5, 400, 27]\n",
      "\n",
      "The list [2, 1, 4, 2, 3] now looks like this [1, 2, 2, 3, 4].\n"
     ]
    }
   ],
   "source": [
    "# now let's talk about lists\n",
    "\n",
    "# index   0    1    2    3    4\n",
    "list_ = [100, 200, 300, 400, 500]\n",
    "\n",
    "# add extra number\n",
    "list_.append(27)\n",
    "print('The new list looks like this {}\\n'.format(list_))\n",
    "\n",
    "# change numbers from the list\n",
    "list_[2] = 23.5\n",
    "print('The changed list looks like this {}\\n'.format(list_))\n",
    "\n",
    "# delete numbers from the list\n",
    "list_.pop(1) #uses the index to remove a value (index 1 = 200)\n",
    "print('The changed list looks like this {}\\n'.format(list_))\n",
    "\n",
    "list_.remove(500) #uses the value as parameter\n",
    "print('The changed list looks like this {}\\n'.format(list_))\n",
    "\n",
    "# organize lists\n",
    "a = [2,1,4,2,3]\n",
    "b = a[:]  # don't worry about this. We will talk about it in slicing.\n",
    "b.sort()\n",
    "print('The list {} now looks like this {}.'.format(a,b))"
   ]
  },
  {
   "cell_type": "code",
   "execution_count": 25,
   "metadata": {},
   "outputs": [
    {
     "name": "stdout",
     "output_type": "stream",
     "text": [
      "Adding tuples : x + z = (1, 5, 4, 3, 4, 6, 3, 5, 3, 2, 2, 3, 3, 3, 100)\n",
      "\n",
      "There are 6 number 3 in the tuple x.\n",
      "\n",
      "The number 4 is located at index 2.\n"
     ]
    }
   ],
   "source": [
    "# How do we append in Tuples?\n",
    "# There is no function for that.\n",
    "# We need to use concatenation.\n",
    "x = (1,5,4,3,4,6,3,5,3,2,2,3,3,3)\n",
    "z = (100,)\n",
    "print('Adding tuples : x + z = {}\\n'.format(x+z))\n",
    "\n",
    "count = x.count(3)\n",
    "print('There are {} number 3 in the tuple x.\\n'.format(count))\n",
    "\n",
    "n = 4\n",
    "indx = x.index(n)\n",
    "print('The number {} is located at index {}.'.format(n,indx))"
   ]
  },
  {
   "cell_type": "code",
   "execution_count": 26,
   "metadata": {},
   "outputs": [
    {
     "name": "stdout",
     "output_type": "stream",
     "text": [
      "With lists it looks like this: \n",
      " b: [1, 2, 3, 4, 5, 6] \n",
      "a: [1, 2, 3, 4, 5, 6]\n",
      "\n",
      "With tuples it looks like this: \n",
      " b: (1, 2, 3, 4, 5, 6, 6) \n",
      "a: (1, 2, 3, 4, 5)\n"
     ]
    }
   ],
   "source": [
    "# Dependecies\n",
    "\n",
    "# How does it work with lists\n",
    "a = [1,2,3,4,5]\n",
    "b = a\n",
    "b.append(6)\n",
    "print('With lists it looks like this: \\n', 'b: '+ str(b), '\\na: ' + str(a))\n",
    "\n",
    "# Now let's see what happens with tuples\n",
    "a = (1,2,3,4,5)\n",
    "b = a\n",
    "b += (6,)\n",
    "b = b + (6,)\n",
    "print('\\nWith tuples it looks like this: \\n', 'b: '+ str(b), '\\na: ' + str(a))"
   ]
  },
  {
   "cell_type": "code",
   "execution_count": 27,
   "metadata": {},
   "outputs": [
    {
     "name": "stdout",
     "output_type": "stream",
     "text": [
      "Dictionaries look like this: {'B': 2, 'E': 5, 'A': 1, 'D': 4, 'C': 3}\n"
     ]
    }
   ],
   "source": [
    "# Let's take a look on dictionaries now\n",
    "# You can create Lists using [ ]\n",
    "# and Tuples using ( )\n",
    "# But with Dictionaries we have to use { }\n",
    "\n",
    "# Dictionary variables are constructed like:\n",
    "# dict_ = {Key 1: value 1, Key 2: value 2, ... , Key n: value n}\n",
    "\n",
    "dict_ = {'A': 1,\n",
    "         'B': 2,\n",
    "         'C': 3,\n",
    "         'D': 4,\n",
    "         'E': 5}\n",
    "print('Dictionaries look like this:',dict_)"
   ]
  },
  {
   "cell_type": "code",
   "execution_count": 28,
   "metadata": {},
   "outputs": [
    {
     "name": "stdout",
     "output_type": "stream",
     "text": [
      "Our dictionary now looks like this: {'E': 5, 'A': 1, 'D': 4, 'C': 3, 'B': 2, 'F': 6}\n"
     ]
    }
   ],
   "source": [
    "# How can I add more stuff to the dictionary?\n",
    "dict_['F'] = 6\n",
    "print('Our dictionary now looks like this:',dict_)"
   ]
  },
  {
   "cell_type": "code",
   "execution_count": 29,
   "metadata": {},
   "outputs": [
    {
     "name": "stdout",
     "output_type": "stream",
     "text": [
      "The new dictionary looks like this: {'Name': 'Alan', 'ID': 1685, 'Age': 20}\n"
     ]
    }
   ],
   "source": [
    "Dict = {'ID':1685, 'Name': 'Alan', 'Age': 20}\n",
    "print('The new dictionary looks like this:', Dict)"
   ]
  },
  {
   "cell_type": "code",
   "execution_count": 30,
   "metadata": {},
   "outputs": [
    {
     "name": "stdout",
     "output_type": "stream",
     "text": [
      "{'Name': 'Alan', 'ID': 2487, 'City': 'Freiburg', 'Age': 20}\n"
     ]
    }
   ],
   "source": [
    "# Task 1 - Add a new key called City with value Freiburg to the variable Dict\n",
    "Dict[\"City\"] = \"Freiburg\"\n",
    "# Task 2 - Change the ID number of Adan. (We didn't see that yet, but do you have any ideas?)\n",
    "Dict[\"ID\"] = 2487\n",
    "print(Dict)"
   ]
  },
  {
   "cell_type": "code",
   "execution_count": 31,
   "metadata": {
    "scrolled": true
   },
   "outputs": [
    {
     "name": "stdout",
     "output_type": "stream",
     "text": [
      "Keys: dict_keys(['Name', 'ID', 'City', 'Age'])\n",
      "Values: dict_values(['Alan', 2487, 'Freiburg', 20])\n",
      "20\n",
      "{'Name': 'Alan', 'ID': 2487, 'City': 'Freiburg'}\n"
     ]
    },
    {
     "data": {
      "text/plain": [
       "dict_items([('Name', 'Alan'), ('ID', 1685), ('Age', 20)])"
      ]
     },
     "execution_count": 31,
     "metadata": {},
     "output_type": "execute_result"
    }
   ],
   "source": [
    "# Some important functions for dictionaries\n",
    "\n",
    "# Get all keys\n",
    "print('Keys:',Dict.keys())\n",
    "\n",
    "# Get all values\n",
    "print('Values:', Dict.values())\n",
    "\n",
    "# Remove elements\n",
    "print(Dict.pop('Age')) # removes the Age:20 element\n",
    "print(Dict)\n",
    "\n",
    "Dict = {'ID':1685, 'Name': 'Alan', 'Age': 20}\n",
    "# see how the dictionary looks like\n",
    "Dict.items()"
   ]
  },
  {
   "cell_type": "markdown",
   "metadata": {},
   "source": [
    "For the next episode of Python 1...\n",
    "\n",
    "you will have a journey through:\n",
    "- Slicing\n",
    "- Indexing\n",
    "- Built-in functions"
   ]
  },
  {
   "cell_type": "markdown",
   "metadata": {},
   "source": [
    "<h1><i><center>To be continued...</center></i></h1>"
   ]
  }
 ],
 "metadata": {
  "anaconda-cloud": {},
  "kernelspec": {
   "display_name": "Python [Py35]",
   "language": "python",
   "name": "Python [Py35]"
  },
  "language_info": {
   "codemirror_mode": {
    "name": "ipython",
    "version": 3
   },
   "file_extension": ".py",
   "mimetype": "text/x-python",
   "name": "python",
   "nbconvert_exporter": "python",
   "pygments_lexer": "ipython3",
   "version": "3.5.3"
  }
 },
 "nbformat": 4,
 "nbformat_minor": 1
}
