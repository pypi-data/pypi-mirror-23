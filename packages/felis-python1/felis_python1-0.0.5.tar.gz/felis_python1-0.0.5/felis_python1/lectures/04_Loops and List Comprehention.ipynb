{
 "cells": [
  {
   "cell_type": "markdown",
   "metadata": {},
   "source": [
    "<h1><i><center>Python 1</center></i></h1>"
   ]
  },
  {
   "cell_type": "markdown",
   "metadata": {},
   "source": [
    "## Section 4"
   ]
  },
  {
   "cell_type": "markdown",
   "metadata": {},
   "source": [
    "We saw in the last section how to use libraries like math, os, datetime, random and others. In addition we talked about conditions ('if', 'elif', 'else'), comparison operators (==, >, <, >=, <=, !=) and logical operators ('not', 'and', 'or' - NAO). Now let's talk about the awesome LOOPS!"
   ]
  },
  {
   "cell_type": "markdown",
   "metadata": {},
   "source": [
    "### Loops"
   ]
  },
  {
   "cell_type": "markdown",
   "metadata": {
    "collapsed": true
   },
   "source": [
    "Loops have a specific function in Python, just like in many other programming languages. Loops, as the name already says, keep requesting a determined action until a condition is fulfilled. In Python, we have two types of loops, one is the \"while\" function and the other is the \"for\" function. Let's see them now in details."
   ]
  },
  {
   "cell_type": "markdown",
   "metadata": {},
   "source": [
    "#### while"
   ]
  },
  {
   "cell_type": "markdown",
   "metadata": {},
   "source": [
    "The \"while\" function keeps running a loop until a particular condition is not satisfied. Let's see a practical example."
   ]
  },
  {
   "cell_type": "code",
   "execution_count": 1,
   "metadata": {},
   "outputs": [
    {
     "name": "stdout",
     "output_type": "stream",
     "text": [
      "0\n",
      "1\n",
      "2\n",
      "3\n",
      "4\n",
      "5\n",
      "6\n",
      "7\n",
      "8\n",
      "9\n",
      "10\n",
      "That's over!\n"
     ]
    }
   ],
   "source": [
    "count = 0 # Who is this guy?\n",
    "while count<=10:\n",
    "    print (count)\n",
    "    count += 1 # there is another way to write this\n",
    "print(\"That's over!\")"
   ]
  },
  {
   "cell_type": "code",
   "execution_count": 2,
   "metadata": {},
   "outputs": [
    {
     "name": "stdout",
     "output_type": "stream",
     "text": [
      "Lists\n",
      "0\n",
      "1\n",
      "2\n",
      "3\n",
      "5\n",
      "6\n",
      "6\n",
      "7\n",
      "\n",
      "Tuples\n",
      "52\n",
      "14\n",
      "15\n",
      "1\n",
      "45\n",
      "5\n",
      "4\n",
      "7\n",
      "8\n",
      "\n",
      "Strings\n",
      "P\n",
      "y\n",
      "t\n",
      "h\n",
      "o\n",
      "n\n"
     ]
    }
   ],
   "source": [
    "# We can use the while function to loop through lists, tuples and even strings.\n",
    "################################################################################\n",
    "\n",
    "# with lists\n",
    "print ('Lists')\n",
    "a = [0,1,2,3,5,6,6,7]\n",
    "count = 0     # This guy is here again!!\n",
    "while count < len(a):\n",
    "    print(a[count])\n",
    "    count += 1\n",
    "\n",
    "################################################################################\n",
    "\n",
    "# with tuples\n",
    "print('\\nTuples')\n",
    "a = (52,14,15,1,45,5,4,7,8)\n",
    "count = 0     # and again!!\n",
    "while count < len(a):\n",
    "    print(a[count])\n",
    "    count += 1\n",
    "\n",
    "################################################################################\n",
    "\n",
    "# with string\n",
    "print('\\nStrings')\n",
    "a = 'Python'\n",
    "count = 0     # AND AGAIN!! WTF??\n",
    "while count < len(a):\n",
    "    print(a[count])\n",
    "    count += 1"
   ]
  },
  {
   "cell_type": "code",
   "execution_count": 3,
   "metadata": {},
   "outputs": [
    {
     "name": "stdout",
     "output_type": "stream",
     "text": [
      "These are the original numbers:\n",
      " [49, 88, 77, 42, 83, 61, 2, 66, 4, 25, 6, 34, 23, 66, 18, 86, 42, 78, 86, 62]\n",
      "These are the even numbers:\n",
      " [88, 42, 2, 66, 4, 6, 34, 66, 18, 86, 42, 78, 86, 62]\n",
      "These are the odd numbers:\n",
      " [49, 77, 83, 61, 25, 23]\n"
     ]
    }
   ],
   "source": [
    "# Task 01: write a code that loops through the list of numbers called 'data' and devide \n",
    "# them in two extra lists, one with odd numbers and another with even numbers.\n",
    "\n",
    "# That is OK if you don't get this part. We will talk about it latter.\n",
    "import random\n",
    "data = [random.randint(0,100) for i in range(0,20)]\n",
    "count = 0\n",
    "even = []\n",
    "odd = []\n",
    "while count < len(data):\n",
    "    if data[count]%2==0:\n",
    "        even.append(data[count])\n",
    "    else:\n",
    "        odd.append(data[count])\n",
    "    count+=1\n",
    "print('These are the original numbers:\\n', data)\n",
    "print('These are the even numbers:\\n', even)\n",
    "print('These are the odd numbers:\\n', odd)"
   ]
  },
  {
   "cell_type": "code",
   "execution_count": 4,
   "metadata": {},
   "outputs": [
    {
     "name": "stdout",
     "output_type": "stream",
     "text": [
      "These are the vowels:\n",
      " ['e', 'o', 'e', 'i', 'o', 'e', 'o', 'e', 'e', 'o', 'e', 'i', 'o', 'u', 'a', 'i', 'u', 'e', 'a', 'o', 'u', 'e', 'o', 'e']\n",
      "These are the consonantes:\n",
      " ['t', 'h', 'p', 'r', 'b', 'l', 'm', 's', 'n', 't', 't', 'h', 'p', 'r', 'b', 'l', 'm', 't', 'h', 'p', 'r', 'b', 'l', 'm', 's', 'y', 'r', 't', 't', 't', 'd', 'b', 't', 't', 'h', 'p', 'r', 'b', 'l', 'm']\n"
     ]
    }
   ],
   "source": [
    "# Task 02: write a code that takes a sentence and separate each letter into two lists (vowels and consonants).\n",
    "sentence = \"The problem is not the problem - the problem is your attitude about the problem.\".lower()\n",
    "count = 0\n",
    "vowels = []\n",
    "consonantes = []\n",
    "while count < len(sentence):\n",
    "    if sentence[count] in 'aeiou':\n",
    "        vowels.append(sentence[count])\n",
    "    elif sentence[count] in '-. ':\n",
    "        pass\n",
    "    else:\n",
    "        consonantes.append(sentence[count])\n",
    "    count += 1\n",
    "print('These are the vowels:\\n', vowels)\n",
    "print('These are the consonantes:\\n',consonantes)"
   ]
  },
  {
   "cell_type": "code",
   "execution_count": 13,
   "metadata": {},
   "outputs": [
    {
     "name": "stdout",
     "output_type": "stream",
     "text": [
      "Please enter a number. If you don't want to play anymore type 'exit': 22\n",
      "Please enter a number. If you don't want to play anymore type 'exit': 14\n",
      "Please enter a number. If you don't want to play anymore type 'exit': 15\n",
      "Please enter a number. If you don't want to play anymore type 'exit': 16\n",
      "Please enter a number. If you don't want to play anymore type 'exit': 17\n",
      "Please enter a number. If you don't want to play anymore type 'exit': 18\n",
      "Please enter a number. If you don't want to play anymore type 'exit': 19\n",
      "Please enter a number. If you don't want to play anymore type 'exit': 20\n",
      "Please enter a number. If you don't want to play anymore type 'exit': 22\n",
      "Please enter a number. If you don't want to play anymore type 'exit': 24\n",
      "Please enter a number. If you don't want to play anymore type 'exit': 25\n",
      "Please enter a number. If you don't want to play anymore type 'exit': 30\n",
      "Please enter a number. If you don't want to play anymore type 'exit': 35\n",
      "Please enter a number. If you don't want to play anymore type 'exit': 51\n",
      "Please enter a number. If you don't want to play anymore type 'exit': 77\n",
      "Please enter a number. If you don't want to play anymore type 'exit': exit\n",
      "These are the even numbers:\n",
      " [22, 14, 16, 18, 20, 22, 24, 30]\n",
      "These are the odd numbers:\n",
      " [15, 17, 19, 25, 35, 51, 77]\n"
     ]
    }
   ],
   "source": [
    "\"\"\" In the last section, when we talked about conditions, we did Task 01 and Task 02 (see below):\n",
    "\n",
    "    Task 01: ask the user for a number a use a if statement to see if this number is even or uneven\n",
    "    Task 02: create a game that asks the user for a number. Then, tell the user if he/she won the game.\n",
    "    \n",
    "The way we wrote the code to solve these tasks was not effective, since the user needs to go inside \n",
    "the code and change the values. However, with a while loop you can keep asking for numbers and make\n",
    "things far more intersting. Let's see how it works\"\"\"\n",
    "\n",
    "# Task 01: ask the user for a number and use a if statement to see if this number is even or uneven.\n",
    "# But now add a while loop and keep asking for a number until the user doesn't want to play anymore.\n",
    "\n",
    "data = input(\"Please enter a number. If you don't want to play anymore type 'exit': \")\n",
    "even = []\n",
    "odd = []\n",
    "while data != 'exit':\n",
    "    if int(data)%2==0:\n",
    "        even.append(int(data))\n",
    "    else:\n",
    "        odd.append(int(data))\n",
    "    data = input(\"Please enter a number. If you don't want to play anymore type 'exit': \")\n",
    "\n",
    "print('These are the even numbers:\\n', even)\n",
    "print('These are the odd numbers:\\n', odd)"
   ]
  },
  {
   "cell_type": "code",
   "execution_count": 14,
   "metadata": {},
   "outputs": [
    {
     "name": "stdout",
     "output_type": "stream",
     "text": [
      "These are the vowels:\n",
      " ['e', 'o', 'e', 'i', 'o', 'e', 'o', 'e', 'e', 'o', 'e', 'i', 'o', 'u', 'a', 'i', 'u', 'e', 'a', 'o', 'u', 'e', 'o', 'e']\n",
      "These are the consonantes:\n",
      " ['t', 'h', 'p', 'r', 'b', 'l', 'm', 's', 'n', 't', 't', 'h', 'p', 'r', 'b', 'l', 'm', 't', 'h', 'p', 'r', 'b', 'l', 'm', 's', 'y', 'r', 't', 't', 't', 'd', 'b', 't', 't', 'h', 'p', 'r', 'b', 'l', 'm']\n"
     ]
    }
   ],
   "source": [
    "# Task 02: write a code that takes a sentence and separate each letter into two lists (vowels and consonants).\n",
    "sentence = \"The problem is not the problem - the problem is your attitude about the problem.\".lower()\n",
    "count = 0\n",
    "vowels = []\n",
    "consonantes = []\n",
    "while count < len(sentence):\n",
    "    if sentence[count] in 'aeiou':\n",
    "        vowels.append(sentence[count])\n",
    "    elif sentence[count] in '-. ':\n",
    "        pass\n",
    "    else:\n",
    "        consonantes.append(sentence[count])\n",
    "    count += 1\n",
    "print('These are the vowels:\\n', vowels)\n",
    "print('These are the consonantes:\\n',consonantes)"
   ]
  },
  {
   "cell_type": "code",
   "execution_count": 16,
   "metadata": {},
   "outputs": [
    {
     "name": "stdout",
     "output_type": "stream",
     "text": [
      "Gress a number betweeon 0 and 100. If you don't want to play anymore type 'exit': 50\n",
      "50 is too high!\n",
      "Gress a number betweeon 0 and 100. If you don't want to play anymore type 'exit': 30\n",
      "30 is too low!\n",
      "Gress a number betweeon 0 and 100. If you don't want to play anymore type 'exit': 40\n",
      "40 is too low!\n",
      "Gress a number betweeon 0 and 100. If you don't want to play anymore type 'exit': 45\n",
      "45 is too high!\n",
      "Gress a number betweeon 0 and 100. If you don't want to play anymore type 'exit': 43\n",
      "43 is too low!\n",
      "Gress a number betweeon 0 and 100. If you don't want to play anymore type 'exit': 44\n",
      "Well done! You won!\n",
      "Game Over!\n"
     ]
    }
   ],
   "source": [
    "# Task 03: Now try to implement task 2 again but now use the while function and \n",
    "# keep looping until the user get the right number. For each loop, tell the user \n",
    "# if he is getting close or not.\n",
    "\n",
    "import random\n",
    "data = int(input(\"Gress a number betweeon 0 and 100. If you don't want to play anymore type 'exit': \"))\n",
    "number = random.randint(0,100)\n",
    "while data != 'exit':\n",
    "    if int(data) > number:\n",
    "        print('{} is too high!'.format(int(data)))\n",
    "    elif int(data) < number:\n",
    "        print('{} is too low!'.format(int(data)))\n",
    "    else:\n",
    "        print('Well done! You won!')\n",
    "        break\n",
    "    data = int(input(\"Gress a number betweeon 0 and 100. If you don't want to play anymore type 'exit': \"))\n",
    "print('Game Over!')"
   ]
  },
  {
   "cell_type": "markdown",
   "metadata": {},
   "source": [
    "#### for"
   ]
  },
  {
   "cell_type": "markdown",
   "metadata": {},
   "source": [
    "A 'for' loop, different from the 'while', do not need a condition to execute a code. Loops of the type 'for' need an interactible variable to work such as lists, tuples, strings and dictionaries. Those are variables that contain more then one element. 'For' loops do not work in integer and floats for example, since they are single element variables. "
   ]
  },
  {
   "cell_type": "code",
   "execution_count": 3,
   "metadata": {},
   "outputs": [
    {
     "name": "stdout",
     "output_type": "stream",
     "text": [
      "0\n",
      "1\n",
      "2\n",
      "3\n",
      "5\n",
      "6\n",
      "6\n",
      "7\n",
      "\n",
      "\n",
      "0\n",
      "1\n",
      "2\n",
      "3\n",
      "5\n",
      "6\n",
      "6\n",
      "7\n"
     ]
    }
   ],
   "source": [
    "# Let's have an example on how to use the 'for' loop comparing \n",
    "# with the same code done with the while function.\n",
    "\n",
    "# while function\n",
    "a = [0, 1, 2, 3, 5, 6, 6, 7]\n",
    "count = 0     # This guy is here again!!\n",
    "while count < len(a):\n",
    "    print(a[count])\n",
    "    count += 1\n",
    "    \n",
    "print('\\n')\n",
    "\n",
    "# for function\n",
    "a = [0, 1, 2, 3, 5, 6, 6, 7]\n",
    "for number in a:   # the word 'number' does not mean anything. Could have been anything else.\n",
    "    print(number)"
   ]
  },
  {
   "cell_type": "code",
   "execution_count": 4,
   "metadata": {},
   "outputs": [
    {
     "name": "stdout",
     "output_type": "stream",
     "text": [
      "P\n",
      "y\n",
      "t\n",
      "h\n",
      "o\n",
      "n\n",
      " \n",
      "i\n",
      "s\n",
      " \n",
      "a\n",
      "w\n",
      "e\n",
      "s\n",
      "o\n",
      "m\n",
      "e\n",
      "!\n"
     ]
    }
   ],
   "source": [
    "# Let's try now using strings\n",
    "string = 'Python is awesome!'\n",
    "for c in string:\n",
    "    print(c)"
   ]
  },
  {
   "cell_type": "code",
   "execution_count": 5,
   "metadata": {},
   "outputs": [
    {
     "name": "stdout",
     "output_type": "stream",
     "text": [
      "0\n",
      "1\n",
      "2\n",
      "3\n",
      "4\n",
      "5\n",
      "6\n",
      "7\n",
      "8\n",
      "9\n",
      "10\n",
      "11\n",
      "12\n",
      "13\n",
      "14\n",
      "15\n",
      "16\n",
      "17\n",
      "18\n",
      "19\n"
     ]
    }
   ],
   "source": [
    "# A common combination is to put for and the function 'range' together.\n",
    "# Let's see an example\n",
    "for i in range(0,20):  # what if I just want even numbers?\n",
    "    print(i)"
   ]
  },
  {
   "cell_type": "code",
   "execution_count": 6,
   "metadata": {},
   "outputs": [
    {
     "name": "stdout",
     "output_type": "stream",
     "text": [
      "These are the even numbers:\n",
      " [58, 54, 94, 100, 52, 56, 66, 84, 16]\n",
      "These are the odd numbers:\n",
      " [75, 13, 47, 45, 1, 23, 45, 57, 25, 75, 23]\n"
     ]
    }
   ],
   "source": [
    "# Task 03: rewrite the code that loops through the list of numbers called 'data' \n",
    "# and devide them in two extra lists, one with odd numbers and another with even \n",
    "# numbers.\n",
    "\n",
    "# That is OK if you don't get this part. We will talk about it latter.\n",
    "import random\n",
    "data = [random.randint(0,100) for i in range(0,20)]\n",
    "even = []\n",
    "odd = []\n",
    "for i in data:\n",
    "    if i%2==0:\n",
    "        even.append(i)\n",
    "    else:\n",
    "        odd.append(i)\n",
    "print('These are the even numbers:\\n', even)\n",
    "print('These are the odd numbers:\\n', odd)"
   ]
  },
  {
   "cell_type": "code",
   "execution_count": 7,
   "metadata": {},
   "outputs": [
    {
     "name": "stdout",
     "output_type": "stream",
     "text": [
      "2002 ,\n",
      "2009 ,\n",
      "2016 ,\n",
      "2023 ,\n",
      "2037 ,\n",
      "2044 ,\n",
      "2051 ,\n",
      "2058 ,\n",
      "2072 ,\n",
      "2079 ,\n",
      "2086 ,\n",
      "2093 ,\n",
      "2107 ,\n",
      "2114 ,\n",
      "2121 ,\n",
      "2128 ,\n",
      "2142 ,\n",
      "2149 ,\n",
      "2156 ,\n",
      "2163 ,\n",
      "2177 ,\n",
      "2184 ,\n",
      "2191 ,\n",
      "2198 ,\n",
      "2212 ,\n",
      "2219 ,\n",
      "2226 ,\n",
      "2233 ,\n",
      "2247 ,\n",
      "2254 ,\n",
      "2261 ,\n",
      "2268 ,\n",
      "2282 ,\n",
      "2289 ,\n",
      "2296 ,\n",
      "2303 ,\n",
      "2317 ,\n",
      "2324 ,\n",
      "2331 ,\n",
      "2338 ,\n",
      "2352 ,\n",
      "2359 ,\n",
      "2366 ,\n",
      "2373 ,\n",
      "2387 ,\n",
      "2394 ,\n",
      "2401 ,\n",
      "2408 ,\n",
      "2422 ,\n",
      "2429 ,\n",
      "2436 ,\n",
      "2443 ,\n",
      "2457 ,\n",
      "2464 ,\n",
      "2471 ,\n",
      "2478 ,\n",
      "2492 ,\n",
      "2499 ,\n",
      "2506 ,\n",
      "2513 ,\n",
      "2527 ,\n",
      "2534 ,\n",
      "2541 ,\n",
      "2548 ,\n",
      "2562 ,\n",
      "2569 ,\n",
      "2576 ,\n",
      "2583 ,\n",
      "2597 ,\n",
      "2604 ,\n",
      "2611 ,\n",
      "2618 ,\n",
      "2632 ,\n",
      "2639 ,\n",
      "2646 ,\n",
      "2653 ,\n",
      "2667 ,\n",
      "2674 ,\n",
      "2681 ,\n",
      "2688 ,\n",
      "2702 ,\n",
      "2709 ,\n",
      "2716 ,\n",
      "2723 ,\n",
      "2737 ,\n",
      "2744 ,\n",
      "2751 ,\n",
      "2758 ,\n",
      "2772 ,\n",
      "2779 ,\n",
      "2786 ,\n",
      "2793 ,\n",
      "2807 ,\n",
      "2814 ,\n",
      "2821 ,\n",
      "2828 ,\n",
      "2842 ,\n",
      "2849 ,\n",
      "2856 ,\n",
      "2863 ,\n",
      "2877 ,\n",
      "2884 ,\n",
      "2891 ,\n",
      "2898 ,\n",
      "2912 ,\n",
      "2919 ,\n",
      "2926 ,\n",
      "2933 ,\n",
      "2947 ,\n",
      "2954 ,\n",
      "2961 ,\n",
      "2968 ,\n",
      "2982 ,\n",
      "2989 ,\n",
      "2996 ,\n",
      "3003 ,\n",
      "3017 ,\n",
      "3024 ,\n",
      "3031 ,\n",
      "3038 ,\n",
      "3052 ,\n",
      "3059 ,\n",
      "3066 ,\n",
      "3073 ,\n",
      "3087 ,\n",
      "3094 ,\n",
      "3101 ,\n",
      "3108 ,\n",
      "3122 ,\n",
      "3129 ,\n",
      "3136 ,\n",
      "3143 ,\n",
      "3157 ,\n",
      "3164 ,\n",
      "3171 ,\n",
      "3178 ,\n",
      "3192 ,\n",
      "3199 ,\n"
     ]
    }
   ],
   "source": [
    "# Task 04: write a program which will find all such numbers which are divisible \n",
    "#by 7 but are not a multiple of 5, between 2000 and 3200 (both included). The \n",
    "#numbers obtained should be printed in a comma-separated sequence on a single line.\n",
    "\n",
    "l=[]\n",
    "for i in range(2000, 3201):\n",
    "    if (i%7==0) and (i%5!=0):\n",
    "        l.append(str(i))\n",
    "\n",
    "#print(','.join(l))\n",
    "for i in l:\n",
    "    print(i,',',)"
   ]
  },
  {
   "cell_type": "code",
   "execution_count": 10,
   "metadata": {},
   "outputs": [
    {
     "name": "stdout",
     "output_type": "stream",
     "text": [
      "35,22,14\n",
      "['35', '22', '14']\n",
      "11,9,7\n"
     ]
    }
   ],
   "source": [
    "# Task 05:Write a program that calculates and prints the value according to the \n",
    "# given formula:\n",
    "\n",
    "# Q = Square root of [(2 * C * D)/H]\n",
    "\n",
    "# Following are the fixed values of C and H:\n",
    "# C is 50. H is 30.\n",
    "# D is the variable whose values should be input to your program in a \n",
    "# comma-separated sequence.\n",
    "\n",
    "# Example\n",
    "# Let us assume the following comma separated input sequence is given to the \n",
    "# program:\n",
    "# 100,150,180\n",
    "# The output of the program should be:\n",
    "# 18,22,24\n",
    "\n",
    "# Hints:\n",
    "# If the output received is in decimal form, it should be rounded off to its \n",
    "# nearest value (for example, if the output received is 26.0, it should be \n",
    "# printed as 26). In case of input data being supplied to the question, it \n",
    "# should be assumed to be a console input. \n",
    "\n",
    "import math\n",
    "c=50\n",
    "h=30\n",
    "value = []\n",
    "items=[x for x in input().split(',')]\n",
    "print(items)\n",
    "for d in items:\n",
    "    value.append(str(int(round(math.sqrt(2*c*float(d)/h)))))\n",
    "\n",
    "print(','.join(value))"
   ]
  },
  {
   "cell_type": "markdown",
   "metadata": {},
   "source": [
    "#### List comprehension"
   ]
  },
  {
   "cell_type": "markdown",
   "metadata": {},
   "source": [
    "List comprehension is a powerful and efficient technique to work with for loops associated with lists or tuples. You already saw at some point the following line of code:\n",
    "\n",
    "data = [random.randint(0,100) for i in range(0,20)]\n",
    "\n",
    "You were told not to worry about this. The 'data'is created but our new friend list comprehension. This is a method implemented in Python 2 to allow an option to write the code like mathematicians would. A fundamental way of writing the code would be:\n",
    "\n",
    "variable = [x for x in range(0,10)]"
   ]
  },
  {
   "cell_type": "code",
   "execution_count": 11,
   "metadata": {
    "scrolled": true
   },
   "outputs": [
    {
     "name": "stdout",
     "output_type": "stream",
     "text": [
      "[0, 1, 2, 3, 4, 5, 6, 7, 8, 9]\n"
     ]
    }
   ],
   "source": [
    "# Let's try this\n",
    "variable = [x for x in range(0,10)]\n",
    "print(variable)"
   ]
  },
  {
   "cell_type": "code",
   "execution_count": 12,
   "metadata": {},
   "outputs": [
    {
     "name": "stdout",
     "output_type": "stream",
     "text": [
      "['P', 'y', 't', 'h', 'o', 'n']\n"
     ]
    }
   ],
   "source": [
    "# You can also use with strings\n",
    "variable = [s for s in 'Python']\n",
    "print(variable)"
   ]
  },
  {
   "cell_type": "code",
   "execution_count": 13,
   "metadata": {},
   "outputs": [
    {
     "name": "stdout",
     "output_type": "stream",
     "text": [
      "[83, 78, 65, 35, 99, 74, 33, 24, 85, 7, 19, 58, 68, 3, 50, 31, 14, 76, 45, 93]\n"
     ]
    }
   ],
   "source": [
    "# Let's take a look at the code we saw earlier.\n",
    "print([random.randint(0,100) for i in range(0,20)])"
   ]
  },
  {
   "cell_type": "code",
   "execution_count": 14,
   "metadata": {
    "scrolled": true
   },
   "outputs": [
    {
     "name": "stdout",
     "output_type": "stream",
     "text": [
      "[99, 61, 56, 76, 80, 57, 87, 52, 63, 99]\n"
     ]
    }
   ],
   "source": [
    "# Another way to to that.\n",
    "data = []\n",
    "k = []\n",
    "for i in range(0,20):\n",
    "    data.append(random.randint(0,100))\n",
    "for j in data:\n",
    "    if j > 50:\n",
    "        k.append(j)\n",
    "print(k)"
   ]
  },
  {
   "cell_type": "code",
   "execution_count": 15,
   "metadata": {
    "scrolled": false
   },
   "outputs": [
    {
     "name": "stdout",
     "output_type": "stream",
     "text": [
      "[99, 61, 56, 76, 80, 57, 87, 52, 63, 99]\n"
     ]
    }
   ],
   "source": [
    "# You can also use list comprehension with conditions\n",
    "data = [t for t in data if t > 50]\n",
    "print(data)"
   ]
  },
  {
   "cell_type": "code",
   "execution_count": 16,
   "metadata": {},
   "outputs": [
    {
     "name": "stdout",
     "output_type": "stream",
     "text": [
      "[58, 70, 42, 16, 74, 82, 90, 50, 92]\n",
      "[27, 53, 77, 19, 41, 45, 63, 11, 81, 91, 57]\n"
     ]
    }
   ],
   "source": [
    "################################################################################\n",
    "# Task 06: Let's use the example of the odd and even numbers usign list comprehension. \n",
    "# Your code can't have more then 3 lines.\n",
    "data = [random.randint(0,100) for i in range(0,20)]\n",
    "print([number for number in data if number%2==0])\n",
    "print([number for number in data if number%2!=0])"
   ]
  },
  {
   "cell_type": "markdown",
   "metadata": {},
   "source": [
    "In the next episode of Python 1...\n",
    "\n",
    "You will dive into:\n",
    "   - Def function: create your own functions in Python\n",
    "   - Class function: learn object oriented programming by creating your classes"
   ]
  },
  {
   "cell_type": "markdown",
   "metadata": {},
   "source": [
    "<h1><i><center>To be continued...</center></i></h1>"
   ]
  }
 ],
 "metadata": {
  "anaconda-cloud": {},
  "kernelspec": {
   "display_name": "Python 3",
   "language": "python",
   "name": "python3"
  },
  "language_info": {
   "codemirror_mode": {
    "name": "ipython",
    "version": 3
   },
   "file_extension": ".py",
   "mimetype": "text/x-python",
   "name": "python",
   "nbconvert_exporter": "python",
   "pygments_lexer": "ipython3",
   "version": "3.5.3"
  }
 },
 "nbformat": 4,
 "nbformat_minor": 1
}
