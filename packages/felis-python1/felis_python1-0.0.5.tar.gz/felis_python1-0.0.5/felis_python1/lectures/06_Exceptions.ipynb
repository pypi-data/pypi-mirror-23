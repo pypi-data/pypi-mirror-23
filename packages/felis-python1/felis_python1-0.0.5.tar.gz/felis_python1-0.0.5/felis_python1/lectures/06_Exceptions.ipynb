{
 "cells": [
  {
   "cell_type": "markdown",
   "metadata": {},
   "source": [
    "# Exceptions"
   ]
  },
  {
   "cell_type": "markdown",
   "metadata": {},
   "source": [
    "Gernerally speaking, in Python an *Exception* describes an occured error. Thus, *exception handling* deals with reacting to errors and deal with them once they occured. The difference between an exception and a malfunction or *bug* is the expectability of that error. You handle errors that you would also expect with a specific probability. On the other side, a bug is often a logical or syntactical error in your code. Both can **not** be handled by exception handling.   \n",
    "A sytactical error will prevent the interpreter from running the code at all, which also includes the error handling. A logical error is not a real error, it's just something that doesn't make any sense. The real source of a logical error is usually sitting in front of the computer. This makes the handling of logical errors the most complicated part in testing and debugging your code.   \n",
    "Exceptions are instances of the <span style=\"color:purple\">Exception</span> class or an inheriting one. Thus, an Exception can also be isntantiated with a real Exception occuring. All these classes have one thing in common: they accept at least one argument: the error message."
   ]
  },
  {
   "cell_type": "code",
   "execution_count": null,
   "metadata": {
    "collapsed": false
   },
   "outputs": [],
   "source": [
    "# instantiate 2 exceptions\n",
    "exc1 = Exception()\n",
    "exc2 = Exception('Hier lief was schief.')\n",
    "print('Type: ',type(exc1),'Str: ', str(exc1))\n",
    "print('Type: ', type(exc2),'Str: ', str(exc2))"
   ]
  },
  {
   "cell_type": "markdown",
   "metadata": {},
   "source": [
    "There is one more key statement in Python that can only be used for Exceptions: the <span style=\"color:blue\">**raise**</span> statement.   \n",
    "This will trigger the Exception. In informatics you will often find the term *'to throw and exception' as well. So, let's raise exc2:"
   ]
  },
  {
   "cell_type": "code",
   "execution_count": null,
   "metadata": {
    "collapsed": false
   },
   "outputs": [],
   "source": [
    "raise exc2"
   ]
  },
  {
   "cell_type": "markdown",
   "metadata": {},
   "source": [
    "You could use that to raise your own Exceptions in case the user of your scripts give you wrong input to your functions. Or in case you want to change the sometimes very generic error messages produced by the standard classes."
   ]
  },
  {
   "cell_type": "code",
   "execution_count": null,
   "metadata": {
    "collapsed": true
   },
   "outputs": [],
   "source": [
    "def divide_print(a, b):\n",
    "    if b == 0:\n",
    "        print('b must not be zero, idiot!')\n",
    "    return a / b"
   ]
  },
  {
   "cell_type": "markdown",
   "metadata": {},
   "source": [
    "Print the function"
   ]
  },
  {
   "cell_type": "code",
   "execution_count": null,
   "metadata": {
    "collapsed": false
   },
   "outputs": [],
   "source": [
    "print(divide_print(5, 0))"
   ]
  },
  {
   "cell_type": "markdown",
   "metadata": {},
   "source": [
    "This time we were able to print a custom error message, but the default Exception is still raised as the program is not interrupted. One option would be to move the return statement into a <span style='color: green'>else</span> clause. The consequence would be a non-explicit function which does return a result only sometime. Additionally, the code gets quite complext for an easy logic like preventing a division by zero. More complex program logics would turn into non-readable code. The other problem of **<span style=\"color:green\">None</span>**-returning functions os the reusability of the function result, as one would have to check the return values for being <span style=\"color:green\">None</span> everytime.<br>\n",
    "Therefore it's better to raise your personalized Exception:"
   ]
  },
  {
   "cell_type": "code",
   "execution_count": null,
   "metadata": {
    "collapsed": true
   },
   "outputs": [],
   "source": [
    "def divide_exc(a, b):\n",
    "    if b == 0:\n",
    "        raise Exception('b must not be zero, idiot!')"
   ]
  },
  {
   "cell_type": "code",
   "execution_count": null,
   "metadata": {
    "collapsed": false
   },
   "outputs": [],
   "source": [
    "print(divide_exc(5,0))"
   ]
  },
  {
   "cell_type": "markdown",
   "metadata": {},
   "source": [
    "Now the Exception uses the correct Message. Unfortunately it's just an <span style='color:blue'>Exception</span>, not a <span style='color:blue'>ZeroDivisionError</span> anymore. The most explicit soultion would therefore be to raise an instance of the most suitable child class of Exception using a custom error message. This is easily possible as all of these classes accept an error message as first argument. In case there is no suitable child class, we could easily write our own (which is usually not necessary).\n",
    "Before doing so, let's raise the different error types:"
   ]
  },
  {
   "cell_type": "markdown",
   "metadata": {},
   "source": [
    "#### error types"
   ]
  },
  {
   "cell_type": "code",
   "execution_count": null,
   "metadata": {
    "collapsed": false
   },
   "outputs": [],
   "source": [
    "import nonexistingpackage"
   ]
  },
  {
   "cell_type": "code",
   "execution_count": null,
   "metadata": {
    "collapsed": false
   },
   "outputs": [],
   "source": [
    "5 / 0"
   ]
  },
  {
   "cell_type": "code",
   "execution_count": null,
   "metadata": {
    "collapsed": false
   },
   "outputs": [],
   "source": [
    "min(5, 4, 'straßenbahn')"
   ]
  },
  {
   "cell_type": "code",
   "execution_count": null,
   "metadata": {
    "collapsed": false
   },
   "outputs": [],
   "source": [
    "open()"
   ]
  },
  {
   "cell_type": "code",
   "execution_count": null,
   "metadata": {
    "collapsed": false
   },
   "outputs": [],
   "source": [
    "foo"
   ]
  },
  {
   "cell_type": "code",
   "execution_count": null,
   "metadata": {
    "collapsed": false
   },
   "outputs": [],
   "source": [
    "# this will only raise an Error on Windows machines\n",
    "open(5)"
   ]
  },
  {
   "cell_type": "code",
   "execution_count": null,
   "metadata": {
    "collapsed": false
   },
   "outputs": [],
   "source": [
    "fs = open('afile.txt', 'w')\n",
    "fs.superpower"
   ]
  },
  {
   "cell_type": "code",
   "execution_count": null,
   "metadata": {
    "collapsed": false
   },
   "outputs": [],
   "source": [
    "open('afile.txt', 'k')"
   ]
  },
  {
   "cell_type": "markdown",
   "metadata": {},
   "source": [
    "Inspecting the error types above, either the <span style='color:blue'>ZeroDivisionError or</span> or <span style='color:blue'>ValueError</span> would have been the most appropiate ones."
   ]
  },
  {
   "cell_type": "code",
   "execution_count": null,
   "metadata": {
    "collapsed": true
   },
   "outputs": [],
   "source": [
    "def divide_exc(a,b):\n",
    "    if not isinstance(a, (int, float)) or not isinstance(b, (int, float)):\n",
    "        raise ValueError('a and b must be numerical. a: {0} b: {1}'.format(type(a), type(b)))\n",
    "    if b == 0:\n",
    "        raise ZeroDivisionError('b must not be 0, idiot')\n",
    "    return a / b"
   ]
  },
  {
   "cell_type": "code",
   "execution_count": null,
   "metadata": {
    "collapsed": false
   },
   "outputs": [],
   "source": [
    "divide_exc(5, 0)"
   ]
  },
  {
   "cell_type": "code",
   "execution_count": null,
   "metadata": {
    "collapsed": false
   },
   "outputs": [],
   "source": [
    "divide_exc(5, None)"
   ]
  },
  {
   "cell_type": "markdown",
   "metadata": {},
   "source": [
    "## Exception handling "
   ]
  },
  {
   "cell_type": "markdown",
   "metadata": {},
   "source": [
    "Up to this point we can raise Errors, inherit from existing, write custom error messages or built a new Error class. But how should they be handeled in a project?<br>\n",
    "It is possible to instruct the python interpreter not to just kill itself on case an error occurs in a specified block of code. Then the interpreter will just interrupt this block and run another block of code for handling the Exception. This *handling block* will be ignored in case no error occured. It is possible to write a general *handling block* for all types of errors or to specifiy multiple blocks handling only a specified Error Type. This is especially useful in case only a very specific type of error is expected and all other Exceptions would be unexpected."
   ]
  },
  {
   "cell_type": "code",
   "execution_count": null,
   "metadata": {
    "collapsed": false
   },
   "outputs": [],
   "source": [
    "try:\n",
    "    divide_exc(5, 0)\n",
    "except:\n",
    "    print('Just like something happend.\\n')\n",
    "\n",
    "try:\n",
    "    divide_exc(5,None)\n",
    "except ValueError:\n",
    "    print('This was a ValueError.\\n')\n",
    "\n",
    "try:\n",
    "    divide_exc(5,0)\n",
    "except ZeroDivisionError:\n",
    "    print('definitely a ZeroDivisionError.\\n')\n",
    "    \n",
    "try:\n",
    "    divide_exc(5,None)\n",
    "except ValueError as e:\n",
    "    print('ALERT! ALERT! ALERT!\\nAn critical ValueError occured.\\nIt said something like:\\n%s.\\n-----\\n' % str(e))\n"
   ]
  },
  {
   "cell_type": "markdown",
   "metadata": {},
   "source": [
    "Instead of just decorating the error message any handling is possible. One could exit the application, produce a graphical error message, log the exception into a file, continue using default values and so on.<br>\n",
    "You can even have different <span style='color:green'>except</span> blocks:"
   ]
  },
  {
   "cell_type": "code",
   "execution_count": null,
   "metadata": {
    "collapsed": false
   },
   "outputs": [],
   "source": [
    "def run_divide(a, b):\n",
    "    try:\n",
    "        result = 'a / b = {}'.format(divide_exc(a, b))\n",
    "    except ValueError as e:\n",
    "        result = 'Error. wrong input.'\n",
    "    except ZeroDivisionError:\n",
    "        result = 'a / 1 = {} (b must not be 0, using b=1...)'.format(divide_exc(a, 1))\n",
    "    \n",
    "    return result\n",
    "\n",
    "print('1.: ', run_divide(9, 5))\n",
    "print('2.: ', run_divide(9, 0))\n",
    "print('3.: ', run_divide(9, 'five'))"
   ]
  },
  {
   "cell_type": "markdown",
   "metadata": {
    "collapsed": true
   },
   "source": [
    "Any <span style='color:green'>try except</span> construct can also include an <span style='color:green'>else</span> clause and be finished by a <span style='color:green'>finally</span>."
   ]
  },
  {
   "cell_type": "code",
   "execution_count": null,
   "metadata": {
    "collapsed": false
   },
   "outputs": [],
   "source": [
    "def run(a, b):\n",
    "    try:\n",
    "        print(divide_exc(a,b))\n",
    "    except ValueError:\n",
    "        print('Wrong Input')\n",
    "    except ZeroDivisionError:\n",
    "        print('b must not be 0')\n",
    "    else:\n",
    "        print('No error occured')\n",
    "    finally:\n",
    "        print('---------------\\n')\n",
    "        \n",
    "run(5,6)\n",
    "run(3, 'five')\n",
    "run(4, 0)"
   ]
  }
 ],
 "metadata": {
  "anaconda-cloud": {},
  "kernelspec": {
   "display_name": "Python [conda env:py3-dev]",
   "language": "python",
   "name": "conda-env-py3-dev-py"
  },
  "language_info": {
   "codemirror_mode": {
    "name": "ipython",
    "version": 3
   },
   "file_extension": ".py",
   "mimetype": "text/x-python",
   "name": "python",
   "nbconvert_exporter": "python",
   "pygments_lexer": "ipython3",
   "version": "3.5.2"
  }
 },
 "nbformat": 4,
 "nbformat_minor": 0
}
